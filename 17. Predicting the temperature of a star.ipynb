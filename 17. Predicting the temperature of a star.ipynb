{
 "cells": [
  {
   "cell_type": "markdown",
   "id": "f1e50ed6",
   "metadata": {},
   "source": [
    "Самостоятельный проект\n",
    "\n",
    "\n",
    "Прогнозирование температуры звезды\n",
    "\n",
    "Вам пришла задача от обсерватории «Небо на ладони»: придумать, как с помощью нейросети определять температуру на поверхности обнаруженных звёзд. Обычно для расчёта температуры учёные пользуются следующими методами:\n",
    "\n",
    "Закон смещения Вина.\n",
    "\n",
    "Закон Стефана-Больцмана.\n",
    "\n",
    "Спектральный анализ.\n",
    "\n",
    "Каждый из них имеет плюсы и минусы. Обсерватория хочет внедрить технологии машинного обучения для предсказания температуры звёзд, надеясь, что этот метод будет наиболее точным и удобным.\n",
    "\n",
    "В базе обсерватории есть характеристики уже изученных 240 звёзд."
   ]
  },
  {
   "cell_type": "markdown",
   "id": "51555a92",
   "metadata": {},
   "source": [
    "## Загрузка данных"
   ]
  },
  {
   "cell_type": "markdown",
   "id": "6b6a5d24",
   "metadata": {},
   "source": [
    "Выгружаем данные знакомимся с ними"
   ]
  },
  {
   "cell_type": "code",
   "execution_count": 1,
   "id": "07feafd0",
   "metadata": {},
   "outputs": [],
   "source": [
    "import numpy as np\n",
    "import pandas as pd\n",
    "import matplotlib.pyplot as plt\n",
    "import seaborn as sns\n",
    "from sklearn.model_selection import train_test_split\n",
    "from sklearn.preprocessing import StandardScaler, OneHotEncoder\n",
    "import tensorflow as tf\n",
    "from tensorflow import keras\n",
    "from tensorflow.keras import layers\n",
    "import torch\n",
    "import torch.nn as nn\n",
    "import torch.nn.functional as F\n",
    "from math import ceil, sqrt\n",
    "from itertools import product"
   ]
  },
  {
   "cell_type": "code",
   "execution_count": 2,
   "id": "9a3221a2",
   "metadata": {},
   "outputs": [],
   "source": [
    "df = pd.read_csv('/datasets/6_class.csv')"
   ]
  },
  {
   "cell_type": "code",
   "execution_count": 3,
   "id": "272a0294",
   "metadata": {},
   "outputs": [
    {
     "data": {
      "text/html": [
       "<div>\n",
       "<style scoped>\n",
       "    .dataframe tbody tr th:only-of-type {\n",
       "        vertical-align: middle;\n",
       "    }\n",
       "\n",
       "    .dataframe tbody tr th {\n",
       "        vertical-align: top;\n",
       "    }\n",
       "\n",
       "    .dataframe thead th {\n",
       "        text-align: right;\n",
       "    }\n",
       "</style>\n",
       "<table border=\"1\" class=\"dataframe\">\n",
       "  <thead>\n",
       "    <tr style=\"text-align: right;\">\n",
       "      <th></th>\n",
       "      <th>Unnamed: 0</th>\n",
       "      <th>Temperature (K)</th>\n",
       "      <th>Luminosity(L/Lo)</th>\n",
       "      <th>Radius(R/Ro)</th>\n",
       "      <th>Absolute magnitude(Mv)</th>\n",
       "      <th>Star type</th>\n",
       "      <th>Star color</th>\n",
       "    </tr>\n",
       "  </thead>\n",
       "  <tbody>\n",
       "    <tr>\n",
       "      <th>0</th>\n",
       "      <td>0</td>\n",
       "      <td>3068</td>\n",
       "      <td>0.002400</td>\n",
       "      <td>0.1700</td>\n",
       "      <td>16.12</td>\n",
       "      <td>0</td>\n",
       "      <td>Red</td>\n",
       "    </tr>\n",
       "    <tr>\n",
       "      <th>1</th>\n",
       "      <td>1</td>\n",
       "      <td>3042</td>\n",
       "      <td>0.000500</td>\n",
       "      <td>0.1542</td>\n",
       "      <td>16.60</td>\n",
       "      <td>0</td>\n",
       "      <td>Red</td>\n",
       "    </tr>\n",
       "    <tr>\n",
       "      <th>2</th>\n",
       "      <td>2</td>\n",
       "      <td>2600</td>\n",
       "      <td>0.000300</td>\n",
       "      <td>0.1020</td>\n",
       "      <td>18.70</td>\n",
       "      <td>0</td>\n",
       "      <td>Red</td>\n",
       "    </tr>\n",
       "    <tr>\n",
       "      <th>3</th>\n",
       "      <td>3</td>\n",
       "      <td>2800</td>\n",
       "      <td>0.000200</td>\n",
       "      <td>0.1600</td>\n",
       "      <td>16.65</td>\n",
       "      <td>0</td>\n",
       "      <td>Red</td>\n",
       "    </tr>\n",
       "    <tr>\n",
       "      <th>4</th>\n",
       "      <td>4</td>\n",
       "      <td>1939</td>\n",
       "      <td>0.000138</td>\n",
       "      <td>0.1030</td>\n",
       "      <td>20.06</td>\n",
       "      <td>0</td>\n",
       "      <td>Red</td>\n",
       "    </tr>\n",
       "    <tr>\n",
       "      <th>...</th>\n",
       "      <td>...</td>\n",
       "      <td>...</td>\n",
       "      <td>...</td>\n",
       "      <td>...</td>\n",
       "      <td>...</td>\n",
       "      <td>...</td>\n",
       "      <td>...</td>\n",
       "    </tr>\n",
       "    <tr>\n",
       "      <th>235</th>\n",
       "      <td>235</td>\n",
       "      <td>38940</td>\n",
       "      <td>374830.000000</td>\n",
       "      <td>1356.0000</td>\n",
       "      <td>-9.93</td>\n",
       "      <td>5</td>\n",
       "      <td>Blue</td>\n",
       "    </tr>\n",
       "    <tr>\n",
       "      <th>236</th>\n",
       "      <td>236</td>\n",
       "      <td>30839</td>\n",
       "      <td>834042.000000</td>\n",
       "      <td>1194.0000</td>\n",
       "      <td>-10.63</td>\n",
       "      <td>5</td>\n",
       "      <td>Blue</td>\n",
       "    </tr>\n",
       "    <tr>\n",
       "      <th>237</th>\n",
       "      <td>237</td>\n",
       "      <td>8829</td>\n",
       "      <td>537493.000000</td>\n",
       "      <td>1423.0000</td>\n",
       "      <td>-10.73</td>\n",
       "      <td>5</td>\n",
       "      <td>White</td>\n",
       "    </tr>\n",
       "    <tr>\n",
       "      <th>238</th>\n",
       "      <td>238</td>\n",
       "      <td>9235</td>\n",
       "      <td>404940.000000</td>\n",
       "      <td>1112.0000</td>\n",
       "      <td>-11.23</td>\n",
       "      <td>5</td>\n",
       "      <td>White</td>\n",
       "    </tr>\n",
       "    <tr>\n",
       "      <th>239</th>\n",
       "      <td>239</td>\n",
       "      <td>37882</td>\n",
       "      <td>294903.000000</td>\n",
       "      <td>1783.0000</td>\n",
       "      <td>-7.80</td>\n",
       "      <td>5</td>\n",
       "      <td>Blue</td>\n",
       "    </tr>\n",
       "  </tbody>\n",
       "</table>\n",
       "<p>240 rows × 7 columns</p>\n",
       "</div>"
      ],
      "text/plain": [
       "     Unnamed: 0  Temperature (K)  Luminosity(L/Lo)  Radius(R/Ro)  \\\n",
       "0             0             3068          0.002400        0.1700   \n",
       "1             1             3042          0.000500        0.1542   \n",
       "2             2             2600          0.000300        0.1020   \n",
       "3             3             2800          0.000200        0.1600   \n",
       "4             4             1939          0.000138        0.1030   \n",
       "..          ...              ...               ...           ...   \n",
       "235         235            38940     374830.000000     1356.0000   \n",
       "236         236            30839     834042.000000     1194.0000   \n",
       "237         237             8829     537493.000000     1423.0000   \n",
       "238         238             9235     404940.000000     1112.0000   \n",
       "239         239            37882     294903.000000     1783.0000   \n",
       "\n",
       "     Absolute magnitude(Mv)  Star type Star color  \n",
       "0                     16.12          0        Red  \n",
       "1                     16.60          0        Red  \n",
       "2                     18.70          0        Red  \n",
       "3                     16.65          0        Red  \n",
       "4                     20.06          0        Red  \n",
       "..                      ...        ...        ...  \n",
       "235                   -9.93          5       Blue  \n",
       "236                  -10.63          5       Blue  \n",
       "237                  -10.73          5      White  \n",
       "238                  -11.23          5      White  \n",
       "239                   -7.80          5       Blue  \n",
       "\n",
       "[240 rows x 7 columns]"
      ]
     },
     "execution_count": 3,
     "metadata": {},
     "output_type": "execute_result"
    }
   ],
   "source": [
    "df"
   ]
  },
  {
   "cell_type": "code",
   "execution_count": 4,
   "id": "5d714f11",
   "metadata": {},
   "outputs": [
    {
     "name": "stdout",
     "output_type": "stream",
     "text": [
      "<class 'pandas.core.frame.DataFrame'>\n",
      "RangeIndex: 240 entries, 0 to 239\n",
      "Data columns (total 7 columns):\n",
      " #   Column                  Non-Null Count  Dtype  \n",
      "---  ------                  --------------  -----  \n",
      " 0   Unnamed: 0              240 non-null    int64  \n",
      " 1   Temperature (K)         240 non-null    int64  \n",
      " 2   Luminosity(L/Lo)        240 non-null    float64\n",
      " 3   Radius(R/Ro)            240 non-null    float64\n",
      " 4   Absolute magnitude(Mv)  240 non-null    float64\n",
      " 5   Star type               240 non-null    int64  \n",
      " 6   Star color              240 non-null    object \n",
      "dtypes: float64(3), int64(3), object(1)\n",
      "memory usage: 13.2+ KB\n"
     ]
    }
   ],
   "source": [
    "df.info()"
   ]
  },
  {
   "cell_type": "markdown",
   "id": "08af31d6",
   "metadata": {},
   "source": [
    "Данные выгружены , пропусков на первый взгяд нету, проведем предобработку"
   ]
  },
  {
   "cell_type": "markdown",
   "id": "simple-subdivision",
   "metadata": {},
   "source": [
    "## Предобработка и анализ данных"
   ]
  },
  {
   "cell_type": "markdown",
   "id": "5b65411c",
   "metadata": {},
   "source": [
    "Избавимся от ненужного столбца"
   ]
  },
  {
   "cell_type": "code",
   "execution_count": 5,
   "id": "flush-dream",
   "metadata": {},
   "outputs": [],
   "source": [
    "df = df.drop(\"Unnamed: 0\", axis=1)"
   ]
  },
  {
   "cell_type": "markdown",
   "id": "fe965912",
   "metadata": {},
   "source": [
    "Проверим дубликаты"
   ]
  },
  {
   "cell_type": "code",
   "execution_count": 6,
   "id": "e47afca8",
   "metadata": {
    "scrolled": true
   },
   "outputs": [
    {
     "name": "stdout",
     "output_type": "stream",
     "text": [
      "Количество дубликатов: 0\n"
     ]
    }
   ],
   "source": [
    "duplicates = df.duplicated()\n",
    "print(\"Количество дубликатов:\", duplicates.sum())"
   ]
  },
  {
   "cell_type": "markdown",
   "id": "8da16b55",
   "metadata": {},
   "source": [
    "Проверим неявные дубликаты"
   ]
  },
  {
   "cell_type": "code",
   "execution_count": 7,
   "id": "7e9a6216",
   "metadata": {
    "scrolled": false
   },
   "outputs": [
    {
     "data": {
      "text/plain": [
       "Red                   112\n",
       "Blue                   55\n",
       "Blue-white             26\n",
       "Blue White             10\n",
       "yellow-white            8\n",
       "White                   7\n",
       "Blue white              3\n",
       "Yellowish White         3\n",
       "white                   3\n",
       "yellowish               2\n",
       "Whitish                 2\n",
       "Orange                  2\n",
       "White-Yellow            1\n",
       "Blue white              1\n",
       "Orange-Red              1\n",
       "Yellowish               1\n",
       "Blue                    1\n",
       "Blue-White              1\n",
       "Pale yellow orange      1\n",
       "Name: Star color, dtype: int64"
      ]
     },
     "execution_count": 7,
     "metadata": {},
     "output_type": "execute_result"
    }
   ],
   "source": [
    "df['Star color'].value_counts()"
   ]
  },
  {
   "cell_type": "code",
   "execution_count": 8,
   "id": "03fab7fa",
   "metadata": {},
   "outputs": [],
   "source": [
    "df['Star color'] = df['Star color'].replace({'Blue White': 'Blue-white', 'Blue white':'Blue-white',\n",
    "                                             'Blue white ':'Blue-white','Blue-White':'Blue-white',\n",
    "                                             'Blue ':'Blue', 'white':'White', 'yellowish':'Yellowish',\n",
    "                                             'yellow-white':'Yellow-white','White-Yellow':'Yellow-white',\n",
    "                                             'Yellowish White':'Yellow-white','Pale yellow orange':'Pale-yellow-orange',\n",
    "                                            'Whitish':'White'})"
   ]
  },
  {
   "cell_type": "code",
   "execution_count": 9,
   "id": "ee59033a",
   "metadata": {
    "scrolled": true
   },
   "outputs": [
    {
     "data": {
      "text/plain": [
       "Red                   112\n",
       "Blue                   56\n",
       "Blue-white             41\n",
       "White                  12\n",
       "Yellow-white           12\n",
       "Yellowish               3\n",
       "Orange                  2\n",
       "Pale-yellow-orange      1\n",
       "Orange-Red              1\n",
       "Name: Star color, dtype: int64"
      ]
     },
     "execution_count": 9,
     "metadata": {},
     "output_type": "execute_result"
    }
   ],
   "source": [
    "df['Star color'].value_counts()"
   ]
  },
  {
   "cell_type": "markdown",
   "id": "dca94c89",
   "metadata": {},
   "source": [
    "Все привели к человеческому виду, проведем анализ данных"
   ]
  },
  {
   "cell_type": "code",
   "execution_count": 10,
   "id": "206be3f6",
   "metadata": {
    "scrolled": false
   },
   "outputs": [
    {
     "data": {
      "image/png": "[encoded data removed]",
      "text/plain": [
       "<Figure size 720x432 with 1 Axes>"
      ]
     },
     "metadata": {
      "needs_background": "light"
     },
     "output_type": "display_data"
    }
   ],
   "source": [
    "plt.figure(figsize=(10, 6))\n",
    "plt.hist(df['Temperature (K)'], bins=20, color='skyblue')\n",
    "plt.xlabel('Temperature (K)')\n",
    "plt.ylabel('Frequency')\n",
    "plt.title('Распределение температуры')\n",
    "plt.show()"
   ]
  },
  {
   "cell_type": "markdown",
   "id": "db039025",
   "metadata": {},
   "source": [
    "В основном звезды имеют температуру до 4000К градусов "
   ]
  },
  {
   "cell_type": "code",
   "execution_count": 11,
   "id": "971c9943",
   "metadata": {
    "scrolled": false
   },
   "outputs": [
    {
     "data": {
      "image/png": "[encoded data removed]",
      "text/plain": [
       "<Figure size 720x432 with 1 Axes>"
      ]
     },
     "metadata": {
      "needs_background": "light"
     },
     "output_type": "display_data"
    }
   ],
   "source": [
    "plt.figure(figsize=(10, 6))\n",
    "plt.hist(df['Luminosity(L/Lo)'], bins=20, color='lightgreen')\n",
    "plt.xlabel('Luminosity(L/Lo)')\n",
    "plt.ylabel('Frequency')\n",
    "plt.title('Распределение яркости')\n",
    "plt.show()"
   ]
  },
  {
   "cell_type": "markdown",
   "id": "1c40532a",
   "metadata": {},
   "source": [
    "На данном графике можно ознакомится с яркостью звезд, видно что в основном звезды обладают яркостью ддо 50000L/lo"
   ]
  },
  {
   "cell_type": "code",
   "execution_count": 12,
   "id": "3cfd7015",
   "metadata": {
    "scrolled": true
   },
   "outputs": [
    {
     "data": {
      "image/png": "[encoded data removed]",
      "text/plain": [
       "<Figure size 576x432 with 2 Axes>"
      ]
     },
     "metadata": {
      "needs_background": "light"
     },
     "output_type": "display_data"
    }
   ],
   "source": [
    "plt.figure(figsize=(8, 6))\n",
    "sns.heatmap(df[['Temperature (K)', 'Luminosity(L/Lo)', 'Radius(R/Ro)', 'Absolute magnitude(Mv)']].corr(), annot=True, cmap='coolwarm')\n",
    "plt.title('Correlation Matrix of Quantitative Variables')\n",
    "plt.show()"
   ]
  },
  {
   "cell_type": "markdown",
   "id": "845d8ff8",
   "metadata": {},
   "source": [
    "На данном графике заметно, что яркость имеет зависимость от температуры , а яркость от радиуса"
   ]
  },
  {
   "cell_type": "code",
   "execution_count": 13,
   "id": "ad393f83",
   "metadata": {},
   "outputs": [
    {
     "data": {
      "image/png": "[encoded data removed]",
      "text/plain": [
       "<Figure size 720x432 with 1 Axes>"
      ]
     },
     "metadata": {
      "needs_background": "light"
     },
     "output_type": "display_data"
    }
   ],
   "source": [
    "plt.figure(figsize=(10, 6))\n",
    "sns.countplot(x='Star color', data=df)\n",
    "plt.xlabel('Star Color')\n",
    "plt.ylabel('Count')\n",
    "plt.title('Распределение по цвету')\n",
    "plt.xticks(rotation=45)\n",
    "plt.show()\n"
   ]
  },
  {
   "cell_type": "markdown",
   "id": "de7d1034",
   "metadata": {},
   "source": [
    "В основмном преобладаюи красные звезды, , так же много голубых"
   ]
  },
  {
   "cell_type": "code",
   "execution_count": 14,
   "id": "5b6430da",
   "metadata": {},
   "outputs": [
    {
     "data": {
      "image/png": "[encoded data removed]",
      "text/plain": [
       "<Figure size 576x576 with 1 Axes>"
      ]
     },
     "metadata": {},
     "output_type": "display_data"
    }
   ],
   "source": [
    "plt.figure(figsize=(8, 8))\n",
    "df['Star type'].value_counts().plot.pie(autopct='%1.1f%%', shadow=True)\n",
    "plt.title('Тип звезд')\n",
    "plt.ylabel('')\n",
    "plt.show()"
   ]
  },
  {
   "cell_type": "markdown",
   "id": "f942bd1b",
   "metadata": {},
   "source": [
    "В данных нам предоставлено равное количество всех типов звезд"
   ]
  },
  {
   "cell_type": "code",
   "execution_count": 15,
   "id": "9ea138b1",
   "metadata": {},
   "outputs": [
    {
     "data": {
      "image/png": "[encoded data removed]",
      "text/plain": [
       "<Figure size 720x432 with 1 Axes>"
      ]
     },
     "metadata": {
      "needs_background": "light"
     },
     "output_type": "display_data"
    }
   ],
   "source": [
    "pivot_table = df.pivot_table(index='Star type', values='Temperature (K)', aggfunc='mean')\n",
    "pivot_table.plot(kind='bar', figsize=(10, 6))\n",
    "plt.xlabel('Star Type')\n",
    "plt.ylabel('Mean Temperature (K)')\n",
    "plt.title('Средняя температура звезды от типа')\n",
    "plt.xticks(rotation=0)\n",
    "plt.show()"
   ]
  },
  {
   "cell_type": "markdown",
   "id": "2909fa82",
   "metadata": {},
   "source": [
    "Звезды типа `белый карлик ` и `красный карлик` имеют низкие температуры, остальные типы звезд превосходят их в 5 и болле раз"
   ]
  },
  {
   "cell_type": "markdown",
   "id": "f2067ddd",
   "metadata": {},
   "source": [
    "Проведен анализ данных, не думаю, что тут имеются вбросы, поскольку разные по типу звезды имеют разные характеристики и количествоо красных и голубых звезд велико, с этим связан такой разброс в температуре и светимости"
   ]
  },
  {
   "cell_type": "markdown",
   "id": "0eb7719f",
   "metadata": {},
   "source": [
    "## Подготовка данных к построению модели"
   ]
  },
  {
   "cell_type": "markdown",
   "id": "6ffea8af",
   "metadata": {},
   "source": [
    "Проведем кодировку данных\n",
    "\n",
    "разобьем наш датафрейм на выборки, применим OHE к категориальным признакам и проведем масштабирование количественных признкаов"
   ]
  },
  {
   "cell_type": "code",
   "execution_count": 16,
   "id": "53b7e03a",
   "metadata": {},
   "outputs": [],
   "source": [
    "num_cols = ['Luminosity(L/Lo)','Radius(R/Ro)','Absolute magnitude(Mv)']\n",
    "cat_cols = ['Star type', 'Star color'] \n",
    "target = ['Temperature (K)'] "
   ]
  },
  {
   "cell_type": "code",
   "execution_count": 17,
   "id": "fcf9848b",
   "metadata": {},
   "outputs": [],
   "source": [
    "features = df.drop(target, axis = 1).copy()\n",
    "target = df[target].copy()"
   ]
  },
  {
   "cell_type": "code",
   "execution_count": 18,
   "id": "398b25b5",
   "metadata": {},
   "outputs": [],
   "source": [
    "features_train, features_test, target_train, target_test = train_test_split(features,target, test_size=0.2, random_state=402)"
   ]
  },
  {
   "cell_type": "code",
   "execution_count": 19,
   "id": "b1f81bc7",
   "metadata": {},
   "outputs": [],
   "source": [
    "for i in [features_train, features_test, target_train, target_test]:\n",
    "    i.reset_index(drop=True, inplace=True)"
   ]
  },
  {
   "cell_type": "code",
   "execution_count": 20,
   "id": "2ec9a740",
   "metadata": {},
   "outputs": [
    {
     "name": "stderr",
     "output_type": "stream",
     "text": [
      "/opt/conda/lib/python3.9/site-packages/pandas/core/frame.py:4308: SettingWithCopyWarning: \n",
      "A value is trying to be set on a copy of a slice from a DataFrame\n",
      "\n",
      "See the caveats in the documentation: https://pandas.pydata.org/pandas-docs/stable/user_guide/indexing.html#returning-a-view-versus-a-copy\n",
      "  return super().drop(\n",
      "/opt/conda/lib/python3.9/site-packages/pandas/core/frame.py:4308: SettingWithCopyWarning: \n",
      "A value is trying to be set on a copy of a slice from a DataFrame\n",
      "\n",
      "See the caveats in the documentation: https://pandas.pydata.org/pandas-docs/stable/user_guide/indexing.html#returning-a-view-versus-a-copy\n",
      "  return super().drop(\n"
     ]
    }
   ],
   "source": [
    "OHE = OneHotEncoder(sparse=False, drop = 'first', handle_unknown = 'error')\n",
    "\n",
    "features_train_cat = pd.DataFrame(OHE.fit_transform(features_train.loc[:,cat_cols]))\n",
    "features_train_cat.columns = OHE.get_feature_names(cat_cols)\n",
    "features_train.drop(cat_cols, axis = 1, inplace = True)\n",
    "features_train = pd.concat([features_train, features_train_cat], axis = 1)\n",
    "\n",
    "features_test_cat = pd.DataFrame(OHE.transform(features_test.loc[:,cat_cols]))\n",
    "features_test_cat.columns = OHE.get_feature_names(cat_cols)\n",
    "features_test.drop(cat_cols, axis = 1, inplace = True)\n",
    "features_test = pd.concat([features_test, features_test_cat], axis = 1)"
   ]
  },
  {
   "cell_type": "code",
   "execution_count": 21,
   "id": "6e63d07a",
   "metadata": {},
   "outputs": [],
   "source": [
    "scaler = StandardScaler()\n",
    "\n",
    "features_train[num_cols] = scaler.fit_transform(features_train[num_cols])\n",
    "features_test[num_cols] = scaler.transform(features_test[num_cols])"
   ]
  },
  {
   "cell_type": "markdown",
   "id": "4a97fca6",
   "metadata": {},
   "source": [
    "переводим данные к тензорам"
   ]
  },
  {
   "cell_type": "code",
   "execution_count": 22,
   "id": "4108f5f5",
   "metadata": {},
   "outputs": [],
   "source": [
    "features_train = torch.FloatTensor(features_train.values)\n",
    "features_test  = torch.FloatTensor(features_test.values)\n",
    "target_train  = torch.FloatTensor(target_train.values)\n",
    "target_test = torch.FloatTensor(target_test.values)"
   ]
  },
  {
   "cell_type": "markdown",
   "id": "3457a8e4",
   "metadata": {},
   "source": [
    "количество нейронов на слоях сети"
   ]
  },
  {
   "cell_type": "code",
   "execution_count": 23,
   "id": "2f99fb7a",
   "metadata": {},
   "outputs": [],
   "source": [
    "n_in_neurons = features_train.shape[1]\n",
    "n_hidden_neurons_1 = 50\n",
    "n_hidden_neurons_2 = 20\n",
    "n_out_neurons = 1"
   ]
  },
  {
   "cell_type": "code",
   "execution_count": 24,
   "id": "1608d08e",
   "metadata": {},
   "outputs": [],
   "source": [
    "class Model(nn.Module):\n",
    "    def __init__(self, n_in_neurons, n_hidden_neurons_1, n_hidden_neurons_2, n_out_neurons):\n",
    "        super(Model, self).__init__()\n",
    "        \n",
    "        self.fc1 = nn.Linear(n_in_neurons, n_hidden_neurons_1)\n",
    "        self.act1 = nn.ReLU()\n",
    "        self.fc2 = nn.Linear(n_hidden_neurons_1, n_hidden_neurons_2)\n",
    "        self.act2 = nn.ReLU()\n",
    "        self.fc3 = nn.Linear(n_hidden_neurons_2, n_out_neurons)\n",
    "        self.act3 = nn.ReLU()\n",
    "\n",
    "    def forward(self, x):\n",
    "        x = self.fc1(x)\n",
    "        x = self.act1(x)\n",
    "        x = self.fc2(x)\n",
    "        x = self.act2(x)\n",
    "        x = self.fc3(x)\n",
    "        x = self.act3(x)\n",
    "        \n",
    "        return x    "
   ]
  },
  {
   "cell_type": "code",
   "execution_count": 25,
   "id": "b60c52d9",
   "metadata": {},
   "outputs": [],
   "source": [
    "net = Model(n_in_neurons, n_hidden_neurons_1, n_hidden_neurons_2, n_out_neurons)\n",
    "loss=nn.MSELoss()\n",
    "\n",
    "optimizer = torch.optim.Adam(net.parameters(), lr=1e-3)\n",
    "optimizer1 = torch.optim.RMSprop(net.parameters(), lr=1e-3)\n",
    "optimizer2 = torch.optim.Adam(net.parameters(), lr=1e-2)\n",
    "optimizer3 = torch.optim.Adamax(net.parameters(), lr=1e-2)"
   ]
  },
  {
   "cell_type": "markdown",
   "id": "1dc485f4",
   "metadata": {},
   "source": [
    "пишем функцию для кросс валидации нейронной сети и определению среднеднего знаечния RMSE"
   ]
  },
  {
   "cell_type": "code",
   "execution_count": 26,
   "id": "8b2f21b8",
   "metadata": {},
   "outputs": [],
   "source": [
    "def cross_vall_score(model, features_train, target_train, optim, num_epochs=250, batch_size=6, k=4, loss=nn.MSELoss()):\n",
    "    num_batches = ceil(len(features_train)/batch_size) \n",
    "    num_val_samples = len(features_train)//k \n",
    "    all_scores = []\n",
    "    \n",
    "    for i in range(k):\n",
    "        print('processing fold #', i+1, end='  ')\n",
    "        \n",
    "        for layer in model.children():\n",
    "            if hasattr(layer, 'reset_parameters'):\n",
    "                layer.reset_parameters()\n",
    "            \n",
    "        val_data = features_train[i*num_val_samples: (i+1)*num_val_samples]\n",
    "        val_targets = target_train[i*num_val_samples: (i+1)*num_val_samples]\n",
    "        \n",
    "        partial_train_data = np.concatenate([features_train[:i*num_val_samples],\n",
    "                                             features_train[(i+1)*num_val_samples:]], axis = 0)\n",
    "        partial_train_targets = np.concatenate([target_train[:i*num_val_samples],\n",
    "                                                target_train[(i+1)*num_val_samples:]], axis = 0)\n",
    "        \n",
    "        val_data = torch.FloatTensor(val_data)\n",
    "        val_targets = torch.FloatTensor(val_targets)\n",
    "        partial_train_data = torch.FloatTensor(partial_train_data)\n",
    "        partial_train_targets = torch.FloatTensor(partial_train_targets)\n",
    "        \n",
    "        for epoch in range(num_epochs):\n",
    "            order = np.random.permutation(len(partial_train_data))\n",
    "            for batch_idx in range(num_batches):\n",
    "                start_index = batch_idx * batch_size \n",
    "                optim.zero_grad() \n",
    "                \n",
    "                batch_indexes = order[start_index:start_index+batch_size]\n",
    "                features_batch = partial_train_data[batch_indexes]\n",
    "                target_batch = partial_train_targets[batch_indexes]\n",
    "                \n",
    "                preds = net.forward(features_batch).flatten() \n",
    "                loss_value = loss(preds, target_batch.flatten()) \n",
    "                loss_value.backward()\n",
    "                optim.step()\n",
    "                \n",
    "            if epoch == num_epochs-1:\n",
    "                model.eval()\n",
    "                val_preds = model.forward(val_data)\n",
    "                RMSE_loss = torch.sqrt(loss(val_targets, val_preds))\n",
    "                all_scores.append(RMSE_loss)\n",
    "                print('RMSE метрика =', float(RMSE_loss))\n",
    "    print('Средняя RMSE метрика =', int(sum(all_scores)/len(all_scores)),  '\\n')\n",
    "    return"
   ]
  },
  {
   "cell_type": "code",
   "execution_count": 27,
   "id": "97a6d43e",
   "metadata": {
    "scrolled": false
   },
   "outputs": [
    {
     "name": "stdout",
     "output_type": "stream",
     "text": [
      "Adam (\n",
      "Parameter Group 0\n",
      "    amsgrad: False\n",
      "    betas: (0.9, 0.999)\n",
      "    eps: 1e-08\n",
      "    lr: 0.001\n",
      "    weight_decay: 0\n",
      ")\n",
      "processing fold # 1  RMSE метрика = 6909.13720703125\n",
      "processing fold # 2  RMSE метрика = 16374.7392578125\n",
      "processing fold # 3  RMSE метрика = 13866.1044921875\n",
      "processing fold # 4  RMSE метрика = 6106.87939453125\n",
      "Средняя RMSE метрика = 10814 \n",
      "\n",
      "RMSprop (\n",
      "Parameter Group 0\n",
      "    alpha: 0.99\n",
      "    centered: False\n",
      "    eps: 1e-08\n",
      "    lr: 0.001\n",
      "    momentum: 0\n",
      "    weight_decay: 0\n",
      ")\n",
      "processing fold # 1  RMSE метрика = 14251.224609375\n",
      "processing fold # 2  RMSE метрика = 6261.12646484375\n",
      "processing fold # 3  RMSE метрика = 13866.1044921875\n",
      "processing fold # 4  RMSE метрика = 6453.7265625\n",
      "Средняя RMSE метрика = 10208 \n",
      "\n",
      "Adam (\n",
      "Parameter Group 0\n",
      "    amsgrad: False\n",
      "    betas: (0.9, 0.999)\n",
      "    eps: 1e-08\n",
      "    lr: 0.01\n",
      "    weight_decay: 0\n",
      ")\n",
      "processing fold # 1  RMSE метрика = 14251.224609375\n",
      "processing fold # 2  RMSE метрика = 4839.76025390625\n",
      "processing fold # 3  RMSE метрика = 5906.13525390625\n",
      "processing fold # 4  RMSE метрика = 4935.396484375\n",
      "Средняя RMSE метрика = 7483 \n",
      "\n",
      "Adamax (\n",
      "Parameter Group 0\n",
      "    betas: (0.9, 0.999)\n",
      "    eps: 1e-08\n",
      "    lr: 0.01\n",
      "    weight_decay: 0\n",
      ")\n",
      "processing fold # 1  RMSE метрика = 6596.52001953125\n",
      "processing fold # 2  RMSE метрика = 5239.6064453125\n",
      "processing fold # 3  RMSE метрика = 5501.52392578125\n",
      "processing fold # 4  RMSE метрика = 4963.12744140625\n",
      "Средняя RMSE метрика = 5575 \n",
      "\n"
     ]
    }
   ],
   "source": [
    "x = [optimizer, optimizer1, optimizer2, optimizer3]\n",
    "\n",
    "for i in x:\n",
    "    print(i)\n",
    "    cross_vall_score(net, features_train, target_train, i)"
   ]
  },
  {
   "cell_type": "markdown",
   "id": "fddf8bfe",
   "metadata": {},
   "source": [
    "лучший метрику показал Adamax RMSE метрика = 5675 "
   ]
  },
  {
   "cell_type": "code",
   "execution_count": 28,
   "id": "be2219d7",
   "metadata": {},
   "outputs": [],
   "source": [
    "def neiron(model, features_train, target_train, optim, num_epochs = 500, batch_size = 6):\n",
    "    num_batches = ceil(len(features_train)/batch_size)\n",
    "    for epoch in range(num_epochs):\n",
    "        order = np.random.permutation(len(features_train))\n",
    "        for batch_idx in range(num_batches):\n",
    "            start_index = batch_idx * batch_size \n",
    "            optim.zero_grad() \n",
    "        \n",
    "            batch_indexes = order[start_index:start_index+batch_size]\n",
    "            features_batch = features_train[batch_indexes]\n",
    "            target_batch = target_train[batch_indexes]\n",
    "        \n",
    "            preds = model.forward(features_batch).flatten() \n",
    "            loss_value = loss(preds, target_batch.flatten())\n",
    "            loss_value.backward()\n",
    "            optim.step()\n",
    "    return  model"
   ]
  },
  {
   "cell_type": "code",
   "execution_count": 29,
   "id": "2fb5d862",
   "metadata": {},
   "outputs": [],
   "source": [
    "net = neiron(net, features_train, target_train, optimizer3)"
   ]
  },
  {
   "cell_type": "code",
   "execution_count": 30,
   "id": "13c26fb5",
   "metadata": {
    "scrolled": true
   },
   "outputs": [
    {
     "name": "stdout",
     "output_type": "stream",
     "text": [
      "RMSE на тестовой выборке, до улучшения =  3293\n"
     ]
    }
   ],
   "source": [
    "net.eval()\n",
    "test_preds = net.forward(features_test)\n",
    "print('RMSE на тестовой выборке, до улучшения = ', int(torch.sqrt(loss(target_test, test_preds))))"
   ]
  },
  {
   "cell_type": "markdown",
   "id": "68a9553a",
   "metadata": {},
   "source": [
    "RMSE в допустимых пределах\n",
    "\n",
    "Далле строим график"
   ]
  },
  {
   "cell_type": "code",
   "execution_count": 31,
   "id": "962fe65f",
   "metadata": {},
   "outputs": [],
   "source": [
    "def grafic(target, preds, width = 0.3):\n",
    "    y1 = target.numpy().reshape([-1])\n",
    "    y2 = preds.reshape([-1]).detach().numpy()\n",
    "    x = np.arange(len(y1))\n",
    "    \n",
    "    fig,ax = plt.subplots()\n",
    "    rects1 = ax.bar(x - width/2, y1, width, label = 'Факт')\n",
    "    rects2 = ax.bar(x + width/2, y2, width, label = 'Прогноз')\n",
    "    ax.set_title('Факт-Прогноз')\n",
    "    ax.set_xticks(x)\n",
    "    ax.set_xlabel('Тип звезды')\n",
    "    ax.set_ylabel('Температура звезды')\n",
    "    fig.set_figwidth(17)\n",
    "    fig.set_figheight(10)\n",
    "    ax.legend();"
   ]
  },
  {
   "cell_type": "code",
   "execution_count": 32,
   "id": "d86997fe",
   "metadata": {
    "scrolled": false
   },
   "outputs": [
    {
     "data": {
      "image/png": "[encoded data removed]",
      "text/plain": [
       "<Figure size 1224x720 with 1 Axes>"
      ]
     },
     "metadata": {
      "needs_background": "light"
     },
     "output_type": "display_data"
    }
   ],
   "source": [
    "grafic(target_test, test_preds)"
   ]
  },
  {
   "cell_type": "markdown",
   "id": "fdace28b",
   "metadata": {},
   "source": [
    "## Улучшение модели"
   ]
  },
  {
   "cell_type": "markdown",
   "id": "e0df2653",
   "metadata": {},
   "source": [
    "Добавим dropiut и батчи в список параметров, посмотрим как это повляет на модель"
   ]
  },
  {
   "cell_type": "code",
   "execution_count": 33,
   "id": "bb576866",
   "metadata": {},
   "outputs": [],
   "source": [
    "class Model(nn.Module):\n",
    "    def __init__(self, n_in_neurons, n_hidden_neurons_1, n_hidden_neurons_2, n_out_neurons):\n",
    "        super(Model, self).__init__()\n",
    "        \n",
    "        self.fc1 = nn.Linear(n_in_neurons, n_hidden_neurons_1)\n",
    "        self.bn1 = nn.BatchNorm1d(n_hidden_neurons_1)\n",
    "        self.act1 = nn.ReLU()\n",
    "        self.dp2 = nn.Dropout(p=0.2)\n",
    "        self.fc2 = nn.Linear(n_hidden_neurons_1, n_hidden_neurons_2)\n",
    "        self.bn2 = nn.BatchNorm1d(n_hidden_neurons_2)\n",
    "        self.act2 = nn.ReLU()\n",
    "        self.fc3 = nn.Linear(n_hidden_neurons_2, n_out_neurons)\n",
    "        self.act3 = nn.LeakyReLU()\n",
    "\n",
    "    def forward(self, x):\n",
    "        x = self.fc1(x)\n",
    "        x = self.bn1(x)\n",
    "        x = self.act1(x)\n",
    "        x = self.dp2(x)\n",
    "        x = self.fc2(x)\n",
    "        x = self.bn2(x)\n",
    "        x = self.act2(x)\n",
    "        x = self.fc3(x)\n",
    "        x = self.act3(x)\n",
    "        \n",
    "        return x  "
   ]
  },
  {
   "cell_type": "code",
   "execution_count": 34,
   "id": "da3daa53",
   "metadata": {},
   "outputs": [],
   "source": [
    "net = Model(n_in_neurons, n_hidden_neurons_1, n_hidden_neurons_2, n_out_neurons)\n",
    "loss = nn.MSELoss()\n",
    "\n",
    "\n",
    "optimizer = torch.optim.RMSprop(net.parameters(), lr=1e-3)\n",
    "optimizer1 = torch.optim.Adam(net.parameters(), lr=1e-3)\n",
    "optimizer2 = torch.optim.Adam(net.parameters(), lr=1e-2)\n",
    "optimizer3 = torch.optim.Adamax(net.parameters(), lr=1e-2)"
   ]
  },
  {
   "cell_type": "code",
   "execution_count": 35,
   "id": "5cea382c",
   "metadata": {},
   "outputs": [
    {
     "name": "stdout",
     "output_type": "stream",
     "text": [
      "RMSprop (\n",
      "Parameter Group 0\n",
      "    alpha: 0.99\n",
      "    centered: False\n",
      "    eps: 1e-08\n",
      "    lr: 0.001\n",
      "    momentum: 0\n",
      "    weight_decay: 0\n",
      ")\n",
      "processing fold # 1  RMSE метрика = 13031.1240234375\n",
      "processing fold # 2  RMSE метрика = 5688.23095703125\n",
      "processing fold # 3  RMSE метрика = 5644.38525390625\n",
      "processing fold # 4  RMSE метрика = 5356.9716796875\n",
      "Средняя RMSE метрика = 7430 \n",
      "\n",
      "Adam (\n",
      "Parameter Group 0\n",
      "    amsgrad: False\n",
      "    betas: (0.9, 0.999)\n",
      "    eps: 1e-08\n",
      "    lr: 0.001\n",
      "    weight_decay: 0\n",
      ")\n",
      "processing fold # 1  RMSE метрика = 6676.0576171875\n",
      "processing fold # 2  RMSE метрика = 5157.37451171875\n",
      "processing fold # 3  RMSE метрика = 5699.06103515625\n",
      "processing fold # 4  RMSE метрика = 4986.95068359375\n",
      "Средняя RMSE метрика = 5629 \n",
      "\n",
      "Adam (\n",
      "Parameter Group 0\n",
      "    amsgrad: False\n",
      "    betas: (0.9, 0.999)\n",
      "    eps: 1e-08\n",
      "    lr: 0.01\n",
      "    weight_decay: 0\n",
      ")\n",
      "processing fold # 1  RMSE метрика = 6527.04443359375\n",
      "processing fold # 2  RMSE метрика = 4592.84326171875\n",
      "processing fold # 3  RMSE метрика = 6167.39892578125\n",
      "processing fold # 4  RMSE метрика = 5107.77294921875\n",
      "Средняя RMSE метрика = 5598 \n",
      "\n",
      "Adamax (\n",
      "Parameter Group 0\n",
      "    betas: (0.9, 0.999)\n",
      "    eps: 1e-08\n",
      "    lr: 0.01\n",
      "    weight_decay: 0\n",
      ")\n",
      "processing fold # 1  RMSE метрика = 6656.28173828125\n",
      "processing fold # 2  RMSE метрика = 4812.2734375\n",
      "processing fold # 3  RMSE метрика = 6006.68310546875\n",
      "processing fold # 4  RMSE метрика = 4690.69482421875\n",
      "Средняя RMSE метрика = 5541 \n",
      "\n"
     ]
    }
   ],
   "source": [
    "x = [optimizer, optimizer1, optimizer2, optimizer3]\n",
    "\n",
    "for i in x:\n",
    "    print(i)\n",
    "    cross_vall_score(net, features_train, target_train, i)"
   ]
  },
  {
   "cell_type": "markdown",
   "id": "9423a3ea",
   "metadata": {},
   "source": [
    "Adamax снова показал лушчий результат RMSE метрика = 5736 "
   ]
  },
  {
   "cell_type": "code",
   "execution_count": 36,
   "id": "5e379365",
   "metadata": {},
   "outputs": [],
   "source": [
    "net = neiron(net, features_train, target_train, optimizer3)"
   ]
  },
  {
   "cell_type": "code",
   "execution_count": 37,
   "id": "7a412ce2",
   "metadata": {},
   "outputs": [
    {
     "name": "stdout",
     "output_type": "stream",
     "text": [
      "RMSE на тестовой выборке, после улучшения =  3588\n"
     ]
    }
   ],
   "source": [
    "net.eval()\n",
    "test_preds = net.forward(features_test)\n",
    "print('RMSE на тестовой выборке, после улучшения = ', int(torch.sqrt(loss(target_test, test_preds))))"
   ]
  },
  {
   "cell_type": "code",
   "execution_count": 38,
   "id": "4a35236b",
   "metadata": {},
   "outputs": [
    {
     "data": {
      "image/png": "[encoded data removed]",
      "text/plain": [
       "<Figure size 1224x720 with 1 Axes>"
      ]
     },
     "metadata": {
      "needs_background": "light"
     },
     "output_type": "display_data"
    }
   ],
   "source": [
    "grafic(target_test, test_preds)"
   ]
  },
  {
   "cell_type": "markdown",
   "id": "3b97f7f0",
   "metadata": {},
   "source": [
    " ## Вывод"
   ]
  },
  {
   "cell_type": "markdown",
   "id": "46a31f11",
   "metadata": {},
   "source": [
    "Модель до улучшения показала более адекватнтый результат RMSE , предлагаю использовать базовую модель."
   ]
  }
 ],
 "metadata": {
  "ExecuteTimeLog": [
   {
    "duration": 2155,
    "start_time": "2023-06-03T17:18:41.879Z"
   },
   {
    "duration": 91,
    "start_time": "2023-06-03T17:30:53.300Z"
   },
   {
    "duration": 88,
    "start_time": "2023-06-03T17:34:17.180Z"
   },
   {
    "duration": 10,
    "start_time": "2023-06-03T17:35:30.020Z"
   },
   {
    "duration": 1506,
    "start_time": "2023-06-03T17:38:30.766Z"
   },
   {
    "duration": 204,
    "start_time": "2023-06-03T17:39:28.630Z"
   },
   {
    "duration": 74,
    "start_time": "2023-06-03T17:40:28.798Z"
   },
   {
    "duration": 17,
    "start_time": "2023-06-03T17:40:30.988Z"
   },
   {
    "duration": 10,
    "start_time": "2023-06-03T17:41:37.668Z"
   },
   {
    "duration": 12,
    "start_time": "2023-06-03T17:43:48.665Z"
   },
   {
    "duration": 4,
    "start_time": "2023-06-03T17:46:19.467Z"
   },
   {
    "duration": 4,
    "start_time": "2023-06-03T17:47:26.553Z"
   },
   {
    "duration": 3,
    "start_time": "2023-06-03T17:50:21.590Z"
   },
   {
    "duration": 4,
    "start_time": "2023-06-03T17:51:26.550Z"
   },
   {
    "duration": 7,
    "start_time": "2023-06-03T17:53:03.712Z"
   },
   {
    "duration": 6,
    "start_time": "2023-06-03T17:55:43.669Z"
   },
   {
    "duration": 3,
    "start_time": "2023-06-03T17:55:45.405Z"
   },
   {
    "duration": 5,
    "start_time": "2023-06-03T17:55:53.939Z"
   },
   {
    "duration": 5,
    "start_time": "2023-06-03T17:56:01.375Z"
   },
   {
    "duration": 4,
    "start_time": "2023-06-03T17:56:24.343Z"
   },
   {
    "duration": 5,
    "start_time": "2023-06-03T17:56:24.685Z"
   },
   {
    "duration": 2830,
    "start_time": "2023-06-03T17:56:45.769Z"
   },
   {
    "duration": 29,
    "start_time": "2023-06-03T17:56:48.601Z"
   },
   {
    "duration": 18,
    "start_time": "2023-06-03T17:56:48.631Z"
   },
   {
    "duration": 10,
    "start_time": "2023-06-03T17:56:48.650Z"
   },
   {
    "duration": 4,
    "start_time": "2023-06-03T17:56:48.661Z"
   },
   {
    "duration": 20,
    "start_time": "2023-06-03T17:56:48.666Z"
   },
   {
    "duration": 3,
    "start_time": "2023-06-03T17:56:48.687Z"
   },
   {
    "duration": 5,
    "start_time": "2023-06-03T17:56:48.691Z"
   },
   {
    "duration": 3,
    "start_time": "2023-06-03T17:56:48.697Z"
   },
   {
    "duration": 6,
    "start_time": "2023-06-03T17:56:48.701Z"
   },
   {
    "duration": 4,
    "start_time": "2023-06-03T17:57:33.998Z"
   },
   {
    "duration": 6,
    "start_time": "2023-06-03T17:57:34.393Z"
   },
   {
    "duration": 5,
    "start_time": "2023-06-03T17:57:40.800Z"
   },
   {
    "duration": 5,
    "start_time": "2023-06-03T17:57:41.064Z"
   },
   {
    "duration": 2716,
    "start_time": "2023-06-03T17:58:55.088Z"
   },
   {
    "duration": 28,
    "start_time": "2023-06-03T17:58:57.806Z"
   },
   {
    "duration": 17,
    "start_time": "2023-06-03T17:58:57.835Z"
   },
   {
    "duration": 19,
    "start_time": "2023-06-03T17:58:57.853Z"
   },
   {
    "duration": 632,
    "start_time": "2023-06-03T17:58:57.875Z"
   },
   {
    "duration": 0,
    "start_time": "2023-06-03T17:58:58.508Z"
   },
   {
    "duration": 0,
    "start_time": "2023-06-03T17:58:58.509Z"
   },
   {
    "duration": 0,
    "start_time": "2023-06-03T17:58:58.510Z"
   },
   {
    "duration": 0,
    "start_time": "2023-06-03T17:58:58.511Z"
   },
   {
    "duration": 0,
    "start_time": "2023-06-03T17:58:58.512Z"
   },
   {
    "duration": 0,
    "start_time": "2023-06-03T17:58:58.513Z"
   },
   {
    "duration": 0,
    "start_time": "2023-06-03T17:58:58.513Z"
   },
   {
    "duration": 2665,
    "start_time": "2023-06-03T17:59:18.123Z"
   },
   {
    "duration": 29,
    "start_time": "2023-06-03T17:59:20.790Z"
   },
   {
    "duration": 18,
    "start_time": "2023-06-03T17:59:20.820Z"
   },
   {
    "duration": 17,
    "start_time": "2023-06-03T17:59:20.839Z"
   },
   {
    "duration": 15,
    "start_time": "2023-06-03T17:59:20.858Z"
   },
   {
    "duration": 28,
    "start_time": "2023-06-03T17:59:20.874Z"
   },
   {
    "duration": 32,
    "start_time": "2023-06-03T17:59:20.903Z"
   },
   {
    "duration": 18,
    "start_time": "2023-06-03T17:59:20.936Z"
   },
   {
    "duration": 30,
    "start_time": "2023-06-03T17:59:20.955Z"
   },
   {
    "duration": 23,
    "start_time": "2023-06-03T17:59:20.986Z"
   },
   {
    "duration": 10,
    "start_time": "2023-06-03T17:59:21.010Z"
   },
   {
    "duration": 147,
    "start_time": "2023-06-03T18:05:13.002Z"
   },
   {
    "duration": 134,
    "start_time": "2023-06-03T18:05:55.708Z"
   },
   {
    "duration": 135,
    "start_time": "2023-06-03T18:06:05.852Z"
   },
   {
    "duration": 337,
    "start_time": "2023-06-03T18:06:11.673Z"
   },
   {
    "duration": 133,
    "start_time": "2023-06-03T18:06:19.709Z"
   },
   {
    "duration": 141,
    "start_time": "2023-06-03T18:06:24.560Z"
   },
   {
    "duration": 149,
    "start_time": "2023-06-03T18:06:34.290Z"
   },
   {
    "duration": 145,
    "start_time": "2023-06-03T18:09:50.698Z"
   },
   {
    "duration": 131,
    "start_time": "2023-06-03T18:10:44.539Z"
   },
   {
    "duration": 144,
    "start_time": "2023-06-03T18:10:47.848Z"
   },
   {
    "duration": 5,
    "start_time": "2023-06-03T18:11:11.568Z"
   },
   {
    "duration": 2616,
    "start_time": "2023-06-03T18:11:20.538Z"
   },
   {
    "duration": 28,
    "start_time": "2023-06-03T18:11:23.156Z"
   },
   {
    "duration": 28,
    "start_time": "2023-06-03T18:11:23.185Z"
   },
   {
    "duration": 36,
    "start_time": "2023-06-03T18:11:23.214Z"
   },
   {
    "duration": 25,
    "start_time": "2023-06-03T18:11:23.252Z"
   },
   {
    "duration": 14,
    "start_time": "2023-06-03T18:11:23.279Z"
   },
   {
    "duration": 11,
    "start_time": "2023-06-03T18:11:23.294Z"
   },
   {
    "duration": 13,
    "start_time": "2023-06-03T18:11:23.307Z"
   },
   {
    "duration": 16,
    "start_time": "2023-06-03T18:11:23.321Z"
   },
   {
    "duration": 26,
    "start_time": "2023-06-03T18:11:23.338Z"
   },
   {
    "duration": 76,
    "start_time": "2023-06-03T18:11:23.366Z"
   },
   {
    "duration": 159,
    "start_time": "2023-06-03T18:11:23.444Z"
   },
   {
    "duration": 140,
    "start_time": "2023-06-03T18:11:23.604Z"
   },
   {
    "duration": 139,
    "start_time": "2023-06-03T18:11:23.747Z"
   },
   {
    "duration": 324,
    "start_time": "2023-06-03T18:11:23.888Z"
   },
   {
    "duration": 145,
    "start_time": "2023-06-03T18:11:24.214Z"
   },
   {
    "duration": 139,
    "start_time": "2023-06-03T18:11:24.360Z"
   },
   {
    "duration": 151,
    "start_time": "2023-06-03T18:11:24.501Z"
   },
   {
    "duration": 141,
    "start_time": "2023-06-03T18:12:09.389Z"
   },
   {
    "duration": 131,
    "start_time": "2023-06-03T18:12:35.038Z"
   },
   {
    "duration": 4,
    "start_time": "2023-06-03T18:19:43.670Z"
   },
   {
    "duration": 4,
    "start_time": "2023-06-03T18:19:43.913Z"
   },
   {
    "duration": 3,
    "start_time": "2023-06-03T18:19:44.161Z"
   },
   {
    "duration": 15,
    "start_time": "2023-06-03T18:19:44.378Z"
   },
   {
    "duration": 12,
    "start_time": "2023-06-03T18:20:45.631Z"
   },
   {
    "duration": 11,
    "start_time": "2023-06-03T18:20:55.319Z"
   },
   {
    "duration": 10,
    "start_time": "2023-06-03T18:20:59.162Z"
   },
   {
    "duration": 10,
    "start_time": "2023-06-03T18:22:19.175Z"
   },
   {
    "duration": 14,
    "start_time": "2023-06-03T18:22:33.338Z"
   },
   {
    "duration": 5,
    "start_time": "2023-06-03T18:25:17.125Z"
   },
   {
    "duration": 12,
    "start_time": "2023-06-03T18:25:17.344Z"
   },
   {
    "duration": 257,
    "start_time": "2023-06-03T18:25:17.505Z"
   },
   {
    "duration": 0,
    "start_time": "2023-06-03T18:25:17.764Z"
   },
   {
    "duration": 4,
    "start_time": "2023-06-03T18:25:17.815Z"
   },
   {
    "duration": 13,
    "start_time": "2023-06-03T18:25:18.071Z"
   },
   {
    "duration": 6,
    "start_time": "2023-06-03T18:25:22.705Z"
   },
   {
    "duration": 13,
    "start_time": "2023-06-03T18:25:22.899Z"
   },
   {
    "duration": 13,
    "start_time": "2023-06-03T18:25:23.067Z"
   },
   {
    "duration": 12,
    "start_time": "2023-06-03T18:25:23.219Z"
   },
   {
    "duration": 4,
    "start_time": "2023-06-03T18:25:23.370Z"
   },
   {
    "duration": 13,
    "start_time": "2023-06-03T18:25:23.519Z"
   },
   {
    "duration": 2704,
    "start_time": "2023-06-03T18:25:31.432Z"
   },
   {
    "duration": 29,
    "start_time": "2023-06-03T18:25:34.138Z"
   },
   {
    "duration": 16,
    "start_time": "2023-06-03T18:25:34.168Z"
   },
   {
    "duration": 9,
    "start_time": "2023-06-03T18:25:34.185Z"
   },
   {
    "duration": 10,
    "start_time": "2023-06-03T18:25:34.196Z"
   },
   {
    "duration": 6,
    "start_time": "2023-06-03T18:25:34.208Z"
   },
   {
    "duration": 21,
    "start_time": "2023-06-03T18:25:34.215Z"
   },
   {
    "duration": 6,
    "start_time": "2023-06-03T18:25:34.238Z"
   },
   {
    "duration": 7,
    "start_time": "2023-06-03T18:25:34.246Z"
   },
   {
    "duration": 9,
    "start_time": "2023-06-03T18:25:34.255Z"
   },
   {
    "duration": 157,
    "start_time": "2023-06-03T18:25:34.266Z"
   },
   {
    "duration": 145,
    "start_time": "2023-06-03T18:25:34.425Z"
   },
   {
    "duration": 341,
    "start_time": "2023-06-03T18:25:34.572Z"
   },
   {
    "duration": 145,
    "start_time": "2023-06-03T18:25:34.916Z"
   },
   {
    "duration": 136,
    "start_time": "2023-06-03T18:25:35.062Z"
   },
   {
    "duration": 150,
    "start_time": "2023-06-03T18:25:35.199Z"
   },
   {
    "duration": 5,
    "start_time": "2023-06-03T18:25:35.350Z"
   },
   {
    "duration": 45,
    "start_time": "2023-06-03T18:25:35.356Z"
   },
   {
    "duration": 265,
    "start_time": "2023-06-03T18:25:35.402Z"
   },
   {
    "duration": 0,
    "start_time": "2023-06-03T18:25:35.668Z"
   },
   {
    "duration": 0,
    "start_time": "2023-06-03T18:25:35.669Z"
   },
   {
    "duration": 0,
    "start_time": "2023-06-03T18:25:35.670Z"
   },
   {
    "duration": 3,
    "start_time": "2023-06-03T18:25:52.146Z"
   },
   {
    "duration": 2634,
    "start_time": "2023-06-03T18:26:01.423Z"
   },
   {
    "duration": 28,
    "start_time": "2023-06-03T18:26:04.061Z"
   },
   {
    "duration": 21,
    "start_time": "2023-06-03T18:26:04.090Z"
   },
   {
    "duration": 12,
    "start_time": "2023-06-03T18:26:04.113Z"
   },
   {
    "duration": 15,
    "start_time": "2023-06-03T18:26:04.126Z"
   },
   {
    "duration": 9,
    "start_time": "2023-06-03T18:26:04.142Z"
   },
   {
    "duration": 7,
    "start_time": "2023-06-03T18:26:04.153Z"
   },
   {
    "duration": 6,
    "start_time": "2023-06-03T18:26:04.161Z"
   },
   {
    "duration": 16,
    "start_time": "2023-06-03T18:26:04.168Z"
   },
   {
    "duration": 5,
    "start_time": "2023-06-03T18:26:04.187Z"
   },
   {
    "duration": 174,
    "start_time": "2023-06-03T18:26:04.194Z"
   },
   {
    "duration": 153,
    "start_time": "2023-06-03T18:26:04.370Z"
   },
   {
    "duration": 317,
    "start_time": "2023-06-03T18:26:04.525Z"
   },
   {
    "duration": 155,
    "start_time": "2023-06-03T18:26:04.844Z"
   },
   {
    "duration": 148,
    "start_time": "2023-06-03T18:26:05.001Z"
   },
   {
    "duration": 164,
    "start_time": "2023-06-03T18:26:05.151Z"
   },
   {
    "duration": 5,
    "start_time": "2023-06-03T18:26:05.317Z"
   },
   {
    "duration": 16,
    "start_time": "2023-06-03T18:26:05.323Z"
   },
   {
    "duration": 17,
    "start_time": "2023-06-03T18:26:05.341Z"
   },
   {
    "duration": 21,
    "start_time": "2023-06-03T18:26:05.359Z"
   },
   {
    "duration": 13,
    "start_time": "2023-06-03T18:26:05.381Z"
   },
   {
    "duration": 6,
    "start_time": "2023-06-03T18:26:05.395Z"
   },
   {
    "duration": 257,
    "start_time": "2023-06-03T18:26:22.766Z"
   },
   {
    "duration": 5,
    "start_time": "2023-06-03T18:26:58.237Z"
   },
   {
    "duration": 2596,
    "start_time": "2023-06-03T18:27:42.122Z"
   },
   {
    "duration": 29,
    "start_time": "2023-06-03T18:27:44.720Z"
   },
   {
    "duration": 17,
    "start_time": "2023-06-03T18:27:44.750Z"
   },
   {
    "duration": 9,
    "start_time": "2023-06-03T18:27:44.768Z"
   },
   {
    "duration": 4,
    "start_time": "2023-06-03T18:27:44.779Z"
   },
   {
    "duration": 5,
    "start_time": "2023-06-03T18:27:44.784Z"
   },
   {
    "duration": 11,
    "start_time": "2023-06-03T18:27:44.790Z"
   },
   {
    "duration": 5,
    "start_time": "2023-06-03T18:27:44.802Z"
   },
   {
    "duration": 6,
    "start_time": "2023-06-03T18:27:44.808Z"
   },
   {
    "duration": 14,
    "start_time": "2023-06-03T18:27:44.816Z"
   },
   {
    "duration": 161,
    "start_time": "2023-06-03T18:27:44.831Z"
   },
   {
    "duration": 144,
    "start_time": "2023-06-03T18:27:44.993Z"
   },
   {
    "duration": 326,
    "start_time": "2023-06-03T18:27:45.138Z"
   },
   {
    "duration": 134,
    "start_time": "2023-06-03T18:27:45.466Z"
   },
   {
    "duration": 138,
    "start_time": "2023-06-03T18:27:45.602Z"
   },
   {
    "duration": 158,
    "start_time": "2023-06-03T18:27:45.741Z"
   },
   {
    "duration": 7,
    "start_time": "2023-06-03T18:27:45.901Z"
   },
   {
    "duration": 46,
    "start_time": "2023-06-03T18:27:45.910Z"
   },
   {
    "duration": 12,
    "start_time": "2023-06-03T18:27:45.958Z"
   },
   {
    "duration": 20,
    "start_time": "2023-06-03T18:27:45.971Z"
   },
   {
    "duration": 22,
    "start_time": "2023-06-03T18:27:45.992Z"
   },
   {
    "duration": 9,
    "start_time": "2023-06-03T18:27:46.016Z"
   },
   {
    "duration": 21,
    "start_time": "2023-06-03T18:27:46.027Z"
   },
   {
    "duration": 19,
    "start_time": "2023-06-03T18:28:34.301Z"
   },
   {
    "duration": 11,
    "start_time": "2023-06-03T18:30:47.010Z"
   },
   {
    "duration": 10,
    "start_time": "2023-06-03T18:32:55.672Z"
   },
   {
    "duration": 6,
    "start_time": "2023-06-03T18:32:55.908Z"
   },
   {
    "duration": 7,
    "start_time": "2023-06-03T18:32:56.131Z"
   },
   {
    "duration": 11,
    "start_time": "2023-06-03T18:32:56.302Z"
   },
   {
    "duration": 19,
    "start_time": "2023-06-03T18:33:05.975Z"
   },
   {
    "duration": 3,
    "start_time": "2023-06-03T18:33:35.232Z"
   },
   {
    "duration": 12,
    "start_time": "2023-06-03T18:33:45.594Z"
   },
   {
    "duration": 9,
    "start_time": "2023-06-03T18:33:45.608Z"
   },
   {
    "duration": 358,
    "start_time": "2023-06-03T18:34:44.495Z"
   },
   {
    "duration": 4,
    "start_time": "2023-06-03T18:35:22.333Z"
   },
   {
    "duration": 4,
    "start_time": "2023-06-03T18:35:23.064Z"
   },
   {
    "duration": 1431,
    "start_time": "2023-06-03T18:35:23.422Z"
   },
   {
    "duration": 0,
    "start_time": "2023-06-03T18:35:24.855Z"
   },
   {
    "duration": 13,
    "start_time": "2023-06-03T18:36:32.673Z"
   },
   {
    "duration": 14,
    "start_time": "2023-06-03T18:36:34.723Z"
   },
   {
    "duration": 23,
    "start_time": "2023-06-03T18:36:47.143Z"
   },
   {
    "duration": 14,
    "start_time": "2023-06-03T18:37:03.767Z"
   },
   {
    "duration": 19,
    "start_time": "2023-06-03T18:37:25.994Z"
   },
   {
    "duration": 101,
    "start_time": "2023-06-03T18:38:19.204Z"
   },
   {
    "duration": 17,
    "start_time": "2023-06-03T18:38:20.363Z"
   },
   {
    "duration": 15,
    "start_time": "2023-06-03T18:38:56.422Z"
   },
   {
    "duration": 266,
    "start_time": "2023-06-03T18:39:38.368Z"
   },
   {
    "duration": 18,
    "start_time": "2023-06-03T18:40:29.026Z"
   },
   {
    "duration": 145,
    "start_time": "2023-06-03T18:41:38.924Z"
   },
   {
    "duration": 4,
    "start_time": "2023-06-03T18:47:33.537Z"
   },
   {
    "duration": 2,
    "start_time": "2023-06-03T18:47:37.423Z"
   },
   {
    "duration": 3,
    "start_time": "2023-06-03T18:47:37.709Z"
   },
   {
    "duration": 4,
    "start_time": "2023-06-03T18:47:45.834Z"
   },
   {
    "duration": 231,
    "start_time": "2023-06-03T18:49:16.215Z"
   },
   {
    "duration": 18,
    "start_time": "2023-06-03T18:51:48.358Z"
   },
   {
    "duration": 3,
    "start_time": "2023-06-03T18:51:56.572Z"
   },
   {
    "duration": 18,
    "start_time": "2023-06-03T18:51:56.926Z"
   },
   {
    "duration": 22,
    "start_time": "2023-06-03T18:52:17.658Z"
   },
   {
    "duration": 4,
    "start_time": "2023-06-03T18:53:50.562Z"
   },
   {
    "duration": 3,
    "start_time": "2023-06-03T18:53:50.756Z"
   },
   {
    "duration": 4,
    "start_time": "2023-06-03T18:54:57.968Z"
   },
   {
    "duration": 5,
    "start_time": "2023-06-03T18:55:24.327Z"
   },
   {
    "duration": 3,
    "start_time": "2023-06-03T18:58:19.949Z"
   },
   {
    "duration": 4,
    "start_time": "2023-06-03T18:58:33.208Z"
   },
   {
    "duration": 4,
    "start_time": "2023-06-03T18:58:41.330Z"
   },
   {
    "duration": 8,
    "start_time": "2023-06-03T18:59:50.678Z"
   },
   {
    "duration": 22,
    "start_time": "2023-06-03T19:01:34.780Z"
   },
   {
    "duration": 22,
    "start_time": "2023-06-03T19:01:55.085Z"
   },
   {
    "duration": 22,
    "start_time": "2023-06-03T19:02:17.320Z"
   },
   {
    "duration": 3,
    "start_time": "2023-06-03T19:02:47.300Z"
   },
   {
    "duration": 13,
    "start_time": "2023-06-03T19:02:51.596Z"
   },
   {
    "duration": 72252,
    "start_time": "2023-06-03T19:02:51.949Z"
   },
   {
    "duration": 5,
    "start_time": "2023-06-03T19:05:07.317Z"
   },
   {
    "duration": 5463,
    "start_time": "2023-06-03T19:05:22.657Z"
   },
   {
    "duration": 5096,
    "start_time": "2023-06-03T19:05:56.062Z"
   },
   {
    "duration": 5,
    "start_time": "2023-06-03T19:06:21.637Z"
   },
   {
    "duration": 2989,
    "start_time": "2023-06-03T19:06:54.532Z"
   },
   {
    "duration": 28,
    "start_time": "2023-06-03T19:06:57.523Z"
   },
   {
    "duration": 16,
    "start_time": "2023-06-03T19:06:57.552Z"
   },
   {
    "duration": 9,
    "start_time": "2023-06-03T19:06:57.569Z"
   },
   {
    "duration": 3,
    "start_time": "2023-06-03T19:06:57.584Z"
   },
   {
    "duration": 7,
    "start_time": "2023-06-03T19:06:57.588Z"
   },
   {
    "duration": 3,
    "start_time": "2023-06-03T19:06:57.596Z"
   },
   {
    "duration": 5,
    "start_time": "2023-06-03T19:06:57.600Z"
   },
   {
    "duration": 4,
    "start_time": "2023-06-03T19:06:57.606Z"
   },
   {
    "duration": 6,
    "start_time": "2023-06-03T19:06:57.611Z"
   },
   {
    "duration": 185,
    "start_time": "2023-06-03T19:06:57.619Z"
   },
   {
    "duration": 137,
    "start_time": "2023-06-03T19:06:57.805Z"
   },
   {
    "duration": 356,
    "start_time": "2023-06-03T19:06:57.943Z"
   },
   {
    "duration": 139,
    "start_time": "2023-06-03T19:06:58.302Z"
   },
   {
    "duration": 132,
    "start_time": "2023-06-03T19:06:58.443Z"
   },
   {
    "duration": 158,
    "start_time": "2023-06-03T19:06:58.576Z"
   },
   {
    "duration": 10,
    "start_time": "2023-06-03T19:06:58.736Z"
   },
   {
    "duration": 12,
    "start_time": "2023-06-03T19:06:58.748Z"
   },
   {
    "duration": 23,
    "start_time": "2023-06-03T19:06:58.761Z"
   },
   {
    "duration": 11,
    "start_time": "2023-06-03T19:06:58.786Z"
   },
   {
    "duration": 14,
    "start_time": "2023-06-03T19:06:58.799Z"
   },
   {
    "duration": 8,
    "start_time": "2023-06-03T19:06:58.815Z"
   },
   {
    "duration": 7,
    "start_time": "2023-06-03T19:06:58.824Z"
   },
   {
    "duration": 146,
    "start_time": "2023-06-03T19:06:58.832Z"
   },
   {
    "duration": 290,
    "start_time": "2023-06-03T19:06:58.985Z"
   },
   {
    "duration": 0,
    "start_time": "2023-06-03T19:06:59.277Z"
   },
   {
    "duration": 0,
    "start_time": "2023-06-03T19:06:59.279Z"
   },
   {
    "duration": 0,
    "start_time": "2023-06-03T19:06:59.285Z"
   },
   {
    "duration": 0,
    "start_time": "2023-06-03T19:06:59.286Z"
   },
   {
    "duration": 0,
    "start_time": "2023-06-03T19:06:59.287Z"
   },
   {
    "duration": 2976,
    "start_time": "2023-06-03T19:08:18.937Z"
   },
   {
    "duration": 30,
    "start_time": "2023-06-03T19:08:21.915Z"
   },
   {
    "duration": 18,
    "start_time": "2023-06-03T19:08:21.947Z"
   },
   {
    "duration": 11,
    "start_time": "2023-06-03T19:08:21.967Z"
   },
   {
    "duration": 4,
    "start_time": "2023-06-03T19:08:21.985Z"
   },
   {
    "duration": 8,
    "start_time": "2023-06-03T19:08:21.990Z"
   },
   {
    "duration": 6,
    "start_time": "2023-06-03T19:08:21.999Z"
   },
   {
    "duration": 10,
    "start_time": "2023-06-03T19:08:22.006Z"
   },
   {
    "duration": 10,
    "start_time": "2023-06-03T19:08:22.017Z"
   },
   {
    "duration": 8,
    "start_time": "2023-06-03T19:08:22.029Z"
   },
   {
    "duration": 177,
    "start_time": "2023-06-03T19:08:22.039Z"
   },
   {
    "duration": 177,
    "start_time": "2023-06-03T19:08:22.217Z"
   },
   {
    "duration": 352,
    "start_time": "2023-06-03T19:08:22.396Z"
   },
   {
    "duration": 144,
    "start_time": "2023-06-03T19:08:22.752Z"
   },
   {
    "duration": 125,
    "start_time": "2023-06-03T19:08:22.898Z"
   },
   {
    "duration": 148,
    "start_time": "2023-06-03T19:08:23.024Z"
   },
   {
    "duration": 19,
    "start_time": "2023-06-03T19:08:23.173Z"
   },
   {
    "duration": 10,
    "start_time": "2023-06-03T19:08:23.193Z"
   },
   {
    "duration": 11,
    "start_time": "2023-06-03T19:08:23.205Z"
   },
   {
    "duration": 12,
    "start_time": "2023-06-03T19:08:23.217Z"
   },
   {
    "duration": 13,
    "start_time": "2023-06-03T19:08:23.231Z"
   },
   {
    "duration": 3,
    "start_time": "2023-06-03T19:08:23.246Z"
   },
   {
    "duration": 6,
    "start_time": "2023-06-03T19:08:23.250Z"
   },
   {
    "duration": 17,
    "start_time": "2023-06-03T19:08:23.257Z"
   },
   {
    "duration": 128,
    "start_time": "2023-06-03T19:08:23.284Z"
   },
   {
    "duration": 8,
    "start_time": "2023-06-03T19:08:23.414Z"
   },
   {
    "duration": 8,
    "start_time": "2023-06-03T19:08:23.423Z"
   },
   {
    "duration": 69523,
    "start_time": "2023-06-03T19:08:23.433Z"
   },
   {
    "duration": 5,
    "start_time": "2023-06-03T19:09:32.957Z"
   },
   {
    "duration": 4869,
    "start_time": "2023-06-03T19:09:32.963Z"
   },
   {
    "duration": 4,
    "start_time": "2023-06-03T19:09:37.837Z"
   },
   {
    "duration": 4,
    "start_time": "2023-06-03T19:10:13.939Z"
   },
   {
    "duration": 324,
    "start_time": "2023-06-03T19:11:07.518Z"
   },
   {
    "duration": 21,
    "start_time": "2023-06-03T19:11:12.696Z"
   },
   {
    "duration": 544,
    "start_time": "2023-06-03T19:11:24.289Z"
   },
   {
    "duration": 6,
    "start_time": "2023-06-03T19:17:02.101Z"
   },
   {
    "duration": 70412,
    "start_time": "2023-06-03T19:17:35.052Z"
   },
   {
    "duration": 4971,
    "start_time": "2023-06-03T19:20:18.150Z"
   },
   {
    "duration": 4,
    "start_time": "2023-06-03T19:20:39.775Z"
   },
   {
    "duration": 13,
    "start_time": "2023-06-03T19:21:02.194Z"
   },
   {
    "duration": 833,
    "start_time": "2023-06-03T19:21:31.577Z"
   },
   {
    "duration": 663,
    "start_time": "2023-06-03T19:21:52.000Z"
   },
   {
    "duration": 3118,
    "start_time": "2023-06-03T19:23:03.393Z"
   },
   {
    "duration": 29,
    "start_time": "2023-06-03T19:23:06.513Z"
   },
   {
    "duration": 16,
    "start_time": "2023-06-03T19:23:06.543Z"
   },
   {
    "duration": 10,
    "start_time": "2023-06-03T19:23:06.561Z"
   },
   {
    "duration": 30,
    "start_time": "2023-06-03T19:23:06.572Z"
   },
   {
    "duration": 9,
    "start_time": "2023-06-03T19:23:06.603Z"
   },
   {
    "duration": 3,
    "start_time": "2023-06-03T19:23:06.613Z"
   },
   {
    "duration": 33,
    "start_time": "2023-06-03T19:23:06.617Z"
   },
   {
    "duration": 7,
    "start_time": "2023-06-03T19:23:06.652Z"
   },
   {
    "duration": 7,
    "start_time": "2023-06-03T19:23:06.662Z"
   },
   {
    "duration": 145,
    "start_time": "2023-06-03T19:23:06.670Z"
   },
   {
    "duration": 144,
    "start_time": "2023-06-03T19:23:06.817Z"
   },
   {
    "duration": 354,
    "start_time": "2023-06-03T19:23:06.963Z"
   },
   {
    "duration": 131,
    "start_time": "2023-06-03T19:23:07.319Z"
   },
   {
    "duration": 134,
    "start_time": "2023-06-03T19:23:07.451Z"
   },
   {
    "duration": 161,
    "start_time": "2023-06-03T19:23:07.586Z"
   },
   {
    "duration": 10,
    "start_time": "2023-06-03T19:23:07.748Z"
   },
   {
    "duration": 25,
    "start_time": "2023-06-03T19:23:07.759Z"
   },
   {
    "duration": 5,
    "start_time": "2023-06-03T19:23:07.786Z"
   },
   {
    "duration": 13,
    "start_time": "2023-06-03T19:23:07.793Z"
   },
   {
    "duration": 17,
    "start_time": "2023-06-03T19:23:07.808Z"
   },
   {
    "duration": 11,
    "start_time": "2023-06-03T19:23:07.826Z"
   },
   {
    "duration": 5,
    "start_time": "2023-06-03T19:23:07.839Z"
   },
   {
    "duration": 11,
    "start_time": "2023-06-03T19:23:07.845Z"
   },
   {
    "duration": 156,
    "start_time": "2023-06-03T19:23:07.857Z"
   },
   {
    "duration": 8,
    "start_time": "2023-06-03T19:23:08.015Z"
   },
   {
    "duration": 28,
    "start_time": "2023-06-03T19:23:08.024Z"
   },
   {
    "duration": 68049,
    "start_time": "2023-06-03T19:23:08.055Z"
   },
   {
    "duration": 5,
    "start_time": "2023-06-03T19:24:16.106Z"
   },
   {
    "duration": 4939,
    "start_time": "2023-06-03T19:24:16.113Z"
   },
   {
    "duration": 497,
    "start_time": "2023-06-03T19:24:21.053Z"
   },
   {
    "duration": 6,
    "start_time": "2023-06-03T19:24:21.551Z"
   },
   {
    "duration": 18,
    "start_time": "2023-06-03T19:24:21.558Z"
   },
   {
    "duration": 480107,
    "start_time": "2023-06-03T19:24:21.578Z"
   },
   {
    "duration": 34906,
    "start_time": "2023-06-03T19:32:21.687Z"
   },
   {
    "duration": 5,
    "start_time": "2023-06-03T19:32:56.594Z"
   },
   {
    "duration": 577,
    "start_time": "2023-06-03T19:32:56.600Z"
   },
   {
    "duration": 3,
    "start_time": "2023-06-04T02:19:48.806Z"
   },
   {
    "duration": 91,
    "start_time": "2023-06-04T02:20:55.729Z"
   },
   {
    "duration": 3871,
    "start_time": "2023-06-04T02:21:52.989Z"
   },
   {
    "duration": 70,
    "start_time": "2023-06-04T02:21:56.862Z"
   },
   {
    "duration": 24,
    "start_time": "2023-06-04T02:21:56.934Z"
   },
   {
    "duration": 13,
    "start_time": "2023-06-04T02:21:56.961Z"
   },
   {
    "duration": 95,
    "start_time": "2023-06-04T02:23:33.689Z"
   },
   {
    "duration": 147,
    "start_time": "2023-06-04T02:28:53.872Z"
   },
   {
    "duration": 3560,
    "start_time": "2023-06-04T02:52:12.462Z"
   },
   {
    "duration": 34,
    "start_time": "2023-06-04T02:52:16.024Z"
   },
   {
    "duration": 19,
    "start_time": "2023-06-04T02:52:16.060Z"
   },
   {
    "duration": 12,
    "start_time": "2023-06-04T02:52:16.080Z"
   },
   {
    "duration": 9,
    "start_time": "2023-06-04T02:52:16.094Z"
   },
   {
    "duration": 11,
    "start_time": "2023-06-04T02:52:16.104Z"
   },
   {
    "duration": 5,
    "start_time": "2023-06-04T02:52:16.117Z"
   },
   {
    "duration": 7,
    "start_time": "2023-06-04T02:52:16.124Z"
   },
   {
    "duration": 23,
    "start_time": "2023-06-04T02:52:16.133Z"
   },
   {
    "duration": 15,
    "start_time": "2023-06-04T02:52:16.158Z"
   },
   {
    "duration": 189,
    "start_time": "2023-06-04T02:52:16.174Z"
   },
   {
    "duration": 175,
    "start_time": "2023-06-04T02:52:16.365Z"
   },
   {
    "duration": 369,
    "start_time": "2023-06-04T02:52:16.542Z"
   },
   {
    "duration": 164,
    "start_time": "2023-06-04T02:52:16.914Z"
   },
   {
    "duration": 162,
    "start_time": "2023-06-04T02:52:17.080Z"
   },
   {
    "duration": 182,
    "start_time": "2023-06-04T02:52:17.244Z"
   },
   {
    "duration": 13,
    "start_time": "2023-06-04T02:52:17.429Z"
   },
   {
    "duration": 9,
    "start_time": "2023-06-04T02:52:17.446Z"
   },
   {
    "duration": 21,
    "start_time": "2023-06-04T02:52:17.457Z"
   },
   {
    "duration": 15,
    "start_time": "2023-06-04T02:52:17.480Z"
   },
   {
    "duration": 7,
    "start_time": "2023-06-04T02:52:17.497Z"
   },
   {
    "duration": 21,
    "start_time": "2023-06-04T02:52:17.505Z"
   },
   {
    "duration": 5,
    "start_time": "2023-06-04T02:52:17.528Z"
   },
   {
    "duration": 191,
    "start_time": "2023-06-04T02:52:17.535Z"
   },
   {
    "duration": 15,
    "start_time": "2023-06-04T02:52:17.729Z"
   },
   {
    "duration": 26,
    "start_time": "2023-06-04T02:52:17.746Z"
   },
   {
    "duration": 98348,
    "start_time": "2023-06-04T02:52:17.774Z"
   },
   {
    "duration": 5,
    "start_time": "2023-06-04T02:53:56.125Z"
   },
   {
    "duration": 6842,
    "start_time": "2023-06-04T02:53:56.142Z"
   },
   {
    "duration": 653,
    "start_time": "2023-06-04T02:54:02.986Z"
   },
   {
    "duration": 6,
    "start_time": "2023-06-04T02:54:03.642Z"
   },
   {
    "duration": 14,
    "start_time": "2023-06-04T02:54:03.650Z"
   },
   {
    "duration": 4247,
    "start_time": "2023-06-04T03:03:40.582Z"
   },
   {
    "duration": 41,
    "start_time": "2023-06-04T03:03:44.832Z"
   },
   {
    "duration": 56,
    "start_time": "2023-06-04T03:03:44.875Z"
   },
   {
    "duration": 75,
    "start_time": "2023-06-04T03:03:44.934Z"
   },
   {
    "duration": 124,
    "start_time": "2023-06-04T03:03:45.012Z"
   },
   {
    "duration": 309,
    "start_time": "2023-06-04T03:03:45.138Z"
   },
   {
    "duration": 109,
    "start_time": "2023-06-04T03:03:45.449Z"
   },
   {
    "duration": 96,
    "start_time": "2023-06-04T03:03:45.561Z"
   },
   {
    "duration": 151,
    "start_time": "2023-06-04T03:03:45.660Z"
   },
   {
    "duration": 272,
    "start_time": "2023-06-04T03:03:45.814Z"
   },
   {
    "duration": 302,
    "start_time": "2023-06-04T03:03:46.088Z"
   },
   {
    "duration": 368,
    "start_time": "2023-06-04T03:03:46.393Z"
   },
   {
    "duration": 628,
    "start_time": "2023-06-04T03:03:46.764Z"
   },
   {
    "duration": 188,
    "start_time": "2023-06-04T03:03:47.397Z"
   },
   {
    "duration": 196,
    "start_time": "2023-06-04T03:03:47.588Z"
   },
   {
    "duration": 222,
    "start_time": "2023-06-04T03:03:47.786Z"
   },
   {
    "duration": 3,
    "start_time": "2023-06-04T03:03:48.011Z"
   },
   {
    "duration": 389,
    "start_time": "2023-06-04T03:03:48.016Z"
   },
   {
    "duration": 0,
    "start_time": "2023-06-04T03:03:48.407Z"
   },
   {
    "duration": 0,
    "start_time": "2023-06-04T03:03:48.409Z"
   },
   {
    "duration": 0,
    "start_time": "2023-06-04T03:03:48.410Z"
   },
   {
    "duration": 0,
    "start_time": "2023-06-04T03:03:48.412Z"
   },
   {
    "duration": 0,
    "start_time": "2023-06-04T03:03:48.414Z"
   },
   {
    "duration": 0,
    "start_time": "2023-06-04T03:03:48.416Z"
   },
   {
    "duration": 0,
    "start_time": "2023-06-04T03:03:48.417Z"
   },
   {
    "duration": 0,
    "start_time": "2023-06-04T03:03:48.419Z"
   },
   {
    "duration": 0,
    "start_time": "2023-06-04T03:03:48.443Z"
   },
   {
    "duration": 0,
    "start_time": "2023-06-04T03:03:48.445Z"
   },
   {
    "duration": 0,
    "start_time": "2023-06-04T03:03:48.449Z"
   },
   {
    "duration": 0,
    "start_time": "2023-06-04T03:03:48.450Z"
   },
   {
    "duration": 0,
    "start_time": "2023-06-04T03:03:48.455Z"
   },
   {
    "duration": 0,
    "start_time": "2023-06-04T03:03:48.456Z"
   },
   {
    "duration": 0,
    "start_time": "2023-06-04T03:03:48.456Z"
   },
   {
    "duration": 0,
    "start_time": "2023-06-04T03:03:48.457Z"
   },
   {
    "duration": 0,
    "start_time": "2023-06-04T03:03:48.458Z"
   },
   {
    "duration": 0,
    "start_time": "2023-06-04T03:03:48.458Z"
   },
   {
    "duration": 0,
    "start_time": "2023-06-04T03:03:48.459Z"
   },
   {
    "duration": 24,
    "start_time": "2023-06-04T03:04:05.057Z"
   },
   {
    "duration": 24,
    "start_time": "2023-06-04T03:04:07.783Z"
   },
   {
    "duration": 23,
    "start_time": "2023-06-04T03:04:07.959Z"
   },
   {
    "duration": 23,
    "start_time": "2023-06-04T03:04:08.114Z"
   },
   {
    "duration": 8,
    "start_time": "2023-06-04T03:04:11.001Z"
   },
   {
    "duration": 8,
    "start_time": "2023-06-04T03:04:11.163Z"
   },
   {
    "duration": 16,
    "start_time": "2023-06-04T03:04:11.317Z"
   },
   {
    "duration": 17,
    "start_time": "2023-06-04T03:04:11.462Z"
   },
   {
    "duration": 5,
    "start_time": "2023-06-04T03:04:11.587Z"
   },
   {
    "duration": 15,
    "start_time": "2023-06-04T03:06:42.821Z"
   },
   {
    "duration": 11,
    "start_time": "2023-06-04T03:06:46.755Z"
   },
   {
    "duration": 7,
    "start_time": "2023-06-04T03:07:53.184Z"
   },
   {
    "duration": 7,
    "start_time": "2023-06-04T03:16:14.837Z"
   },
   {
    "duration": 20,
    "start_time": "2023-06-04T03:16:14.969Z"
   },
   {
    "duration": 13,
    "start_time": "2023-06-04T03:16:15.123Z"
   },
   {
    "duration": 7,
    "start_time": "2023-06-04T03:16:41.189Z"
   },
   {
    "duration": 8,
    "start_time": "2023-06-04T03:16:41.394Z"
   },
   {
    "duration": 14,
    "start_time": "2023-06-04T03:16:41.553Z"
   },
   {
    "duration": 3,
    "start_time": "2023-06-04T03:16:43.608Z"
   },
   {
    "duration": 2,
    "start_time": "2023-06-04T03:16:43.916Z"
   },
   {
    "duration": 39,
    "start_time": "2023-06-04T03:16:44.088Z"
   },
   {
    "duration": 3659,
    "start_time": "2023-06-04T03:16:53.990Z"
   },
   {
    "duration": 27,
    "start_time": "2023-06-04T03:16:57.652Z"
   },
   {
    "duration": 21,
    "start_time": "2023-06-04T03:16:57.681Z"
   },
   {
    "duration": 11,
    "start_time": "2023-06-04T03:16:57.705Z"
   },
   {
    "duration": 8,
    "start_time": "2023-06-04T03:16:57.718Z"
   },
   {
    "duration": 56,
    "start_time": "2023-06-04T03:16:57.729Z"
   },
   {
    "duration": 17,
    "start_time": "2023-06-04T03:16:57.787Z"
   },
   {
    "duration": 9,
    "start_time": "2023-06-04T03:16:57.806Z"
   },
   {
    "duration": 12,
    "start_time": "2023-06-04T03:16:57.817Z"
   },
   {
    "duration": 26,
    "start_time": "2023-06-04T03:16:57.830Z"
   },
   {
    "duration": 205,
    "start_time": "2023-06-04T03:16:57.857Z"
   },
   {
    "duration": 185,
    "start_time": "2023-06-04T03:16:58.064Z"
   },
   {
    "duration": 373,
    "start_time": "2023-06-04T03:16:58.250Z"
   },
   {
    "duration": 160,
    "start_time": "2023-06-04T03:16:58.626Z"
   },
   {
    "duration": 161,
    "start_time": "2023-06-04T03:16:58.788Z"
   },
   {
    "duration": 211,
    "start_time": "2023-06-04T03:16:58.951Z"
   },
   {
    "duration": 12,
    "start_time": "2023-06-04T03:16:59.164Z"
   },
   {
    "duration": 17,
    "start_time": "2023-06-04T03:16:59.178Z"
   },
   {
    "duration": 19,
    "start_time": "2023-06-04T03:16:59.197Z"
   },
   {
    "duration": 38,
    "start_time": "2023-06-04T03:16:59.219Z"
   },
   {
    "duration": 16,
    "start_time": "2023-06-04T03:16:59.259Z"
   },
   {
    "duration": 11,
    "start_time": "2023-06-04T03:16:59.278Z"
   },
   {
    "duration": 243,
    "start_time": "2023-06-04T03:16:59.292Z"
   },
   {
    "duration": 4,
    "start_time": "2023-06-04T03:16:59.541Z"
   },
   {
    "duration": 8,
    "start_time": "2023-06-04T03:16:59.547Z"
   },
   {
    "duration": 13,
    "start_time": "2023-06-04T03:16:59.558Z"
   },
   {
    "duration": 13,
    "start_time": "2023-06-04T03:16:59.572Z"
   },
   {
    "duration": 11,
    "start_time": "2023-06-04T03:16:59.586Z"
   },
   {
    "duration": 8,
    "start_time": "2023-06-04T03:16:59.599Z"
   },
   {
    "duration": 376,
    "start_time": "2023-06-04T03:16:59.608Z"
   },
   {
    "duration": 0,
    "start_time": "2023-06-04T03:16:59.985Z"
   },
   {
    "duration": 0,
    "start_time": "2023-06-04T03:16:59.987Z"
   },
   {
    "duration": 0,
    "start_time": "2023-06-04T03:16:59.989Z"
   },
   {
    "duration": 0,
    "start_time": "2023-06-04T03:16:59.989Z"
   },
   {
    "duration": 0,
    "start_time": "2023-06-04T03:16:59.991Z"
   },
   {
    "duration": 0,
    "start_time": "2023-06-04T03:16:59.992Z"
   },
   {
    "duration": 0,
    "start_time": "2023-06-04T03:16:59.993Z"
   },
   {
    "duration": 0,
    "start_time": "2023-06-04T03:16:59.994Z"
   },
   {
    "duration": 0,
    "start_time": "2023-06-04T03:16:59.996Z"
   },
   {
    "duration": 5,
    "start_time": "2023-06-04T03:18:18.435Z"
   },
   {
    "duration": 3593,
    "start_time": "2023-06-04T03:18:30.070Z"
   },
   {
    "duration": 29,
    "start_time": "2023-06-04T03:18:33.665Z"
   },
   {
    "duration": 20,
    "start_time": "2023-06-04T03:18:33.695Z"
   },
   {
    "duration": 13,
    "start_time": "2023-06-04T03:18:33.716Z"
   },
   {
    "duration": 12,
    "start_time": "2023-06-04T03:18:33.732Z"
   },
   {
    "duration": 7,
    "start_time": "2023-06-04T03:18:33.746Z"
   },
   {
    "duration": 12,
    "start_time": "2023-06-04T03:18:33.755Z"
   },
   {
    "duration": 6,
    "start_time": "2023-06-04T03:18:33.769Z"
   },
   {
    "duration": 13,
    "start_time": "2023-06-04T03:18:33.776Z"
   },
   {
    "duration": 11,
    "start_time": "2023-06-04T03:18:33.790Z"
   },
   {
    "duration": 185,
    "start_time": "2023-06-04T03:18:33.802Z"
   },
   {
    "duration": 175,
    "start_time": "2023-06-04T03:18:33.989Z"
   },
   {
    "duration": 357,
    "start_time": "2023-06-04T03:18:34.166Z"
   },
   {
    "duration": 161,
    "start_time": "2023-06-04T03:18:34.527Z"
   },
   {
    "duration": 163,
    "start_time": "2023-06-04T03:18:34.689Z"
   },
   {
    "duration": 191,
    "start_time": "2023-06-04T03:18:34.854Z"
   },
   {
    "duration": 11,
    "start_time": "2023-06-04T03:18:35.046Z"
   },
   {
    "duration": 12,
    "start_time": "2023-06-04T03:18:35.059Z"
   },
   {
    "duration": 14,
    "start_time": "2023-06-04T03:18:35.072Z"
   },
   {
    "duration": 33,
    "start_time": "2023-06-04T03:18:35.087Z"
   },
   {
    "duration": 3,
    "start_time": "2023-06-04T03:18:35.121Z"
   },
   {
    "duration": 6,
    "start_time": "2023-06-04T03:18:35.126Z"
   },
   {
    "duration": 227,
    "start_time": "2023-06-04T03:18:35.142Z"
   },
   {
    "duration": 4,
    "start_time": "2023-06-04T03:18:35.371Z"
   },
   {
    "duration": 8,
    "start_time": "2023-06-04T03:18:35.376Z"
   },
   {
    "duration": 8,
    "start_time": "2023-06-04T03:18:35.386Z"
   },
   {
    "duration": 16,
    "start_time": "2023-06-04T03:18:35.396Z"
   },
   {
    "duration": 11,
    "start_time": "2023-06-04T03:18:35.413Z"
   },
   {
    "duration": 22,
    "start_time": "2023-06-04T03:18:35.441Z"
   },
   {
    "duration": 332,
    "start_time": "2023-06-04T03:18:35.465Z"
   },
   {
    "duration": 0,
    "start_time": "2023-06-04T03:18:35.799Z"
   },
   {
    "duration": 0,
    "start_time": "2023-06-04T03:18:35.800Z"
   },
   {
    "duration": 0,
    "start_time": "2023-06-04T03:18:35.801Z"
   },
   {
    "duration": 0,
    "start_time": "2023-06-04T03:18:35.801Z"
   },
   {
    "duration": 0,
    "start_time": "2023-06-04T03:18:35.802Z"
   },
   {
    "duration": 1,
    "start_time": "2023-06-04T03:18:35.803Z"
   },
   {
    "duration": 0,
    "start_time": "2023-06-04T03:18:35.804Z"
   },
   {
    "duration": 0,
    "start_time": "2023-06-04T03:18:35.805Z"
   },
   {
    "duration": 0,
    "start_time": "2023-06-04T03:18:35.806Z"
   },
   {
    "duration": 3454,
    "start_time": "2023-06-04T03:19:24.715Z"
   },
   {
    "duration": 28,
    "start_time": "2023-06-04T03:19:28.171Z"
   },
   {
    "duration": 19,
    "start_time": "2023-06-04T03:19:28.201Z"
   },
   {
    "duration": 13,
    "start_time": "2023-06-04T03:19:28.222Z"
   },
   {
    "duration": 9,
    "start_time": "2023-06-04T03:19:28.242Z"
   },
   {
    "duration": 15,
    "start_time": "2023-06-04T03:19:28.253Z"
   },
   {
    "duration": 12,
    "start_time": "2023-06-04T03:19:28.270Z"
   },
   {
    "duration": 8,
    "start_time": "2023-06-04T03:19:28.284Z"
   },
   {
    "duration": 9,
    "start_time": "2023-06-04T03:19:28.294Z"
   },
   {
    "duration": 23,
    "start_time": "2023-06-04T03:19:28.305Z"
   },
   {
    "duration": 195,
    "start_time": "2023-06-04T03:19:28.341Z"
   },
   {
    "duration": 168,
    "start_time": "2023-06-04T03:19:28.538Z"
   },
   {
    "duration": 383,
    "start_time": "2023-06-04T03:19:28.707Z"
   },
   {
    "duration": 176,
    "start_time": "2023-06-04T03:19:29.094Z"
   },
   {
    "duration": 159,
    "start_time": "2023-06-04T03:19:29.273Z"
   },
   {
    "duration": 180,
    "start_time": "2023-06-04T03:19:29.434Z"
   },
   {
    "duration": 11,
    "start_time": "2023-06-04T03:19:29.616Z"
   },
   {
    "duration": 7,
    "start_time": "2023-06-04T03:19:29.641Z"
   },
   {
    "duration": 12,
    "start_time": "2023-06-04T03:19:29.649Z"
   },
   {
    "duration": 15,
    "start_time": "2023-06-04T03:19:29.663Z"
   },
   {
    "duration": 20,
    "start_time": "2023-06-04T03:19:29.680Z"
   },
   {
    "duration": 14,
    "start_time": "2023-06-04T03:19:29.702Z"
   },
   {
    "duration": 231,
    "start_time": "2023-06-04T03:19:29.717Z"
   },
   {
    "duration": 41,
    "start_time": "2023-06-04T03:19:29.950Z"
   },
   {
    "duration": 49,
    "start_time": "2023-06-04T03:19:29.993Z"
   },
   {
    "duration": 45,
    "start_time": "2023-06-04T03:19:30.044Z"
   },
   {
    "duration": 45,
    "start_time": "2023-06-04T03:19:30.091Z"
   },
   {
    "duration": 23,
    "start_time": "2023-06-04T03:19:30.138Z"
   },
   {
    "duration": 32,
    "start_time": "2023-06-04T03:19:30.163Z"
   },
   {
    "duration": 96003,
    "start_time": "2023-06-04T03:19:30.197Z"
   },
   {
    "duration": 5,
    "start_time": "2023-06-04T03:21:06.202Z"
   },
   {
    "duration": 6886,
    "start_time": "2023-06-04T03:21:06.209Z"
   },
   {
    "duration": 599,
    "start_time": "2023-06-04T03:21:13.097Z"
   },
   {
    "duration": 6,
    "start_time": "2023-06-04T03:21:13.698Z"
   },
   {
    "duration": 10,
    "start_time": "2023-06-04T03:21:13.706Z"
   },
   {
    "duration": 3647,
    "start_time": "2023-06-04T03:26:18.814Z"
   },
   {
    "duration": 40,
    "start_time": "2023-06-04T03:26:22.463Z"
   },
   {
    "duration": 22,
    "start_time": "2023-06-04T03:26:22.504Z"
   },
   {
    "duration": 12,
    "start_time": "2023-06-04T03:26:22.528Z"
   },
   {
    "duration": 5,
    "start_time": "2023-06-04T03:26:22.542Z"
   },
   {
    "duration": 10,
    "start_time": "2023-06-04T03:26:22.548Z"
   },
   {
    "duration": 2,
    "start_time": "2023-06-04T03:26:22.560Z"
   },
   {
    "duration": 9,
    "start_time": "2023-06-04T03:26:22.564Z"
   },
   {
    "duration": 6,
    "start_time": "2023-06-04T03:26:22.575Z"
   },
   {
    "duration": 9,
    "start_time": "2023-06-04T03:26:22.582Z"
   },
   {
    "duration": 204,
    "start_time": "2023-06-04T03:26:22.592Z"
   },
   {
    "duration": 176,
    "start_time": "2023-06-04T03:26:22.798Z"
   },
   {
    "duration": 352,
    "start_time": "2023-06-04T03:26:22.976Z"
   },
   {
    "duration": 157,
    "start_time": "2023-06-04T03:26:23.331Z"
   },
   {
    "duration": 148,
    "start_time": "2023-06-04T03:26:23.490Z"
   },
   {
    "duration": 177,
    "start_time": "2023-06-04T03:26:23.642Z"
   },
   {
    "duration": 11,
    "start_time": "2023-06-04T03:26:23.821Z"
   },
   {
    "duration": 312,
    "start_time": "2023-06-04T03:26:23.842Z"
   },
   {
    "duration": 0,
    "start_time": "2023-06-04T03:26:24.156Z"
   },
   {
    "duration": 0,
    "start_time": "2023-06-04T03:26:24.160Z"
   },
   {
    "duration": 0,
    "start_time": "2023-06-04T03:26:24.161Z"
   },
   {
    "duration": 0,
    "start_time": "2023-06-04T03:26:24.162Z"
   },
   {
    "duration": 0,
    "start_time": "2023-06-04T03:26:24.164Z"
   },
   {
    "duration": 0,
    "start_time": "2023-06-04T03:26:24.165Z"
   },
   {
    "duration": 0,
    "start_time": "2023-06-04T03:26:24.166Z"
   },
   {
    "duration": 0,
    "start_time": "2023-06-04T03:26:24.168Z"
   },
   {
    "duration": 0,
    "start_time": "2023-06-04T03:26:24.170Z"
   },
   {
    "duration": 0,
    "start_time": "2023-06-04T03:26:24.171Z"
   },
   {
    "duration": 0,
    "start_time": "2023-06-04T03:26:24.173Z"
   },
   {
    "duration": 0,
    "start_time": "2023-06-04T03:26:24.174Z"
   },
   {
    "duration": 0,
    "start_time": "2023-06-04T03:26:24.175Z"
   },
   {
    "duration": 0,
    "start_time": "2023-06-04T03:26:24.177Z"
   },
   {
    "duration": 0,
    "start_time": "2023-06-04T03:26:24.178Z"
   },
   {
    "duration": 0,
    "start_time": "2023-06-04T03:26:24.179Z"
   },
   {
    "duration": 0,
    "start_time": "2023-06-04T03:26:24.180Z"
   },
   {
    "duration": 0,
    "start_time": "2023-06-04T03:26:24.181Z"
   },
   {
    "duration": 0,
    "start_time": "2023-06-04T03:26:24.426Z"
   },
   {
    "duration": 0,
    "start_time": "2023-06-04T03:26:24.428Z"
   },
   {
    "duration": 0,
    "start_time": "2023-06-04T03:26:24.429Z"
   },
   {
    "duration": 12,
    "start_time": "2023-06-04T03:27:12.922Z"
   },
   {
    "duration": 21,
    "start_time": "2023-06-04T03:27:14.353Z"
   },
   {
    "duration": 7,
    "start_time": "2023-06-04T03:27:25.713Z"
   },
   {
    "duration": 7,
    "start_time": "2023-06-04T03:27:26.720Z"
   },
   {
    "duration": 13,
    "start_time": "2023-06-04T03:27:27.847Z"
   },
   {
    "duration": 2,
    "start_time": "2023-06-04T03:27:38.008Z"
   },
   {
    "duration": 2,
    "start_time": "2023-06-04T03:27:38.466Z"
   },
   {
    "duration": 37,
    "start_time": "2023-06-04T03:27:38.471Z"
   },
   {
    "duration": 14,
    "start_time": "2023-06-04T03:27:38.510Z"
   },
   {
    "duration": 3,
    "start_time": "2023-06-04T03:27:42.733Z"
   },
   {
    "duration": 3,
    "start_time": "2023-06-04T03:27:45.838Z"
   },
   {
    "duration": 4,
    "start_time": "2023-06-04T03:27:46.017Z"
   },
   {
    "duration": 6,
    "start_time": "2023-06-04T03:27:46.169Z"
   },
   {
    "duration": 9,
    "start_time": "2023-06-04T03:27:46.443Z"
   },
   {
    "duration": 94960,
    "start_time": "2023-06-04T03:27:46.612Z"
   },
   {
    "duration": 5,
    "start_time": "2023-06-04T03:29:21.574Z"
   },
   {
    "duration": 6785,
    "start_time": "2023-06-04T03:29:21.580Z"
   },
   {
    "duration": 646,
    "start_time": "2023-06-04T03:29:28.367Z"
   },
   {
    "duration": 6,
    "start_time": "2023-06-04T03:29:29.015Z"
   },
   {
    "duration": 21,
    "start_time": "2023-06-04T03:29:29.022Z"
   },
   {
    "duration": 3569,
    "start_time": "2023-06-04T03:30:49.552Z"
   },
   {
    "duration": 28,
    "start_time": "2023-06-04T03:30:53.123Z"
   },
   {
    "duration": 20,
    "start_time": "2023-06-04T03:30:53.153Z"
   },
   {
    "duration": 13,
    "start_time": "2023-06-04T03:30:53.175Z"
   },
   {
    "duration": 6,
    "start_time": "2023-06-04T03:30:53.192Z"
   },
   {
    "duration": 12,
    "start_time": "2023-06-04T03:30:53.200Z"
   },
   {
    "duration": 29,
    "start_time": "2023-06-04T03:30:53.213Z"
   },
   {
    "duration": 5,
    "start_time": "2023-06-04T03:30:53.244Z"
   },
   {
    "duration": 8,
    "start_time": "2023-06-04T03:30:53.250Z"
   },
   {
    "duration": 9,
    "start_time": "2023-06-04T03:30:53.260Z"
   },
   {
    "duration": 18,
    "start_time": "2023-06-04T03:30:53.271Z"
   },
   {
    "duration": 195,
    "start_time": "2023-06-04T03:30:53.290Z"
   },
   {
    "duration": 175,
    "start_time": "2023-06-04T03:30:53.487Z"
   },
   {
    "duration": 360,
    "start_time": "2023-06-04T03:30:53.665Z"
   },
   {
    "duration": 195,
    "start_time": "2023-06-04T03:30:54.027Z"
   },
   {
    "duration": 172,
    "start_time": "2023-06-04T03:30:54.224Z"
   },
   {
    "duration": 207,
    "start_time": "2023-06-04T03:30:54.398Z"
   },
   {
    "duration": 12,
    "start_time": "2023-06-04T03:30:54.606Z"
   },
   {
    "duration": 25,
    "start_time": "2023-06-04T03:30:54.620Z"
   },
   {
    "duration": 7,
    "start_time": "2023-06-04T03:30:54.647Z"
   },
   {
    "duration": 230,
    "start_time": "2023-06-04T03:30:54.656Z"
   },
   {
    "duration": 3,
    "start_time": "2023-06-04T03:30:54.888Z"
   },
   {
    "duration": 15,
    "start_time": "2023-06-04T03:30:54.893Z"
   },
   {
    "duration": 39,
    "start_time": "2023-06-04T03:30:54.911Z"
   },
   {
    "duration": 7,
    "start_time": "2023-06-04T03:30:54.953Z"
   },
   {
    "duration": 9,
    "start_time": "2023-06-04T03:30:54.962Z"
   },
   {
    "duration": 5,
    "start_time": "2023-06-04T03:30:54.973Z"
   },
   {
    "duration": 7,
    "start_time": "2023-06-04T03:30:54.979Z"
   },
   {
    "duration": 7,
    "start_time": "2023-06-04T03:30:54.987Z"
   },
   {
    "duration": 12,
    "start_time": "2023-06-04T03:30:54.995Z"
   },
   {
    "duration": 94191,
    "start_time": "2023-06-04T03:30:55.009Z"
   },
   {
    "duration": 5,
    "start_time": "2023-06-04T03:32:29.201Z"
   },
   {
    "duration": 6749,
    "start_time": "2023-06-04T03:32:29.209Z"
   },
   {
    "duration": 647,
    "start_time": "2023-06-04T03:32:35.960Z"
   },
   {
    "duration": 6,
    "start_time": "2023-06-04T03:32:36.608Z"
   },
   {
    "duration": 12,
    "start_time": "2023-06-04T03:32:36.615Z"
   },
   {
    "duration": 27315,
    "start_time": "2023-06-04T03:32:36.628Z"
   },
   {
    "duration": 0,
    "start_time": "2023-06-04T03:33:03.945Z"
   },
   {
    "duration": 0,
    "start_time": "2023-06-04T03:33:03.946Z"
   },
   {
    "duration": 0,
    "start_time": "2023-06-04T03:33:03.948Z"
   },
   {
    "duration": 0,
    "start_time": "2023-06-04T03:33:03.949Z"
   },
   {
    "duration": 4,
    "start_time": "2023-06-04T03:33:10.728Z"
   },
   {
    "duration": 27,
    "start_time": "2023-06-04T03:33:11.339Z"
   },
   {
    "duration": 16,
    "start_time": "2023-06-04T03:33:11.800Z"
   },
   {
    "duration": 11,
    "start_time": "2023-06-04T03:33:12.383Z"
   },
   {
    "duration": 4,
    "start_time": "2023-06-04T03:33:13.936Z"
   },
   {
    "duration": 7,
    "start_time": "2023-06-04T03:33:14.699Z"
   },
   {
    "duration": 2,
    "start_time": "2023-06-04T03:33:15.488Z"
   },
   {
    "duration": 5,
    "start_time": "2023-06-04T03:33:16.280Z"
   },
   {
    "duration": 3581,
    "start_time": "2023-06-04T03:33:30.007Z"
   },
   {
    "duration": 28,
    "start_time": "2023-06-04T03:33:33.590Z"
   },
   {
    "duration": 19,
    "start_time": "2023-06-04T03:33:33.620Z"
   },
   {
    "duration": 11,
    "start_time": "2023-06-04T03:33:33.641Z"
   },
   {
    "duration": 5,
    "start_time": "2023-06-04T03:33:39.263Z"
   },
   {
    "duration": 6,
    "start_time": "2023-06-04T03:33:39.887Z"
   },
   {
    "duration": 3,
    "start_time": "2023-06-04T03:33:40.234Z"
   },
   {
    "duration": 5,
    "start_time": "2023-06-04T03:33:41.023Z"
   },
   {
    "duration": 6,
    "start_time": "2023-06-04T03:33:42.563Z"
   },
   {
    "duration": 7,
    "start_time": "2023-06-04T03:33:50.596Z"
   },
   {
    "duration": 6,
    "start_time": "2023-06-04T03:34:20.277Z"
   },
   {
    "duration": 6,
    "start_time": "2023-06-04T03:39:05.394Z"
   },
   {
    "duration": 7,
    "start_time": "2023-06-04T03:39:05.632Z"
   },
   {
    "duration": 4,
    "start_time": "2023-06-04T03:39:24.183Z"
   },
   {
    "duration": 26,
    "start_time": "2023-06-04T03:39:24.310Z"
   },
   {
    "duration": 15,
    "start_time": "2023-06-04T03:39:24.462Z"
   },
   {
    "duration": 13,
    "start_time": "2023-06-04T03:39:24.601Z"
   },
   {
    "duration": 5,
    "start_time": "2023-06-04T03:39:25.481Z"
   },
   {
    "duration": 7,
    "start_time": "2023-06-04T03:39:25.731Z"
   },
   {
    "duration": 2,
    "start_time": "2023-06-04T03:39:25.991Z"
   },
   {
    "duration": 6,
    "start_time": "2023-06-04T03:39:26.542Z"
   },
   {
    "duration": 5,
    "start_time": "2023-06-04T03:39:27.508Z"
   },
   {
    "duration": 7,
    "start_time": "2023-06-04T03:39:27.550Z"
   },
   {
    "duration": 14,
    "start_time": "2023-06-04T03:39:32.638Z"
   },
   {
    "duration": 177,
    "start_time": "2023-06-04T03:39:35.672Z"
   },
   {
    "duration": 161,
    "start_time": "2023-06-04T03:39:36.063Z"
   },
   {
    "duration": 353,
    "start_time": "2023-06-04T03:39:36.947Z"
   },
   {
    "duration": 157,
    "start_time": "2023-06-04T03:39:37.746Z"
   },
   {
    "duration": 151,
    "start_time": "2023-06-04T03:39:38.479Z"
   },
   {
    "duration": 175,
    "start_time": "2023-06-04T03:39:40.934Z"
   },
   {
    "duration": 12,
    "start_time": "2023-06-04T03:39:42.760Z"
   },
   {
    "duration": 9,
    "start_time": "2023-06-04T03:39:43.204Z"
   },
   {
    "duration": 303,
    "start_time": "2023-06-04T03:39:43.561Z"
   },
   {
    "duration": 4,
    "start_time": "2023-06-04T03:40:24.112Z"
   },
   {
    "duration": 26,
    "start_time": "2023-06-04T03:40:24.235Z"
   },
   {
    "duration": 16,
    "start_time": "2023-06-04T03:40:24.352Z"
   },
   {
    "duration": 11,
    "start_time": "2023-06-04T03:40:24.518Z"
   },
   {
    "duration": 4,
    "start_time": "2023-06-04T03:40:25.097Z"
   },
   {
    "duration": 7,
    "start_time": "2023-06-04T03:40:25.394Z"
   },
   {
    "duration": 2,
    "start_time": "2023-06-04T03:40:25.716Z"
   },
   {
    "duration": 6,
    "start_time": "2023-06-04T03:40:26.022Z"
   },
   {
    "duration": 201,
    "start_time": "2023-06-04T03:40:26.186Z"
   },
   {
    "duration": 12,
    "start_time": "2023-06-04T03:40:26.390Z"
   },
   {
    "duration": 16,
    "start_time": "2023-06-04T03:40:26.476Z"
   },
   {
    "duration": 164,
    "start_time": "2023-06-04T03:40:26.788Z"
   },
   {
    "duration": 158,
    "start_time": "2023-06-04T03:40:27.096Z"
   },
   {
    "duration": 360,
    "start_time": "2023-06-04T03:40:27.439Z"
   },
   {
    "duration": 167,
    "start_time": "2023-06-04T03:40:27.802Z"
   },
   {
    "duration": 140,
    "start_time": "2023-06-04T03:40:28.118Z"
   },
   {
    "duration": 175,
    "start_time": "2023-06-04T03:40:28.477Z"
   },
   {
    "duration": 12,
    "start_time": "2023-06-04T03:40:29.330Z"
   },
   {
    "duration": 2,
    "start_time": "2023-06-04T03:40:29.529Z"
   },
   {
    "duration": 21,
    "start_time": "2023-06-04T03:40:29.689Z"
   },
   {
    "duration": 3,
    "start_time": "2023-06-04T03:40:30.005Z"
   },
   {
    "duration": 7,
    "start_time": "2023-06-04T03:40:30.173Z"
   },
   {
    "duration": 9,
    "start_time": "2023-06-04T03:40:49.013Z"
   },
   {
    "duration": 2,
    "start_time": "2023-06-04T03:40:49.402Z"
   },
   {
    "duration": 3,
    "start_time": "2023-06-04T03:40:49.783Z"
   },
   {
    "duration": 7,
    "start_time": "2023-06-04T03:40:50.199Z"
   },
   {
    "duration": 15,
    "start_time": "2023-06-04T03:40:50.636Z"
   },
   {
    "duration": 3,
    "start_time": "2023-06-04T03:40:51.132Z"
   },
   {
    "duration": 3,
    "start_time": "2023-06-04T03:40:51.499Z"
   },
   {
    "duration": 28,
    "start_time": "2023-06-04T03:40:51.950Z"
   },
   {
    "duration": 5,
    "start_time": "2023-06-04T03:40:53.816Z"
   },
   {
    "duration": 4,
    "start_time": "2023-06-04T03:40:56.308Z"
   },
   {
    "duration": 3,
    "start_time": "2023-06-04T03:40:56.422Z"
   },
   {
    "duration": 5,
    "start_time": "2023-06-04T03:40:56.594Z"
   },
   {
    "duration": 6,
    "start_time": "2023-06-04T03:40:56.799Z"
   },
   {
    "duration": 10,
    "start_time": "2023-06-04T03:40:57.691Z"
   },
   {
    "duration": 44,
    "start_time": "2023-06-04T03:40:57.873Z"
   },
   {
    "duration": 3,
    "start_time": "2023-06-04T03:41:08.818Z"
   },
   {
    "duration": 5,
    "start_time": "2023-06-04T03:41:09.320Z"
   },
   {
    "duration": 6,
    "start_time": "2023-06-04T03:41:09.485Z"
   },
   {
    "duration": 9,
    "start_time": "2023-06-04T03:41:09.762Z"
   },
   {
    "duration": 96505,
    "start_time": "2023-06-04T03:41:09.898Z"
   },
   {
    "duration": 5,
    "start_time": "2023-06-04T03:49:21.635Z"
   },
   {
    "duration": 20,
    "start_time": "2023-06-04T03:49:22.581Z"
   },
   {
    "duration": 3,
    "start_time": "2023-06-04T03:49:23.082Z"
   },
   {
    "duration": 3602,
    "start_time": "2023-06-04T03:49:35.232Z"
   },
   {
    "duration": 28,
    "start_time": "2023-06-04T03:49:38.836Z"
   },
   {
    "duration": 19,
    "start_time": "2023-06-04T03:49:38.865Z"
   },
   {
    "duration": 17,
    "start_time": "2023-06-04T03:49:38.886Z"
   },
   {
    "duration": 6,
    "start_time": "2023-06-04T03:49:38.905Z"
   },
   {
    "duration": 8,
    "start_time": "2023-06-04T03:49:38.912Z"
   },
   {
    "duration": 6,
    "start_time": "2023-06-04T03:49:38.921Z"
   },
   {
    "duration": 17,
    "start_time": "2023-06-04T03:49:38.928Z"
   },
   {
    "duration": 9,
    "start_time": "2023-06-04T03:49:38.946Z"
   },
   {
    "duration": 19,
    "start_time": "2023-06-04T03:49:38.956Z"
   },
   {
    "duration": 21,
    "start_time": "2023-06-04T03:49:38.977Z"
   },
   {
    "duration": 187,
    "start_time": "2023-06-04T03:49:38.999Z"
   },
   {
    "duration": 189,
    "start_time": "2023-06-04T03:49:39.188Z"
   },
   {
    "duration": 354,
    "start_time": "2023-06-04T03:49:39.380Z"
   },
   {
    "duration": 177,
    "start_time": "2023-06-04T03:49:39.736Z"
   },
   {
    "duration": 170,
    "start_time": "2023-06-04T03:49:39.915Z"
   },
   {
    "duration": 201,
    "start_time": "2023-06-04T03:49:40.087Z"
   },
   {
    "duration": 11,
    "start_time": "2023-06-04T03:49:40.290Z"
   },
   {
    "duration": 16,
    "start_time": "2023-06-04T03:49:40.303Z"
   },
   {
    "duration": 28,
    "start_time": "2023-06-04T03:49:40.320Z"
   },
   {
    "duration": 8,
    "start_time": "2023-06-04T03:49:40.351Z"
   },
   {
    "duration": 9,
    "start_time": "2023-06-04T03:49:40.361Z"
   },
   {
    "duration": 213,
    "start_time": "2023-06-04T03:49:40.372Z"
   },
   {
    "duration": 20,
    "start_time": "2023-06-04T03:49:40.587Z"
   },
   {
    "duration": 7,
    "start_time": "2023-06-04T03:49:40.609Z"
   },
   {
    "duration": 32,
    "start_time": "2023-06-04T03:49:40.618Z"
   },
   {
    "duration": 18,
    "start_time": "2023-06-04T03:49:40.652Z"
   },
   {
    "duration": 22,
    "start_time": "2023-06-04T03:49:40.671Z"
   },
   {
    "duration": 13,
    "start_time": "2023-06-04T03:49:40.694Z"
   },
   {
    "duration": 12,
    "start_time": "2023-06-04T03:49:40.709Z"
   },
   {
    "duration": 282,
    "start_time": "2023-06-04T03:49:40.722Z"
   },
   {
    "duration": 0,
    "start_time": "2023-06-04T03:49:41.006Z"
   },
   {
    "duration": 0,
    "start_time": "2023-06-04T03:49:41.008Z"
   },
   {
    "duration": 0,
    "start_time": "2023-06-04T03:49:41.009Z"
   },
   {
    "duration": 0,
    "start_time": "2023-06-04T03:49:41.011Z"
   },
   {
    "duration": 0,
    "start_time": "2023-06-04T03:49:41.013Z"
   },
   {
    "duration": 0,
    "start_time": "2023-06-04T03:49:41.014Z"
   },
   {
    "duration": 0,
    "start_time": "2023-06-04T03:49:41.016Z"
   },
   {
    "duration": 0,
    "start_time": "2023-06-04T03:49:41.017Z"
   },
   {
    "duration": 0,
    "start_time": "2023-06-04T03:49:41.018Z"
   },
   {
    "duration": 0,
    "start_time": "2023-06-04T03:49:41.043Z"
   },
   {
    "duration": 0,
    "start_time": "2023-06-04T03:49:41.045Z"
   },
   {
    "duration": 0,
    "start_time": "2023-06-04T03:49:41.046Z"
   },
   {
    "duration": 5,
    "start_time": "2023-06-04T03:49:57.745Z"
   },
   {
    "duration": 3,
    "start_time": "2023-06-04T03:50:00.116Z"
   },
   {
    "duration": 6,
    "start_time": "2023-06-04T03:50:00.496Z"
   },
   {
    "duration": 18,
    "start_time": "2023-06-04T03:50:11.496Z"
   },
   {
    "duration": 19,
    "start_time": "2023-06-04T03:50:18.433Z"
   },
   {
    "duration": 20,
    "start_time": "2023-06-04T03:52:40.361Z"
   },
   {
    "duration": 3562,
    "start_time": "2023-06-04T03:52:50.931Z"
   },
   {
    "duration": 28,
    "start_time": "2023-06-04T03:52:54.495Z"
   },
   {
    "duration": 20,
    "start_time": "2023-06-04T03:52:54.525Z"
   },
   {
    "duration": 12,
    "start_time": "2023-06-04T03:52:54.546Z"
   },
   {
    "duration": 17,
    "start_time": "2023-06-04T03:52:54.560Z"
   },
   {
    "duration": 9,
    "start_time": "2023-06-04T03:52:54.579Z"
   },
   {
    "duration": 19,
    "start_time": "2023-06-04T03:52:54.589Z"
   },
   {
    "duration": 11,
    "start_time": "2023-06-04T03:52:54.609Z"
   },
   {
    "duration": 15,
    "start_time": "2023-06-04T03:52:54.621Z"
   },
   {
    "duration": 8,
    "start_time": "2023-06-04T03:52:54.637Z"
   },
   {
    "duration": 17,
    "start_time": "2023-06-04T03:52:54.646Z"
   },
   {
    "duration": 180,
    "start_time": "2023-06-04T03:52:54.665Z"
   },
   {
    "duration": 164,
    "start_time": "2023-06-04T03:52:54.846Z"
   },
   {
    "duration": 389,
    "start_time": "2023-06-04T03:52:55.013Z"
   },
   {
    "duration": 169,
    "start_time": "2023-06-04T03:52:55.403Z"
   },
   {
    "duration": 158,
    "start_time": "2023-06-04T03:52:55.573Z"
   },
   {
    "duration": 182,
    "start_time": "2023-06-04T03:52:55.732Z"
   },
   {
    "duration": 10,
    "start_time": "2023-06-04T03:52:55.916Z"
   },
   {
    "duration": 8,
    "start_time": "2023-06-04T03:52:55.941Z"
   },
   {
    "duration": 5,
    "start_time": "2023-06-04T03:52:55.951Z"
   },
   {
    "duration": 5,
    "start_time": "2023-06-04T03:52:55.957Z"
   },
   {
    "duration": 8,
    "start_time": "2023-06-04T03:52:55.963Z"
   },
   {
    "duration": 233,
    "start_time": "2023-06-04T03:52:55.973Z"
   },
   {
    "duration": 23,
    "start_time": "2023-06-04T03:52:56.207Z"
   },
   {
    "duration": 31,
    "start_time": "2023-06-04T03:52:56.232Z"
   },
   {
    "duration": 46,
    "start_time": "2023-06-04T03:52:56.265Z"
   },
   {
    "duration": 38,
    "start_time": "2023-06-04T03:52:56.313Z"
   },
   {
    "duration": 18,
    "start_time": "2023-06-04T03:52:56.352Z"
   },
   {
    "duration": 14,
    "start_time": "2023-06-04T03:52:56.372Z"
   },
   {
    "duration": 16,
    "start_time": "2023-06-04T03:52:56.388Z"
   },
   {
    "duration": 28,
    "start_time": "2023-06-04T03:52:56.406Z"
   },
   {
    "duration": 24,
    "start_time": "2023-06-04T03:52:56.437Z"
   },
   {
    "duration": 315,
    "start_time": "2023-06-04T03:52:56.463Z"
   },
   {
    "duration": 0,
    "start_time": "2023-06-04T03:52:56.780Z"
   },
   {
    "duration": 0,
    "start_time": "2023-06-04T03:52:56.782Z"
   },
   {
    "duration": 0,
    "start_time": "2023-06-04T03:52:56.783Z"
   },
   {
    "duration": 0,
    "start_time": "2023-06-04T03:52:56.784Z"
   },
   {
    "duration": 0,
    "start_time": "2023-06-04T03:52:56.785Z"
   },
   {
    "duration": 0,
    "start_time": "2023-06-04T03:52:56.786Z"
   },
   {
    "duration": 0,
    "start_time": "2023-06-04T03:52:56.788Z"
   },
   {
    "duration": 0,
    "start_time": "2023-06-04T03:52:56.789Z"
   },
   {
    "duration": 0,
    "start_time": "2023-06-04T03:52:56.790Z"
   },
   {
    "duration": 0,
    "start_time": "2023-06-04T03:52:56.791Z"
   },
   {
    "duration": 0,
    "start_time": "2023-06-04T03:52:56.792Z"
   },
   {
    "duration": 0,
    "start_time": "2023-06-04T03:52:56.793Z"
   },
   {
    "duration": 28727,
    "start_time": "2023-06-04T03:54:57.851Z"
   },
   {
    "duration": 3475,
    "start_time": "2023-06-04T03:55:26.580Z"
   },
   {
    "duration": 28,
    "start_time": "2023-06-04T03:55:30.057Z"
   },
   {
    "duration": 61,
    "start_time": "2023-06-04T03:55:30.087Z"
   },
   {
    "duration": 18,
    "start_time": "2023-06-04T03:55:30.152Z"
   },
   {
    "duration": 24,
    "start_time": "2023-06-04T03:55:30.172Z"
   },
   {
    "duration": 23,
    "start_time": "2023-06-04T03:55:30.198Z"
   },
   {
    "duration": 27,
    "start_time": "2023-06-04T03:55:30.224Z"
   },
   {
    "duration": 26,
    "start_time": "2023-06-04T03:55:30.253Z"
   },
   {
    "duration": 31,
    "start_time": "2023-06-04T03:55:30.281Z"
   },
   {
    "duration": 36,
    "start_time": "2023-06-04T03:55:30.313Z"
   },
   {
    "duration": 47,
    "start_time": "2023-06-04T03:55:30.351Z"
   },
   {
    "duration": 184,
    "start_time": "2023-06-04T03:55:30.400Z"
   },
   {
    "duration": 177,
    "start_time": "2023-06-04T03:55:30.588Z"
   },
   {
    "duration": 350,
    "start_time": "2023-06-04T03:55:30.767Z"
   },
   {
    "duration": 173,
    "start_time": "2023-06-04T03:55:31.119Z"
   },
   {
    "duration": 154,
    "start_time": "2023-06-04T03:55:31.293Z"
   },
   {
    "duration": 174,
    "start_time": "2023-06-04T03:55:31.449Z"
   },
   {
    "duration": 21,
    "start_time": "2023-06-04T03:55:31.624Z"
   },
   {
    "duration": 16,
    "start_time": "2023-06-04T03:55:31.647Z"
   },
   {
    "duration": 18,
    "start_time": "2023-06-04T03:55:31.665Z"
   },
   {
    "duration": 7,
    "start_time": "2023-06-04T03:55:31.684Z"
   },
   {
    "duration": 13,
    "start_time": "2023-06-04T03:55:31.692Z"
   },
   {
    "duration": 217,
    "start_time": "2023-06-04T03:55:31.706Z"
   },
   {
    "duration": 6,
    "start_time": "2023-06-04T03:55:31.925Z"
   },
   {
    "duration": 10,
    "start_time": "2023-06-04T03:55:31.932Z"
   },
   {
    "duration": 51,
    "start_time": "2023-06-04T03:55:31.944Z"
   },
   {
    "duration": 15,
    "start_time": "2023-06-04T03:55:31.997Z"
   },
   {
    "duration": 21,
    "start_time": "2023-06-04T03:55:32.014Z"
   },
   {
    "duration": 27,
    "start_time": "2023-06-04T03:55:32.036Z"
   },
   {
    "duration": 25,
    "start_time": "2023-06-04T03:55:32.064Z"
   },
   {
    "duration": 14,
    "start_time": "2023-06-04T03:55:32.090Z"
   },
   {
    "duration": 14,
    "start_time": "2023-06-04T03:55:32.106Z"
   },
   {
    "duration": 20,
    "start_time": "2023-06-04T03:55:32.123Z"
   },
   {
    "duration": 287,
    "start_time": "2023-06-04T03:55:32.145Z"
   },
   {
    "duration": 0,
    "start_time": "2023-06-04T03:55:32.434Z"
   },
   {
    "duration": 0,
    "start_time": "2023-06-04T03:55:32.442Z"
   },
   {
    "duration": 0,
    "start_time": "2023-06-04T03:55:32.443Z"
   },
   {
    "duration": 0,
    "start_time": "2023-06-04T03:55:32.444Z"
   },
   {
    "duration": 0,
    "start_time": "2023-06-04T03:55:32.445Z"
   },
   {
    "duration": 0,
    "start_time": "2023-06-04T03:55:32.446Z"
   },
   {
    "duration": 0,
    "start_time": "2023-06-04T03:55:32.447Z"
   },
   {
    "duration": 0,
    "start_time": "2023-06-04T03:55:32.448Z"
   },
   {
    "duration": 0,
    "start_time": "2023-06-04T03:55:32.449Z"
   },
   {
    "duration": 0,
    "start_time": "2023-06-04T03:55:32.450Z"
   },
   {
    "duration": 0,
    "start_time": "2023-06-04T03:55:32.451Z"
   },
   {
    "duration": 0,
    "start_time": "2023-06-04T03:55:32.452Z"
   },
   {
    "duration": 9197,
    "start_time": "2023-06-04T03:56:53.409Z"
   },
   {
    "duration": 6,
    "start_time": "2023-06-04T03:57:13.255Z"
   },
   {
    "duration": 26,
    "start_time": "2023-06-04T03:57:13.550Z"
   },
   {
    "duration": 4,
    "start_time": "2023-06-04T03:57:44.754Z"
   },
   {
    "duration": 6,
    "start_time": "2023-06-04T03:57:50.927Z"
   },
   {
    "duration": 28,
    "start_time": "2023-06-04T03:57:51.564Z"
   },
   {
    "duration": 6,
    "start_time": "2023-06-04T03:58:05.276Z"
   },
   {
    "duration": 691,
    "start_time": "2023-06-04T03:58:05.918Z"
   },
   {
    "duration": 5,
    "start_time": "2023-06-04T03:59:13.293Z"
   },
   {
    "duration": 2,
    "start_time": "2023-06-04T03:59:26.157Z"
   },
   {
    "duration": 19,
    "start_time": "2023-06-04T03:59:38.998Z"
   },
   {
    "duration": 3523,
    "start_time": "2023-06-04T04:04:04.095Z"
   },
   {
    "duration": 30,
    "start_time": "2023-06-04T04:04:07.620Z"
   },
   {
    "duration": 20,
    "start_time": "2023-06-04T04:04:07.652Z"
   },
   {
    "duration": 12,
    "start_time": "2023-06-04T04:04:07.674Z"
   },
   {
    "duration": 10,
    "start_time": "2023-06-04T04:04:07.689Z"
   },
   {
    "duration": 11,
    "start_time": "2023-06-04T04:04:07.700Z"
   },
   {
    "duration": 8,
    "start_time": "2023-06-04T04:04:07.712Z"
   },
   {
    "duration": 7,
    "start_time": "2023-06-04T04:04:07.742Z"
   },
   {
    "duration": 25,
    "start_time": "2023-06-04T04:04:07.751Z"
   },
   {
    "duration": 13,
    "start_time": "2023-06-04T04:04:07.778Z"
   },
   {
    "duration": 33,
    "start_time": "2023-06-04T04:04:07.793Z"
   },
   {
    "duration": 192,
    "start_time": "2023-06-04T04:04:07.828Z"
   },
   {
    "duration": 183,
    "start_time": "2023-06-04T04:04:08.022Z"
   },
   {
    "duration": 428,
    "start_time": "2023-06-04T04:04:08.210Z"
   },
   {
    "duration": 195,
    "start_time": "2023-06-04T04:04:08.643Z"
   },
   {
    "duration": 164,
    "start_time": "2023-06-04T04:04:08.842Z"
   },
   {
    "duration": 203,
    "start_time": "2023-06-04T04:04:09.009Z"
   },
   {
    "duration": 14,
    "start_time": "2023-06-04T04:04:09.213Z"
   },
   {
    "duration": 14,
    "start_time": "2023-06-04T04:04:09.242Z"
   },
   {
    "duration": 9,
    "start_time": "2023-06-04T04:04:09.258Z"
   },
   {
    "duration": 20,
    "start_time": "2023-06-04T04:04:09.268Z"
   },
   {
    "duration": 15,
    "start_time": "2023-06-04T04:04:09.289Z"
   },
   {
    "duration": 204,
    "start_time": "2023-06-04T04:04:09.306Z"
   },
   {
    "duration": 5,
    "start_time": "2023-06-04T04:04:09.512Z"
   },
   {
    "duration": 5,
    "start_time": "2023-06-04T04:04:09.520Z"
   },
   {
    "duration": 46,
    "start_time": "2023-06-04T04:04:09.526Z"
   },
   {
    "duration": 6,
    "start_time": "2023-06-04T04:04:09.574Z"
   },
   {
    "duration": 15,
    "start_time": "2023-06-04T04:04:09.583Z"
   },
   {
    "duration": 9,
    "start_time": "2023-06-04T04:04:09.601Z"
   },
   {
    "duration": 31,
    "start_time": "2023-06-04T04:04:09.612Z"
   },
   {
    "duration": 11,
    "start_time": "2023-06-04T04:04:09.645Z"
   },
   {
    "duration": 9506,
    "start_time": "2023-06-04T04:04:09.658Z"
   },
   {
    "duration": 2,
    "start_time": "2023-06-04T04:04:19.166Z"
   },
   {
    "duration": 11,
    "start_time": "2023-06-04T04:04:19.170Z"
   },
   {
    "duration": 322,
    "start_time": "2023-06-04T04:04:19.182Z"
   },
   {
    "duration": 0,
    "start_time": "2023-06-04T04:04:19.506Z"
   },
   {
    "duration": 0,
    "start_time": "2023-06-04T04:04:19.508Z"
   },
   {
    "duration": 0,
    "start_time": "2023-06-04T04:04:19.508Z"
   },
   {
    "duration": 0,
    "start_time": "2023-06-04T04:04:19.509Z"
   },
   {
    "duration": 0,
    "start_time": "2023-06-04T04:04:19.510Z"
   },
   {
    "duration": 0,
    "start_time": "2023-06-04T04:04:19.511Z"
   },
   {
    "duration": 0,
    "start_time": "2023-06-04T04:04:19.512Z"
   },
   {
    "duration": 0,
    "start_time": "2023-06-04T04:04:19.513Z"
   },
   {
    "duration": 0,
    "start_time": "2023-06-04T04:04:19.514Z"
   },
   {
    "duration": 34,
    "start_time": "2023-06-04T04:04:21.170Z"
   },
   {
    "duration": 6,
    "start_time": "2023-06-04T04:04:45.958Z"
   },
   {
    "duration": 707,
    "start_time": "2023-06-04T04:04:46.845Z"
   },
   {
    "duration": 6,
    "start_time": "2023-06-04T04:05:10.491Z"
   },
   {
    "duration": 3,
    "start_time": "2023-06-04T04:05:10.617Z"
   },
   {
    "duration": 19,
    "start_time": "2023-06-04T04:05:10.752Z"
   },
   {
    "duration": 3,
    "start_time": "2023-06-04T04:05:10.880Z"
   },
   {
    "duration": 3704,
    "start_time": "2023-06-04T04:06:07.497Z"
   },
   {
    "duration": 31,
    "start_time": "2023-06-04T04:06:11.204Z"
   },
   {
    "duration": 37,
    "start_time": "2023-06-04T04:06:11.237Z"
   },
   {
    "duration": 40,
    "start_time": "2023-06-04T04:06:11.276Z"
   },
   {
    "duration": 51,
    "start_time": "2023-06-04T04:06:11.319Z"
   },
   {
    "duration": 70,
    "start_time": "2023-06-04T04:06:11.371Z"
   },
   {
    "duration": 5,
    "start_time": "2023-06-04T04:06:11.443Z"
   },
   {
    "duration": 15,
    "start_time": "2023-06-04T04:06:11.450Z"
   },
   {
    "duration": 8,
    "start_time": "2023-06-04T04:06:11.467Z"
   },
   {
    "duration": 12,
    "start_time": "2023-06-04T04:06:11.478Z"
   },
   {
    "duration": 21,
    "start_time": "2023-06-04T04:06:11.493Z"
   },
   {
    "duration": 205,
    "start_time": "2023-06-04T04:06:11.517Z"
   },
   {
    "duration": 184,
    "start_time": "2023-06-04T04:06:11.724Z"
   },
   {
    "duration": 408,
    "start_time": "2023-06-04T04:06:11.910Z"
   },
   {
    "duration": 194,
    "start_time": "2023-06-04T04:06:12.320Z"
   },
   {
    "duration": 169,
    "start_time": "2023-06-04T04:06:12.516Z"
   },
   {
    "duration": 212,
    "start_time": "2023-06-04T04:06:12.687Z"
   },
   {
    "duration": 14,
    "start_time": "2023-06-04T04:06:12.901Z"
   },
   {
    "duration": 27,
    "start_time": "2023-06-04T04:06:12.918Z"
   },
   {
    "duration": 14,
    "start_time": "2023-06-04T04:06:12.947Z"
   },
   {
    "duration": 19,
    "start_time": "2023-06-04T04:06:12.964Z"
   },
   {
    "duration": 12,
    "start_time": "2023-06-04T04:06:12.985Z"
   },
   {
    "duration": 31,
    "start_time": "2023-06-04T04:06:13.000Z"
   },
   {
    "duration": 30,
    "start_time": "2023-06-04T04:06:13.033Z"
   },
   {
    "duration": 23,
    "start_time": "2023-06-04T04:06:13.064Z"
   },
   {
    "duration": 42,
    "start_time": "2023-06-04T04:06:13.089Z"
   },
   {
    "duration": 21,
    "start_time": "2023-06-04T04:06:13.132Z"
   },
   {
    "duration": 21,
    "start_time": "2023-06-04T04:06:13.156Z"
   },
   {
    "duration": 10,
    "start_time": "2023-06-04T04:06:13.178Z"
   },
   {
    "duration": 9,
    "start_time": "2023-06-04T04:06:13.190Z"
   },
   {
    "duration": 12,
    "start_time": "2023-06-04T04:06:13.201Z"
   },
   {
    "duration": 9374,
    "start_time": "2023-06-04T04:06:13.215Z"
   },
   {
    "duration": 4,
    "start_time": "2023-06-04T04:06:22.591Z"
   },
   {
    "duration": 9,
    "start_time": "2023-06-04T04:06:22.597Z"
   },
   {
    "duration": 886,
    "start_time": "2023-06-04T04:06:22.608Z"
   },
   {
    "duration": 7,
    "start_time": "2023-06-04T04:06:23.497Z"
   },
   {
    "duration": 11,
    "start_time": "2023-06-04T04:06:23.506Z"
   },
   {
    "duration": 8,
    "start_time": "2023-06-04T04:06:23.519Z"
   },
   {
    "duration": 3,
    "start_time": "2023-06-04T04:06:23.542Z"
   },
   {
    "duration": 3734,
    "start_time": "2023-06-04T04:08:53.858Z"
   },
   {
    "duration": 30,
    "start_time": "2023-06-04T04:08:57.594Z"
   },
   {
    "duration": 22,
    "start_time": "2023-06-04T04:08:57.626Z"
   },
   {
    "duration": 13,
    "start_time": "2023-06-04T04:08:57.650Z"
   },
   {
    "duration": 18,
    "start_time": "2023-06-04T04:08:57.665Z"
   },
   {
    "duration": 11,
    "start_time": "2023-06-04T04:08:57.684Z"
   },
   {
    "duration": 4,
    "start_time": "2023-06-04T04:08:57.696Z"
   },
   {
    "duration": 19,
    "start_time": "2023-06-04T04:08:57.701Z"
   },
   {
    "duration": 21,
    "start_time": "2023-06-04T04:08:57.721Z"
   },
   {
    "duration": 9,
    "start_time": "2023-06-04T04:08:57.745Z"
   },
   {
    "duration": 15,
    "start_time": "2023-06-04T04:08:57.756Z"
   },
   {
    "duration": 207,
    "start_time": "2023-06-04T04:08:57.773Z"
   },
   {
    "duration": 196,
    "start_time": "2023-06-04T04:08:57.982Z"
   },
   {
    "duration": 394,
    "start_time": "2023-06-04T04:08:58.180Z"
   },
   {
    "duration": 185,
    "start_time": "2023-06-04T04:08:58.576Z"
   },
   {
    "duration": 162,
    "start_time": "2023-06-04T04:08:58.763Z"
   },
   {
    "duration": 186,
    "start_time": "2023-06-04T04:08:58.926Z"
   },
   {
    "duration": 29,
    "start_time": "2023-06-04T04:08:59.114Z"
   },
   {
    "duration": 13,
    "start_time": "2023-06-04T04:08:59.145Z"
   },
   {
    "duration": 8,
    "start_time": "2023-06-04T04:08:59.160Z"
   },
   {
    "duration": 11,
    "start_time": "2023-06-04T04:08:59.170Z"
   },
   {
    "duration": 11,
    "start_time": "2023-06-04T04:08:59.182Z"
   },
   {
    "duration": 24,
    "start_time": "2023-06-04T04:08:59.195Z"
   },
   {
    "duration": 2,
    "start_time": "2023-06-04T04:08:59.222Z"
   },
   {
    "duration": 3,
    "start_time": "2023-06-04T04:08:59.243Z"
   },
   {
    "duration": 57,
    "start_time": "2023-06-04T04:08:59.248Z"
   },
   {
    "duration": 17,
    "start_time": "2023-06-04T04:08:59.315Z"
   },
   {
    "duration": 8,
    "start_time": "2023-06-04T04:08:59.335Z"
   },
   {
    "duration": 5,
    "start_time": "2023-06-04T04:08:59.345Z"
   },
   {
    "duration": 35,
    "start_time": "2023-06-04T04:08:59.352Z"
   },
   {
    "duration": 23,
    "start_time": "2023-06-04T04:08:59.389Z"
   },
   {
    "duration": 9113,
    "start_time": "2023-06-04T04:08:59.414Z"
   },
   {
    "duration": 3,
    "start_time": "2023-06-04T04:09:08.529Z"
   },
   {
    "duration": 6,
    "start_time": "2023-06-04T04:09:08.542Z"
   },
   {
    "duration": 893,
    "start_time": "2023-06-04T04:09:08.550Z"
   },
   {
    "duration": 7,
    "start_time": "2023-06-04T04:09:09.446Z"
   },
   {
    "duration": 9,
    "start_time": "2023-06-04T04:09:09.455Z"
   },
   {
    "duration": 7,
    "start_time": "2023-06-04T04:09:09.466Z"
   },
   {
    "duration": 6,
    "start_time": "2023-06-04T04:09:09.475Z"
   },
   {
    "duration": 3609,
    "start_time": "2023-06-04T04:09:44.734Z"
   },
   {
    "duration": 30,
    "start_time": "2023-06-04T04:09:48.346Z"
   },
   {
    "duration": 23,
    "start_time": "2023-06-04T04:09:48.378Z"
   },
   {
    "duration": 15,
    "start_time": "2023-06-04T04:09:48.403Z"
   },
   {
    "duration": 21,
    "start_time": "2023-06-04T04:09:48.421Z"
   },
   {
    "duration": 14,
    "start_time": "2023-06-04T04:09:48.444Z"
   },
   {
    "duration": 12,
    "start_time": "2023-06-04T04:09:48.459Z"
   },
   {
    "duration": 13,
    "start_time": "2023-06-04T04:09:48.472Z"
   },
   {
    "duration": 20,
    "start_time": "2023-06-04T04:09:48.486Z"
   },
   {
    "duration": 10,
    "start_time": "2023-06-04T04:09:48.508Z"
   },
   {
    "duration": 35,
    "start_time": "2023-06-04T04:09:48.520Z"
   },
   {
    "duration": 188,
    "start_time": "2023-06-04T04:09:48.557Z"
   },
   {
    "duration": 167,
    "start_time": "2023-06-04T04:09:48.747Z"
   },
   {
    "duration": 399,
    "start_time": "2023-06-04T04:09:48.917Z"
   },
   {
    "duration": 175,
    "start_time": "2023-06-04T04:09:49.318Z"
   },
   {
    "duration": 181,
    "start_time": "2023-06-04T04:09:49.495Z"
   },
   {
    "duration": 188,
    "start_time": "2023-06-04T04:09:49.678Z"
   },
   {
    "duration": 12,
    "start_time": "2023-06-04T04:09:49.868Z"
   },
   {
    "duration": 33,
    "start_time": "2023-06-04T04:09:49.882Z"
   },
   {
    "duration": 9,
    "start_time": "2023-06-04T04:09:49.917Z"
   },
   {
    "duration": 10,
    "start_time": "2023-06-04T04:09:49.928Z"
   },
   {
    "duration": 25,
    "start_time": "2023-06-04T04:09:49.940Z"
   },
   {
    "duration": 213,
    "start_time": "2023-06-04T04:09:49.967Z"
   },
   {
    "duration": 25,
    "start_time": "2023-06-04T04:09:50.182Z"
   },
   {
    "duration": 35,
    "start_time": "2023-06-04T04:09:50.209Z"
   },
   {
    "duration": 62,
    "start_time": "2023-06-04T04:09:50.246Z"
   },
   {
    "duration": 32,
    "start_time": "2023-06-04T04:09:50.310Z"
   },
   {
    "duration": 28,
    "start_time": "2023-06-04T04:09:50.344Z"
   },
   {
    "duration": 9,
    "start_time": "2023-06-04T04:09:50.374Z"
   },
   {
    "duration": 12,
    "start_time": "2023-06-04T04:09:50.385Z"
   },
   {
    "duration": 14,
    "start_time": "2023-06-04T04:09:50.399Z"
   },
   {
    "duration": 9285,
    "start_time": "2023-06-04T04:09:50.415Z"
   },
   {
    "duration": 3,
    "start_time": "2023-06-04T04:09:59.701Z"
   },
   {
    "duration": 8,
    "start_time": "2023-06-04T04:09:59.706Z"
   },
   {
    "duration": 667,
    "start_time": "2023-06-04T04:09:59.716Z"
   },
   {
    "duration": 5,
    "start_time": "2023-06-04T04:10:00.385Z"
   },
   {
    "duration": 18,
    "start_time": "2023-06-04T04:10:00.392Z"
   },
   {
    "duration": 31,
    "start_time": "2023-06-04T04:10:00.412Z"
   },
   {
    "duration": 13,
    "start_time": "2023-06-04T04:10:00.445Z"
   },
   {
    "duration": 764,
    "start_time": "2023-06-04T04:10:00.460Z"
   },
   {
    "duration": 0,
    "start_time": "2023-06-04T04:10:01.227Z"
   },
   {
    "duration": 0,
    "start_time": "2023-06-04T04:10:01.228Z"
   },
   {
    "duration": 0,
    "start_time": "2023-06-04T04:10:01.229Z"
   },
   {
    "duration": 0,
    "start_time": "2023-06-04T04:10:01.241Z"
   },
   {
    "duration": 3667,
    "start_time": "2023-06-04T04:15:07.305Z"
   },
   {
    "duration": 31,
    "start_time": "2023-06-04T04:15:10.974Z"
   },
   {
    "duration": 22,
    "start_time": "2023-06-04T04:15:11.007Z"
   },
   {
    "duration": 13,
    "start_time": "2023-06-04T04:15:11.031Z"
   },
   {
    "duration": 14,
    "start_time": "2023-06-04T04:15:11.046Z"
   },
   {
    "duration": 37,
    "start_time": "2023-06-04T04:15:11.062Z"
   },
   {
    "duration": 48,
    "start_time": "2023-06-04T04:15:11.101Z"
   },
   {
    "duration": 36,
    "start_time": "2023-06-04T04:15:11.151Z"
   },
   {
    "duration": 12,
    "start_time": "2023-06-04T04:15:11.189Z"
   },
   {
    "duration": 13,
    "start_time": "2023-06-04T04:15:11.203Z"
   },
   {
    "duration": 22,
    "start_time": "2023-06-04T04:15:11.218Z"
   },
   {
    "duration": 190,
    "start_time": "2023-06-04T04:15:11.242Z"
   },
   {
    "duration": 179,
    "start_time": "2023-06-04T04:15:11.434Z"
   },
   {
    "duration": 412,
    "start_time": "2023-06-04T04:15:11.617Z"
   },
   {
    "duration": 190,
    "start_time": "2023-06-04T04:15:12.031Z"
   },
   {
    "duration": 167,
    "start_time": "2023-06-04T04:15:12.223Z"
   },
   {
    "duration": 191,
    "start_time": "2023-06-04T04:15:12.392Z"
   },
   {
    "duration": 12,
    "start_time": "2023-06-04T04:15:12.585Z"
   },
   {
    "duration": 21,
    "start_time": "2023-06-04T04:15:12.599Z"
   },
   {
    "duration": 11,
    "start_time": "2023-06-04T04:15:12.622Z"
   },
   {
    "duration": 8,
    "start_time": "2023-06-04T04:15:12.642Z"
   },
   {
    "duration": 45,
    "start_time": "2023-06-04T04:15:12.652Z"
   },
   {
    "duration": 243,
    "start_time": "2023-06-04T04:15:12.699Z"
   },
   {
    "duration": 20,
    "start_time": "2023-06-04T04:15:12.944Z"
   },
   {
    "duration": 8,
    "start_time": "2023-06-04T04:15:12.966Z"
   },
   {
    "duration": 36,
    "start_time": "2023-06-04T04:15:12.976Z"
   },
   {
    "duration": 7,
    "start_time": "2023-06-04T04:15:13.014Z"
   },
   {
    "duration": 10,
    "start_time": "2023-06-04T04:15:13.023Z"
   },
   {
    "duration": 7,
    "start_time": "2023-06-04T04:15:13.035Z"
   },
   {
    "duration": 8,
    "start_time": "2023-06-04T04:15:13.044Z"
   },
   {
    "duration": 10,
    "start_time": "2023-06-04T04:15:13.054Z"
   },
   {
    "duration": 9,
    "start_time": "2023-06-04T04:15:13.066Z"
   },
   {
    "duration": 88161,
    "start_time": "2023-06-04T04:15:13.077Z"
   },
   {
    "duration": 5,
    "start_time": "2023-06-04T04:16:41.242Z"
   },
   {
    "duration": 6311,
    "start_time": "2023-06-04T04:16:41.249Z"
   },
   {
    "duration": 4,
    "start_time": "2023-06-04T04:16:47.562Z"
   },
   {
    "duration": 8,
    "start_time": "2023-06-04T04:16:47.568Z"
   },
   {
    "duration": 630,
    "start_time": "2023-06-04T04:16:47.577Z"
   },
   {
    "duration": 9,
    "start_time": "2023-06-04T04:16:48.211Z"
   },
   {
    "duration": 28,
    "start_time": "2023-06-04T04:16:48.222Z"
   },
   {
    "duration": 15,
    "start_time": "2023-06-04T04:16:48.254Z"
   },
   {
    "duration": 10,
    "start_time": "2023-06-04T04:16:48.270Z"
   },
   {
    "duration": 3849,
    "start_time": "2023-06-04T04:24:42.747Z"
   },
   {
    "duration": 29,
    "start_time": "2023-06-04T04:24:46.598Z"
   },
   {
    "duration": 22,
    "start_time": "2023-06-04T04:24:46.629Z"
   },
   {
    "duration": 15,
    "start_time": "2023-06-04T04:24:46.653Z"
   },
   {
    "duration": 20,
    "start_time": "2023-06-04T04:24:46.670Z"
   },
   {
    "duration": 24,
    "start_time": "2023-06-04T04:24:46.691Z"
   },
   {
    "duration": 8,
    "start_time": "2023-06-04T04:24:46.717Z"
   },
   {
    "duration": 34,
    "start_time": "2023-06-04T04:24:46.727Z"
   },
   {
    "duration": 22,
    "start_time": "2023-06-04T04:24:46.763Z"
   },
   {
    "duration": 27,
    "start_time": "2023-06-04T04:24:46.786Z"
   },
   {
    "duration": 233,
    "start_time": "2023-06-04T04:24:46.815Z"
   },
   {
    "duration": 202,
    "start_time": "2023-06-04T04:24:47.050Z"
   },
   {
    "duration": 400,
    "start_time": "2023-06-04T04:24:47.254Z"
   },
   {
    "duration": 191,
    "start_time": "2023-06-04T04:24:47.657Z"
   },
   {
    "duration": 164,
    "start_time": "2023-06-04T04:24:47.851Z"
   },
   {
    "duration": 207,
    "start_time": "2023-06-04T04:24:48.017Z"
   },
   {
    "duration": 16,
    "start_time": "2023-06-04T04:24:48.226Z"
   },
   {
    "duration": 18,
    "start_time": "2023-06-04T04:24:48.245Z"
   },
   {
    "duration": 22,
    "start_time": "2023-06-04T04:24:48.265Z"
   },
   {
    "duration": 260,
    "start_time": "2023-06-04T04:24:48.290Z"
   },
   {
    "duration": 8,
    "start_time": "2023-06-04T04:24:48.552Z"
   },
   {
    "duration": 74,
    "start_time": "2023-06-04T04:24:48.562Z"
   },
   {
    "duration": 0,
    "start_time": "2023-06-04T04:24:48.638Z"
   },
   {
    "duration": 0,
    "start_time": "2023-06-04T04:24:48.639Z"
   },
   {
    "duration": 0,
    "start_time": "2023-06-04T04:24:48.641Z"
   },
   {
    "duration": 0,
    "start_time": "2023-06-04T04:24:48.642Z"
   },
   {
    "duration": 0,
    "start_time": "2023-06-04T04:24:48.643Z"
   },
   {
    "duration": 0,
    "start_time": "2023-06-04T04:24:48.644Z"
   },
   {
    "duration": 0,
    "start_time": "2023-06-04T04:24:48.645Z"
   },
   {
    "duration": 0,
    "start_time": "2023-06-04T04:24:48.646Z"
   },
   {
    "duration": 0,
    "start_time": "2023-06-04T04:24:48.647Z"
   },
   {
    "duration": 0,
    "start_time": "2023-06-04T04:24:48.648Z"
   },
   {
    "duration": 0,
    "start_time": "2023-06-04T04:24:48.649Z"
   },
   {
    "duration": 0,
    "start_time": "2023-06-04T04:24:48.650Z"
   },
   {
    "duration": 0,
    "start_time": "2023-06-04T04:24:48.652Z"
   },
   {
    "duration": 0,
    "start_time": "2023-06-04T04:24:48.653Z"
   },
   {
    "duration": 0,
    "start_time": "2023-06-04T04:24:48.654Z"
   },
   {
    "duration": 0,
    "start_time": "2023-06-04T04:24:48.655Z"
   },
   {
    "duration": 0,
    "start_time": "2023-06-04T04:24:48.656Z"
   },
   {
    "duration": 0,
    "start_time": "2023-06-04T04:24:48.657Z"
   },
   {
    "duration": 0,
    "start_time": "2023-06-04T04:24:48.658Z"
   },
   {
    "duration": 99,
    "start_time": "2023-06-04T04:25:59.759Z"
   },
   {
    "duration": 98,
    "start_time": "2023-06-04T04:26:29.093Z"
   },
   {
    "duration": 5,
    "start_time": "2023-06-04T04:26:53.710Z"
   },
   {
    "duration": 3,
    "start_time": "2023-06-04T04:26:54.300Z"
   },
   {
    "duration": 5,
    "start_time": "2023-06-04T04:26:54.830Z"
   },
   {
    "duration": 5,
    "start_time": "2023-06-04T04:26:55.399Z"
   },
   {
    "duration": 8,
    "start_time": "2023-06-04T04:26:56.465Z"
   },
   {
    "duration": 87779,
    "start_time": "2023-06-04T04:26:57.680Z"
   },
   {
    "duration": 5,
    "start_time": "2023-06-04T04:28:25.461Z"
   },
   {
    "duration": 6301,
    "start_time": "2023-06-04T04:28:25.467Z"
   },
   {
    "duration": 5,
    "start_time": "2023-06-04T04:28:31.770Z"
   },
   {
    "duration": 5,
    "start_time": "2023-06-04T04:28:31.777Z"
   },
   {
    "duration": 659,
    "start_time": "2023-06-04T04:28:31.784Z"
   },
   {
    "duration": 7,
    "start_time": "2023-06-04T04:28:32.446Z"
   },
   {
    "duration": 285,
    "start_time": "2023-06-04T04:29:33.514Z"
   },
   {
    "duration": 6,
    "start_time": "2023-06-04T04:29:34.178Z"
   },
   {
    "duration": 5,
    "start_time": "2023-06-04T04:29:34.329Z"
   },
   {
    "duration": 3414,
    "start_time": "2023-06-04T04:30:21.192Z"
   },
   {
    "duration": 29,
    "start_time": "2023-06-04T04:30:24.609Z"
   },
   {
    "duration": 21,
    "start_time": "2023-06-04T04:30:24.640Z"
   },
   {
    "duration": 13,
    "start_time": "2023-06-04T04:30:24.663Z"
   },
   {
    "duration": 5,
    "start_time": "2023-06-04T04:30:24.679Z"
   },
   {
    "duration": 9,
    "start_time": "2023-06-04T04:30:24.685Z"
   },
   {
    "duration": 9,
    "start_time": "2023-06-04T04:30:24.695Z"
   },
   {
    "duration": 41,
    "start_time": "2023-06-04T04:30:24.706Z"
   },
   {
    "duration": 7,
    "start_time": "2023-06-04T04:30:24.749Z"
   },
   {
    "duration": 9,
    "start_time": "2023-06-04T04:30:24.757Z"
   },
   {
    "duration": 205,
    "start_time": "2023-06-04T04:30:24.767Z"
   },
   {
    "duration": 190,
    "start_time": "2023-06-04T04:30:24.974Z"
   },
   {
    "duration": 362,
    "start_time": "2023-06-04T04:30:25.166Z"
   },
   {
    "duration": 178,
    "start_time": "2023-06-04T04:30:25.531Z"
   },
   {
    "duration": 166,
    "start_time": "2023-06-04T04:30:25.711Z"
   },
   {
    "duration": 208,
    "start_time": "2023-06-04T04:30:25.880Z"
   },
   {
    "duration": 8,
    "start_time": "2023-06-04T04:30:26.090Z"
   },
   {
    "duration": 14,
    "start_time": "2023-06-04T04:30:26.100Z"
   },
   {
    "duration": 33,
    "start_time": "2023-06-04T04:30:26.116Z"
   },
   {
    "duration": 255,
    "start_time": "2023-06-04T04:30:26.151Z"
   },
   {
    "duration": 11,
    "start_time": "2023-06-04T04:30:26.407Z"
   },
   {
    "duration": 7,
    "start_time": "2023-06-04T04:30:26.420Z"
   },
   {
    "duration": 14,
    "start_time": "2023-06-04T04:30:26.428Z"
   },
   {
    "duration": 6,
    "start_time": "2023-06-04T04:30:26.444Z"
   },
   {
    "duration": 22,
    "start_time": "2023-06-04T04:30:26.451Z"
   },
   {
    "duration": 9,
    "start_time": "2023-06-04T04:30:26.475Z"
   },
   {
    "duration": 86785,
    "start_time": "2023-06-04T04:30:26.485Z"
   },
   {
    "duration": 5,
    "start_time": "2023-06-04T04:31:53.272Z"
   },
   {
    "duration": 6262,
    "start_time": "2023-06-04T04:31:53.278Z"
   },
   {
    "duration": 5,
    "start_time": "2023-06-04T04:31:59.545Z"
   },
   {
    "duration": 33,
    "start_time": "2023-06-04T04:31:59.552Z"
   },
   {
    "duration": 674,
    "start_time": "2023-06-04T04:31:59.587Z"
   },
   {
    "duration": 6,
    "start_time": "2023-06-04T04:32:00.263Z"
   },
   {
    "duration": 45,
    "start_time": "2023-06-04T04:32:00.270Z"
   },
   {
    "duration": 3598,
    "start_time": "2023-06-04T04:34:45.799Z"
   },
   {
    "duration": 29,
    "start_time": "2023-06-04T04:34:49.399Z"
   },
   {
    "duration": 19,
    "start_time": "2023-06-04T04:34:49.430Z"
   },
   {
    "duration": 11,
    "start_time": "2023-06-04T04:34:49.451Z"
   },
   {
    "duration": 8,
    "start_time": "2023-06-04T04:34:49.464Z"
   },
   {
    "duration": 7,
    "start_time": "2023-06-04T04:34:49.474Z"
   },
   {
    "duration": 5,
    "start_time": "2023-06-04T04:34:49.483Z"
   },
   {
    "duration": 13,
    "start_time": "2023-06-04T04:34:49.489Z"
   },
   {
    "duration": 8,
    "start_time": "2023-06-04T04:34:49.503Z"
   },
   {
    "duration": 30,
    "start_time": "2023-06-04T04:34:49.514Z"
   },
   {
    "duration": 181,
    "start_time": "2023-06-04T04:34:49.545Z"
   },
   {
    "duration": 174,
    "start_time": "2023-06-04T04:34:49.728Z"
   },
   {
    "duration": 412,
    "start_time": "2023-06-04T04:34:49.904Z"
   },
   {
    "duration": 180,
    "start_time": "2023-06-04T04:34:50.318Z"
   },
   {
    "duration": 161,
    "start_time": "2023-06-04T04:34:50.499Z"
   },
   {
    "duration": 184,
    "start_time": "2023-06-04T04:34:50.661Z"
   },
   {
    "duration": 9,
    "start_time": "2023-06-04T04:34:50.847Z"
   },
   {
    "duration": 13,
    "start_time": "2023-06-04T04:34:50.857Z"
   },
   {
    "duration": 37,
    "start_time": "2023-06-04T04:34:50.871Z"
   },
   {
    "duration": 38,
    "start_time": "2023-06-04T04:34:50.910Z"
   },
   {
    "duration": 7,
    "start_time": "2023-06-04T04:34:50.950Z"
   },
   {
    "duration": 12,
    "start_time": "2023-06-04T04:34:50.959Z"
   },
   {
    "duration": 40,
    "start_time": "2023-06-04T04:34:50.973Z"
   },
   {
    "duration": 24,
    "start_time": "2023-06-04T04:34:51.015Z"
   },
   {
    "duration": 30,
    "start_time": "2023-06-04T04:34:51.041Z"
   },
   {
    "duration": 25,
    "start_time": "2023-06-04T04:34:51.073Z"
   },
   {
    "duration": 86222,
    "start_time": "2023-06-04T04:34:51.100Z"
   },
   {
    "duration": 5,
    "start_time": "2023-06-04T04:36:17.325Z"
   },
   {
    "duration": 6395,
    "start_time": "2023-06-04T04:36:17.341Z"
   },
   {
    "duration": 5,
    "start_time": "2023-06-04T04:36:23.737Z"
   },
   {
    "duration": 9,
    "start_time": "2023-06-04T04:36:23.744Z"
   },
   {
    "duration": 889,
    "start_time": "2023-06-04T04:36:23.755Z"
   },
   {
    "duration": 8,
    "start_time": "2023-06-04T04:36:24.646Z"
   },
   {
    "duration": 54,
    "start_time": "2023-06-04T04:36:24.655Z"
   },
   {
    "duration": 3854,
    "start_time": "2023-06-05T08:57:31.350Z"
   },
   {
    "duration": 65,
    "start_time": "2023-06-05T08:57:35.206Z"
   },
   {
    "duration": 29,
    "start_time": "2023-06-05T08:57:35.272Z"
   },
   {
    "duration": 19,
    "start_time": "2023-06-05T08:57:35.304Z"
   },
   {
    "duration": 5,
    "start_time": "2023-06-05T08:57:35.327Z"
   },
   {
    "duration": 26,
    "start_time": "2023-06-05T08:57:35.335Z"
   },
   {
    "duration": 21,
    "start_time": "2023-06-05T08:57:35.364Z"
   },
   {
    "duration": 6,
    "start_time": "2023-06-05T08:57:35.386Z"
   },
   {
    "duration": 24,
    "start_time": "2023-06-05T08:57:35.394Z"
   },
   {
    "duration": 192,
    "start_time": "2023-06-05T08:57:35.420Z"
   },
   {
    "duration": 230,
    "start_time": "2023-06-05T08:57:35.614Z"
   },
   {
    "duration": 439,
    "start_time": "2023-06-05T08:57:35.847Z"
   },
   {
    "duration": 186,
    "start_time": "2023-06-05T08:57:36.288Z"
   },
   {
    "duration": 187,
    "start_time": "2023-06-05T08:57:36.477Z"
   },
   {
    "duration": 244,
    "start_time": "2023-06-05T08:57:36.666Z"
   },
   {
    "duration": 21,
    "start_time": "2023-06-05T08:57:36.913Z"
   },
   {
    "duration": 20,
    "start_time": "2023-06-05T08:57:36.936Z"
   },
   {
    "duration": 19,
    "start_time": "2023-06-05T08:57:36.959Z"
   },
   {
    "duration": 234,
    "start_time": "2023-06-05T08:57:36.980Z"
   },
   {
    "duration": 23,
    "start_time": "2023-06-05T08:57:37.216Z"
   },
   {
    "duration": 5,
    "start_time": "2023-06-05T08:57:37.241Z"
   },
   {
    "duration": 17,
    "start_time": "2023-06-05T08:57:37.247Z"
   },
   {
    "duration": 7,
    "start_time": "2023-06-05T08:57:37.267Z"
   },
   {
    "duration": 8,
    "start_time": "2023-06-05T08:57:37.276Z"
   },
   {
    "duration": 10,
    "start_time": "2023-06-05T08:57:37.286Z"
   },
   {
    "duration": 96869,
    "start_time": "2023-06-05T08:57:37.298Z"
   },
   {
    "duration": 5,
    "start_time": "2023-06-05T08:59:14.169Z"
   },
   {
    "duration": 7037,
    "start_time": "2023-06-05T08:59:14.176Z"
   },
   {
    "duration": 10,
    "start_time": "2023-06-05T08:59:21.215Z"
   },
   {
    "duration": 6,
    "start_time": "2023-06-05T08:59:21.227Z"
   },
   {
    "duration": 671,
    "start_time": "2023-06-05T08:59:21.235Z"
   },
   {
    "duration": 6,
    "start_time": "2023-06-05T08:59:21.908Z"
   },
   {
    "duration": 13,
    "start_time": "2023-06-05T08:59:21.916Z"
   },
   {
    "duration": 597194,
    "start_time": "2023-06-05T08:59:21.931Z"
   },
   {
    "duration": 49109,
    "start_time": "2023-06-05T09:09:19.127Z"
   },
   {
    "duration": 7,
    "start_time": "2023-06-05T09:10:08.238Z"
   },
   {
    "duration": 780,
    "start_time": "2023-06-05T09:10:08.247Z"
   },
   {
    "duration": 6,
    "start_time": "2023-06-05T09:22:20.688Z"
   },
   {
    "duration": 5,
    "start_time": "2023-06-05T09:22:35.109Z"
   },
   {
    "duration": 6723,
    "start_time": "2023-06-05T12:10:14.015Z"
   },
   {
    "duration": 65,
    "start_time": "2023-06-05T12:10:20.740Z"
   },
   {
    "duration": 20,
    "start_time": "2023-06-05T12:10:20.807Z"
   },
   {
    "duration": 17,
    "start_time": "2023-06-05T12:10:20.828Z"
   },
   {
    "duration": 5,
    "start_time": "2023-06-05T12:10:20.847Z"
   },
   {
    "duration": 8,
    "start_time": "2023-06-05T12:10:20.853Z"
   },
   {
    "duration": 5,
    "start_time": "2023-06-05T12:10:20.863Z"
   },
   {
    "duration": 19,
    "start_time": "2023-06-05T12:10:20.870Z"
   },
   {
    "duration": 9,
    "start_time": "2023-06-05T12:10:20.890Z"
   },
   {
    "duration": 167,
    "start_time": "2023-06-05T12:10:20.901Z"
   },
   {
    "duration": 160,
    "start_time": "2023-06-05T12:10:21.069Z"
   },
   {
    "duration": 413,
    "start_time": "2023-06-05T12:10:21.231Z"
   },
   {
    "duration": 169,
    "start_time": "2023-06-05T12:10:21.646Z"
   },
   {
    "duration": 159,
    "start_time": "2023-06-05T12:10:21.818Z"
   },
   {
    "duration": 189,
    "start_time": "2023-06-05T12:10:21.979Z"
   },
   {
    "duration": 9,
    "start_time": "2023-06-05T12:10:22.169Z"
   },
   {
    "duration": 9,
    "start_time": "2023-06-05T12:10:22.180Z"
   },
   {
    "duration": 15,
    "start_time": "2023-06-05T12:10:22.191Z"
   },
   {
    "duration": 195,
    "start_time": "2023-06-05T12:10:22.208Z"
   },
   {
    "duration": 6,
    "start_time": "2023-06-05T12:10:22.405Z"
   },
   {
    "duration": 60,
    "start_time": "2023-06-05T12:10:22.412Z"
   },
   {
    "duration": 3,
    "start_time": "2023-06-05T12:10:22.473Z"
   },
   {
    "duration": 15,
    "start_time": "2023-06-05T12:10:22.478Z"
   },
   {
    "duration": 31,
    "start_time": "2023-06-05T12:10:22.495Z"
   },
   {
    "duration": 9,
    "start_time": "2023-06-05T12:10:22.528Z"
   },
   {
    "duration": 96324,
    "start_time": "2023-06-05T12:10:22.538Z"
   },
   {
    "duration": 4,
    "start_time": "2023-06-05T12:11:58.864Z"
   },
   {
    "duration": 6884,
    "start_time": "2023-06-05T12:11:58.870Z"
   },
   {
    "duration": 12,
    "start_time": "2023-06-05T12:12:05.757Z"
   },
   {
    "duration": 42,
    "start_time": "2023-06-05T12:12:05.771Z"
   },
   {
    "duration": 645,
    "start_time": "2023-06-05T12:12:05.814Z"
   },
   {
    "duration": 5,
    "start_time": "2023-06-05T12:12:06.461Z"
   },
   {
    "duration": 24,
    "start_time": "2023-06-05T12:12:06.468Z"
   },
   {
    "duration": 3567,
    "start_time": "2023-06-05T12:16:26.416Z"
   },
   {
    "duration": 37,
    "start_time": "2023-06-05T12:16:29.986Z"
   },
   {
    "duration": 34,
    "start_time": "2023-06-05T12:16:30.026Z"
   },
   {
    "duration": 23,
    "start_time": "2023-06-05T12:16:30.063Z"
   },
   {
    "duration": 25,
    "start_time": "2023-06-05T12:16:30.088Z"
   },
   {
    "duration": 28,
    "start_time": "2023-06-05T12:16:30.115Z"
   },
   {
    "duration": 27,
    "start_time": "2023-06-05T12:16:30.145Z"
   },
   {
    "duration": 20,
    "start_time": "2023-06-05T12:16:30.173Z"
   },
   {
    "duration": 16,
    "start_time": "2023-06-05T12:16:30.195Z"
   },
   {
    "duration": 207,
    "start_time": "2023-06-05T12:16:30.214Z"
   },
   {
    "duration": 165,
    "start_time": "2023-06-05T12:16:30.423Z"
   },
   {
    "duration": 350,
    "start_time": "2023-06-05T12:16:30.590Z"
   },
   {
    "duration": 167,
    "start_time": "2023-06-05T12:16:30.943Z"
   },
   {
    "duration": 158,
    "start_time": "2023-06-05T12:16:31.112Z"
   },
   {
    "duration": 190,
    "start_time": "2023-06-05T12:16:31.272Z"
   },
   {
    "duration": 8,
    "start_time": "2023-06-05T12:16:31.464Z"
   },
   {
    "duration": 59,
    "start_time": "2023-06-05T12:16:31.473Z"
   },
   {
    "duration": 62,
    "start_time": "2023-06-05T12:16:31.533Z"
   },
   {
    "duration": 261,
    "start_time": "2023-06-05T12:16:31.597Z"
   },
   {
    "duration": 21,
    "start_time": "2023-06-05T12:16:31.861Z"
   },
   {
    "duration": 15,
    "start_time": "2023-06-05T12:16:31.884Z"
   },
   {
    "duration": 28,
    "start_time": "2023-06-05T12:16:31.901Z"
   },
   {
    "duration": 23,
    "start_time": "2023-06-05T12:16:31.931Z"
   },
   {
    "duration": 23,
    "start_time": "2023-06-05T12:16:31.955Z"
   },
   {
    "duration": 9,
    "start_time": "2023-06-05T12:16:31.979Z"
   },
   {
    "duration": 98602,
    "start_time": "2023-06-05T12:16:31.989Z"
   },
   {
    "duration": 4,
    "start_time": "2023-06-05T12:18:10.593Z"
   },
   {
    "duration": 7368,
    "start_time": "2023-06-05T12:18:10.600Z"
   },
   {
    "duration": 5,
    "start_time": "2023-06-05T12:18:17.970Z"
   },
   {
    "duration": 15,
    "start_time": "2023-06-05T12:18:17.977Z"
   },
   {
    "duration": 681,
    "start_time": "2023-06-05T12:18:17.994Z"
   },
   {
    "duration": 7,
    "start_time": "2023-06-05T12:18:18.678Z"
   },
   {
    "duration": 12,
    "start_time": "2023-06-05T12:18:18.687Z"
   },
   {
    "duration": 3443,
    "start_time": "2023-06-05T12:20:06.442Z"
   },
   {
    "duration": 29,
    "start_time": "2023-06-05T12:20:09.888Z"
   },
   {
    "duration": 21,
    "start_time": "2023-06-05T12:20:09.919Z"
   },
   {
    "duration": 16,
    "start_time": "2023-06-05T12:20:09.941Z"
   },
   {
    "duration": 27,
    "start_time": "2023-06-05T12:20:09.959Z"
   },
   {
    "duration": 38,
    "start_time": "2023-06-05T12:20:09.988Z"
   },
   {
    "duration": 17,
    "start_time": "2023-06-05T12:20:10.028Z"
   },
   {
    "duration": 15,
    "start_time": "2023-06-05T12:20:10.047Z"
   },
   {
    "duration": 33,
    "start_time": "2023-06-05T12:20:10.064Z"
   },
   {
    "duration": 178,
    "start_time": "2023-06-05T12:20:10.098Z"
   },
   {
    "duration": 168,
    "start_time": "2023-06-05T12:20:10.277Z"
   },
   {
    "duration": 382,
    "start_time": "2023-06-05T12:20:10.447Z"
   },
   {
    "duration": 179,
    "start_time": "2023-06-05T12:20:10.831Z"
   },
   {
    "duration": 156,
    "start_time": "2023-06-05T12:20:11.013Z"
   },
   {
    "duration": 181,
    "start_time": "2023-06-05T12:20:11.171Z"
   },
   {
    "duration": 7,
    "start_time": "2023-06-05T12:20:11.356Z"
   },
   {
    "duration": 27,
    "start_time": "2023-06-05T12:20:11.365Z"
   },
   {
    "duration": 22,
    "start_time": "2023-06-05T12:20:11.394Z"
   },
   {
    "duration": 178,
    "start_time": "2023-06-05T12:20:11.418Z"
   },
   {
    "duration": 12,
    "start_time": "2023-06-05T12:20:11.598Z"
   },
   {
    "duration": 17,
    "start_time": "2023-06-05T12:20:11.612Z"
   },
   {
    "duration": 4,
    "start_time": "2023-06-05T12:20:11.631Z"
   },
   {
    "duration": 10,
    "start_time": "2023-06-05T12:20:11.638Z"
   },
   {
    "duration": 22,
    "start_time": "2023-06-05T12:20:11.650Z"
   },
   {
    "duration": 20,
    "start_time": "2023-06-05T12:20:11.674Z"
   },
   {
    "duration": 95550,
    "start_time": "2023-06-05T12:20:11.696Z"
   },
   {
    "duration": 9,
    "start_time": "2023-06-05T12:21:47.248Z"
   },
   {
    "duration": 7246,
    "start_time": "2023-06-05T12:21:47.259Z"
   },
   {
    "duration": 5,
    "start_time": "2023-06-05T12:21:54.506Z"
   },
   {
    "duration": 10,
    "start_time": "2023-06-05T12:21:54.512Z"
   },
   {
    "duration": 639,
    "start_time": "2023-06-05T12:21:54.524Z"
   },
   {
    "duration": 7,
    "start_time": "2023-06-05T12:21:55.166Z"
   },
   {
    "duration": 13,
    "start_time": "2023-06-05T12:21:55.175Z"
   },
   {
    "duration": 559772,
    "start_time": "2023-06-05T12:21:55.190Z"
   },
   {
    "duration": 47510,
    "start_time": "2023-06-05T12:31:14.963Z"
   },
   {
    "duration": 6,
    "start_time": "2023-06-05T12:32:02.475Z"
   },
   {
    "duration": 643,
    "start_time": "2023-06-05T12:32:02.557Z"
   },
   {
    "duration": 5,
    "start_time": "2023-06-05T12:36:58.598Z"
   },
   {
    "duration": 316,
    "start_time": "2023-06-05T12:37:13.882Z"
   },
   {
    "duration": 17,
    "start_time": "2023-06-05T12:38:08.653Z"
   },
   {
    "duration": 4,
    "start_time": "2023-06-05T12:38:14.886Z"
   },
   {
    "duration": 615,
    "start_time": "2023-06-05T12:38:20.756Z"
   },
   {
    "duration": 5,
    "start_time": "2023-06-05T12:38:23.451Z"
   },
   {
    "duration": 6,
    "start_time": "2023-06-05T12:38:32.465Z"
   },
   {
    "duration": 5,
    "start_time": "2023-06-05T12:38:43.590Z"
   },
   {
    "duration": 5,
    "start_time": "2023-06-05T12:40:10.381Z"
   },
   {
    "duration": 3560,
    "start_time": "2023-06-05T12:40:26.245Z"
   },
   {
    "duration": 38,
    "start_time": "2023-06-05T12:40:29.807Z"
   },
   {
    "duration": 19,
    "start_time": "2023-06-05T12:40:29.847Z"
   },
   {
    "duration": 11,
    "start_time": "2023-06-05T12:40:29.868Z"
   },
   {
    "duration": 13,
    "start_time": "2023-06-05T12:40:29.881Z"
   },
   {
    "duration": 16,
    "start_time": "2023-06-05T12:40:29.896Z"
   },
   {
    "duration": 13,
    "start_time": "2023-06-05T12:40:29.913Z"
   },
   {
    "duration": 9,
    "start_time": "2023-06-05T12:40:29.928Z"
   },
   {
    "duration": 22,
    "start_time": "2023-06-05T12:40:29.939Z"
   },
   {
    "duration": 175,
    "start_time": "2023-06-05T12:40:29.963Z"
   },
   {
    "duration": 167,
    "start_time": "2023-06-05T12:40:30.140Z"
   },
   {
    "duration": 396,
    "start_time": "2023-06-05T12:40:30.308Z"
   },
   {
    "duration": 200,
    "start_time": "2023-06-05T12:40:30.705Z"
   },
   {
    "duration": 152,
    "start_time": "2023-06-05T12:40:30.907Z"
   },
   {
    "duration": 224,
    "start_time": "2023-06-05T12:40:31.061Z"
   },
   {
    "duration": 9,
    "start_time": "2023-06-05T12:40:31.287Z"
   },
   {
    "duration": 97,
    "start_time": "2023-06-05T12:40:31.297Z"
   },
   {
    "duration": 60,
    "start_time": "2023-06-05T12:40:31.396Z"
   },
   {
    "duration": 209,
    "start_time": "2023-06-05T12:40:31.458Z"
   },
   {
    "duration": 28,
    "start_time": "2023-06-05T12:40:31.669Z"
   },
   {
    "duration": 44,
    "start_time": "2023-06-05T12:40:31.699Z"
   },
   {
    "duration": 79,
    "start_time": "2023-06-05T12:40:31.744Z"
   },
   {
    "duration": 75,
    "start_time": "2023-06-05T12:40:31.825Z"
   },
   {
    "duration": 41,
    "start_time": "2023-06-05T12:40:31.901Z"
   },
   {
    "duration": 57,
    "start_time": "2023-06-05T12:40:31.944Z"
   },
   {
    "duration": 96013,
    "start_time": "2023-06-05T12:40:32.003Z"
   },
   {
    "duration": 5,
    "start_time": "2023-06-05T12:42:08.018Z"
   },
   {
    "duration": 6997,
    "start_time": "2023-06-05T12:42:08.026Z"
   },
   {
    "duration": 5,
    "start_time": "2023-06-05T12:42:15.024Z"
   },
   {
    "duration": 18,
    "start_time": "2023-06-05T12:42:15.030Z"
   },
   {
    "duration": 596,
    "start_time": "2023-06-05T12:42:15.050Z"
   },
   {
    "duration": 9,
    "start_time": "2023-06-05T12:42:15.648Z"
   },
   {
    "duration": 10,
    "start_time": "2023-06-05T12:42:15.659Z"
   },
   {
    "duration": 576103,
    "start_time": "2023-06-05T12:42:15.671Z"
   },
   {
    "duration": 48101,
    "start_time": "2023-06-05T12:51:51.776Z"
   },
   {
    "duration": 81,
    "start_time": "2023-06-05T12:52:39.879Z"
   },
   {
    "duration": 646,
    "start_time": "2023-06-05T12:52:39.962Z"
   },
   {
    "duration": 2398,
    "start_time": "2023-06-05T12:55:54.165Z"
   },
   {
    "duration": 0,
    "start_time": "2023-06-05T12:55:56.566Z"
   },
   {
    "duration": 0,
    "start_time": "2023-06-05T12:55:56.568Z"
   },
   {
    "duration": 0,
    "start_time": "2023-06-05T12:55:56.569Z"
   },
   {
    "duration": 0,
    "start_time": "2023-06-05T12:55:56.570Z"
   },
   {
    "duration": 0,
    "start_time": "2023-06-05T12:55:56.571Z"
   },
   {
    "duration": 0,
    "start_time": "2023-06-05T12:55:56.572Z"
   },
   {
    "duration": 0,
    "start_time": "2023-06-05T12:55:56.574Z"
   },
   {
    "duration": 0,
    "start_time": "2023-06-05T12:55:56.575Z"
   },
   {
    "duration": 0,
    "start_time": "2023-06-05T12:55:56.576Z"
   },
   {
    "duration": 0,
    "start_time": "2023-06-05T12:55:56.577Z"
   },
   {
    "duration": 0,
    "start_time": "2023-06-05T12:55:56.578Z"
   },
   {
    "duration": 0,
    "start_time": "2023-06-05T12:55:56.579Z"
   },
   {
    "duration": 0,
    "start_time": "2023-06-05T12:55:56.580Z"
   },
   {
    "duration": 0,
    "start_time": "2023-06-05T12:55:56.581Z"
   },
   {
    "duration": 0,
    "start_time": "2023-06-05T12:55:56.582Z"
   },
   {
    "duration": 0,
    "start_time": "2023-06-05T12:55:56.583Z"
   },
   {
    "duration": 0,
    "start_time": "2023-06-05T12:55:56.584Z"
   },
   {
    "duration": 0,
    "start_time": "2023-06-05T12:55:56.585Z"
   },
   {
    "duration": 0,
    "start_time": "2023-06-05T12:55:56.586Z"
   },
   {
    "duration": 0,
    "start_time": "2023-06-05T12:55:56.588Z"
   },
   {
    "duration": 0,
    "start_time": "2023-06-05T12:55:56.588Z"
   },
   {
    "duration": 0,
    "start_time": "2023-06-05T12:55:56.590Z"
   },
   {
    "duration": 1,
    "start_time": "2023-06-05T12:55:56.590Z"
   },
   {
    "duration": 0,
    "start_time": "2023-06-05T12:55:56.592Z"
   },
   {
    "duration": 0,
    "start_time": "2023-06-05T12:55:56.593Z"
   },
   {
    "duration": 0,
    "start_time": "2023-06-05T12:55:56.594Z"
   },
   {
    "duration": 0,
    "start_time": "2023-06-05T12:55:56.595Z"
   },
   {
    "duration": 0,
    "start_time": "2023-06-05T12:55:56.596Z"
   },
   {
    "duration": 0,
    "start_time": "2023-06-05T12:55:56.597Z"
   },
   {
    "duration": 0,
    "start_time": "2023-06-05T12:55:56.598Z"
   },
   {
    "duration": 0,
    "start_time": "2023-06-05T12:55:56.599Z"
   },
   {
    "duration": 0,
    "start_time": "2023-06-05T12:55:56.600Z"
   },
   {
    "duration": 0,
    "start_time": "2023-06-05T12:55:56.601Z"
   },
   {
    "duration": 0,
    "start_time": "2023-06-05T12:55:56.602Z"
   },
   {
    "duration": 0,
    "start_time": "2023-06-05T12:55:56.658Z"
   },
   {
    "duration": 0,
    "start_time": "2023-06-05T12:55:56.659Z"
   },
   {
    "duration": 3462,
    "start_time": "2023-06-05T12:56:14.134Z"
   },
   {
    "duration": 30,
    "start_time": "2023-06-05T12:56:17.599Z"
   },
   {
    "duration": 22,
    "start_time": "2023-06-05T12:56:17.631Z"
   },
   {
    "duration": 21,
    "start_time": "2023-06-05T12:56:17.655Z"
   },
   {
    "duration": 25,
    "start_time": "2023-06-05T12:56:17.679Z"
   },
   {
    "duration": 12,
    "start_time": "2023-06-05T12:56:17.706Z"
   },
   {
    "duration": 6,
    "start_time": "2023-06-05T12:56:17.720Z"
   },
   {
    "duration": 9,
    "start_time": "2023-06-05T12:56:17.728Z"
   },
   {
    "duration": 8,
    "start_time": "2023-06-05T12:56:17.739Z"
   },
   {
    "duration": 221,
    "start_time": "2023-06-05T12:56:17.749Z"
   },
   {
    "duration": 195,
    "start_time": "2023-06-05T12:56:17.972Z"
   },
   {
    "duration": 433,
    "start_time": "2023-06-05T12:56:18.168Z"
   },
   {
    "duration": 205,
    "start_time": "2023-06-05T12:56:18.603Z"
   },
   {
    "duration": 169,
    "start_time": "2023-06-05T12:56:18.811Z"
   },
   {
    "duration": 210,
    "start_time": "2023-06-05T12:56:18.982Z"
   },
   {
    "duration": 9,
    "start_time": "2023-06-05T12:56:19.194Z"
   },
   {
    "duration": 7,
    "start_time": "2023-06-05T12:56:19.205Z"
   },
   {
    "duration": 17,
    "start_time": "2023-06-05T12:56:19.214Z"
   },
   {
    "duration": 216,
    "start_time": "2023-06-05T12:56:19.232Z"
   },
   {
    "duration": 5,
    "start_time": "2023-06-05T12:56:19.456Z"
   },
   {
    "duration": 8,
    "start_time": "2023-06-05T12:56:19.463Z"
   },
   {
    "duration": 4,
    "start_time": "2023-06-05T12:56:19.473Z"
   },
   {
    "duration": 6,
    "start_time": "2023-06-05T12:56:19.478Z"
   },
   {
    "duration": 13,
    "start_time": "2023-06-05T12:56:19.486Z"
   },
   {
    "duration": 9,
    "start_time": "2023-06-05T12:56:19.501Z"
   },
   {
    "duration": 100018,
    "start_time": "2023-06-05T12:56:19.512Z"
   },
   {
    "duration": 4,
    "start_time": "2023-06-05T12:57:59.532Z"
   },
   {
    "duration": 7482,
    "start_time": "2023-06-05T12:57:59.537Z"
   },
   {
    "duration": 4,
    "start_time": "2023-06-05T12:58:07.021Z"
   },
   {
    "duration": 5,
    "start_time": "2023-06-05T12:58:07.026Z"
   },
   {
    "duration": 629,
    "start_time": "2023-06-05T12:58:07.033Z"
   },
   {
    "duration": 5,
    "start_time": "2023-06-05T12:58:07.664Z"
   },
   {
    "duration": 7,
    "start_time": "2023-06-05T12:58:07.670Z"
   },
   {
    "duration": 352,
    "start_time": "2023-06-05T12:58:07.679Z"
   },
   {
    "duration": 0,
    "start_time": "2023-06-05T12:58:08.033Z"
   },
   {
    "duration": 0,
    "start_time": "2023-06-05T12:58:08.034Z"
   },
   {
    "duration": 0,
    "start_time": "2023-06-05T12:58:08.036Z"
   },
   {
    "duration": 3326,
    "start_time": "2023-06-05T13:01:48.221Z"
   },
   {
    "duration": 29,
    "start_time": "2023-06-05T13:01:51.549Z"
   },
   {
    "duration": 18,
    "start_time": "2023-06-05T13:01:51.579Z"
   },
   {
    "duration": 11,
    "start_time": "2023-06-05T13:01:51.599Z"
   },
   {
    "duration": 10,
    "start_time": "2023-06-05T13:01:51.612Z"
   },
   {
    "duration": 10,
    "start_time": "2023-06-05T13:01:51.623Z"
   },
   {
    "duration": 7,
    "start_time": "2023-06-05T13:01:51.634Z"
   },
   {
    "duration": 15,
    "start_time": "2023-06-05T13:01:51.642Z"
   },
   {
    "duration": 7,
    "start_time": "2023-06-05T13:01:51.659Z"
   },
   {
    "duration": 176,
    "start_time": "2023-06-05T13:01:51.667Z"
   },
   {
    "duration": 166,
    "start_time": "2023-06-05T13:01:51.844Z"
   },
   {
    "duration": 381,
    "start_time": "2023-06-05T13:01:52.012Z"
   },
   {
    "duration": 164,
    "start_time": "2023-06-05T13:01:52.395Z"
   },
   {
    "duration": 142,
    "start_time": "2023-06-05T13:01:52.561Z"
   },
   {
    "duration": 174,
    "start_time": "2023-06-05T13:01:52.705Z"
   },
   {
    "duration": 7,
    "start_time": "2023-06-05T13:01:52.881Z"
   },
   {
    "duration": 11,
    "start_time": "2023-06-05T13:01:52.890Z"
   },
   {
    "duration": 14,
    "start_time": "2023-06-05T13:01:52.902Z"
   },
   {
    "duration": 219,
    "start_time": "2023-06-05T13:01:52.918Z"
   },
   {
    "duration": 5,
    "start_time": "2023-06-05T13:01:53.139Z"
   },
   {
    "duration": 11,
    "start_time": "2023-06-05T13:01:53.146Z"
   },
   {
    "duration": 6,
    "start_time": "2023-06-05T13:01:53.159Z"
   },
   {
    "duration": 16,
    "start_time": "2023-06-05T13:01:53.167Z"
   },
   {
    "duration": 31,
    "start_time": "2023-06-05T13:01:53.185Z"
   },
   {
    "duration": 9,
    "start_time": "2023-06-05T13:01:53.218Z"
   },
   {
    "duration": 99491,
    "start_time": "2023-06-05T13:01:53.228Z"
   },
   {
    "duration": 4,
    "start_time": "2023-06-05T13:03:32.721Z"
   },
   {
    "duration": 7233,
    "start_time": "2023-06-05T13:03:32.726Z"
   },
   {
    "duration": 4,
    "start_time": "2023-06-05T13:03:39.961Z"
   },
   {
    "duration": 13,
    "start_time": "2023-06-05T13:03:39.966Z"
   },
   {
    "duration": 657,
    "start_time": "2023-06-05T13:03:39.980Z"
   },
   {
    "duration": 45,
    "start_time": "2023-06-05T13:03:40.639Z"
   },
   {
    "duration": 0,
    "start_time": "2023-06-05T13:03:40.685Z"
   },
   {
    "duration": 0,
    "start_time": "2023-06-05T13:03:40.686Z"
   },
   {
    "duration": 0,
    "start_time": "2023-06-05T13:03:40.687Z"
   },
   {
    "duration": 0,
    "start_time": "2023-06-05T13:03:40.688Z"
   },
   {
    "duration": 0,
    "start_time": "2023-06-05T13:03:40.689Z"
   },
   {
    "duration": 5,
    "start_time": "2023-06-05T13:03:53.402Z"
   },
   {
    "duration": 6,
    "start_time": "2023-06-05T13:03:55.970Z"
   },
   {
    "duration": 4805,
    "start_time": "2023-06-05T13:05:59.774Z"
   },
   {
    "duration": 31,
    "start_time": "2023-06-05T13:06:04.581Z"
   },
   {
    "duration": 21,
    "start_time": "2023-06-05T13:06:04.614Z"
   },
   {
    "duration": 15,
    "start_time": "2023-06-05T13:06:04.637Z"
   },
   {
    "duration": 12,
    "start_time": "2023-06-05T13:06:04.656Z"
   },
   {
    "duration": 11,
    "start_time": "2023-06-05T13:06:04.670Z"
   },
   {
    "duration": 19,
    "start_time": "2023-06-05T13:06:04.683Z"
   },
   {
    "duration": 17,
    "start_time": "2023-06-05T13:06:04.704Z"
   },
   {
    "duration": 27,
    "start_time": "2023-06-05T13:06:04.723Z"
   },
   {
    "duration": 203,
    "start_time": "2023-06-05T13:06:04.752Z"
   },
   {
    "duration": 163,
    "start_time": "2023-06-05T13:06:04.957Z"
   },
   {
    "duration": 414,
    "start_time": "2023-06-05T13:06:05.122Z"
   },
   {
    "duration": 201,
    "start_time": "2023-06-05T13:06:05.538Z"
   },
   {
    "duration": 182,
    "start_time": "2023-06-05T13:06:05.744Z"
   },
   {
    "duration": 251,
    "start_time": "2023-06-05T13:06:05.929Z"
   },
   {
    "duration": 8,
    "start_time": "2023-06-05T13:06:06.182Z"
   },
   {
    "duration": 18,
    "start_time": "2023-06-05T13:06:06.191Z"
   },
   {
    "duration": 31,
    "start_time": "2023-06-05T13:06:06.210Z"
   },
   {
    "duration": 220,
    "start_time": "2023-06-05T13:06:06.243Z"
   },
   {
    "duration": 12,
    "start_time": "2023-06-05T13:06:06.465Z"
   },
   {
    "duration": 5,
    "start_time": "2023-06-05T13:06:06.480Z"
   },
   {
    "duration": 10,
    "start_time": "2023-06-05T13:06:06.487Z"
   },
   {
    "duration": 17,
    "start_time": "2023-06-05T13:06:06.499Z"
   },
   {
    "duration": 23,
    "start_time": "2023-06-05T13:06:06.518Z"
   },
   {
    "duration": 22,
    "start_time": "2023-06-05T13:06:06.544Z"
   },
   {
    "duration": 103891,
    "start_time": "2023-06-05T13:06:06.568Z"
   },
   {
    "duration": 4,
    "start_time": "2023-06-05T13:07:50.461Z"
   },
   {
    "duration": 7769,
    "start_time": "2023-06-05T13:07:50.467Z"
   },
   {
    "duration": 4,
    "start_time": "2023-06-05T13:07:58.238Z"
   },
   {
    "duration": 15,
    "start_time": "2023-06-05T13:07:58.243Z"
   },
   {
    "duration": 612,
    "start_time": "2023-06-05T13:07:58.260Z"
   },
   {
    "duration": 6,
    "start_time": "2023-06-05T13:07:58.874Z"
   },
   {
    "duration": 17,
    "start_time": "2023-06-05T13:07:58.881Z"
   },
   {
    "duration": 3323,
    "start_time": "2023-06-05T13:12:04.353Z"
   },
   {
    "duration": 30,
    "start_time": "2023-06-05T13:12:07.678Z"
   },
   {
    "duration": 19,
    "start_time": "2023-06-05T13:12:07.709Z"
   },
   {
    "duration": 12,
    "start_time": "2023-06-05T13:12:07.730Z"
   },
   {
    "duration": 3,
    "start_time": "2023-06-05T13:12:07.744Z"
   },
   {
    "duration": 12,
    "start_time": "2023-06-05T13:12:07.749Z"
   },
   {
    "duration": 12,
    "start_time": "2023-06-05T13:12:07.762Z"
   },
   {
    "duration": 8,
    "start_time": "2023-06-05T13:12:07.776Z"
   },
   {
    "duration": 10,
    "start_time": "2023-06-05T13:12:07.786Z"
   },
   {
    "duration": 214,
    "start_time": "2023-06-05T13:12:07.798Z"
   },
   {
    "duration": 193,
    "start_time": "2023-06-05T13:12:08.014Z"
   },
   {
    "duration": 402,
    "start_time": "2023-06-05T13:12:08.208Z"
   },
   {
    "duration": 174,
    "start_time": "2023-06-05T13:12:08.612Z"
   },
   {
    "duration": 158,
    "start_time": "2023-06-05T13:12:08.788Z"
   },
   {
    "duration": 186,
    "start_time": "2023-06-05T13:12:08.947Z"
   },
   {
    "duration": 8,
    "start_time": "2023-06-05T13:12:09.135Z"
   },
   {
    "duration": 16,
    "start_time": "2023-06-05T13:12:09.145Z"
   },
   {
    "duration": 13,
    "start_time": "2023-06-05T13:12:09.163Z"
   },
   {
    "duration": 221,
    "start_time": "2023-06-05T13:12:09.178Z"
   },
   {
    "duration": 13,
    "start_time": "2023-06-05T13:12:09.402Z"
   },
   {
    "duration": 42,
    "start_time": "2023-06-05T13:12:09.417Z"
   },
   {
    "duration": 15,
    "start_time": "2023-06-05T13:12:09.461Z"
   },
   {
    "duration": 15,
    "start_time": "2023-06-05T13:12:09.478Z"
   },
   {
    "duration": 13,
    "start_time": "2023-06-05T13:12:09.495Z"
   },
   {
    "duration": 9,
    "start_time": "2023-06-05T13:12:09.509Z"
   },
   {
    "duration": 98121,
    "start_time": "2023-06-05T13:12:09.520Z"
   },
   {
    "duration": 4,
    "start_time": "2023-06-05T13:13:47.643Z"
   },
   {
    "duration": 7105,
    "start_time": "2023-06-05T13:13:47.650Z"
   },
   {
    "duration": 5,
    "start_time": "2023-06-05T13:13:54.757Z"
   },
   {
    "duration": 5,
    "start_time": "2023-06-05T13:13:54.763Z"
   },
   {
    "duration": 604,
    "start_time": "2023-06-05T13:13:54.770Z"
   },
   {
    "duration": 6,
    "start_time": "2023-06-05T13:13:55.375Z"
   },
   {
    "duration": 21,
    "start_time": "2023-06-05T13:13:55.382Z"
   },
   {
    "duration": 3543,
    "start_time": "2023-06-05T13:20:51.776Z"
   },
   {
    "duration": 30,
    "start_time": "2023-06-05T13:20:55.321Z"
   },
   {
    "duration": 20,
    "start_time": "2023-06-05T13:20:55.352Z"
   },
   {
    "duration": 13,
    "start_time": "2023-06-05T13:20:55.373Z"
   },
   {
    "duration": 5,
    "start_time": "2023-06-05T13:20:55.388Z"
   },
   {
    "duration": 7,
    "start_time": "2023-06-05T13:20:55.395Z"
   },
   {
    "duration": 7,
    "start_time": "2023-06-05T13:20:55.404Z"
   },
   {
    "duration": 16,
    "start_time": "2023-06-05T13:20:55.412Z"
   },
   {
    "duration": 13,
    "start_time": "2023-06-05T13:20:55.458Z"
   },
   {
    "duration": 188,
    "start_time": "2023-06-05T13:20:55.473Z"
   },
   {
    "duration": 175,
    "start_time": "2023-06-05T13:20:55.663Z"
   },
   {
    "duration": 382,
    "start_time": "2023-06-05T13:20:55.840Z"
   },
   {
    "duration": 181,
    "start_time": "2023-06-05T13:20:56.223Z"
   },
   {
    "duration": 160,
    "start_time": "2023-06-05T13:20:56.408Z"
   },
   {
    "duration": 176,
    "start_time": "2023-06-05T13:20:56.570Z"
   },
   {
    "duration": 15,
    "start_time": "2023-06-05T13:20:56.748Z"
   },
   {
    "duration": 11,
    "start_time": "2023-06-05T13:20:56.764Z"
   },
   {
    "duration": 15,
    "start_time": "2023-06-05T13:20:56.777Z"
   },
   {
    "duration": 217,
    "start_time": "2023-06-05T13:20:56.794Z"
   },
   {
    "duration": 5,
    "start_time": "2023-06-05T13:20:57.013Z"
   },
   {
    "duration": 5,
    "start_time": "2023-06-05T13:20:57.020Z"
   },
   {
    "duration": 32,
    "start_time": "2023-06-05T13:20:57.027Z"
   },
   {
    "duration": 35,
    "start_time": "2023-06-05T13:20:57.061Z"
   },
   {
    "duration": 14,
    "start_time": "2023-06-05T13:20:57.098Z"
   },
   {
    "duration": 9,
    "start_time": "2023-06-05T13:20:57.113Z"
   },
   {
    "duration": 3399,
    "start_time": "2023-06-05T13:22:07.737Z"
   },
   {
    "duration": 30,
    "start_time": "2023-06-05T13:22:11.138Z"
   },
   {
    "duration": 20,
    "start_time": "2023-06-05T13:22:11.170Z"
   },
   {
    "duration": 19,
    "start_time": "2023-06-05T13:22:11.192Z"
   },
   {
    "duration": 23,
    "start_time": "2023-06-05T13:22:11.213Z"
   },
   {
    "duration": 22,
    "start_time": "2023-06-05T13:22:11.238Z"
   },
   {
    "duration": 25,
    "start_time": "2023-06-05T13:22:11.263Z"
   },
   {
    "duration": 10,
    "start_time": "2023-06-05T13:22:11.290Z"
   },
   {
    "duration": 16,
    "start_time": "2023-06-05T13:22:11.302Z"
   },
   {
    "duration": 194,
    "start_time": "2023-06-05T13:22:11.322Z"
   },
   {
    "duration": 171,
    "start_time": "2023-06-05T13:22:11.518Z"
   },
   {
    "duration": 351,
    "start_time": "2023-06-05T13:22:11.691Z"
   },
   {
    "duration": 185,
    "start_time": "2023-06-05T13:22:12.044Z"
   },
   {
    "duration": 156,
    "start_time": "2023-06-05T13:22:12.231Z"
   },
   {
    "duration": 176,
    "start_time": "2023-06-05T13:22:12.388Z"
   },
   {
    "duration": 8,
    "start_time": "2023-06-05T13:22:12.566Z"
   },
   {
    "duration": 15,
    "start_time": "2023-06-05T13:22:12.575Z"
   },
   {
    "duration": 12,
    "start_time": "2023-06-05T13:22:12.592Z"
   },
   {
    "duration": 204,
    "start_time": "2023-06-05T13:22:12.606Z"
   },
   {
    "duration": 13,
    "start_time": "2023-06-05T13:22:12.812Z"
   },
   {
    "duration": 25,
    "start_time": "2023-06-05T13:22:12.827Z"
   },
   {
    "duration": 6,
    "start_time": "2023-06-05T13:22:12.854Z"
   },
   {
    "duration": 5,
    "start_time": "2023-06-05T13:22:12.861Z"
   },
   {
    "duration": 7,
    "start_time": "2023-06-05T13:22:12.868Z"
   },
   {
    "duration": 10,
    "start_time": "2023-06-05T13:22:12.877Z"
   },
   {
    "duration": 3278,
    "start_time": "2023-06-05T13:23:53.106Z"
   },
   {
    "duration": 29,
    "start_time": "2023-06-05T13:23:56.386Z"
   },
   {
    "duration": 19,
    "start_time": "2023-06-05T13:23:56.416Z"
   },
   {
    "duration": 12,
    "start_time": "2023-06-05T13:23:56.437Z"
   },
   {
    "duration": 9,
    "start_time": "2023-06-05T13:23:56.450Z"
   },
   {
    "duration": 7,
    "start_time": "2023-06-05T13:23:56.460Z"
   },
   {
    "duration": 8,
    "start_time": "2023-06-05T13:23:56.468Z"
   },
   {
    "duration": 9,
    "start_time": "2023-06-05T13:23:56.477Z"
   },
   {
    "duration": 7,
    "start_time": "2023-06-05T13:23:56.487Z"
   },
   {
    "duration": 191,
    "start_time": "2023-06-05T13:23:56.496Z"
   },
   {
    "duration": 162,
    "start_time": "2023-06-05T13:23:56.688Z"
   },
   {
    "duration": 361,
    "start_time": "2023-06-05T13:23:56.851Z"
   },
   {
    "duration": 181,
    "start_time": "2023-06-05T13:23:57.213Z"
   },
   {
    "duration": 158,
    "start_time": "2023-06-05T13:23:57.396Z"
   },
   {
    "duration": 171,
    "start_time": "2023-06-05T13:23:57.556Z"
   },
   {
    "duration": 9,
    "start_time": "2023-06-05T13:23:57.728Z"
   },
   {
    "duration": 21,
    "start_time": "2023-06-05T13:23:57.738Z"
   },
   {
    "duration": 16,
    "start_time": "2023-06-05T13:23:57.761Z"
   },
   {
    "duration": 201,
    "start_time": "2023-06-05T13:23:57.779Z"
   },
   {
    "duration": 5,
    "start_time": "2023-06-05T13:23:57.982Z"
   },
   {
    "duration": 5,
    "start_time": "2023-06-05T13:23:57.989Z"
   },
   {
    "duration": 4,
    "start_time": "2023-06-05T13:23:57.996Z"
   },
   {
    "duration": 5,
    "start_time": "2023-06-05T13:23:58.002Z"
   },
   {
    "duration": 48,
    "start_time": "2023-06-05T13:23:58.009Z"
   },
   {
    "duration": 10,
    "start_time": "2023-06-05T13:23:58.059Z"
   },
   {
    "duration": 3621,
    "start_time": "2023-06-05T13:24:24.243Z"
   },
   {
    "duration": 33,
    "start_time": "2023-06-05T13:24:27.866Z"
   },
   {
    "duration": 21,
    "start_time": "2023-06-05T13:24:27.900Z"
   },
   {
    "duration": 13,
    "start_time": "2023-06-05T13:24:27.924Z"
   },
   {
    "duration": 5,
    "start_time": "2023-06-05T13:24:27.939Z"
   },
   {
    "duration": 23,
    "start_time": "2023-06-05T13:24:27.946Z"
   },
   {
    "duration": 8,
    "start_time": "2023-06-05T13:24:27.971Z"
   },
   {
    "duration": 9,
    "start_time": "2023-06-05T13:24:27.980Z"
   },
   {
    "duration": 7,
    "start_time": "2023-06-05T13:24:27.991Z"
   },
   {
    "duration": 212,
    "start_time": "2023-06-05T13:24:28.000Z"
   },
   {
    "duration": 186,
    "start_time": "2023-06-05T13:24:28.213Z"
   },
   {
    "duration": 387,
    "start_time": "2023-06-05T13:24:28.401Z"
   },
   {
    "duration": 179,
    "start_time": "2023-06-05T13:24:28.790Z"
   },
   {
    "duration": 167,
    "start_time": "2023-06-05T13:24:28.973Z"
   },
   {
    "duration": 191,
    "start_time": "2023-06-05T13:24:29.141Z"
   },
   {
    "duration": 7,
    "start_time": "2023-06-05T13:24:29.334Z"
   },
   {
    "duration": 16,
    "start_time": "2023-06-05T13:24:29.343Z"
   },
   {
    "duration": 14,
    "start_time": "2023-06-05T13:24:29.361Z"
   },
   {
    "duration": 204,
    "start_time": "2023-06-05T13:24:29.377Z"
   },
   {
    "duration": 11,
    "start_time": "2023-06-05T13:24:29.583Z"
   },
   {
    "duration": 3,
    "start_time": "2023-06-05T13:24:29.596Z"
   },
   {
    "duration": 9,
    "start_time": "2023-06-05T13:24:29.601Z"
   },
   {
    "duration": 32,
    "start_time": "2023-06-05T13:24:29.611Z"
   },
   {
    "duration": 29,
    "start_time": "2023-06-05T13:24:29.645Z"
   },
   {
    "duration": 9,
    "start_time": "2023-06-05T13:24:29.675Z"
   },
   {
    "duration": 103926,
    "start_time": "2023-06-05T13:24:29.686Z"
   },
   {
    "duration": 5,
    "start_time": "2023-06-05T13:26:13.613Z"
   },
   {
    "duration": 7653,
    "start_time": "2023-06-05T13:26:13.619Z"
   },
   {
    "duration": 5,
    "start_time": "2023-06-05T13:26:21.274Z"
   },
   {
    "duration": 15,
    "start_time": "2023-06-05T13:26:21.281Z"
   },
   {
    "duration": 618,
    "start_time": "2023-06-05T13:26:21.298Z"
   },
   {
    "duration": 6,
    "start_time": "2023-06-05T13:26:21.918Z"
   },
   {
    "duration": 12,
    "start_time": "2023-06-05T13:26:21.926Z"
   },
   {
    "duration": 345,
    "start_time": "2023-06-05T13:26:21.939Z"
   },
   {
    "duration": 0,
    "start_time": "2023-06-05T13:26:22.286Z"
   },
   {
    "duration": 0,
    "start_time": "2023-06-05T13:26:22.288Z"
   },
   {
    "duration": 0,
    "start_time": "2023-06-05T13:26:22.289Z"
   },
   {
    "duration": 3377,
    "start_time": "2023-06-05T13:30:45.044Z"
   },
   {
    "duration": 31,
    "start_time": "2023-06-05T13:30:48.423Z"
   },
   {
    "duration": 21,
    "start_time": "2023-06-05T13:30:48.456Z"
   },
   {
    "duration": 14,
    "start_time": "2023-06-05T13:30:48.478Z"
   },
   {
    "duration": 12,
    "start_time": "2023-06-05T13:30:48.495Z"
   },
   {
    "duration": 10,
    "start_time": "2023-06-05T13:30:48.509Z"
   },
   {
    "duration": 10,
    "start_time": "2023-06-05T13:30:48.521Z"
   },
   {
    "duration": 5,
    "start_time": "2023-06-05T13:30:48.557Z"
   },
   {
    "duration": 25,
    "start_time": "2023-06-05T13:30:48.564Z"
   },
   {
    "duration": 191,
    "start_time": "2023-06-05T13:30:48.591Z"
   },
   {
    "duration": 179,
    "start_time": "2023-06-05T13:30:48.783Z"
   },
   {
    "duration": 351,
    "start_time": "2023-06-05T13:30:48.963Z"
   },
   {
    "duration": 180,
    "start_time": "2023-06-05T13:30:49.316Z"
   },
   {
    "duration": 153,
    "start_time": "2023-06-05T13:30:49.499Z"
   },
   {
    "duration": 187,
    "start_time": "2023-06-05T13:30:49.654Z"
   },
   {
    "duration": 15,
    "start_time": "2023-06-05T13:30:49.843Z"
   },
   {
    "duration": 12,
    "start_time": "2023-06-05T13:30:49.860Z"
   },
   {
    "duration": 18,
    "start_time": "2023-06-05T13:30:49.874Z"
   },
   {
    "duration": 199,
    "start_time": "2023-06-05T13:30:49.893Z"
   },
   {
    "duration": 22,
    "start_time": "2023-06-05T13:30:50.093Z"
   },
   {
    "duration": 5,
    "start_time": "2023-06-05T13:30:50.117Z"
   },
   {
    "duration": 15,
    "start_time": "2023-06-05T13:30:50.123Z"
   },
   {
    "duration": 20,
    "start_time": "2023-06-05T13:30:50.139Z"
   },
   {
    "duration": 10,
    "start_time": "2023-06-05T13:30:50.160Z"
   },
   {
    "duration": 9,
    "start_time": "2023-06-05T13:30:50.171Z"
   },
   {
    "duration": 98196,
    "start_time": "2023-06-05T13:30:50.182Z"
   },
   {
    "duration": 5,
    "start_time": "2023-06-05T13:32:28.380Z"
   },
   {
    "duration": 7536,
    "start_time": "2023-06-05T13:32:28.387Z"
   },
   {
    "duration": 4,
    "start_time": "2023-06-05T13:32:35.925Z"
   },
   {
    "duration": 57,
    "start_time": "2023-06-05T13:32:35.931Z"
   },
   {
    "duration": 653,
    "start_time": "2023-06-05T13:32:35.990Z"
   },
   {
    "duration": 15,
    "start_time": "2023-06-05T13:32:36.645Z"
   },
   {
    "duration": 23,
    "start_time": "2023-06-05T13:32:36.662Z"
   },
   {
    "duration": 3287,
    "start_time": "2023-06-05T13:36:05.179Z"
   },
   {
    "duration": 29,
    "start_time": "2023-06-05T13:36:08.468Z"
   },
   {
    "duration": 19,
    "start_time": "2023-06-05T13:36:08.499Z"
   },
   {
    "duration": 13,
    "start_time": "2023-06-05T13:36:08.520Z"
   },
   {
    "duration": 10,
    "start_time": "2023-06-05T13:36:08.535Z"
   },
   {
    "duration": 10,
    "start_time": "2023-06-05T13:36:08.547Z"
   },
   {
    "duration": 8,
    "start_time": "2023-06-05T13:36:08.558Z"
   },
   {
    "duration": 6,
    "start_time": "2023-06-05T13:36:08.568Z"
   },
   {
    "duration": 13,
    "start_time": "2023-06-05T13:36:08.576Z"
   },
   {
    "duration": 188,
    "start_time": "2023-06-05T13:36:08.591Z"
   },
   {
    "duration": 154,
    "start_time": "2023-06-05T13:36:08.781Z"
   },
   {
    "duration": 371,
    "start_time": "2023-06-05T13:36:08.937Z"
   },
   {
    "duration": 167,
    "start_time": "2023-06-05T13:36:09.310Z"
   },
   {
    "duration": 172,
    "start_time": "2023-06-05T13:36:09.479Z"
   },
   {
    "duration": 226,
    "start_time": "2023-06-05T13:36:09.653Z"
   },
   {
    "duration": 9,
    "start_time": "2023-06-05T13:36:09.881Z"
   },
   {
    "duration": 25,
    "start_time": "2023-06-05T13:36:09.892Z"
   },
   {
    "duration": 20,
    "start_time": "2023-06-05T13:36:09.919Z"
   },
   {
    "duration": 194,
    "start_time": "2023-06-05T13:36:09.941Z"
   },
   {
    "duration": 21,
    "start_time": "2023-06-05T13:36:10.137Z"
   },
   {
    "duration": 22,
    "start_time": "2023-06-05T13:36:10.160Z"
   },
   {
    "duration": 11,
    "start_time": "2023-06-05T13:36:10.183Z"
   },
   {
    "duration": 34,
    "start_time": "2023-06-05T13:36:10.195Z"
   },
   {
    "duration": 22,
    "start_time": "2023-06-05T13:36:10.230Z"
   },
   {
    "duration": 16,
    "start_time": "2023-06-05T13:36:10.254Z"
   },
   {
    "duration": 97282,
    "start_time": "2023-06-05T13:36:10.271Z"
   },
   {
    "duration": 5,
    "start_time": "2023-06-05T13:37:47.557Z"
   },
   {
    "duration": 6933,
    "start_time": "2023-06-05T13:37:47.566Z"
   },
   {
    "duration": 5,
    "start_time": "2023-06-05T13:37:54.500Z"
   },
   {
    "duration": 18,
    "start_time": "2023-06-05T13:37:54.507Z"
   },
   {
    "duration": 609,
    "start_time": "2023-06-05T13:37:54.527Z"
   },
   {
    "duration": 7,
    "start_time": "2023-06-05T13:37:55.138Z"
   },
   {
    "duration": 7,
    "start_time": "2023-06-05T13:37:55.157Z"
   },
   {
    "duration": 3627,
    "start_time": "2023-06-05T13:40:15.665Z"
   },
   {
    "duration": 30,
    "start_time": "2023-06-05T13:40:19.294Z"
   },
   {
    "duration": 20,
    "start_time": "2023-06-05T13:40:19.326Z"
   },
   {
    "duration": 13,
    "start_time": "2023-06-05T13:40:19.348Z"
   },
   {
    "duration": 6,
    "start_time": "2023-06-05T13:40:19.363Z"
   },
   {
    "duration": 8,
    "start_time": "2023-06-05T13:40:19.371Z"
   },
   {
    "duration": 9,
    "start_time": "2023-06-05T13:40:19.380Z"
   },
   {
    "duration": 7,
    "start_time": "2023-06-05T13:40:19.391Z"
   },
   {
    "duration": 17,
    "start_time": "2023-06-05T13:40:19.399Z"
   },
   {
    "duration": 208,
    "start_time": "2023-06-05T13:40:19.418Z"
   },
   {
    "duration": 199,
    "start_time": "2023-06-05T13:40:19.628Z"
   },
   {
    "duration": 419,
    "start_time": "2023-06-05T13:40:19.829Z"
   },
   {
    "duration": 163,
    "start_time": "2023-06-05T13:40:20.257Z"
   },
   {
    "duration": 152,
    "start_time": "2023-06-05T13:40:20.423Z"
   },
   {
    "duration": 183,
    "start_time": "2023-06-05T13:40:20.577Z"
   },
   {
    "duration": 8,
    "start_time": "2023-06-05T13:40:20.762Z"
   },
   {
    "duration": 8,
    "start_time": "2023-06-05T13:40:20.771Z"
   },
   {
    "duration": 33,
    "start_time": "2023-06-05T13:40:20.780Z"
   },
   {
    "duration": 192,
    "start_time": "2023-06-05T13:40:20.814Z"
   },
   {
    "duration": 5,
    "start_time": "2023-06-05T13:40:21.008Z"
   },
   {
    "duration": 8,
    "start_time": "2023-06-05T13:40:21.015Z"
   },
   {
    "duration": 32,
    "start_time": "2023-06-05T13:40:21.025Z"
   },
   {
    "duration": 7,
    "start_time": "2023-06-05T13:40:21.058Z"
   },
   {
    "duration": 34,
    "start_time": "2023-06-05T13:40:21.067Z"
   },
   {
    "duration": 10,
    "start_time": "2023-06-05T13:40:21.103Z"
   },
   {
    "duration": 75027,
    "start_time": "2023-06-05T13:40:21.115Z"
   },
   {
    "duration": 0,
    "start_time": "2023-06-05T13:41:36.144Z"
   },
   {
    "duration": 0,
    "start_time": "2023-06-05T13:41:36.145Z"
   },
   {
    "duration": 0,
    "start_time": "2023-06-05T13:41:36.146Z"
   },
   {
    "duration": 0,
    "start_time": "2023-06-05T13:41:36.157Z"
   },
   {
    "duration": 0,
    "start_time": "2023-06-05T13:41:36.158Z"
   },
   {
    "duration": 0,
    "start_time": "2023-06-05T13:41:36.158Z"
   },
   {
    "duration": 0,
    "start_time": "2023-06-05T13:41:36.159Z"
   },
   {
    "duration": 0,
    "start_time": "2023-06-05T13:41:36.160Z"
   },
   {
    "duration": 0,
    "start_time": "2023-06-05T13:41:36.161Z"
   },
   {
    "duration": 0,
    "start_time": "2023-06-05T13:41:36.162Z"
   },
   {
    "duration": 0,
    "start_time": "2023-06-05T13:41:36.163Z"
   },
   {
    "duration": 101802,
    "start_time": "2023-06-05T13:41:37.856Z"
   },
   {
    "duration": 4,
    "start_time": "2023-06-05T13:44:43.776Z"
   },
   {
    "duration": 6799,
    "start_time": "2023-06-05T13:44:44.945Z"
   },
   {
    "duration": 5,
    "start_time": "2023-06-05T13:44:55.626Z"
   },
   {
    "duration": 6709,
    "start_time": "2023-06-05T13:45:10.882Z"
   },
   {
    "duration": 5,
    "start_time": "2023-06-05T13:45:18.590Z"
   },
   {
    "duration": 6460,
    "start_time": "2023-06-05T13:45:23.339Z"
   },
   {
    "duration": 4,
    "start_time": "2023-06-05T13:45:29.801Z"
   },
   {
    "duration": 6774,
    "start_time": "2023-06-05T13:45:44.146Z"
   },
   {
    "duration": 4,
    "start_time": "2023-06-05T13:45:50.922Z"
   },
   {
    "duration": 8008,
    "start_time": "2023-06-05T13:46:12.187Z"
   },
   {
    "duration": 5,
    "start_time": "2023-06-05T13:46:20.196Z"
   },
   {
    "duration": 4,
    "start_time": "2023-06-05T13:46:24.469Z"
   },
   {
    "duration": 691,
    "start_time": "2023-06-05T13:46:25.836Z"
   },
   {
    "duration": 6,
    "start_time": "2023-06-05T13:46:31.420Z"
   },
   {
    "duration": 5,
    "start_time": "2023-06-05T13:46:34.221Z"
   },
   {
    "duration": 674276,
    "start_time": "2023-06-05T13:46:35.607Z"
   },
   {
    "duration": 59273,
    "start_time": "2023-06-05T13:58:00.285Z"
   },
   {
    "duration": 6,
    "start_time": "2023-06-05T13:58:59.571Z"
   },
   {
    "duration": 56799,
    "start_time": "2023-06-05T13:58:59.578Z"
   },
   {
    "duration": 6,
    "start_time": "2023-06-05T13:59:56.379Z"
   },
   {
    "duration": 54331,
    "start_time": "2023-06-05T14:01:05.639Z"
   },
   {
    "duration": 6,
    "start_time": "2023-06-05T14:01:59.972Z"
   },
   {
    "duration": 27316,
    "start_time": "2023-06-05T14:02:07.677Z"
   },
   {
    "duration": 0,
    "start_time": "2023-06-05T14:02:34.995Z"
   },
   {
    "duration": 0,
    "start_time": "2023-06-05T14:06:29.908Z"
   },
   {
    "duration": 0,
    "start_time": "2023-06-05T14:06:29.908Z"
   },
   {
    "duration": 0,
    "start_time": "2023-06-05T14:06:29.909Z"
   },
   {
    "duration": 3372,
    "start_time": "2023-06-05T14:19:47.780Z"
   },
   {
    "duration": 30,
    "start_time": "2023-06-05T14:19:51.154Z"
   },
   {
    "duration": 21,
    "start_time": "2023-06-05T14:19:51.186Z"
   },
   {
    "duration": 16,
    "start_time": "2023-06-05T14:19:51.209Z"
   },
   {
    "duration": 7,
    "start_time": "2023-06-05T14:19:51.228Z"
   },
   {
    "duration": 14,
    "start_time": "2023-06-05T14:19:51.236Z"
   },
   {
    "duration": 46,
    "start_time": "2023-06-05T14:19:51.253Z"
   },
   {
    "duration": 21,
    "start_time": "2023-06-05T14:19:51.300Z"
   },
   {
    "duration": 11,
    "start_time": "2023-06-05T14:19:51.323Z"
   },
   {
    "duration": 167,
    "start_time": "2023-06-05T14:19:51.336Z"
   },
   {
    "duration": 161,
    "start_time": "2023-06-05T14:19:51.506Z"
   },
   {
    "duration": 384,
    "start_time": "2023-06-05T14:19:51.668Z"
   },
   {
    "duration": 174,
    "start_time": "2023-06-05T14:19:52.054Z"
   },
   {
    "duration": 154,
    "start_time": "2023-06-05T14:19:52.232Z"
   },
   {
    "duration": 194,
    "start_time": "2023-06-05T14:19:52.388Z"
   },
   {
    "duration": 8,
    "start_time": "2023-06-05T14:19:52.584Z"
   },
   {
    "duration": 30,
    "start_time": "2023-06-05T14:19:52.593Z"
   },
   {
    "duration": 19,
    "start_time": "2023-06-05T14:19:52.625Z"
   },
   {
    "duration": 187,
    "start_time": "2023-06-05T14:19:52.646Z"
   },
   {
    "duration": 19,
    "start_time": "2023-06-05T14:19:52.834Z"
   },
   {
    "duration": 60,
    "start_time": "2023-06-05T14:19:52.854Z"
   },
   {
    "duration": 24,
    "start_time": "2023-06-05T14:19:52.916Z"
   },
   {
    "duration": 30,
    "start_time": "2023-06-05T14:19:52.941Z"
   },
   {
    "duration": 28,
    "start_time": "2023-06-05T14:19:52.973Z"
   },
   {
    "duration": 26,
    "start_time": "2023-06-05T14:19:53.003Z"
   },
   {
    "duration": 102883,
    "start_time": "2023-06-05T14:19:53.031Z"
   },
   {
    "duration": 4,
    "start_time": "2023-06-05T14:21:35.916Z"
   },
   {
    "duration": 7746,
    "start_time": "2023-06-05T14:21:35.922Z"
   },
   {
    "duration": 6,
    "start_time": "2023-06-05T14:21:43.670Z"
   },
   {
    "duration": 21,
    "start_time": "2023-06-05T14:21:43.678Z"
   },
   {
    "duration": 732,
    "start_time": "2023-06-05T14:21:43.701Z"
   },
   {
    "duration": 6,
    "start_time": "2023-06-05T14:21:44.435Z"
   },
   {
    "duration": 27,
    "start_time": "2023-06-05T14:21:44.442Z"
   },
   {
    "duration": 650096,
    "start_time": "2023-06-05T14:21:44.471Z"
   },
   {
    "duration": 76094,
    "start_time": "2023-06-05T14:32:34.573Z"
   },
   {
    "duration": 8,
    "start_time": "2023-06-05T14:33:50.670Z"
   },
   {
    "duration": 734,
    "start_time": "2023-06-05T14:33:50.680Z"
   },
   {
    "duration": 73840,
    "start_time": "2023-06-05T14:34:51.940Z"
   },
   {
    "duration": 76,
    "start_time": "2023-06-05T14:36:05.783Z"
   },
   {
    "duration": 694,
    "start_time": "2023-06-05T14:36:05.864Z"
   },
   {
    "duration": 3574,
    "start_time": "2023-06-05T14:38:20.686Z"
   },
   {
    "duration": 41,
    "start_time": "2023-06-05T14:38:24.263Z"
   },
   {
    "duration": 21,
    "start_time": "2023-06-05T14:38:24.305Z"
   },
   {
    "duration": 13,
    "start_time": "2023-06-05T14:38:24.327Z"
   },
   {
    "duration": 6,
    "start_time": "2023-06-05T14:38:24.342Z"
   },
   {
    "duration": 7,
    "start_time": "2023-06-05T14:38:24.349Z"
   },
   {
    "duration": 16,
    "start_time": "2023-06-05T14:38:24.358Z"
   },
   {
    "duration": 7,
    "start_time": "2023-06-05T14:38:24.376Z"
   },
   {
    "duration": 7,
    "start_time": "2023-06-05T14:38:24.384Z"
   },
   {
    "duration": 206,
    "start_time": "2023-06-05T14:38:24.393Z"
   },
   {
    "duration": 181,
    "start_time": "2023-06-05T14:38:24.600Z"
   },
   {
    "duration": 376,
    "start_time": "2023-06-05T14:38:24.783Z"
   },
   {
    "duration": 174,
    "start_time": "2023-06-05T14:38:25.166Z"
   },
   {
    "duration": 166,
    "start_time": "2023-06-05T14:38:25.343Z"
   },
   {
    "duration": 193,
    "start_time": "2023-06-05T14:38:25.511Z"
   },
   {
    "duration": 13,
    "start_time": "2023-06-05T14:38:25.706Z"
   },
   {
    "duration": 20,
    "start_time": "2023-06-05T14:38:25.720Z"
   },
   {
    "duration": 36,
    "start_time": "2023-06-05T14:38:25.742Z"
   },
   {
    "duration": 204,
    "start_time": "2023-06-05T14:38:25.780Z"
   },
   {
    "duration": 17,
    "start_time": "2023-06-05T14:38:25.985Z"
   },
   {
    "duration": 9,
    "start_time": "2023-06-05T14:38:26.004Z"
   },
   {
    "duration": 6,
    "start_time": "2023-06-05T14:38:26.014Z"
   },
   {
    "duration": 10,
    "start_time": "2023-06-05T14:38:26.021Z"
   },
   {
    "duration": 27,
    "start_time": "2023-06-05T14:38:26.033Z"
   },
   {
    "duration": 6,
    "start_time": "2023-06-05T14:38:26.063Z"
   },
   {
    "duration": 10,
    "start_time": "2023-06-05T14:38:26.073Z"
   },
   {
    "duration": 104562,
    "start_time": "2023-06-05T14:38:26.085Z"
   },
   {
    "duration": 15,
    "start_time": "2023-06-05T14:40:10.649Z"
   },
   {
    "duration": 7478,
    "start_time": "2023-06-05T14:40:10.674Z"
   },
   {
    "duration": 12,
    "start_time": "2023-06-05T14:40:18.154Z"
   },
   {
    "duration": 11,
    "start_time": "2023-06-05T14:40:18.170Z"
   },
   {
    "duration": 701,
    "start_time": "2023-06-05T14:40:18.182Z"
   },
   {
    "duration": 3,
    "start_time": "2023-06-05T14:40:18.885Z"
   },
   {
    "duration": 16,
    "start_time": "2023-06-05T14:40:18.890Z"
   },
   {
    "duration": 13,
    "start_time": "2023-06-05T14:40:18.908Z"
   },
   {
    "duration": 105617,
    "start_time": "2023-06-05T14:40:18.923Z"
   },
   {
    "duration": 7808,
    "start_time": "2023-06-05T14:42:04.542Z"
   },
   {
    "duration": 19,
    "start_time": "2023-06-05T14:42:12.351Z"
   },
   {
    "duration": 661,
    "start_time": "2023-06-05T14:42:12.374Z"
   },
   {
    "duration": 3641,
    "start_time": "2023-06-05T14:45:06.513Z"
   },
   {
    "duration": 43,
    "start_time": "2023-06-05T14:45:10.156Z"
   },
   {
    "duration": 28,
    "start_time": "2023-06-05T14:45:10.201Z"
   },
   {
    "duration": 17,
    "start_time": "2023-06-05T14:45:10.231Z"
   },
   {
    "duration": 5,
    "start_time": "2023-06-05T14:45:10.251Z"
   },
   {
    "duration": 21,
    "start_time": "2023-06-05T14:45:10.257Z"
   },
   {
    "duration": 7,
    "start_time": "2023-06-05T14:45:10.281Z"
   },
   {
    "duration": 7,
    "start_time": "2023-06-05T14:45:10.291Z"
   },
   {
    "duration": 7,
    "start_time": "2023-06-05T14:45:10.300Z"
   },
   {
    "duration": 211,
    "start_time": "2023-06-05T14:45:10.308Z"
   },
   {
    "duration": 191,
    "start_time": "2023-06-05T14:45:10.521Z"
   },
   {
    "duration": 430,
    "start_time": "2023-06-05T14:45:10.713Z"
   },
   {
    "duration": 199,
    "start_time": "2023-06-05T14:45:11.144Z"
   },
   {
    "duration": 170,
    "start_time": "2023-06-05T14:45:11.347Z"
   },
   {
    "duration": 196,
    "start_time": "2023-06-05T14:45:11.519Z"
   },
   {
    "duration": 8,
    "start_time": "2023-06-05T14:45:11.717Z"
   },
   {
    "duration": 6,
    "start_time": "2023-06-05T14:45:11.727Z"
   },
   {
    "duration": 35,
    "start_time": "2023-06-05T14:45:11.735Z"
   },
   {
    "duration": 232,
    "start_time": "2023-06-05T14:45:11.773Z"
   },
   {
    "duration": 6,
    "start_time": "2023-06-05T14:45:12.008Z"
   },
   {
    "duration": 6,
    "start_time": "2023-06-05T14:45:12.016Z"
   },
   {
    "duration": 4,
    "start_time": "2023-06-05T14:45:12.024Z"
   },
   {
    "duration": 4,
    "start_time": "2023-06-05T14:45:12.030Z"
   },
   {
    "duration": 39,
    "start_time": "2023-06-05T14:45:12.035Z"
   },
   {
    "duration": 9,
    "start_time": "2023-06-05T14:45:12.076Z"
   },
   {
    "duration": 14,
    "start_time": "2023-06-05T14:45:12.087Z"
   },
   {
    "duration": 106225,
    "start_time": "2023-06-05T14:45:12.103Z"
   },
   {
    "duration": 5,
    "start_time": "2023-06-05T14:46:58.330Z"
   },
   {
    "duration": 7301,
    "start_time": "2023-06-05T14:46:58.337Z"
   },
   {
    "duration": 5,
    "start_time": "2023-06-05T14:47:05.640Z"
   },
   {
    "duration": 16,
    "start_time": "2023-06-05T14:47:05.647Z"
   },
   {
    "duration": 682,
    "start_time": "2023-06-05T14:47:05.664Z"
   },
   {
    "duration": 3,
    "start_time": "2023-06-05T14:47:06.347Z"
   },
   {
    "duration": 11,
    "start_time": "2023-06-05T14:47:06.363Z"
   },
   {
    "duration": 12,
    "start_time": "2023-06-05T14:47:06.375Z"
   },
   {
    "duration": 102596,
    "start_time": "2023-06-05T14:47:06.389Z"
   },
   {
    "duration": 7419,
    "start_time": "2023-06-05T14:48:48.987Z"
   },
   {
    "duration": 4,
    "start_time": "2023-06-05T14:48:56.408Z"
   },
   {
    "duration": 641,
    "start_time": "2023-06-05T14:48:56.414Z"
   },
   {
    "duration": 3463,
    "start_time": "2023-06-05T14:50:37.364Z"
   },
   {
    "duration": 30,
    "start_time": "2023-06-05T14:50:40.829Z"
   },
   {
    "duration": 21,
    "start_time": "2023-06-05T14:50:40.860Z"
   },
   {
    "duration": 17,
    "start_time": "2023-06-05T14:50:40.882Z"
   },
   {
    "duration": 22,
    "start_time": "2023-06-05T14:50:40.901Z"
   },
   {
    "duration": 9,
    "start_time": "2023-06-05T14:50:40.924Z"
   },
   {
    "duration": 33,
    "start_time": "2023-06-05T14:50:40.934Z"
   },
   {
    "duration": 39,
    "start_time": "2023-06-05T14:50:40.969Z"
   },
   {
    "duration": 48,
    "start_time": "2023-06-05T14:50:41.010Z"
   },
   {
    "duration": 181,
    "start_time": "2023-06-05T14:50:41.060Z"
   },
   {
    "duration": 177,
    "start_time": "2023-06-05T14:50:41.243Z"
   },
   {
    "duration": 405,
    "start_time": "2023-06-05T14:50:41.422Z"
   },
   {
    "duration": 182,
    "start_time": "2023-06-05T14:50:41.829Z"
   },
   {
    "duration": 163,
    "start_time": "2023-06-05T14:50:42.014Z"
   },
   {
    "duration": 177,
    "start_time": "2023-06-05T14:50:42.178Z"
   },
   {
    "duration": 8,
    "start_time": "2023-06-05T14:50:42.357Z"
   },
   {
    "duration": 10,
    "start_time": "2023-06-05T14:50:42.366Z"
   },
   {
    "duration": 16,
    "start_time": "2023-06-05T14:50:42.377Z"
   },
   {
    "duration": 208,
    "start_time": "2023-06-05T14:50:42.394Z"
   },
   {
    "duration": 4,
    "start_time": "2023-06-05T14:50:42.604Z"
   },
   {
    "duration": 8,
    "start_time": "2023-06-05T14:50:42.610Z"
   },
   {
    "duration": 3,
    "start_time": "2023-06-05T14:50:42.619Z"
   },
   {
    "duration": 33,
    "start_time": "2023-06-05T14:50:42.624Z"
   },
   {
    "duration": 13,
    "start_time": "2023-06-05T14:50:42.659Z"
   },
   {
    "duration": 6,
    "start_time": "2023-06-05T14:50:42.673Z"
   },
   {
    "duration": 11,
    "start_time": "2023-06-05T14:50:42.680Z"
   },
   {
    "duration": 9,
    "start_time": "2023-06-05T14:50:42.692Z"
   },
   {
    "duration": 99157,
    "start_time": "2023-06-05T14:50:42.702Z"
   },
   {
    "duration": 3,
    "start_time": "2023-06-05T14:52:21.861Z"
   },
   {
    "duration": 34,
    "start_time": "2023-06-05T14:52:21.869Z"
   },
   {
    "duration": 7115,
    "start_time": "2023-06-05T14:52:21.905Z"
   },
   {
    "duration": 5,
    "start_time": "2023-06-05T14:52:29.023Z"
   },
   {
    "duration": 12,
    "start_time": "2023-06-05T14:52:29.031Z"
   },
   {
    "duration": 672,
    "start_time": "2023-06-05T14:52:29.045Z"
   },
   {
    "duration": 2,
    "start_time": "2023-06-05T14:52:29.719Z"
   },
   {
    "duration": 12,
    "start_time": "2023-06-05T14:52:29.724Z"
   },
   {
    "duration": 20,
    "start_time": "2023-06-05T14:52:29.737Z"
   },
   {
    "duration": 99912,
    "start_time": "2023-06-05T14:52:29.759Z"
   },
   {
    "duration": 7408,
    "start_time": "2023-06-05T14:54:09.673Z"
   },
   {
    "duration": 7,
    "start_time": "2023-06-05T14:54:17.083Z"
   },
   {
    "duration": 707,
    "start_time": "2023-06-05T14:54:17.096Z"
   },
   {
    "duration": 270,
    "start_time": "2023-06-05T14:55:23.118Z"
   },
   {
    "duration": 10,
    "start_time": "2023-06-05T14:55:53.789Z"
   },
   {
    "duration": 3683,
    "start_time": "2023-06-05T14:56:36.986Z"
   },
   {
    "duration": 30,
    "start_time": "2023-06-05T14:56:40.673Z"
   },
   {
    "duration": 17,
    "start_time": "2023-06-05T14:56:40.705Z"
   },
   {
    "duration": 32,
    "start_time": "2023-06-05T14:56:40.724Z"
   },
   {
    "duration": 18,
    "start_time": "2023-06-05T14:56:40.759Z"
   },
   {
    "duration": 19,
    "start_time": "2023-06-05T14:56:40.778Z"
   },
   {
    "duration": 12,
    "start_time": "2023-06-05T14:56:40.799Z"
   },
   {
    "duration": 8,
    "start_time": "2023-06-05T14:56:40.813Z"
   },
   {
    "duration": 22,
    "start_time": "2023-06-05T14:56:40.823Z"
   },
   {
    "duration": 189,
    "start_time": "2023-06-05T14:56:40.847Z"
   },
   {
    "duration": 174,
    "start_time": "2023-06-05T14:56:41.038Z"
   },
   {
    "duration": 392,
    "start_time": "2023-06-05T14:56:41.214Z"
   },
   {
    "duration": 176,
    "start_time": "2023-06-05T14:56:41.608Z"
   },
   {
    "duration": 162,
    "start_time": "2023-06-05T14:56:41.787Z"
   },
   {
    "duration": 181,
    "start_time": "2023-06-05T14:56:41.950Z"
   },
   {
    "duration": 8,
    "start_time": "2023-06-05T14:56:42.132Z"
   },
   {
    "duration": 19,
    "start_time": "2023-06-05T14:56:42.142Z"
   },
   {
    "duration": 18,
    "start_time": "2023-06-05T14:56:42.164Z"
   },
   {
    "duration": 223,
    "start_time": "2023-06-05T14:56:42.184Z"
   },
   {
    "duration": 4,
    "start_time": "2023-06-05T14:56:42.409Z"
   },
   {
    "duration": 6,
    "start_time": "2023-06-05T14:56:42.415Z"
   },
   {
    "duration": 3,
    "start_time": "2023-06-05T14:56:42.423Z"
   },
   {
    "duration": 9,
    "start_time": "2023-06-05T14:56:42.427Z"
   },
   {
    "duration": 29,
    "start_time": "2023-06-05T14:56:42.437Z"
   },
   {
    "duration": 11,
    "start_time": "2023-06-05T14:56:42.467Z"
   },
   {
    "duration": 101030,
    "start_time": "2023-06-05T14:56:42.480Z"
   },
   {
    "duration": 4,
    "start_time": "2023-06-05T14:58:23.511Z"
   },
   {
    "duration": 7464,
    "start_time": "2023-06-05T14:58:23.517Z"
   },
   {
    "duration": 5,
    "start_time": "2023-06-05T14:58:30.983Z"
   },
   {
    "duration": 41,
    "start_time": "2023-06-05T14:58:30.989Z"
   },
   {
    "duration": 784,
    "start_time": "2023-06-05T14:58:31.032Z"
   },
   {
    "duration": 6,
    "start_time": "2023-06-05T14:58:31.818Z"
   },
   {
    "duration": 15,
    "start_time": "2023-06-05T14:58:31.825Z"
   },
   {
    "duration": 101990,
    "start_time": "2023-06-05T14:58:31.843Z"
   },
   {
    "duration": 8173,
    "start_time": "2023-06-05T15:00:13.835Z"
   },
   {
    "duration": 4,
    "start_time": "2023-06-05T15:00:22.010Z"
   },
   {
    "duration": 663,
    "start_time": "2023-06-05T15:00:22.016Z"
   },
   {
    "duration": 7449,
    "start_time": "2023-06-05T15:01:17.880Z"
   },
   {
    "duration": 4,
    "start_time": "2023-06-05T15:01:25.331Z"
   },
   {
    "duration": 633,
    "start_time": "2023-06-05T15:01:25.336Z"
   },
   {
    "duration": 6,
    "start_time": "2023-06-05T15:03:13.305Z"
   },
   {
    "duration": 8,
    "start_time": "2023-06-05T15:03:13.871Z"
   },
   {
    "duration": 3846,
    "start_time": "2023-06-05T15:03:25.837Z"
   },
   {
    "duration": 29,
    "start_time": "2023-06-05T15:03:29.686Z"
   },
   {
    "duration": 21,
    "start_time": "2023-06-05T15:03:29.717Z"
   },
   {
    "duration": 18,
    "start_time": "2023-06-05T15:03:29.740Z"
   },
   {
    "duration": 5,
    "start_time": "2023-06-05T15:03:29.762Z"
   },
   {
    "duration": 17,
    "start_time": "2023-06-05T15:03:29.769Z"
   },
   {
    "duration": 9,
    "start_time": "2023-06-05T15:03:29.789Z"
   },
   {
    "duration": 20,
    "start_time": "2023-06-05T15:03:29.800Z"
   },
   {
    "duration": 21,
    "start_time": "2023-06-05T15:03:29.822Z"
   },
   {
    "duration": 219,
    "start_time": "2023-06-05T15:03:29.845Z"
   },
   {
    "duration": 171,
    "start_time": "2023-06-05T15:03:30.066Z"
   },
   {
    "duration": 387,
    "start_time": "2023-06-05T15:03:30.239Z"
   },
   {
    "duration": 204,
    "start_time": "2023-06-05T15:03:30.628Z"
   },
   {
    "duration": 174,
    "start_time": "2023-06-05T15:03:30.836Z"
   },
   {
    "duration": 189,
    "start_time": "2023-06-05T15:03:31.012Z"
   },
   {
    "duration": 10,
    "start_time": "2023-06-05T15:03:31.203Z"
   },
   {
    "duration": 53,
    "start_time": "2023-06-05T15:03:31.215Z"
   },
   {
    "duration": 71,
    "start_time": "2023-06-05T15:03:31.270Z"
   },
   {
    "duration": 307,
    "start_time": "2023-06-05T15:03:31.343Z"
   },
   {
    "duration": 9,
    "start_time": "2023-06-05T15:03:31.652Z"
   },
   {
    "duration": 48,
    "start_time": "2023-06-05T15:03:31.663Z"
   },
   {
    "duration": 39,
    "start_time": "2023-06-05T15:03:31.712Z"
   },
   {
    "duration": 69,
    "start_time": "2023-06-05T15:03:31.753Z"
   },
   {
    "duration": 49,
    "start_time": "2023-06-05T15:03:31.824Z"
   },
   {
    "duration": 34,
    "start_time": "2023-06-05T15:03:31.875Z"
   },
   {
    "duration": 106347,
    "start_time": "2023-06-05T15:03:31.911Z"
   },
   {
    "duration": 6,
    "start_time": "2023-06-05T15:05:18.260Z"
   },
   {
    "duration": 7538,
    "start_time": "2023-06-05T15:05:18.269Z"
   },
   {
    "duration": 4,
    "start_time": "2023-06-05T15:05:25.810Z"
   },
   {
    "duration": 7,
    "start_time": "2023-06-05T15:05:25.816Z"
   },
   {
    "duration": 729,
    "start_time": "2023-06-05T15:05:25.825Z"
   },
   {
    "duration": 9,
    "start_time": "2023-06-05T15:05:26.558Z"
   },
   {
    "duration": 15,
    "start_time": "2023-06-05T15:05:26.570Z"
   },
   {
    "duration": 637679,
    "start_time": "2023-06-05T15:05:26.587Z"
   },
   {
    "duration": 49206,
    "start_time": "2023-06-05T15:16:04.267Z"
   },
   {
    "duration": 11,
    "start_time": "2023-06-05T15:16:53.474Z"
   },
   {
    "duration": 737,
    "start_time": "2023-06-05T15:16:53.487Z"
   },
   {
    "duration": 53488,
    "start_time": "2023-06-05T15:17:44.973Z"
   },
   {
    "duration": 5,
    "start_time": "2023-06-05T15:18:38.464Z"
   },
   {
    "duration": 688,
    "start_time": "2023-06-05T15:18:38.471Z"
   },
   {
    "duration": 51719,
    "start_time": "2023-06-05T15:19:20.558Z"
   },
   {
    "duration": 5,
    "start_time": "2023-06-05T15:20:12.280Z"
   },
   {
    "duration": 5,
    "start_time": "2023-06-05T15:20:12.357Z"
   },
   {
    "duration": 51327,
    "start_time": "2023-06-05T15:21:29.651Z"
   },
   {
    "duration": 80,
    "start_time": "2023-06-05T15:22:20.980Z"
   },
   {
    "duration": 50230,
    "start_time": "2023-06-05T15:22:33.040Z"
   },
   {
    "duration": 4,
    "start_time": "2023-06-05T15:23:23.272Z"
   },
   {
    "duration": 3441,
    "start_time": "2023-06-05T15:26:08.947Z"
   },
   {
    "duration": 29,
    "start_time": "2023-06-05T15:26:12.391Z"
   },
   {
    "duration": 19,
    "start_time": "2023-06-05T15:26:12.422Z"
   },
   {
    "duration": 11,
    "start_time": "2023-06-05T15:26:12.443Z"
   },
   {
    "duration": 25,
    "start_time": "2023-06-05T15:26:12.456Z"
   },
   {
    "duration": 15,
    "start_time": "2023-06-05T15:26:12.483Z"
   },
   {
    "duration": 7,
    "start_time": "2023-06-05T15:26:12.500Z"
   },
   {
    "duration": 13,
    "start_time": "2023-06-05T15:26:12.508Z"
   },
   {
    "duration": 14,
    "start_time": "2023-06-05T15:26:12.523Z"
   },
   {
    "duration": 179,
    "start_time": "2023-06-05T15:26:12.539Z"
   },
   {
    "duration": 174,
    "start_time": "2023-06-05T15:26:12.719Z"
   },
   {
    "duration": 351,
    "start_time": "2023-06-05T15:26:12.895Z"
   },
   {
    "duration": 162,
    "start_time": "2023-06-05T15:26:13.248Z"
   },
   {
    "duration": 154,
    "start_time": "2023-06-05T15:26:13.412Z"
   },
   {
    "duration": 163,
    "start_time": "2023-06-05T15:26:13.568Z"
   },
   {
    "duration": 8,
    "start_time": "2023-06-05T15:26:13.732Z"
   },
   {
    "duration": 10,
    "start_time": "2023-06-05T15:26:13.742Z"
   },
   {
    "duration": 29,
    "start_time": "2023-06-05T15:26:13.754Z"
   },
   {
    "duration": 209,
    "start_time": "2023-06-05T15:26:13.784Z"
   },
   {
    "duration": 14,
    "start_time": "2023-06-05T15:26:13.995Z"
   },
   {
    "duration": 7,
    "start_time": "2023-06-05T15:26:14.010Z"
   },
   {
    "duration": 13,
    "start_time": "2023-06-05T15:26:14.018Z"
   },
   {
    "duration": 6,
    "start_time": "2023-06-05T15:26:14.032Z"
   },
   {
    "duration": 30,
    "start_time": "2023-06-05T15:26:14.040Z"
   },
   {
    "duration": 11,
    "start_time": "2023-06-05T15:26:14.073Z"
   },
   {
    "duration": 106526,
    "start_time": "2023-06-05T15:26:14.086Z"
   },
   {
    "duration": 6,
    "start_time": "2023-06-05T15:28:00.613Z"
   },
   {
    "duration": 7575,
    "start_time": "2023-06-05T15:28:00.621Z"
   },
   {
    "duration": 5,
    "start_time": "2023-06-05T15:28:08.197Z"
   },
   {
    "duration": 4,
    "start_time": "2023-06-05T15:28:08.204Z"
   },
   {
    "duration": 612,
    "start_time": "2023-06-05T15:28:08.210Z"
   },
   {
    "duration": 5,
    "start_time": "2023-06-05T15:28:08.823Z"
   },
   {
    "duration": 15,
    "start_time": "2023-06-05T15:28:08.830Z"
   },
   {
    "duration": 3889,
    "start_time": "2023-06-05T15:29:16.346Z"
   },
   {
    "duration": 35,
    "start_time": "2023-06-05T15:29:20.237Z"
   },
   {
    "duration": 20,
    "start_time": "2023-06-05T15:29:20.274Z"
   },
   {
    "duration": 12,
    "start_time": "2023-06-05T15:29:20.295Z"
   },
   {
    "duration": 12,
    "start_time": "2023-06-05T15:29:20.309Z"
   },
   {
    "duration": 8,
    "start_time": "2023-06-05T15:29:20.323Z"
   },
   {
    "duration": 7,
    "start_time": "2023-06-05T15:29:20.332Z"
   },
   {
    "duration": 28,
    "start_time": "2023-06-05T15:29:20.340Z"
   },
   {
    "duration": 12,
    "start_time": "2023-06-05T15:29:20.371Z"
   },
   {
    "duration": 190,
    "start_time": "2023-06-05T15:29:20.384Z"
   },
   {
    "duration": 168,
    "start_time": "2023-06-05T15:29:20.576Z"
   },
   {
    "duration": 374,
    "start_time": "2023-06-05T15:29:20.746Z"
   },
   {
    "duration": 183,
    "start_time": "2023-06-05T15:29:21.122Z"
   },
   {
    "duration": 156,
    "start_time": "2023-06-05T15:29:21.307Z"
   },
   {
    "duration": 168,
    "start_time": "2023-06-05T15:29:21.475Z"
   },
   {
    "duration": 8,
    "start_time": "2023-06-05T15:29:21.644Z"
   },
   {
    "duration": 13,
    "start_time": "2023-06-05T15:29:21.657Z"
   },
   {
    "duration": 15,
    "start_time": "2023-06-05T15:29:21.672Z"
   },
   {
    "duration": 203,
    "start_time": "2023-06-05T15:29:21.689Z"
   },
   {
    "duration": 24,
    "start_time": "2023-06-05T15:29:21.894Z"
   },
   {
    "duration": 5,
    "start_time": "2023-06-05T15:29:21.919Z"
   },
   {
    "duration": 9,
    "start_time": "2023-06-05T15:29:21.925Z"
   },
   {
    "duration": 11,
    "start_time": "2023-06-05T15:29:21.936Z"
   },
   {
    "duration": 23,
    "start_time": "2023-06-05T15:29:21.948Z"
   },
   {
    "duration": 20,
    "start_time": "2023-06-05T15:29:21.973Z"
   },
   {
    "duration": 24937,
    "start_time": "2023-06-05T15:29:21.995Z"
   },
   {
    "duration": 0,
    "start_time": "2023-06-05T15:29:46.933Z"
   },
   {
    "duration": 0,
    "start_time": "2023-06-05T15:29:46.935Z"
   },
   {
    "duration": 0,
    "start_time": "2023-06-05T15:29:46.935Z"
   },
   {
    "duration": 0,
    "start_time": "2023-06-05T15:29:46.936Z"
   },
   {
    "duration": 1,
    "start_time": "2023-06-05T15:29:46.937Z"
   },
   {
    "duration": 0,
    "start_time": "2023-06-05T15:29:46.938Z"
   },
   {
    "duration": 0,
    "start_time": "2023-06-05T15:29:46.939Z"
   },
   {
    "duration": 0,
    "start_time": "2023-06-05T15:29:46.940Z"
   },
   {
    "duration": 0,
    "start_time": "2023-06-05T15:29:46.941Z"
   },
   {
    "duration": 0,
    "start_time": "2023-06-05T15:29:46.961Z"
   },
   {
    "duration": 0,
    "start_time": "2023-06-05T15:29:46.961Z"
   },
   {
    "duration": 3531,
    "start_time": "2023-06-05T15:30:46.573Z"
   },
   {
    "duration": 28,
    "start_time": "2023-06-05T15:30:50.106Z"
   },
   {
    "duration": 18,
    "start_time": "2023-06-05T15:30:50.136Z"
   },
   {
    "duration": 28,
    "start_time": "2023-06-05T15:30:50.156Z"
   },
   {
    "duration": 23,
    "start_time": "2023-06-05T15:30:50.186Z"
   },
   {
    "duration": 7,
    "start_time": "2023-06-05T15:30:50.210Z"
   },
   {
    "duration": 6,
    "start_time": "2023-06-05T15:30:50.219Z"
   },
   {
    "duration": 5,
    "start_time": "2023-06-05T15:30:50.227Z"
   },
   {
    "duration": 6,
    "start_time": "2023-06-05T15:30:50.234Z"
   },
   {
    "duration": 184,
    "start_time": "2023-06-05T15:30:50.241Z"
   },
   {
    "duration": 181,
    "start_time": "2023-06-05T15:30:50.426Z"
   },
   {
    "duration": 408,
    "start_time": "2023-06-05T15:30:50.609Z"
   },
   {
    "duration": 195,
    "start_time": "2023-06-05T15:30:51.018Z"
   },
   {
    "duration": 178,
    "start_time": "2023-06-05T15:30:51.217Z"
   },
   {
    "duration": 188,
    "start_time": "2023-06-05T15:30:51.397Z"
   },
   {
    "duration": 9,
    "start_time": "2023-06-05T15:30:51.587Z"
   },
   {
    "duration": 13,
    "start_time": "2023-06-05T15:30:51.597Z"
   },
   {
    "duration": 15,
    "start_time": "2023-06-05T15:30:51.612Z"
   },
   {
    "duration": 216,
    "start_time": "2023-06-05T15:30:51.628Z"
   },
   {
    "duration": 11,
    "start_time": "2023-06-05T15:30:51.846Z"
   },
   {
    "duration": 9,
    "start_time": "2023-06-05T15:30:51.862Z"
   },
   {
    "duration": 4,
    "start_time": "2023-06-05T15:30:51.873Z"
   },
   {
    "duration": 7,
    "start_time": "2023-06-05T15:30:51.879Z"
   },
   {
    "duration": 9,
    "start_time": "2023-06-05T15:30:51.887Z"
   },
   {
    "duration": 9,
    "start_time": "2023-06-05T15:30:51.898Z"
   },
   {
    "duration": 3639,
    "start_time": "2023-06-05T15:32:06.302Z"
   },
   {
    "duration": 38,
    "start_time": "2023-06-05T15:32:09.943Z"
   },
   {
    "duration": 27,
    "start_time": "2023-06-05T15:32:09.983Z"
   },
   {
    "duration": 15,
    "start_time": "2023-06-05T15:32:10.011Z"
   },
   {
    "duration": 35,
    "start_time": "2023-06-05T15:32:10.029Z"
   },
   {
    "duration": 25,
    "start_time": "2023-06-05T15:32:10.069Z"
   },
   {
    "duration": 26,
    "start_time": "2023-06-05T15:32:10.096Z"
   },
   {
    "duration": 12,
    "start_time": "2023-06-05T15:32:10.123Z"
   },
   {
    "duration": 18,
    "start_time": "2023-06-05T15:32:10.137Z"
   },
   {
    "duration": 190,
    "start_time": "2023-06-05T15:32:10.162Z"
   },
   {
    "duration": 188,
    "start_time": "2023-06-05T15:32:10.358Z"
   },
   {
    "duration": 376,
    "start_time": "2023-06-05T15:32:10.548Z"
   },
   {
    "duration": 190,
    "start_time": "2023-06-05T15:32:10.926Z"
   },
   {
    "duration": 176,
    "start_time": "2023-06-05T15:32:11.119Z"
   },
   {
    "duration": 201,
    "start_time": "2023-06-05T15:32:11.297Z"
   },
   {
    "duration": 8,
    "start_time": "2023-06-05T15:32:11.500Z"
   },
   {
    "duration": 16,
    "start_time": "2023-06-05T15:32:11.510Z"
   },
   {
    "duration": 16,
    "start_time": "2023-06-05T15:32:11.528Z"
   },
   {
    "duration": 236,
    "start_time": "2023-06-05T15:32:11.546Z"
   },
   {
    "duration": 5,
    "start_time": "2023-06-05T15:32:11.784Z"
   },
   {
    "duration": 15,
    "start_time": "2023-06-05T15:32:11.791Z"
   },
   {
    "duration": 4,
    "start_time": "2023-06-05T15:32:11.808Z"
   },
   {
    "duration": 8,
    "start_time": "2023-06-05T15:32:11.813Z"
   },
   {
    "duration": 12,
    "start_time": "2023-06-05T15:32:11.822Z"
   },
   {
    "duration": 25,
    "start_time": "2023-06-05T15:32:11.836Z"
   },
   {
    "duration": 110499,
    "start_time": "2023-06-05T15:32:11.871Z"
   },
   {
    "duration": 5,
    "start_time": "2023-06-05T15:34:02.375Z"
   },
   {
    "duration": 7295,
    "start_time": "2023-06-05T15:34:02.382Z"
   },
   {
    "duration": 5,
    "start_time": "2023-06-05T15:34:09.679Z"
   },
   {
    "duration": 15,
    "start_time": "2023-06-05T15:34:09.686Z"
   },
   {
    "duration": 760,
    "start_time": "2023-06-05T15:34:09.703Z"
   },
   {
    "duration": 7,
    "start_time": "2023-06-05T15:34:10.469Z"
   },
   {
    "duration": 14,
    "start_time": "2023-06-05T15:34:10.477Z"
   },
   {
    "duration": 967987,
    "start_time": "2023-06-05T15:34:10.493Z"
   },
   {
    "duration": 0,
    "start_time": "2023-06-05T15:51:09.531Z"
   },
   {
    "duration": 0,
    "start_time": "2023-06-05T15:51:09.532Z"
   },
   {
    "duration": 0,
    "start_time": "2023-06-05T15:51:09.534Z"
   },
   {
    "duration": 72537,
    "start_time": "2023-06-05T15:51:15.939Z"
   },
   {
    "duration": 6,
    "start_time": "2023-06-05T15:52:28.483Z"
   },
   {
    "duration": 822,
    "start_time": "2023-06-05T15:52:28.491Z"
   },
   {
    "duration": 67979,
    "start_time": "2023-06-05T15:54:08.398Z"
   },
   {
    "duration": 14,
    "start_time": "2023-06-05T15:55:16.379Z"
   },
   {
    "duration": 752,
    "start_time": "2023-06-05T15:55:16.457Z"
   },
   {
    "duration": 3598,
    "start_time": "2023-06-06T05:10:33.634Z"
   },
   {
    "duration": 78,
    "start_time": "2023-06-06T05:10:37.234Z"
   },
   {
    "duration": 25,
    "start_time": "2023-06-06T05:10:37.315Z"
   },
   {
    "duration": 59,
    "start_time": "2023-06-06T05:10:37.342Z"
   },
   {
    "duration": 13,
    "start_time": "2023-06-06T05:10:37.403Z"
   },
   {
    "duration": 13,
    "start_time": "2023-06-06T05:10:37.418Z"
   },
   {
    "duration": 15,
    "start_time": "2023-06-06T05:10:37.433Z"
   },
   {
    "duration": 10,
    "start_time": "2023-06-06T05:10:37.450Z"
   },
   {
    "duration": 16,
    "start_time": "2023-06-06T05:10:37.461Z"
   },
   {
    "duration": 191,
    "start_time": "2023-06-06T05:10:37.479Z"
   },
   {
    "duration": 172,
    "start_time": "2023-06-06T05:10:37.671Z"
   },
   {
    "duration": 462,
    "start_time": "2023-06-06T05:10:37.844Z"
   },
   {
    "duration": 194,
    "start_time": "2023-06-06T05:10:38.308Z"
   },
   {
    "duration": 157,
    "start_time": "2023-06-06T05:10:38.505Z"
   },
   {
    "duration": 197,
    "start_time": "2023-06-06T05:10:38.663Z"
   },
   {
    "duration": 3,
    "start_time": "2023-06-06T05:10:38.862Z"
   },
   {
    "duration": 9,
    "start_time": "2023-06-06T05:10:38.867Z"
   },
   {
    "duration": 9,
    "start_time": "2023-06-06T05:10:38.877Z"
   },
   {
    "duration": 6,
    "start_time": "2023-06-06T05:10:38.887Z"
   },
   {
    "duration": 451,
    "start_time": "2023-06-06T05:10:38.895Z"
   },
   {
    "duration": 1,
    "start_time": "2023-06-06T05:10:39.347Z"
   },
   {
    "duration": 0,
    "start_time": "2023-06-06T05:10:39.349Z"
   },
   {
    "duration": 0,
    "start_time": "2023-06-06T05:10:39.351Z"
   },
   {
    "duration": 0,
    "start_time": "2023-06-06T05:10:39.352Z"
   },
   {
    "duration": 0,
    "start_time": "2023-06-06T05:10:39.354Z"
   },
   {
    "duration": 0,
    "start_time": "2023-06-06T05:10:39.355Z"
   },
   {
    "duration": 0,
    "start_time": "2023-06-06T05:10:39.356Z"
   },
   {
    "duration": 0,
    "start_time": "2023-06-06T05:10:39.357Z"
   },
   {
    "duration": 0,
    "start_time": "2023-06-06T05:10:39.358Z"
   },
   {
    "duration": 1,
    "start_time": "2023-06-06T05:10:39.364Z"
   },
   {
    "duration": 0,
    "start_time": "2023-06-06T05:10:39.366Z"
   },
   {
    "duration": 0,
    "start_time": "2023-06-06T05:10:39.367Z"
   },
   {
    "duration": 0,
    "start_time": "2023-06-06T05:10:39.367Z"
   },
   {
    "duration": 0,
    "start_time": "2023-06-06T05:10:39.369Z"
   },
   {
    "duration": 0,
    "start_time": "2023-06-06T05:10:39.370Z"
   },
   {
    "duration": 0,
    "start_time": "2023-06-06T05:10:39.371Z"
   },
   {
    "duration": 0,
    "start_time": "2023-06-06T05:10:39.372Z"
   },
   {
    "duration": 0,
    "start_time": "2023-06-06T05:10:39.373Z"
   },
   {
    "duration": 0,
    "start_time": "2023-06-06T05:10:39.375Z"
   },
   {
    "duration": 0,
    "start_time": "2023-06-06T05:10:39.376Z"
   },
   {
    "duration": 0,
    "start_time": "2023-06-06T05:10:39.377Z"
   },
   {
    "duration": 0,
    "start_time": "2023-06-06T05:10:39.378Z"
   },
   {
    "duration": 0,
    "start_time": "2023-06-06T05:10:39.425Z"
   },
   {
    "duration": 14,
    "start_time": "2023-06-06T05:12:52.373Z"
   },
   {
    "duration": 3420,
    "start_time": "2023-06-06T05:12:59.388Z"
   },
   {
    "duration": 30,
    "start_time": "2023-06-06T05:13:02.810Z"
   },
   {
    "duration": 19,
    "start_time": "2023-06-06T05:13:02.842Z"
   },
   {
    "duration": 12,
    "start_time": "2023-06-06T05:13:02.863Z"
   },
   {
    "duration": 14,
    "start_time": "2023-06-06T05:13:02.876Z"
   },
   {
    "duration": 48,
    "start_time": "2023-06-06T05:13:02.892Z"
   },
   {
    "duration": 23,
    "start_time": "2023-06-06T05:13:02.941Z"
   },
   {
    "duration": 23,
    "start_time": "2023-06-06T05:13:02.966Z"
   },
   {
    "duration": 32,
    "start_time": "2023-06-06T05:13:02.991Z"
   },
   {
    "duration": 205,
    "start_time": "2023-06-06T05:13:03.029Z"
   },
   {
    "duration": 174,
    "start_time": "2023-06-06T05:13:03.236Z"
   },
   {
    "duration": 397,
    "start_time": "2023-06-06T05:13:03.412Z"
   },
   {
    "duration": 160,
    "start_time": "2023-06-06T05:13:03.811Z"
   },
   {
    "duration": 163,
    "start_time": "2023-06-06T05:13:03.973Z"
   },
   {
    "duration": 170,
    "start_time": "2023-06-06T05:13:04.138Z"
   },
   {
    "duration": 2,
    "start_time": "2023-06-06T05:13:04.310Z"
   },
   {
    "duration": 36,
    "start_time": "2023-06-06T05:13:04.313Z"
   },
   {
    "duration": 12,
    "start_time": "2023-06-06T05:13:04.350Z"
   },
   {
    "duration": 36,
    "start_time": "2023-06-06T05:13:04.363Z"
   },
   {
    "duration": 166,
    "start_time": "2023-06-06T05:13:04.401Z"
   },
   {
    "duration": 303,
    "start_time": "2023-06-06T05:13:04.569Z"
   },
   {
    "duration": 0,
    "start_time": "2023-06-06T05:13:04.875Z"
   },
   {
    "duration": 0,
    "start_time": "2023-06-06T05:13:04.876Z"
   },
   {
    "duration": 0,
    "start_time": "2023-06-06T05:13:04.877Z"
   },
   {
    "duration": 0,
    "start_time": "2023-06-06T05:13:04.878Z"
   },
   {
    "duration": 0,
    "start_time": "2023-06-06T05:13:04.879Z"
   },
   {
    "duration": 0,
    "start_time": "2023-06-06T05:13:04.880Z"
   },
   {
    "duration": 0,
    "start_time": "2023-06-06T05:13:04.880Z"
   },
   {
    "duration": 0,
    "start_time": "2023-06-06T05:13:04.882Z"
   },
   {
    "duration": 0,
    "start_time": "2023-06-06T05:13:04.883Z"
   },
   {
    "duration": 0,
    "start_time": "2023-06-06T05:13:04.884Z"
   },
   {
    "duration": 0,
    "start_time": "2023-06-06T05:13:04.885Z"
   },
   {
    "duration": 1,
    "start_time": "2023-06-06T05:13:04.885Z"
   },
   {
    "duration": 0,
    "start_time": "2023-06-06T05:13:04.886Z"
   },
   {
    "duration": 0,
    "start_time": "2023-06-06T05:13:04.887Z"
   },
   {
    "duration": 0,
    "start_time": "2023-06-06T05:13:04.888Z"
   },
   {
    "duration": 0,
    "start_time": "2023-06-06T05:13:04.889Z"
   },
   {
    "duration": 0,
    "start_time": "2023-06-06T05:13:04.891Z"
   },
   {
    "duration": 0,
    "start_time": "2023-06-06T05:13:04.892Z"
   },
   {
    "duration": 0,
    "start_time": "2023-06-06T05:13:04.893Z"
   },
   {
    "duration": 0,
    "start_time": "2023-06-06T05:13:04.928Z"
   },
   {
    "duration": 0,
    "start_time": "2023-06-06T05:13:04.929Z"
   },
   {
    "duration": 0,
    "start_time": "2023-06-06T05:13:04.934Z"
   },
   {
    "duration": 23,
    "start_time": "2023-06-06T05:13:57.718Z"
   },
   {
    "duration": 2,
    "start_time": "2023-06-06T05:13:59.966Z"
   },
   {
    "duration": 2,
    "start_time": "2023-06-06T05:14:00.158Z"
   },
   {
    "duration": 4,
    "start_time": "2023-06-06T05:14:00.322Z"
   },
   {
    "duration": 32,
    "start_time": "2023-06-06T05:14:00.506Z"
   },
   {
    "duration": 6,
    "start_time": "2023-06-06T05:14:00.926Z"
   },
   {
    "duration": 4,
    "start_time": "2023-06-06T05:14:08.619Z"
   },
   {
    "duration": 4,
    "start_time": "2023-06-06T05:14:11.986Z"
   },
   {
    "duration": 5,
    "start_time": "2023-06-06T05:14:12.504Z"
   },
   {
    "duration": 6,
    "start_time": "2023-06-06T05:14:13.805Z"
   },
   {
    "duration": 12,
    "start_time": "2023-06-06T05:14:14.641Z"
   },
   {
    "duration": 108,
    "start_time": "2023-06-06T05:14:20.203Z"
   },
   {
    "duration": 23,
    "start_time": "2023-06-06T05:14:30.784Z"
   },
   {
    "duration": 3436,
    "start_time": "2023-06-06T05:14:38.513Z"
   },
   {
    "duration": 30,
    "start_time": "2023-06-06T05:14:41.951Z"
   },
   {
    "duration": 18,
    "start_time": "2023-06-06T05:14:41.983Z"
   },
   {
    "duration": 10,
    "start_time": "2023-06-06T05:14:42.003Z"
   },
   {
    "duration": 36,
    "start_time": "2023-06-06T05:14:42.016Z"
   },
   {
    "duration": 13,
    "start_time": "2023-06-06T05:14:42.055Z"
   },
   {
    "duration": 9,
    "start_time": "2023-06-06T05:14:42.070Z"
   },
   {
    "duration": 8,
    "start_time": "2023-06-06T05:14:42.081Z"
   },
   {
    "duration": 17,
    "start_time": "2023-06-06T05:14:42.090Z"
   },
   {
    "duration": 208,
    "start_time": "2023-06-06T05:14:42.109Z"
   },
   {
    "duration": 221,
    "start_time": "2023-06-06T05:14:42.319Z"
   },
   {
    "duration": 415,
    "start_time": "2023-06-06T05:14:42.542Z"
   },
   {
    "duration": 220,
    "start_time": "2023-06-06T05:14:42.958Z"
   },
   {
    "duration": 210,
    "start_time": "2023-06-06T05:14:43.182Z"
   },
   {
    "duration": 236,
    "start_time": "2023-06-06T05:14:43.394Z"
   },
   {
    "duration": 5,
    "start_time": "2023-06-06T05:14:43.632Z"
   },
   {
    "duration": 17,
    "start_time": "2023-06-06T05:14:43.638Z"
   },
   {
    "duration": 15,
    "start_time": "2023-06-06T05:14:43.657Z"
   },
   {
    "duration": 8,
    "start_time": "2023-06-06T05:14:43.674Z"
   },
   {
    "duration": 208,
    "start_time": "2023-06-06T05:14:43.684Z"
   },
   {
    "duration": 16,
    "start_time": "2023-06-06T05:14:43.894Z"
   },
   {
    "duration": 11,
    "start_time": "2023-06-06T05:14:43.924Z"
   },
   {
    "duration": 21,
    "start_time": "2023-06-06T05:14:43.937Z"
   },
   {
    "duration": 7,
    "start_time": "2023-06-06T05:14:43.960Z"
   },
   {
    "duration": 31,
    "start_time": "2023-06-06T05:14:43.969Z"
   },
   {
    "duration": 15,
    "start_time": "2023-06-06T05:14:44.002Z"
   },
   {
    "duration": 16,
    "start_time": "2023-06-06T05:14:44.018Z"
   },
   {
    "duration": 16,
    "start_time": "2023-06-06T05:14:44.040Z"
   },
   {
    "duration": 7,
    "start_time": "2023-06-06T05:14:44.058Z"
   },
   {
    "duration": 16,
    "start_time": "2023-06-06T05:14:44.067Z"
   },
   {
    "duration": 9,
    "start_time": "2023-06-06T05:14:44.087Z"
   },
   {
    "duration": 104686,
    "start_time": "2023-06-06T05:14:44.097Z"
   },
   {
    "duration": 5,
    "start_time": "2023-06-06T05:16:28.785Z"
   },
   {
    "duration": 6957,
    "start_time": "2023-06-06T05:16:28.792Z"
   },
   {
    "duration": 5,
    "start_time": "2023-06-06T05:16:35.752Z"
   },
   {
    "duration": 82,
    "start_time": "2023-06-06T05:16:35.759Z"
   },
   {
    "duration": 647,
    "start_time": "2023-06-06T05:16:35.844Z"
   },
   {
    "duration": 5,
    "start_time": "2023-06-06T05:16:36.493Z"
   },
   {
    "duration": 45,
    "start_time": "2023-06-06T05:16:36.500Z"
   },
   {
    "duration": 670191,
    "start_time": "2023-06-06T05:16:36.548Z"
   },
   {
    "duration": 44002,
    "start_time": "2023-06-06T05:27:46.742Z"
   },
   {
    "duration": 80,
    "start_time": "2023-06-06T05:28:30.745Z"
   },
   {
    "duration": 554,
    "start_time": "2023-06-06T05:28:30.826Z"
   },
   {
    "duration": 3019,
    "start_time": "2023-06-06T05:34:26.021Z"
   },
   {
    "duration": 26,
    "start_time": "2023-06-06T05:34:29.042Z"
   },
   {
    "duration": 16,
    "start_time": "2023-06-06T05:34:29.070Z"
   },
   {
    "duration": 44,
    "start_time": "2023-06-06T05:34:29.088Z"
   },
   {
    "duration": 21,
    "start_time": "2023-06-06T05:34:29.133Z"
   },
   {
    "duration": 29,
    "start_time": "2023-06-06T05:34:29.156Z"
   },
   {
    "duration": 29,
    "start_time": "2023-06-06T05:34:29.186Z"
   },
   {
    "duration": 16,
    "start_time": "2023-06-06T05:34:29.216Z"
   },
   {
    "duration": 10,
    "start_time": "2023-06-06T05:34:29.233Z"
   },
   {
    "duration": 156,
    "start_time": "2023-06-06T05:34:29.246Z"
   },
   {
    "duration": 148,
    "start_time": "2023-06-06T05:34:29.403Z"
   },
   {
    "duration": 340,
    "start_time": "2023-06-06T05:34:29.553Z"
   },
   {
    "duration": 165,
    "start_time": "2023-06-06T05:34:29.895Z"
   },
   {
    "duration": 149,
    "start_time": "2023-06-06T05:34:30.061Z"
   },
   {
    "duration": 178,
    "start_time": "2023-06-06T05:34:30.211Z"
   },
   {
    "duration": 40,
    "start_time": "2023-06-06T05:34:30.390Z"
   },
   {
    "duration": 87,
    "start_time": "2023-06-06T05:34:30.432Z"
   },
   {
    "duration": 166,
    "start_time": "2023-06-06T05:34:30.520Z"
   },
   {
    "duration": 75,
    "start_time": "2023-06-06T05:34:30.688Z"
   },
   {
    "duration": 383,
    "start_time": "2023-06-06T05:34:30.764Z"
   },
   {
    "duration": 52,
    "start_time": "2023-06-06T05:34:31.149Z"
   },
   {
    "duration": 47,
    "start_time": "2023-06-06T05:34:31.202Z"
   },
   {
    "duration": 103,
    "start_time": "2023-06-06T05:34:31.250Z"
   },
   {
    "duration": 24,
    "start_time": "2023-06-06T05:34:31.355Z"
   },
   {
    "duration": 59,
    "start_time": "2023-06-06T05:34:31.381Z"
   },
   {
    "duration": 30,
    "start_time": "2023-06-06T05:34:31.442Z"
   },
   {
    "duration": 30,
    "start_time": "2023-06-06T05:34:31.473Z"
   },
   {
    "duration": 22,
    "start_time": "2023-06-06T05:34:31.506Z"
   },
   {
    "duration": 33,
    "start_time": "2023-06-06T05:34:31.530Z"
   },
   {
    "duration": 48,
    "start_time": "2023-06-06T05:34:31.565Z"
   },
   {
    "duration": 56,
    "start_time": "2023-06-06T05:34:31.615Z"
   },
   {
    "duration": 98177,
    "start_time": "2023-06-06T05:34:31.672Z"
   },
   {
    "duration": 5,
    "start_time": "2023-06-06T05:36:09.851Z"
   },
   {
    "duration": 6549,
    "start_time": "2023-06-06T05:36:09.857Z"
   },
   {
    "duration": 4,
    "start_time": "2023-06-06T05:36:16.408Z"
   },
   {
    "duration": 34,
    "start_time": "2023-06-06T05:36:16.413Z"
   },
   {
    "duration": 570,
    "start_time": "2023-06-06T05:36:16.449Z"
   },
   {
    "duration": 4,
    "start_time": "2023-06-06T05:36:17.024Z"
   },
   {
    "duration": 16,
    "start_time": "2023-06-06T05:36:17.030Z"
   },
   {
    "duration": 21,
    "start_time": "2023-06-06T05:36:17.047Z"
   },
   {
    "duration": 468709,
    "start_time": "2023-06-06T05:36:17.070Z"
   },
   {
    "duration": 0,
    "start_time": "2023-06-06T05:44:05.781Z"
   },
   {
    "duration": 0,
    "start_time": "2023-06-06T05:44:05.782Z"
   },
   {
    "duration": 0,
    "start_time": "2023-06-06T05:44:05.783Z"
   },
   {
    "duration": 3540,
    "start_time": "2023-06-06T05:48:30.014Z"
   },
   {
    "duration": 27,
    "start_time": "2023-06-06T05:48:33.556Z"
   },
   {
    "duration": 22,
    "start_time": "2023-06-06T05:48:33.584Z"
   },
   {
    "duration": 11,
    "start_time": "2023-06-06T05:48:33.608Z"
   },
   {
    "duration": 6,
    "start_time": "2023-06-06T05:48:33.620Z"
   },
   {
    "duration": 23,
    "start_time": "2023-06-06T05:48:33.628Z"
   },
   {
    "duration": 6,
    "start_time": "2023-06-06T05:48:33.653Z"
   },
   {
    "duration": 7,
    "start_time": "2023-06-06T05:48:33.660Z"
   },
   {
    "duration": 10,
    "start_time": "2023-06-06T05:48:33.668Z"
   },
   {
    "duration": 189,
    "start_time": "2023-06-06T05:48:33.680Z"
   },
   {
    "duration": 170,
    "start_time": "2023-06-06T05:48:33.871Z"
   },
   {
    "duration": 359,
    "start_time": "2023-06-06T05:48:34.043Z"
   },
   {
    "duration": 174,
    "start_time": "2023-06-06T05:48:34.403Z"
   },
   {
    "duration": 164,
    "start_time": "2023-06-06T05:48:34.579Z"
   },
   {
    "duration": 215,
    "start_time": "2023-06-06T05:48:34.746Z"
   },
   {
    "duration": 3,
    "start_time": "2023-06-06T05:48:34.963Z"
   },
   {
    "duration": 21,
    "start_time": "2023-06-06T05:48:34.969Z"
   },
   {
    "duration": 12,
    "start_time": "2023-06-06T05:48:34.992Z"
   },
   {
    "duration": 9,
    "start_time": "2023-06-06T05:48:35.005Z"
   },
   {
    "duration": 188,
    "start_time": "2023-06-06T05:48:35.016Z"
   },
   {
    "duration": 39,
    "start_time": "2023-06-06T05:48:35.206Z"
   },
   {
    "duration": 11,
    "start_time": "2023-06-06T05:48:35.247Z"
   },
   {
    "duration": 7,
    "start_time": "2023-06-06T05:48:35.259Z"
   },
   {
    "duration": 13,
    "start_time": "2023-06-06T05:48:35.267Z"
   },
   {
    "duration": 34,
    "start_time": "2023-06-06T05:48:35.281Z"
   },
   {
    "duration": 7,
    "start_time": "2023-06-06T05:48:35.317Z"
   },
   {
    "duration": 13,
    "start_time": "2023-06-06T05:48:35.333Z"
   },
   {
    "duration": 4,
    "start_time": "2023-06-06T05:48:35.349Z"
   },
   {
    "duration": 8,
    "start_time": "2023-06-06T05:48:35.354Z"
   },
   {
    "duration": 9,
    "start_time": "2023-06-06T05:48:35.363Z"
   },
   {
    "duration": 8,
    "start_time": "2023-06-06T05:48:35.373Z"
   },
   {
    "duration": 100558,
    "start_time": "2023-06-06T05:48:35.383Z"
   },
   {
    "duration": 4,
    "start_time": "2023-06-06T05:50:15.943Z"
   },
   {
    "duration": 6417,
    "start_time": "2023-06-06T05:50:15.948Z"
   },
   {
    "duration": 4,
    "start_time": "2023-06-06T05:50:22.367Z"
   },
   {
    "duration": 8,
    "start_time": "2023-06-06T05:50:22.372Z"
   },
   {
    "duration": 595,
    "start_time": "2023-06-06T05:50:22.381Z"
   },
   {
    "duration": 6,
    "start_time": "2023-06-06T05:50:22.978Z"
   },
   {
    "duration": 69,
    "start_time": "2023-06-06T05:50:22.986Z"
   },
   {
    "duration": 7,
    "start_time": "2023-06-06T05:50:23.057Z"
   },
   {
    "duration": 1346,
    "start_time": "2023-06-06T05:50:23.066Z"
   },
   {
    "duration": 0,
    "start_time": "2023-06-06T05:50:24.413Z"
   },
   {
    "duration": 0,
    "start_time": "2023-06-06T05:50:24.414Z"
   },
   {
    "duration": 0,
    "start_time": "2023-06-06T05:50:24.415Z"
   },
   {
    "duration": 4003,
    "start_time": "2023-06-06T06:05:04.430Z"
   },
   {
    "duration": 27,
    "start_time": "2023-06-06T06:05:08.435Z"
   },
   {
    "duration": 99,
    "start_time": "2023-06-06T06:05:08.464Z"
   },
   {
    "duration": 19,
    "start_time": "2023-06-06T06:05:08.565Z"
   },
   {
    "duration": 44,
    "start_time": "2023-06-06T06:05:08.586Z"
   },
   {
    "duration": 10,
    "start_time": "2023-06-06T06:05:08.631Z"
   },
   {
    "duration": 9,
    "start_time": "2023-06-06T06:05:08.642Z"
   },
   {
    "duration": 8,
    "start_time": "2023-06-06T06:05:08.652Z"
   },
   {
    "duration": 8,
    "start_time": "2023-06-06T06:05:08.661Z"
   },
   {
    "duration": 172,
    "start_time": "2023-06-06T06:05:08.671Z"
   },
   {
    "duration": 154,
    "start_time": "2023-06-06T06:05:08.845Z"
   },
   {
    "duration": 364,
    "start_time": "2023-06-06T06:05:09.000Z"
   },
   {
    "duration": 146,
    "start_time": "2023-06-06T06:05:09.366Z"
   },
   {
    "duration": 136,
    "start_time": "2023-06-06T06:05:09.514Z"
   },
   {
    "duration": 176,
    "start_time": "2023-06-06T06:05:09.651Z"
   },
   {
    "duration": 9,
    "start_time": "2023-06-06T06:05:09.828Z"
   },
   {
    "duration": 16,
    "start_time": "2023-06-06T06:05:09.839Z"
   },
   {
    "duration": 15,
    "start_time": "2023-06-06T06:05:09.857Z"
   },
   {
    "duration": 170,
    "start_time": "2023-06-06T06:05:09.873Z"
   },
   {
    "duration": 20,
    "start_time": "2023-06-06T06:05:10.045Z"
   },
   {
    "duration": 11,
    "start_time": "2023-06-06T06:05:10.067Z"
   },
   {
    "duration": 15,
    "start_time": "2023-06-06T06:05:10.080Z"
   },
   {
    "duration": 13,
    "start_time": "2023-06-06T06:05:10.096Z"
   },
   {
    "duration": 64,
    "start_time": "2023-06-06T06:05:10.110Z"
   },
   {
    "duration": 44,
    "start_time": "2023-06-06T06:05:10.175Z"
   },
   {
    "duration": 97758,
    "start_time": "2023-06-06T06:05:10.221Z"
   },
   {
    "duration": 6,
    "start_time": "2023-06-06T06:06:47.982Z"
   },
   {
    "duration": 6513,
    "start_time": "2023-06-06T06:06:47.992Z"
   },
   {
    "duration": 4,
    "start_time": "2023-06-06T06:06:54.507Z"
   },
   {
    "duration": 24,
    "start_time": "2023-06-06T06:06:54.513Z"
   },
   {
    "duration": 657,
    "start_time": "2023-06-06T06:06:54.539Z"
   },
   {
    "duration": 5,
    "start_time": "2023-06-06T06:06:55.198Z"
   },
   {
    "duration": 52,
    "start_time": "2023-06-06T06:06:55.205Z"
   },
   {
    "duration": 284,
    "start_time": "2023-06-06T06:06:55.258Z"
   },
   {
    "duration": 0,
    "start_time": "2023-06-06T06:06:55.543Z"
   },
   {
    "duration": 0,
    "start_time": "2023-06-06T06:06:55.544Z"
   },
   {
    "duration": 0,
    "start_time": "2023-06-06T06:06:55.545Z"
   },
   {
    "duration": 0,
    "start_time": "2023-06-06T06:06:55.546Z"
   },
   {
    "duration": 0,
    "start_time": "2023-06-06T06:06:55.547Z"
   },
   {
    "duration": 0,
    "start_time": "2023-06-06T06:06:55.548Z"
   },
   {
    "duration": 0,
    "start_time": "2023-06-06T06:06:55.549Z"
   },
   {
    "duration": 0,
    "start_time": "2023-06-06T06:06:55.550Z"
   },
   {
    "duration": 7,
    "start_time": "2023-06-06T06:08:06.006Z"
   },
   {
    "duration": 16,
    "start_time": "2023-06-06T06:08:06.481Z"
   },
   {
    "duration": 5,
    "start_time": "2023-06-06T06:08:06.696Z"
   },
   {
    "duration": 3522,
    "start_time": "2023-06-06T06:29:30.066Z"
   },
   {
    "duration": 28,
    "start_time": "2023-06-06T06:29:33.590Z"
   },
   {
    "duration": 19,
    "start_time": "2023-06-06T06:29:33.620Z"
   },
   {
    "duration": 37,
    "start_time": "2023-06-06T06:29:33.641Z"
   },
   {
    "duration": 22,
    "start_time": "2023-06-06T06:29:33.680Z"
   },
   {
    "duration": 32,
    "start_time": "2023-06-06T06:29:33.704Z"
   },
   {
    "duration": 36,
    "start_time": "2023-06-06T06:29:33.738Z"
   },
   {
    "duration": 29,
    "start_time": "2023-06-06T06:29:33.776Z"
   },
   {
    "duration": 31,
    "start_time": "2023-06-06T06:29:33.807Z"
   },
   {
    "duration": 192,
    "start_time": "2023-06-06T06:29:33.839Z"
   },
   {
    "duration": 162,
    "start_time": "2023-06-06T06:29:34.033Z"
   },
   {
    "duration": 367,
    "start_time": "2023-06-06T06:29:34.197Z"
   },
   {
    "duration": 149,
    "start_time": "2023-06-06T06:29:34.565Z"
   },
   {
    "duration": 164,
    "start_time": "2023-06-06T06:29:34.725Z"
   },
   {
    "duration": 171,
    "start_time": "2023-06-06T06:29:34.891Z"
   },
   {
    "duration": 8,
    "start_time": "2023-06-06T06:29:35.064Z"
   },
   {
    "duration": 24,
    "start_time": "2023-06-06T06:29:35.073Z"
   },
   {
    "duration": 24,
    "start_time": "2023-06-06T06:29:35.098Z"
   },
   {
    "duration": 176,
    "start_time": "2023-06-06T06:29:35.123Z"
   },
   {
    "duration": 11,
    "start_time": "2023-06-06T06:29:35.301Z"
   },
   {
    "duration": 10,
    "start_time": "2023-06-06T06:29:35.314Z"
   },
   {
    "duration": 14,
    "start_time": "2023-06-06T06:29:35.325Z"
   },
   {
    "duration": 32,
    "start_time": "2023-06-06T06:29:35.341Z"
   },
   {
    "duration": 30,
    "start_time": "2023-06-06T06:29:35.375Z"
   },
   {
    "duration": 12,
    "start_time": "2023-06-06T06:29:35.407Z"
   },
   {
    "duration": 40177,
    "start_time": "2023-06-06T06:29:35.420Z"
   },
   {
    "duration": 0,
    "start_time": "2023-06-06T06:30:15.598Z"
   },
   {
    "duration": 0,
    "start_time": "2023-06-06T06:30:15.599Z"
   },
   {
    "duration": 0,
    "start_time": "2023-06-06T06:30:15.599Z"
   },
   {
    "duration": 0,
    "start_time": "2023-06-06T06:30:15.600Z"
   },
   {
    "duration": 0,
    "start_time": "2023-06-06T06:30:15.601Z"
   },
   {
    "duration": 0,
    "start_time": "2023-06-06T06:30:15.602Z"
   },
   {
    "duration": 0,
    "start_time": "2023-06-06T06:30:15.602Z"
   },
   {
    "duration": 0,
    "start_time": "2023-06-06T06:30:15.603Z"
   },
   {
    "duration": 0,
    "start_time": "2023-06-06T06:30:15.604Z"
   },
   {
    "duration": 0,
    "start_time": "2023-06-06T06:30:15.604Z"
   },
   {
    "duration": 0,
    "start_time": "2023-06-06T06:30:15.605Z"
   },
   {
    "duration": 0,
    "start_time": "2023-06-06T06:30:15.606Z"
   },
   {
    "duration": 0,
    "start_time": "2023-06-06T06:30:15.606Z"
   },
   {
    "duration": 0,
    "start_time": "2023-06-06T06:30:15.607Z"
   },
   {
    "duration": 0,
    "start_time": "2023-06-06T06:30:15.607Z"
   },
   {
    "duration": 0,
    "start_time": "2023-06-06T06:30:15.608Z"
   },
   {
    "duration": 0,
    "start_time": "2023-06-06T06:30:15.608Z"
   },
   {
    "duration": 3278,
    "start_time": "2023-06-06T06:30:48.152Z"
   },
   {
    "duration": 27,
    "start_time": "2023-06-06T06:30:51.432Z"
   },
   {
    "duration": 56,
    "start_time": "2023-06-06T06:30:51.461Z"
   },
   {
    "duration": 92,
    "start_time": "2023-06-06T06:30:51.519Z"
   },
   {
    "duration": 128,
    "start_time": "2023-06-06T06:30:51.612Z"
   },
   {
    "duration": 70,
    "start_time": "2023-06-06T06:30:51.742Z"
   },
   {
    "duration": 55,
    "start_time": "2023-06-06T06:30:51.814Z"
   },
   {
    "duration": 22,
    "start_time": "2023-06-06T06:30:51.871Z"
   },
   {
    "duration": 18,
    "start_time": "2023-06-06T06:30:51.894Z"
   },
   {
    "duration": 182,
    "start_time": "2023-06-06T06:30:51.914Z"
   },
   {
    "duration": 155,
    "start_time": "2023-06-06T06:30:52.097Z"
   },
   {
    "duration": 338,
    "start_time": "2023-06-06T06:30:52.253Z"
   },
   {
    "duration": 159,
    "start_time": "2023-06-06T06:30:52.593Z"
   },
   {
    "duration": 148,
    "start_time": "2023-06-06T06:30:52.754Z"
   },
   {
    "duration": 182,
    "start_time": "2023-06-06T06:30:52.903Z"
   },
   {
    "duration": 7,
    "start_time": "2023-06-06T06:30:53.087Z"
   },
   {
    "duration": 66,
    "start_time": "2023-06-06T06:30:53.096Z"
   },
   {
    "duration": 90,
    "start_time": "2023-06-06T06:30:53.164Z"
   },
   {
    "duration": 209,
    "start_time": "2023-06-06T06:30:53.256Z"
   },
   {
    "duration": 5,
    "start_time": "2023-06-06T06:30:53.467Z"
   },
   {
    "duration": 22,
    "start_time": "2023-06-06T06:30:53.473Z"
   },
   {
    "duration": 123,
    "start_time": "2023-06-06T06:30:53.497Z"
   },
   {
    "duration": 105,
    "start_time": "2023-06-06T06:30:53.622Z"
   },
   {
    "duration": 49,
    "start_time": "2023-06-06T06:30:53.729Z"
   },
   {
    "duration": 38,
    "start_time": "2023-06-06T06:30:53.780Z"
   },
   {
    "duration": 101014,
    "start_time": "2023-06-06T06:30:53.820Z"
   },
   {
    "duration": 6,
    "start_time": "2023-06-06T06:32:34.836Z"
   },
   {
    "duration": 6862,
    "start_time": "2023-06-06T06:32:34.846Z"
   },
   {
    "duration": 4,
    "start_time": "2023-06-06T06:32:41.710Z"
   },
   {
    "duration": 35,
    "start_time": "2023-06-06T06:32:41.716Z"
   },
   {
    "duration": 608,
    "start_time": "2023-06-06T06:32:41.753Z"
   },
   {
    "duration": 6,
    "start_time": "2023-06-06T06:32:42.362Z"
   },
   {
    "duration": 383,
    "start_time": "2023-06-06T06:32:42.369Z"
   },
   {
    "duration": 0,
    "start_time": "2023-06-06T06:32:42.753Z"
   },
   {
    "duration": 0,
    "start_time": "2023-06-06T06:32:42.754Z"
   },
   {
    "duration": 0,
    "start_time": "2023-06-06T06:32:42.756Z"
   },
   {
    "duration": 0,
    "start_time": "2023-06-06T06:32:42.757Z"
   },
   {
    "duration": 0,
    "start_time": "2023-06-06T06:32:42.758Z"
   },
   {
    "duration": 0,
    "start_time": "2023-06-06T06:32:42.759Z"
   },
   {
    "duration": 0,
    "start_time": "2023-06-06T06:32:42.760Z"
   },
   {
    "duration": 0,
    "start_time": "2023-06-06T06:32:42.761Z"
   },
   {
    "duration": 0,
    "start_time": "2023-06-06T06:32:42.762Z"
   },
   {
    "duration": 0,
    "start_time": "2023-06-06T06:32:42.763Z"
   },
   {
    "duration": 16,
    "start_time": "2023-06-06T06:34:06.494Z"
   },
   {
    "duration": 16,
    "start_time": "2023-06-06T06:35:31.539Z"
   },
   {
    "duration": 14,
    "start_time": "2023-06-06T06:37:32.002Z"
   },
   {
    "duration": 83,
    "start_time": "2023-06-06T06:37:52.920Z"
   },
   {
    "duration": 16,
    "start_time": "2023-06-06T06:38:22.012Z"
   },
   {
    "duration": 4,
    "start_time": "2023-06-06T06:38:46.054Z"
   },
   {
    "duration": 3,
    "start_time": "2023-06-06T06:38:56.022Z"
   },
   {
    "duration": 17,
    "start_time": "2023-06-06T06:38:57.020Z"
   },
   {
    "duration": 17,
    "start_time": "2023-06-06T06:39:37.824Z"
   },
   {
    "duration": 5,
    "start_time": "2023-06-06T06:41:08.392Z"
   },
   {
    "duration": 3,
    "start_time": "2023-06-06T06:41:09.309Z"
   },
   {
    "duration": 17,
    "start_time": "2023-06-06T06:41:09.867Z"
   },
   {
    "duration": 103604,
    "start_time": "2023-06-06T06:41:17.740Z"
   },
   {
    "duration": 28821,
    "start_time": "2023-06-06T06:43:19.708Z"
   },
   {
    "duration": 17,
    "start_time": "2023-06-06T06:44:04.568Z"
   },
   {
    "duration": 24,
    "start_time": "2023-06-06T06:44:16.990Z"
   },
   {
    "duration": 3,
    "start_time": "2023-06-06T06:44:56.623Z"
   },
   {
    "duration": 18,
    "start_time": "2023-06-06T06:44:59.402Z"
   },
   {
    "duration": 3,
    "start_time": "2023-06-06T06:45:03.089Z"
   },
   {
    "duration": 3516,
    "start_time": "2023-06-06T06:45:16.388Z"
   },
   {
    "duration": 29,
    "start_time": "2023-06-06T06:45:19.906Z"
   },
   {
    "duration": 29,
    "start_time": "2023-06-06T06:45:19.937Z"
   },
   {
    "duration": 25,
    "start_time": "2023-06-06T06:45:19.969Z"
   },
   {
    "duration": 43,
    "start_time": "2023-06-06T06:45:19.995Z"
   },
   {
    "duration": 38,
    "start_time": "2023-06-06T06:45:20.040Z"
   },
   {
    "duration": 26,
    "start_time": "2023-06-06T06:45:20.083Z"
   },
   {
    "duration": 11,
    "start_time": "2023-06-06T06:45:20.111Z"
   },
   {
    "duration": 19,
    "start_time": "2023-06-06T06:45:20.123Z"
   },
   {
    "duration": 164,
    "start_time": "2023-06-06T06:45:20.145Z"
   },
   {
    "duration": 156,
    "start_time": "2023-06-06T06:45:20.311Z"
   },
   {
    "duration": 352,
    "start_time": "2023-06-06T06:45:20.469Z"
   },
   {
    "duration": 175,
    "start_time": "2023-06-06T06:45:20.823Z"
   },
   {
    "duration": 179,
    "start_time": "2023-06-06T06:45:21.000Z"
   },
   {
    "duration": 186,
    "start_time": "2023-06-06T06:45:21.181Z"
   },
   {
    "duration": 9,
    "start_time": "2023-06-06T06:45:21.369Z"
   },
   {
    "duration": 15,
    "start_time": "2023-06-06T06:45:21.379Z"
   },
   {
    "duration": 36,
    "start_time": "2023-06-06T06:45:21.395Z"
   },
   {
    "duration": 199,
    "start_time": "2023-06-06T06:45:21.432Z"
   },
   {
    "duration": 28,
    "start_time": "2023-06-06T06:45:21.632Z"
   },
   {
    "duration": 31,
    "start_time": "2023-06-06T06:45:21.662Z"
   },
   {
    "duration": 10,
    "start_time": "2023-06-06T06:45:21.696Z"
   },
   {
    "duration": 15,
    "start_time": "2023-06-06T06:45:21.708Z"
   },
   {
    "duration": 27,
    "start_time": "2023-06-06T06:45:21.725Z"
   },
   {
    "duration": 13,
    "start_time": "2023-06-06T06:45:21.754Z"
   },
   {
    "duration": 98425,
    "start_time": "2023-06-06T06:45:21.769Z"
   },
   {
    "duration": 4,
    "start_time": "2023-06-06T06:47:00.196Z"
   },
   {
    "duration": 6426,
    "start_time": "2023-06-06T06:47:00.203Z"
   },
   {
    "duration": 4,
    "start_time": "2023-06-06T06:47:06.631Z"
   },
   {
    "duration": 8,
    "start_time": "2023-06-06T06:47:06.637Z"
   },
   {
    "duration": 548,
    "start_time": "2023-06-06T06:47:06.647Z"
   },
   {
    "duration": 5,
    "start_time": "2023-06-06T06:47:07.196Z"
   },
   {
    "duration": 9,
    "start_time": "2023-06-06T06:47:07.203Z"
   },
   {
    "duration": 3255,
    "start_time": "2023-06-06T06:48:11.121Z"
   },
   {
    "duration": 27,
    "start_time": "2023-06-06T06:48:14.378Z"
   },
   {
    "duration": 23,
    "start_time": "2023-06-06T06:48:14.406Z"
   },
   {
    "duration": 29,
    "start_time": "2023-06-06T06:48:14.431Z"
   },
   {
    "duration": 39,
    "start_time": "2023-06-06T06:48:14.462Z"
   },
   {
    "duration": 60,
    "start_time": "2023-06-06T06:48:14.503Z"
   },
   {
    "duration": 40,
    "start_time": "2023-06-06T06:48:14.564Z"
   },
   {
    "duration": 7,
    "start_time": "2023-06-06T06:48:14.605Z"
   },
   {
    "duration": 8,
    "start_time": "2023-06-06T06:48:14.613Z"
   },
   {
    "duration": 179,
    "start_time": "2023-06-06T06:48:14.624Z"
   },
   {
    "duration": 262,
    "start_time": "2023-06-06T06:48:14.805Z"
   },
   {
    "duration": 434,
    "start_time": "2023-06-06T06:48:15.069Z"
   },
   {
    "duration": 157,
    "start_time": "2023-06-06T06:48:15.505Z"
   },
   {
    "duration": 137,
    "start_time": "2023-06-06T06:48:15.664Z"
   },
   {
    "duration": 161,
    "start_time": "2023-06-06T06:48:15.803Z"
   },
   {
    "duration": 7,
    "start_time": "2023-06-06T06:48:15.966Z"
   },
   {
    "duration": 7,
    "start_time": "2023-06-06T06:48:15.974Z"
   },
   {
    "duration": 12,
    "start_time": "2023-06-06T06:48:15.982Z"
   },
   {
    "duration": 193,
    "start_time": "2023-06-06T06:48:15.995Z"
   },
   {
    "duration": 7,
    "start_time": "2023-06-06T06:48:16.190Z"
   },
   {
    "duration": 27,
    "start_time": "2023-06-06T06:48:16.198Z"
   },
   {
    "duration": 5,
    "start_time": "2023-06-06T06:48:16.226Z"
   },
   {
    "duration": 16,
    "start_time": "2023-06-06T06:48:16.232Z"
   },
   {
    "duration": 8,
    "start_time": "2023-06-06T06:48:16.249Z"
   },
   {
    "duration": 7,
    "start_time": "2023-06-06T06:48:16.258Z"
   },
   {
    "duration": 694,
    "start_time": "2023-06-06T06:48:16.266Z"
   },
   {
    "duration": 0,
    "start_time": "2023-06-06T06:48:16.962Z"
   },
   {
    "duration": 0,
    "start_time": "2023-06-06T06:48:16.963Z"
   },
   {
    "duration": 0,
    "start_time": "2023-06-06T06:48:16.964Z"
   },
   {
    "duration": 0,
    "start_time": "2023-06-06T06:48:16.965Z"
   },
   {
    "duration": 0,
    "start_time": "2023-06-06T06:48:16.966Z"
   },
   {
    "duration": 0,
    "start_time": "2023-06-06T06:48:16.967Z"
   },
   {
    "duration": 0,
    "start_time": "2023-06-06T06:48:16.968Z"
   },
   {
    "duration": 0,
    "start_time": "2023-06-06T06:48:16.969Z"
   },
   {
    "duration": 0,
    "start_time": "2023-06-06T06:48:16.970Z"
   },
   {
    "duration": 0,
    "start_time": "2023-06-06T06:48:16.972Z"
   },
   {
    "duration": 0,
    "start_time": "2023-06-06T06:48:16.973Z"
   },
   {
    "duration": 0,
    "start_time": "2023-06-06T06:48:16.974Z"
   },
   {
    "duration": 0,
    "start_time": "2023-06-06T06:48:16.975Z"
   },
   {
    "duration": 0,
    "start_time": "2023-06-06T06:48:16.976Z"
   },
   {
    "duration": 0,
    "start_time": "2023-06-06T06:48:16.977Z"
   },
   {
    "duration": 0,
    "start_time": "2023-06-06T06:48:16.978Z"
   },
   {
    "duration": 0,
    "start_time": "2023-06-06T06:48:16.979Z"
   },
   {
    "duration": 0,
    "start_time": "2023-06-06T06:48:16.980Z"
   },
   {
    "duration": 97161,
    "start_time": "2023-06-06T06:48:32.400Z"
   },
   {
    "duration": 5,
    "start_time": "2023-06-06T06:50:22.759Z"
   },
   {
    "duration": 6643,
    "start_time": "2023-06-06T06:50:23.514Z"
   },
   {
    "duration": 5,
    "start_time": "2023-06-06T06:50:32.118Z"
   },
   {
    "duration": 4,
    "start_time": "2023-06-06T06:50:36.311Z"
   },
   {
    "duration": 551,
    "start_time": "2023-06-06T06:50:37.338Z"
   },
   {
    "duration": 6,
    "start_time": "2023-06-06T06:50:51.741Z"
   },
   {
    "duration": 3,
    "start_time": "2023-06-06T06:50:52.998Z"
   },
   {
    "duration": 209676,
    "start_time": "2023-06-06T06:50:54.115Z"
   },
   {
    "duration": 3431,
    "start_time": "2023-06-06T06:54:41.519Z"
   },
   {
    "duration": 28,
    "start_time": "2023-06-06T06:54:44.953Z"
   },
   {
    "duration": 20,
    "start_time": "2023-06-06T06:54:44.983Z"
   },
   {
    "duration": 46,
    "start_time": "2023-06-06T06:54:45.005Z"
   },
   {
    "duration": 42,
    "start_time": "2023-06-06T06:54:45.052Z"
   },
   {
    "duration": 84,
    "start_time": "2023-06-06T06:54:45.096Z"
   },
   {
    "duration": 17,
    "start_time": "2023-06-06T06:54:45.181Z"
   },
   {
    "duration": 11,
    "start_time": "2023-06-06T06:54:45.200Z"
   },
   {
    "duration": 30,
    "start_time": "2023-06-06T06:54:45.213Z"
   },
   {
    "duration": 178,
    "start_time": "2023-06-06T06:54:45.244Z"
   },
   {
    "duration": 160,
    "start_time": "2023-06-06T06:54:45.424Z"
   },
   {
    "duration": 424,
    "start_time": "2023-06-06T06:54:45.585Z"
   },
   {
    "duration": 176,
    "start_time": "2023-06-06T06:54:46.011Z"
   },
   {
    "duration": 160,
    "start_time": "2023-06-06T06:54:46.191Z"
   },
   {
    "duration": 182,
    "start_time": "2023-06-06T06:54:46.353Z"
   },
   {
    "duration": 8,
    "start_time": "2023-06-06T06:54:46.537Z"
   },
   {
    "duration": 34,
    "start_time": "2023-06-06T06:54:46.546Z"
   },
   {
    "duration": 33,
    "start_time": "2023-06-06T06:54:46.581Z"
   },
   {
    "duration": 187,
    "start_time": "2023-06-06T06:54:46.616Z"
   },
   {
    "duration": 20,
    "start_time": "2023-06-06T06:54:46.805Z"
   },
   {
    "duration": 14,
    "start_time": "2023-06-06T06:54:46.827Z"
   },
   {
    "duration": 15,
    "start_time": "2023-06-06T06:54:46.843Z"
   },
   {
    "duration": 20,
    "start_time": "2023-06-06T06:54:46.860Z"
   },
   {
    "duration": 16,
    "start_time": "2023-06-06T06:54:46.882Z"
   },
   {
    "duration": 8,
    "start_time": "2023-06-06T06:54:46.899Z"
   },
   {
    "duration": 92816,
    "start_time": "2023-06-06T06:54:46.909Z"
   },
   {
    "duration": 4,
    "start_time": "2023-06-06T06:56:19.727Z"
   },
   {
    "duration": 4112,
    "start_time": "2023-06-06T06:56:19.733Z"
   },
   {
    "duration": 0,
    "start_time": "2023-06-06T06:56:23.847Z"
   },
   {
    "duration": 0,
    "start_time": "2023-06-06T06:56:23.848Z"
   },
   {
    "duration": 0,
    "start_time": "2023-06-06T06:56:23.850Z"
   },
   {
    "duration": 0,
    "start_time": "2023-06-06T06:56:23.850Z"
   },
   {
    "duration": 0,
    "start_time": "2023-06-06T06:56:23.851Z"
   },
   {
    "duration": 0,
    "start_time": "2023-06-06T06:56:23.852Z"
   },
   {
    "duration": 0,
    "start_time": "2023-06-06T06:56:23.853Z"
   },
   {
    "duration": 0,
    "start_time": "2023-06-06T06:56:23.854Z"
   },
   {
    "duration": 0,
    "start_time": "2023-06-06T06:56:23.855Z"
   },
   {
    "duration": 0,
    "start_time": "2023-06-06T06:56:23.856Z"
   },
   {
    "duration": 0,
    "start_time": "2023-06-06T06:56:23.857Z"
   },
   {
    "duration": 0,
    "start_time": "2023-06-06T06:56:23.858Z"
   },
   {
    "duration": 0,
    "start_time": "2023-06-06T06:56:23.859Z"
   },
   {
    "duration": 0,
    "start_time": "2023-06-06T06:56:23.860Z"
   },
   {
    "duration": 0,
    "start_time": "2023-06-06T06:56:23.861Z"
   },
   {
    "duration": 0,
    "start_time": "2023-06-06T06:56:23.862Z"
   },
   {
    "duration": 6632,
    "start_time": "2023-06-06T06:56:52.253Z"
   },
   {
    "duration": 5,
    "start_time": "2023-06-06T06:57:02.691Z"
   },
   {
    "duration": 4,
    "start_time": "2023-06-06T06:57:04.501Z"
   },
   {
    "duration": 537,
    "start_time": "2023-06-06T06:57:05.581Z"
   },
   {
    "duration": 5,
    "start_time": "2023-06-06T06:57:09.411Z"
   },
   {
    "duration": 3,
    "start_time": "2023-06-06T06:57:10.057Z"
   },
   {
    "duration": 219030,
    "start_time": "2023-06-06T06:57:10.788Z"
   },
   {
    "duration": 26,
    "start_time": "2023-06-06T07:01:35.417Z"
   },
   {
    "duration": 26,
    "start_time": "2023-06-06T07:03:24.495Z"
   },
   {
    "duration": 3274,
    "start_time": "2023-06-06T07:04:12.042Z"
   },
   {
    "duration": 6,
    "start_time": "2023-06-06T07:04:27.336Z"
   },
   {
    "duration": 3321,
    "start_time": "2023-06-06T07:05:16.323Z"
   },
   {
    "duration": 27,
    "start_time": "2023-06-06T07:05:19.646Z"
   },
   {
    "duration": 21,
    "start_time": "2023-06-06T07:05:19.674Z"
   },
   {
    "duration": 20,
    "start_time": "2023-06-06T07:05:19.697Z"
   },
   {
    "duration": 16,
    "start_time": "2023-06-06T07:05:19.719Z"
   },
   {
    "duration": 28,
    "start_time": "2023-06-06T07:05:19.736Z"
   },
   {
    "duration": 12,
    "start_time": "2023-06-06T07:05:19.767Z"
   },
   {
    "duration": 31,
    "start_time": "2023-06-06T07:05:19.780Z"
   },
   {
    "duration": 21,
    "start_time": "2023-06-06T07:05:19.812Z"
   },
   {
    "duration": 184,
    "start_time": "2023-06-06T07:05:19.834Z"
   },
   {
    "duration": 155,
    "start_time": "2023-06-06T07:05:20.019Z"
   },
   {
    "duration": 360,
    "start_time": "2023-06-06T07:05:20.176Z"
   },
   {
    "duration": 156,
    "start_time": "2023-06-06T07:05:20.537Z"
   },
   {
    "duration": 135,
    "start_time": "2023-06-06T07:05:20.695Z"
   },
   {
    "duration": 164,
    "start_time": "2023-06-06T07:05:20.832Z"
   },
   {
    "duration": 9,
    "start_time": "2023-06-06T07:05:20.997Z"
   },
   {
    "duration": 29,
    "start_time": "2023-06-06T07:05:21.008Z"
   },
   {
    "duration": 60,
    "start_time": "2023-06-06T07:05:21.039Z"
   },
   {
    "duration": 220,
    "start_time": "2023-06-06T07:05:21.101Z"
   },
   {
    "duration": 31,
    "start_time": "2023-06-06T07:05:21.323Z"
   },
   {
    "duration": 26,
    "start_time": "2023-06-06T07:05:21.356Z"
   },
   {
    "duration": 19,
    "start_time": "2023-06-06T07:05:21.383Z"
   },
   {
    "duration": 37,
    "start_time": "2023-06-06T07:05:21.404Z"
   },
   {
    "duration": 32,
    "start_time": "2023-06-06T07:05:21.442Z"
   },
   {
    "duration": 14,
    "start_time": "2023-06-06T07:05:21.475Z"
   },
   {
    "duration": 94827,
    "start_time": "2023-06-06T07:05:21.490Z"
   },
   {
    "duration": 6,
    "start_time": "2023-06-06T07:06:56.324Z"
   },
   {
    "duration": 6297,
    "start_time": "2023-06-06T07:06:56.331Z"
   },
   {
    "duration": 6,
    "start_time": "2023-06-06T07:07:02.629Z"
   },
   {
    "duration": 6,
    "start_time": "2023-06-06T07:07:02.637Z"
   },
   {
    "duration": 620,
    "start_time": "2023-06-06T07:07:02.645Z"
   },
   {
    "duration": 5,
    "start_time": "2023-06-06T07:07:03.267Z"
   },
   {
    "duration": 18,
    "start_time": "2023-06-06T07:07:03.274Z"
   },
   {
    "duration": 202251,
    "start_time": "2023-06-06T07:07:03.293Z"
   },
   {
    "duration": 2744,
    "start_time": "2023-06-06T07:10:25.546Z"
   },
   {
    "duration": 4,
    "start_time": "2023-06-06T07:10:28.292Z"
   },
   {
    "duration": 587,
    "start_time": "2023-06-06T07:10:28.297Z"
   },
   {
    "duration": 3,
    "start_time": "2023-06-06T07:10:28.885Z"
   },
   {
    "duration": 33,
    "start_time": "2023-06-06T07:10:28.889Z"
   },
   {
    "duration": 48,
    "start_time": "2023-06-06T07:10:28.923Z"
   },
   {
    "duration": 19,
    "start_time": "2023-06-06T07:10:28.974Z"
   },
   {
    "duration": 37,
    "start_time": "2023-06-06T07:10:28.995Z"
   },
   {
    "duration": 17,
    "start_time": "2023-06-06T07:10:29.033Z"
   },
   {
    "duration": 39,
    "start_time": "2023-06-06T07:10:29.052Z"
   },
   {
    "duration": 10375,
    "start_time": "2023-06-06T07:11:49.902Z"
   },
   {
    "duration": 4,
    "start_time": "2023-06-06T07:12:00.279Z"
   },
   {
    "duration": 606,
    "start_time": "2023-06-06T07:12:00.285Z"
   },
   {
    "duration": 11316,
    "start_time": "2023-06-06T07:13:27.626Z"
   },
   {
    "duration": 4,
    "start_time": "2023-06-06T07:13:38.944Z"
   },
   {
    "duration": 593,
    "start_time": "2023-06-06T07:13:38.949Z"
   },
   {
    "duration": 11420,
    "start_time": "2023-06-06T07:13:55.092Z"
   },
   {
    "duration": 12,
    "start_time": "2023-06-06T07:14:06.513Z"
   },
   {
    "duration": 606,
    "start_time": "2023-06-06T07:14:06.526Z"
   },
   {
    "duration": 2819,
    "start_time": "2023-06-06T07:15:04.294Z"
   },
   {
    "duration": 0,
    "start_time": "2023-06-06T07:15:07.116Z"
   },
   {
    "duration": 0,
    "start_time": "2023-06-06T07:15:07.117Z"
   },
   {
    "duration": 0,
    "start_time": "2023-06-06T07:15:07.118Z"
   },
   {
    "duration": 0,
    "start_time": "2023-06-06T07:15:07.119Z"
   },
   {
    "duration": 0,
    "start_time": "2023-06-06T07:15:07.121Z"
   },
   {
    "duration": 0,
    "start_time": "2023-06-06T07:15:07.122Z"
   },
   {
    "duration": 0,
    "start_time": "2023-06-06T07:15:07.124Z"
   },
   {
    "duration": 0,
    "start_time": "2023-06-06T07:15:07.127Z"
   },
   {
    "duration": 0,
    "start_time": "2023-06-06T07:15:07.129Z"
   },
   {
    "duration": 0,
    "start_time": "2023-06-06T07:15:07.130Z"
   },
   {
    "duration": 0,
    "start_time": "2023-06-06T07:15:07.132Z"
   },
   {
    "duration": 0,
    "start_time": "2023-06-06T07:15:07.133Z"
   },
   {
    "duration": 0,
    "start_time": "2023-06-06T07:15:07.134Z"
   },
   {
    "duration": 0,
    "start_time": "2023-06-06T07:15:07.136Z"
   },
   {
    "duration": 0,
    "start_time": "2023-06-06T07:15:07.137Z"
   },
   {
    "duration": 0,
    "start_time": "2023-06-06T07:15:07.139Z"
   },
   {
    "duration": 0,
    "start_time": "2023-06-06T07:15:07.140Z"
   },
   {
    "duration": 1,
    "start_time": "2023-06-06T07:15:07.141Z"
   },
   {
    "duration": 0,
    "start_time": "2023-06-06T07:15:07.143Z"
   },
   {
    "duration": 0,
    "start_time": "2023-06-06T07:15:07.144Z"
   },
   {
    "duration": 0,
    "start_time": "2023-06-06T07:15:07.145Z"
   },
   {
    "duration": 0,
    "start_time": "2023-06-06T07:15:07.146Z"
   },
   {
    "duration": 0,
    "start_time": "2023-06-06T07:15:07.147Z"
   },
   {
    "duration": 0,
    "start_time": "2023-06-06T07:15:07.148Z"
   },
   {
    "duration": 0,
    "start_time": "2023-06-06T07:15:07.149Z"
   },
   {
    "duration": 0,
    "start_time": "2023-06-06T07:15:07.150Z"
   },
   {
    "duration": 0,
    "start_time": "2023-06-06T07:15:07.151Z"
   },
   {
    "duration": 0,
    "start_time": "2023-06-06T07:15:07.153Z"
   },
   {
    "duration": 0,
    "start_time": "2023-06-06T07:15:07.154Z"
   },
   {
    "duration": 0,
    "start_time": "2023-06-06T07:15:07.155Z"
   },
   {
    "duration": 0,
    "start_time": "2023-06-06T07:15:07.156Z"
   },
   {
    "duration": 0,
    "start_time": "2023-06-06T07:15:07.157Z"
   },
   {
    "duration": 0,
    "start_time": "2023-06-06T07:15:07.158Z"
   },
   {
    "duration": 0,
    "start_time": "2023-06-06T07:15:07.159Z"
   },
   {
    "duration": 0,
    "start_time": "2023-06-06T07:15:07.160Z"
   },
   {
    "duration": 0,
    "start_time": "2023-06-06T07:15:07.161Z"
   },
   {
    "duration": 0,
    "start_time": "2023-06-06T07:15:07.163Z"
   },
   {
    "duration": 0,
    "start_time": "2023-06-06T07:15:07.164Z"
   },
   {
    "duration": 0,
    "start_time": "2023-06-06T07:15:07.225Z"
   },
   {
    "duration": 0,
    "start_time": "2023-06-06T07:15:07.226Z"
   },
   {
    "duration": 0,
    "start_time": "2023-06-06T07:15:07.227Z"
   },
   {
    "duration": 0,
    "start_time": "2023-06-06T07:15:07.228Z"
   },
   {
    "duration": 0,
    "start_time": "2023-06-06T07:15:07.229Z"
   },
   {
    "duration": 1052,
    "start_time": "2023-06-06T07:15:17.198Z"
   },
   {
    "duration": 28,
    "start_time": "2023-06-06T07:15:19.434Z"
   },
   {
    "duration": 23,
    "start_time": "2023-06-06T07:15:19.682Z"
   },
   {
    "duration": 15,
    "start_time": "2023-06-06T07:15:19.926Z"
   },
   {
    "duration": 4,
    "start_time": "2023-06-06T07:15:21.000Z"
   },
   {
    "duration": 6,
    "start_time": "2023-06-06T07:15:21.395Z"
   },
   {
    "duration": 6,
    "start_time": "2023-06-06T07:15:21.769Z"
   },
   {
    "duration": 4,
    "start_time": "2023-06-06T07:15:21.982Z"
   },
   {
    "duration": 6,
    "start_time": "2023-06-06T07:15:22.163Z"
   },
   {
    "duration": 170,
    "start_time": "2023-06-06T07:15:22.536Z"
   },
   {
    "duration": 165,
    "start_time": "2023-06-06T07:15:22.877Z"
   },
   {
    "duration": 343,
    "start_time": "2023-06-06T07:15:23.353Z"
   },
   {
    "duration": 164,
    "start_time": "2023-06-06T07:15:23.842Z"
   },
   {
    "duration": 151,
    "start_time": "2023-06-06T07:15:24.155Z"
   },
   {
    "duration": 218,
    "start_time": "2023-06-06T07:15:24.684Z"
   },
   {
    "duration": 7,
    "start_time": "2023-06-06T07:15:25.971Z"
   },
   {
    "duration": 8,
    "start_time": "2023-06-06T07:15:26.132Z"
   },
   {
    "duration": 13,
    "start_time": "2023-06-06T07:15:26.461Z"
   },
   {
    "duration": 26,
    "start_time": "2023-06-06T07:15:26.851Z"
   },
   {
    "duration": 4,
    "start_time": "2023-06-06T07:15:27.020Z"
   },
   {
    "duration": 3,
    "start_time": "2023-06-06T07:15:28.213Z"
   },
   {
    "duration": 3,
    "start_time": "2023-06-06T07:15:28.405Z"
   },
   {
    "duration": 161,
    "start_time": "2023-06-06T07:15:28.589Z"
   },
   {
    "duration": 5,
    "start_time": "2023-06-06T07:15:29.446Z"
   },
   {
    "duration": 9,
    "start_time": "2023-06-06T07:15:30.108Z"
   },
   {
    "duration": 98140,
    "start_time": "2023-06-06T07:15:32.031Z"
   },
   {
    "duration": 4,
    "start_time": "2023-06-06T07:19:21.323Z"
   },
   {
    "duration": 6838,
    "start_time": "2023-06-06T07:19:22.038Z"
   },
   {
    "duration": 4,
    "start_time": "2023-06-06T07:19:42.279Z"
   },
   {
    "duration": 6794,
    "start_time": "2023-06-06T07:19:42.604Z"
   },
   {
    "duration": 4,
    "start_time": "2023-06-06T07:19:49.400Z"
   },
   {
    "duration": 3188,
    "start_time": "2023-06-06T07:19:58.781Z"
   },
   {
    "duration": 28,
    "start_time": "2023-06-06T07:20:01.970Z"
   },
   {
    "duration": 35,
    "start_time": "2023-06-06T07:20:01.999Z"
   },
   {
    "duration": 91,
    "start_time": "2023-06-06T07:20:02.035Z"
   },
   {
    "duration": 70,
    "start_time": "2023-06-06T07:20:02.128Z"
   },
   {
    "duration": 40,
    "start_time": "2023-06-06T07:20:02.200Z"
   },
   {
    "duration": 50,
    "start_time": "2023-06-06T07:20:02.241Z"
   },
   {
    "duration": 26,
    "start_time": "2023-06-06T07:20:02.293Z"
   },
   {
    "duration": 53,
    "start_time": "2023-06-06T07:20:02.321Z"
   },
   {
    "duration": 181,
    "start_time": "2023-06-06T07:20:02.375Z"
   },
   {
    "duration": 159,
    "start_time": "2023-06-06T07:20:02.558Z"
   },
   {
    "duration": 374,
    "start_time": "2023-06-06T07:20:02.719Z"
   },
   {
    "duration": 0,
    "start_time": "2023-06-06T07:20:03.095Z"
   },
   {
    "duration": 0,
    "start_time": "2023-06-06T07:20:03.097Z"
   },
   {
    "duration": 0,
    "start_time": "2023-06-06T07:20:03.098Z"
   },
   {
    "duration": 0,
    "start_time": "2023-06-06T07:20:03.100Z"
   },
   {
    "duration": 0,
    "start_time": "2023-06-06T07:20:03.101Z"
   },
   {
    "duration": 0,
    "start_time": "2023-06-06T07:20:03.102Z"
   },
   {
    "duration": 0,
    "start_time": "2023-06-06T07:20:03.104Z"
   },
   {
    "duration": 0,
    "start_time": "2023-06-06T07:20:03.106Z"
   },
   {
    "duration": 0,
    "start_time": "2023-06-06T07:20:03.107Z"
   },
   {
    "duration": 0,
    "start_time": "2023-06-06T07:20:03.125Z"
   },
   {
    "duration": 0,
    "start_time": "2023-06-06T07:20:03.127Z"
   },
   {
    "duration": 0,
    "start_time": "2023-06-06T07:20:03.128Z"
   },
   {
    "duration": 0,
    "start_time": "2023-06-06T07:20:03.129Z"
   },
   {
    "duration": 0,
    "start_time": "2023-06-06T07:20:03.131Z"
   },
   {
    "duration": 0,
    "start_time": "2023-06-06T07:20:03.132Z"
   },
   {
    "duration": 0,
    "start_time": "2023-06-06T07:20:03.134Z"
   },
   {
    "duration": 0,
    "start_time": "2023-06-06T07:20:03.135Z"
   },
   {
    "duration": 0,
    "start_time": "2023-06-06T07:20:03.136Z"
   },
   {
    "duration": 0,
    "start_time": "2023-06-06T07:20:03.138Z"
   },
   {
    "duration": 0,
    "start_time": "2023-06-06T07:20:03.139Z"
   },
   {
    "duration": 0,
    "start_time": "2023-06-06T07:20:03.140Z"
   },
   {
    "duration": 0,
    "start_time": "2023-06-06T07:20:03.142Z"
   },
   {
    "duration": 0,
    "start_time": "2023-06-06T07:20:03.143Z"
   },
   {
    "duration": 0,
    "start_time": "2023-06-06T07:20:03.145Z"
   },
   {
    "duration": 0,
    "start_time": "2023-06-06T07:20:03.146Z"
   },
   {
    "duration": 0,
    "start_time": "2023-06-06T07:20:03.147Z"
   },
   {
    "duration": 0,
    "start_time": "2023-06-06T07:20:03.149Z"
   },
   {
    "duration": 0,
    "start_time": "2023-06-06T07:20:03.150Z"
   },
   {
    "duration": 0,
    "start_time": "2023-06-06T07:20:03.152Z"
   },
   {
    "duration": 0,
    "start_time": "2023-06-06T07:20:03.153Z"
   },
   {
    "duration": 0,
    "start_time": "2023-06-06T07:20:03.154Z"
   },
   {
    "duration": 0,
    "start_time": "2023-06-06T07:20:03.156Z"
   },
   {
    "duration": 323,
    "start_time": "2023-06-06T07:20:08.145Z"
   },
   {
    "duration": 144,
    "start_time": "2023-06-06T07:20:09.112Z"
   },
   {
    "duration": 126,
    "start_time": "2023-06-06T07:20:09.591Z"
   },
   {
    "duration": 307,
    "start_time": "2023-06-06T07:20:10.004Z"
   },
   {
    "duration": 8,
    "start_time": "2023-06-06T07:20:10.991Z"
   },
   {
    "duration": 6,
    "start_time": "2023-06-06T07:20:11.166Z"
   },
   {
    "duration": 17,
    "start_time": "2023-06-06T07:20:11.364Z"
   },
   {
    "duration": 28,
    "start_time": "2023-06-06T07:20:11.701Z"
   },
   {
    "duration": 5,
    "start_time": "2023-06-06T07:20:12.422Z"
   },
   {
    "duration": 4,
    "start_time": "2023-06-06T07:20:14.647Z"
   },
   {
    "duration": 3,
    "start_time": "2023-06-06T07:20:15.046Z"
   },
   {
    "duration": 5,
    "start_time": "2023-06-06T07:20:15.502Z"
   },
   {
    "duration": 6,
    "start_time": "2023-06-06T07:20:24.131Z"
   },
   {
    "duration": 9,
    "start_time": "2023-06-06T07:20:28.179Z"
   },
   {
    "duration": 31535,
    "start_time": "2023-06-06T07:20:34.363Z"
   },
   {
    "duration": 100372,
    "start_time": "2023-06-06T07:25:22.877Z"
   },
   {
    "duration": 3554,
    "start_time": "2023-06-06T07:33:45.605Z"
   },
   {
    "duration": 27,
    "start_time": "2023-06-06T07:33:49.161Z"
   },
   {
    "duration": 18,
    "start_time": "2023-06-06T07:33:49.190Z"
   },
   {
    "duration": 20,
    "start_time": "2023-06-06T07:33:49.210Z"
   },
   {
    "duration": 26,
    "start_time": "2023-06-06T07:33:49.231Z"
   },
   {
    "duration": 42,
    "start_time": "2023-06-06T07:33:49.259Z"
   },
   {
    "duration": 47,
    "start_time": "2023-06-06T07:33:49.303Z"
   },
   {
    "duration": 72,
    "start_time": "2023-06-06T07:33:49.352Z"
   },
   {
    "duration": 16,
    "start_time": "2023-06-06T07:33:49.425Z"
   },
   {
    "duration": 186,
    "start_time": "2023-06-06T07:33:49.443Z"
   },
   {
    "duration": 162,
    "start_time": "2023-06-06T07:33:49.631Z"
   },
   {
    "duration": 402,
    "start_time": "2023-06-06T07:33:49.795Z"
   },
   {
    "duration": 176,
    "start_time": "2023-06-06T07:33:50.198Z"
   },
   {
    "duration": 156,
    "start_time": "2023-06-06T07:33:50.376Z"
   },
   {
    "duration": 184,
    "start_time": "2023-06-06T07:33:50.533Z"
   },
   {
    "duration": 13,
    "start_time": "2023-06-06T07:33:50.719Z"
   },
   {
    "duration": 14,
    "start_time": "2023-06-06T07:33:50.734Z"
   },
   {
    "duration": 25,
    "start_time": "2023-06-06T07:33:50.750Z"
   },
   {
    "duration": 192,
    "start_time": "2023-06-06T07:33:50.778Z"
   },
   {
    "duration": 69,
    "start_time": "2023-06-06T07:33:50.972Z"
   },
   {
    "duration": 59,
    "start_time": "2023-06-06T07:33:51.043Z"
   },
   {
    "duration": 25,
    "start_time": "2023-06-06T07:33:51.104Z"
   },
   {
    "duration": 21,
    "start_time": "2023-06-06T07:33:51.130Z"
   },
   {
    "duration": 26,
    "start_time": "2023-06-06T07:33:51.153Z"
   },
   {
    "duration": 27,
    "start_time": "2023-06-06T07:33:51.180Z"
   },
   {
    "duration": 1096,
    "start_time": "2023-06-06T07:33:51.208Z"
   },
   {
    "duration": 0,
    "start_time": "2023-06-06T07:33:52.307Z"
   },
   {
    "duration": 0,
    "start_time": "2023-06-06T07:33:52.308Z"
   },
   {
    "duration": 0,
    "start_time": "2023-06-06T07:33:52.309Z"
   },
   {
    "duration": 0,
    "start_time": "2023-06-06T07:33:52.311Z"
   },
   {
    "duration": 0,
    "start_time": "2023-06-06T07:33:52.312Z"
   },
   {
    "duration": 0,
    "start_time": "2023-06-06T07:33:52.325Z"
   },
   {
    "duration": 0,
    "start_time": "2023-06-06T07:33:52.327Z"
   },
   {
    "duration": 0,
    "start_time": "2023-06-06T07:33:52.328Z"
   },
   {
    "duration": 0,
    "start_time": "2023-06-06T07:33:52.330Z"
   },
   {
    "duration": 0,
    "start_time": "2023-06-06T07:33:52.331Z"
   },
   {
    "duration": 0,
    "start_time": "2023-06-06T07:33:52.333Z"
   },
   {
    "duration": 0,
    "start_time": "2023-06-06T07:33:52.334Z"
   },
   {
    "duration": 0,
    "start_time": "2023-06-06T07:33:52.336Z"
   },
   {
    "duration": 0,
    "start_time": "2023-06-06T07:33:52.337Z"
   },
   {
    "duration": 0,
    "start_time": "2023-06-06T07:33:52.338Z"
   },
   {
    "duration": 0,
    "start_time": "2023-06-06T07:33:52.339Z"
   },
   {
    "duration": 0,
    "start_time": "2023-06-06T07:33:52.341Z"
   },
   {
    "duration": 0,
    "start_time": "2023-06-06T07:33:52.342Z"
   },
   {
    "duration": 9,
    "start_time": "2023-06-06T07:34:08.760Z"
   },
   {
    "duration": 3630,
    "start_time": "2023-06-06T07:34:20.389Z"
   },
   {
    "duration": 28,
    "start_time": "2023-06-06T07:34:24.021Z"
   },
   {
    "duration": 18,
    "start_time": "2023-06-06T07:34:24.050Z"
   },
   {
    "duration": 11,
    "start_time": "2023-06-06T07:34:24.070Z"
   },
   {
    "duration": 6,
    "start_time": "2023-06-06T07:34:24.083Z"
   },
   {
    "duration": 8,
    "start_time": "2023-06-06T07:34:24.091Z"
   },
   {
    "duration": 10,
    "start_time": "2023-06-06T07:34:24.101Z"
   },
   {
    "duration": 12,
    "start_time": "2023-06-06T07:34:24.112Z"
   },
   {
    "duration": 7,
    "start_time": "2023-06-06T07:34:24.126Z"
   },
   {
    "duration": 182,
    "start_time": "2023-06-06T07:34:24.135Z"
   },
   {
    "duration": 163,
    "start_time": "2023-06-06T07:34:24.319Z"
   },
   {
    "duration": 161,
    "start_time": "2023-06-06T07:34:25.200Z"
   },
   {
    "duration": 0,
    "start_time": "2023-06-06T07:34:25.364Z"
   },
   {
    "duration": 0,
    "start_time": "2023-06-06T07:34:25.365Z"
   },
   {
    "duration": 0,
    "start_time": "2023-06-06T07:34:25.366Z"
   },
   {
    "duration": 0,
    "start_time": "2023-06-06T07:34:25.368Z"
   },
   {
    "duration": 0,
    "start_time": "2023-06-06T07:34:25.369Z"
   },
   {
    "duration": 0,
    "start_time": "2023-06-06T07:34:25.370Z"
   },
   {
    "duration": 0,
    "start_time": "2023-06-06T07:34:25.372Z"
   },
   {
    "duration": 0,
    "start_time": "2023-06-06T07:34:25.373Z"
   },
   {
    "duration": 0,
    "start_time": "2023-06-06T07:34:25.374Z"
   },
   {
    "duration": 0,
    "start_time": "2023-06-06T07:34:25.375Z"
   },
   {
    "duration": 0,
    "start_time": "2023-06-06T07:34:25.377Z"
   },
   {
    "duration": 0,
    "start_time": "2023-06-06T07:34:25.378Z"
   },
   {
    "duration": 0,
    "start_time": "2023-06-06T07:34:25.380Z"
   },
   {
    "duration": 0,
    "start_time": "2023-06-06T07:34:25.381Z"
   },
   {
    "duration": 0,
    "start_time": "2023-06-06T07:34:25.382Z"
   },
   {
    "duration": 0,
    "start_time": "2023-06-06T07:34:25.384Z"
   },
   {
    "duration": 1,
    "start_time": "2023-06-06T07:34:25.425Z"
   },
   {
    "duration": 0,
    "start_time": "2023-06-06T07:34:25.427Z"
   },
   {
    "duration": 0,
    "start_time": "2023-06-06T07:34:25.429Z"
   },
   {
    "duration": 0,
    "start_time": "2023-06-06T07:34:25.431Z"
   },
   {
    "duration": 0,
    "start_time": "2023-06-06T07:34:25.432Z"
   },
   {
    "duration": 0,
    "start_time": "2023-06-06T07:34:25.434Z"
   },
   {
    "duration": 0,
    "start_time": "2023-06-06T07:34:25.435Z"
   },
   {
    "duration": 0,
    "start_time": "2023-06-06T07:34:25.436Z"
   },
   {
    "duration": 0,
    "start_time": "2023-06-06T07:34:25.437Z"
   },
   {
    "duration": 0,
    "start_time": "2023-06-06T07:34:25.439Z"
   },
   {
    "duration": 0,
    "start_time": "2023-06-06T07:34:25.440Z"
   },
   {
    "duration": 0,
    "start_time": "2023-06-06T07:34:25.441Z"
   },
   {
    "duration": 0,
    "start_time": "2023-06-06T07:34:25.442Z"
   },
   {
    "duration": 0,
    "start_time": "2023-06-06T07:34:25.443Z"
   },
   {
    "duration": 0,
    "start_time": "2023-06-06T07:34:25.444Z"
   },
   {
    "duration": 165,
    "start_time": "2023-06-06T07:34:29.337Z"
   },
   {
    "duration": 139,
    "start_time": "2023-06-06T07:34:30.648Z"
   },
   {
    "duration": 354,
    "start_time": "2023-06-06T07:34:31.036Z"
   },
   {
    "duration": 9,
    "start_time": "2023-06-06T07:34:31.951Z"
   },
   {
    "duration": 7,
    "start_time": "2023-06-06T07:34:32.251Z"
   },
   {
    "duration": 13,
    "start_time": "2023-06-06T07:34:32.449Z"
   },
   {
    "duration": 28,
    "start_time": "2023-06-06T07:34:33.035Z"
   },
   {
    "duration": 4,
    "start_time": "2023-06-06T07:34:33.572Z"
   },
   {
    "duration": 4,
    "start_time": "2023-06-06T07:34:35.497Z"
   },
   {
    "duration": 3,
    "start_time": "2023-06-06T07:34:35.827Z"
   },
   {
    "duration": 5,
    "start_time": "2023-06-06T07:34:36.515Z"
   },
   {
    "duration": 5,
    "start_time": "2023-06-06T07:34:38.135Z"
   },
   {
    "duration": 8,
    "start_time": "2023-06-06T07:34:39.541Z"
   },
   {
    "duration": 394204,
    "start_time": "2023-06-06T07:34:42.181Z"
   },
   {
    "duration": 4,
    "start_time": "2023-06-06T07:43:14.143Z"
   },
   {
    "duration": 28393,
    "start_time": "2023-06-06T07:43:14.467Z"
   },
   {
    "duration": 6,
    "start_time": "2023-06-06T07:43:44.815Z"
   },
   {
    "duration": 5,
    "start_time": "2023-06-06T07:43:48.778Z"
   },
   {
    "duration": 584,
    "start_time": "2023-06-06T07:43:49.527Z"
   },
   {
    "duration": 603,
    "start_time": "2023-06-06T07:43:55.119Z"
   },
   {
    "duration": 5,
    "start_time": "2023-06-06T07:43:57.777Z"
   },
   {
    "duration": 3,
    "start_time": "2023-06-06T07:44:11.824Z"
   },
   {
    "duration": 12092,
    "start_time": "2023-06-06T07:44:13.154Z"
   },
   {
    "duration": 721608,
    "start_time": "2023-06-06T07:45:11.357Z"
   },
   {
    "duration": 49263,
    "start_time": "2023-06-06T07:57:12.967Z"
   },
   {
    "duration": 5,
    "start_time": "2023-06-06T07:58:06.353Z"
   },
   {
    "duration": 3688,
    "start_time": "2023-06-06T08:01:13.493Z"
   },
   {
    "duration": 29,
    "start_time": "2023-06-06T08:01:17.183Z"
   },
   {
    "duration": 21,
    "start_time": "2023-06-06T08:01:17.213Z"
   },
   {
    "duration": 15,
    "start_time": "2023-06-06T08:01:17.236Z"
   },
   {
    "duration": 21,
    "start_time": "2023-06-06T08:01:17.254Z"
   },
   {
    "duration": 27,
    "start_time": "2023-06-06T08:01:17.277Z"
   },
   {
    "duration": 40,
    "start_time": "2023-06-06T08:01:17.306Z"
   },
   {
    "duration": 48,
    "start_time": "2023-06-06T08:01:17.348Z"
   },
   {
    "duration": 53,
    "start_time": "2023-06-06T08:01:17.397Z"
   },
   {
    "duration": 199,
    "start_time": "2023-06-06T08:01:17.451Z"
   },
   {
    "duration": 179,
    "start_time": "2023-06-06T08:01:17.652Z"
   },
   {
    "duration": 376,
    "start_time": "2023-06-06T08:01:17.833Z"
   },
   {
    "duration": 175,
    "start_time": "2023-06-06T08:01:18.211Z"
   },
   {
    "duration": 168,
    "start_time": "2023-06-06T08:01:18.389Z"
   },
   {
    "duration": 191,
    "start_time": "2023-06-06T08:01:18.558Z"
   },
   {
    "duration": 8,
    "start_time": "2023-06-06T08:01:18.750Z"
   },
   {
    "duration": 39,
    "start_time": "2023-06-06T08:01:18.760Z"
   },
   {
    "duration": 18,
    "start_time": "2023-06-06T08:01:18.801Z"
   },
   {
    "duration": 187,
    "start_time": "2023-06-06T08:01:18.821Z"
   },
   {
    "duration": 16,
    "start_time": "2023-06-06T08:01:19.010Z"
   },
   {
    "duration": 10,
    "start_time": "2023-06-06T08:01:19.028Z"
   },
   {
    "duration": 10,
    "start_time": "2023-06-06T08:01:19.039Z"
   },
   {
    "duration": 6,
    "start_time": "2023-06-06T08:01:19.050Z"
   },
   {
    "duration": 17,
    "start_time": "2023-06-06T08:01:19.057Z"
   },
   {
    "duration": 14,
    "start_time": "2023-06-06T08:01:19.076Z"
   },
   {
    "duration": 1509,
    "start_time": "2023-06-06T08:01:19.092Z"
   },
   {
    "duration": 0,
    "start_time": "2023-06-06T08:01:20.603Z"
   },
   {
    "duration": 0,
    "start_time": "2023-06-06T08:01:20.604Z"
   },
   {
    "duration": 0,
    "start_time": "2023-06-06T08:01:20.605Z"
   },
   {
    "duration": 0,
    "start_time": "2023-06-06T08:01:20.606Z"
   },
   {
    "duration": 0,
    "start_time": "2023-06-06T08:01:20.607Z"
   },
   {
    "duration": 0,
    "start_time": "2023-06-06T08:01:20.608Z"
   },
   {
    "duration": 0,
    "start_time": "2023-06-06T08:01:20.609Z"
   },
   {
    "duration": 0,
    "start_time": "2023-06-06T08:01:20.610Z"
   },
   {
    "duration": 0,
    "start_time": "2023-06-06T08:01:20.611Z"
   },
   {
    "duration": 0,
    "start_time": "2023-06-06T08:01:20.624Z"
   },
   {
    "duration": 0,
    "start_time": "2023-06-06T08:01:20.626Z"
   },
   {
    "duration": 0,
    "start_time": "2023-06-06T08:01:20.627Z"
   },
   {
    "duration": 0,
    "start_time": "2023-06-06T08:01:20.628Z"
   },
   {
    "duration": 0,
    "start_time": "2023-06-06T08:01:20.629Z"
   },
   {
    "duration": 0,
    "start_time": "2023-06-06T08:01:20.630Z"
   },
   {
    "duration": 0,
    "start_time": "2023-06-06T08:01:20.631Z"
   },
   {
    "duration": 0,
    "start_time": "2023-06-06T08:01:20.633Z"
   },
   {
    "duration": 0,
    "start_time": "2023-06-06T08:01:20.634Z"
   },
   {
    "duration": 374889,
    "start_time": "2023-06-06T08:01:31.693Z"
   },
   {
    "duration": 14,
    "start_time": "2023-06-06T08:08:58.874Z"
   },
   {
    "duration": 5,
    "start_time": "2023-06-06T08:08:59.152Z"
   },
   {
    "duration": 5,
    "start_time": "2023-06-06T08:09:04.787Z"
   },
   {
    "duration": 6325,
    "start_time": "2023-06-06T08:09:04.797Z"
   },
   {
    "duration": 5,
    "start_time": "2023-06-06T08:09:11.124Z"
   },
   {
    "duration": 5483,
    "start_time": "2023-06-06T08:09:29.358Z"
   },
   {
    "duration": 4,
    "start_time": "2023-06-06T08:09:34.843Z"
   },
   {
    "duration": 6465,
    "start_time": "2023-06-06T08:09:42.483Z"
   },
   {
    "duration": 5,
    "start_time": "2023-06-06T08:09:48.949Z"
   },
   {
    "duration": 6489,
    "start_time": "2023-06-06T08:10:10.893Z"
   },
   {
    "duration": 3,
    "start_time": "2023-06-06T08:10:17.384Z"
   },
   {
    "duration": 46,
    "start_time": "2023-06-06T08:10:17.389Z"
   },
   {
    "duration": 589,
    "start_time": "2023-06-06T08:10:17.437Z"
   },
   {
    "duration": 5,
    "start_time": "2023-06-06T08:10:19.991Z"
   },
   {
    "duration": 3,
    "start_time": "2023-06-06T08:10:20.374Z"
   },
   {
    "duration": 3118,
    "start_time": "2023-06-06T08:10:46.563Z"
   },
   {
    "duration": 27,
    "start_time": "2023-06-06T08:10:49.683Z"
   },
   {
    "duration": 17,
    "start_time": "2023-06-06T08:10:49.712Z"
   },
   {
    "duration": 12,
    "start_time": "2023-06-06T08:10:49.730Z"
   },
   {
    "duration": 18,
    "start_time": "2023-06-06T08:10:49.743Z"
   },
   {
    "duration": 15,
    "start_time": "2023-06-06T08:10:49.763Z"
   },
   {
    "duration": 10,
    "start_time": "2023-06-06T08:10:49.780Z"
   },
   {
    "duration": 9,
    "start_time": "2023-06-06T08:10:49.792Z"
   },
   {
    "duration": 12,
    "start_time": "2023-06-06T08:10:49.803Z"
   },
   {
    "duration": 163,
    "start_time": "2023-06-06T08:10:49.817Z"
   },
   {
    "duration": 151,
    "start_time": "2023-06-06T08:10:49.981Z"
   },
   {
    "duration": 340,
    "start_time": "2023-06-06T08:10:50.133Z"
   },
   {
    "duration": 152,
    "start_time": "2023-06-06T08:10:50.474Z"
   },
   {
    "duration": 135,
    "start_time": "2023-06-06T08:10:50.628Z"
   },
   {
    "duration": 164,
    "start_time": "2023-06-06T08:10:50.764Z"
   },
   {
    "duration": 8,
    "start_time": "2023-06-06T08:10:50.929Z"
   },
   {
    "duration": 26,
    "start_time": "2023-06-06T08:10:50.938Z"
   },
   {
    "duration": 30,
    "start_time": "2023-06-06T08:10:50.965Z"
   },
   {
    "duration": 217,
    "start_time": "2023-06-06T08:10:50.996Z"
   },
   {
    "duration": 17,
    "start_time": "2023-06-06T08:10:51.214Z"
   },
   {
    "duration": 14,
    "start_time": "2023-06-06T08:10:51.233Z"
   },
   {
    "duration": 21,
    "start_time": "2023-06-06T08:10:51.248Z"
   },
   {
    "duration": 13,
    "start_time": "2023-06-06T08:10:51.270Z"
   },
   {
    "duration": 12,
    "start_time": "2023-06-06T08:10:51.285Z"
   },
   {
    "duration": 9,
    "start_time": "2023-06-06T08:10:51.299Z"
   },
   {
    "duration": 372714,
    "start_time": "2023-06-06T08:10:51.310Z"
   },
   {
    "duration": 4,
    "start_time": "2023-06-06T08:17:04.026Z"
   },
   {
    "duration": 6132,
    "start_time": "2023-06-06T08:17:04.033Z"
   },
   {
    "duration": 4,
    "start_time": "2023-06-06T08:17:10.167Z"
   },
   {
    "duration": 44,
    "start_time": "2023-06-06T08:17:10.172Z"
   },
   {
    "duration": 622,
    "start_time": "2023-06-06T08:17:10.217Z"
   },
   {
    "duration": 5,
    "start_time": "2023-06-06T08:17:10.841Z"
   },
   {
    "duration": 9,
    "start_time": "2023-06-06T08:17:10.848Z"
   },
   {
    "duration": 3641,
    "start_time": "2023-06-06T08:19:01.663Z"
   },
   {
    "duration": 28,
    "start_time": "2023-06-06T08:19:05.306Z"
   },
   {
    "duration": 17,
    "start_time": "2023-06-06T08:19:05.335Z"
   },
   {
    "duration": 10,
    "start_time": "2023-06-06T08:19:05.353Z"
   },
   {
    "duration": 5,
    "start_time": "2023-06-06T08:19:05.365Z"
   },
   {
    "duration": 7,
    "start_time": "2023-06-06T08:19:05.372Z"
   },
   {
    "duration": 8,
    "start_time": "2023-06-06T08:19:05.381Z"
   },
   {
    "duration": 5,
    "start_time": "2023-06-06T08:19:05.391Z"
   },
   {
    "duration": 8,
    "start_time": "2023-06-06T08:19:05.397Z"
   },
   {
    "duration": 179,
    "start_time": "2023-06-06T08:19:05.406Z"
   },
   {
    "duration": 150,
    "start_time": "2023-06-06T08:19:05.586Z"
   },
   {
    "duration": 363,
    "start_time": "2023-06-06T08:19:05.737Z"
   },
   {
    "duration": 153,
    "start_time": "2023-06-06T08:19:06.101Z"
   },
   {
    "duration": 137,
    "start_time": "2023-06-06T08:19:06.258Z"
   },
   {
    "duration": 159,
    "start_time": "2023-06-06T08:19:06.397Z"
   },
   {
    "duration": 7,
    "start_time": "2023-06-06T08:19:06.557Z"
   },
   {
    "duration": 10,
    "start_time": "2023-06-06T08:19:06.566Z"
   },
   {
    "duration": 16,
    "start_time": "2023-06-06T08:19:06.577Z"
   },
   {
    "duration": 181,
    "start_time": "2023-06-06T08:19:06.594Z"
   },
   {
    "duration": 6,
    "start_time": "2023-06-06T08:19:06.777Z"
   },
   {
    "duration": 9,
    "start_time": "2023-06-06T08:19:06.784Z"
   },
   {
    "duration": 5,
    "start_time": "2023-06-06T08:19:06.794Z"
   },
   {
    "duration": 12,
    "start_time": "2023-06-06T08:19:06.800Z"
   },
   {
    "duration": 12,
    "start_time": "2023-06-06T08:19:06.813Z"
   },
   {
    "duration": 12,
    "start_time": "2023-06-06T08:19:06.827Z"
   },
   {
    "duration": 358359,
    "start_time": "2023-06-06T08:19:06.840Z"
   },
   {
    "duration": 5,
    "start_time": "2023-06-06T08:25:05.202Z"
   },
   {
    "duration": 6106,
    "start_time": "2023-06-06T08:25:05.224Z"
   },
   {
    "duration": 5,
    "start_time": "2023-06-06T08:25:11.331Z"
   },
   {
    "duration": 29,
    "start_time": "2023-06-06T08:25:11.338Z"
   },
   {
    "duration": 575,
    "start_time": "2023-06-06T08:25:11.368Z"
   },
   {
    "duration": 4,
    "start_time": "2023-06-06T08:25:11.945Z"
   },
   {
    "duration": 54,
    "start_time": "2023-06-06T08:25:11.951Z"
   },
   {
    "duration": 756885,
    "start_time": "2023-06-06T08:25:12.007Z"
   },
   {
    "duration": 20571,
    "start_time": "2023-06-06T08:37:48.893Z"
   },
   {
    "duration": 5,
    "start_time": "2023-06-06T08:38:09.466Z"
   },
   {
    "duration": 625,
    "start_time": "2023-06-06T08:38:09.472Z"
   },
   {
    "duration": 3,
    "start_time": "2023-06-06T08:38:10.099Z"
   },
   {
    "duration": 45,
    "start_time": "2023-06-06T08:38:10.105Z"
   },
   {
    "duration": 14,
    "start_time": "2023-06-06T08:38:10.152Z"
   },
   {
    "duration": 7,
    "start_time": "2023-06-06T08:38:10.170Z"
   },
   {
    "duration": 5,
    "start_time": "2023-06-06T08:38:10.179Z"
   },
   {
    "duration": 12,
    "start_time": "2023-06-06T08:38:10.186Z"
   },
   {
    "duration": 6,
    "start_time": "2023-06-06T08:38:10.200Z"
   },
   {
    "duration": 3,
    "start_time": "2023-06-06T08:39:19.464Z"
   },
   {
    "duration": 22674,
    "start_time": "2023-06-06T08:39:20.994Z"
   },
   {
    "duration": 6,
    "start_time": "2023-06-06T08:39:43.670Z"
   },
   {
    "duration": 674,
    "start_time": "2023-06-06T08:39:43.678Z"
   },
   {
    "duration": 3693,
    "start_time": "2023-06-06T08:43:32.782Z"
   },
   {
    "duration": 30,
    "start_time": "2023-06-06T08:43:36.478Z"
   },
   {
    "duration": 89,
    "start_time": "2023-06-06T08:43:36.510Z"
   },
   {
    "duration": 183,
    "start_time": "2023-06-06T08:43:36.600Z"
   },
   {
    "duration": 170,
    "start_time": "2023-06-06T08:43:36.785Z"
   },
   {
    "duration": 56,
    "start_time": "2023-06-06T08:43:36.957Z"
   },
   {
    "duration": 60,
    "start_time": "2023-06-06T08:43:37.015Z"
   },
   {
    "duration": 51,
    "start_time": "2023-06-06T08:43:37.076Z"
   },
   {
    "duration": 99,
    "start_time": "2023-06-06T08:43:37.128Z"
   },
   {
    "duration": 234,
    "start_time": "2023-06-06T08:43:37.229Z"
   },
   {
    "duration": 162,
    "start_time": "2023-06-06T08:43:37.464Z"
   },
   {
    "duration": 372,
    "start_time": "2023-06-06T08:43:37.627Z"
   },
   {
    "duration": 167,
    "start_time": "2023-06-06T08:43:38.001Z"
   },
   {
    "duration": 158,
    "start_time": "2023-06-06T08:43:38.171Z"
   },
   {
    "duration": 184,
    "start_time": "2023-06-06T08:43:38.330Z"
   },
   {
    "duration": 305,
    "start_time": "2023-06-06T08:43:38.515Z"
   },
   {
    "duration": 0,
    "start_time": "2023-06-06T08:43:38.824Z"
   },
   {
    "duration": 0,
    "start_time": "2023-06-06T08:43:38.825Z"
   },
   {
    "duration": 0,
    "start_time": "2023-06-06T08:43:38.827Z"
   },
   {
    "duration": 0,
    "start_time": "2023-06-06T08:43:38.827Z"
   },
   {
    "duration": 0,
    "start_time": "2023-06-06T08:43:38.829Z"
   },
   {
    "duration": 0,
    "start_time": "2023-06-06T08:43:38.830Z"
   },
   {
    "duration": 0,
    "start_time": "2023-06-06T08:43:38.831Z"
   },
   {
    "duration": 0,
    "start_time": "2023-06-06T08:43:38.832Z"
   },
   {
    "duration": 0,
    "start_time": "2023-06-06T08:43:38.834Z"
   },
   {
    "duration": 0,
    "start_time": "2023-06-06T08:43:38.835Z"
   },
   {
    "duration": 0,
    "start_time": "2023-06-06T08:43:39.034Z"
   },
   {
    "duration": 0,
    "start_time": "2023-06-06T08:43:39.035Z"
   },
   {
    "duration": 0,
    "start_time": "2023-06-06T08:43:39.036Z"
   },
   {
    "duration": 0,
    "start_time": "2023-06-06T08:43:39.037Z"
   },
   {
    "duration": 0,
    "start_time": "2023-06-06T08:43:39.038Z"
   },
   {
    "duration": 0,
    "start_time": "2023-06-06T08:43:39.040Z"
   },
   {
    "duration": 0,
    "start_time": "2023-06-06T08:43:39.041Z"
   },
   {
    "duration": 0,
    "start_time": "2023-06-06T08:43:39.043Z"
   },
   {
    "duration": 0,
    "start_time": "2023-06-06T08:43:39.044Z"
   },
   {
    "duration": 0,
    "start_time": "2023-06-06T08:43:39.045Z"
   },
   {
    "duration": 0,
    "start_time": "2023-06-06T08:43:39.047Z"
   },
   {
    "duration": 0,
    "start_time": "2023-06-06T08:43:39.048Z"
   },
   {
    "duration": 0,
    "start_time": "2023-06-06T08:43:39.049Z"
   },
   {
    "duration": 0,
    "start_time": "2023-06-06T08:43:39.051Z"
   },
   {
    "duration": 0,
    "start_time": "2023-06-06T08:43:39.052Z"
   },
   {
    "duration": 0,
    "start_time": "2023-06-06T08:43:39.054Z"
   },
   {
    "duration": 0,
    "start_time": "2023-06-06T08:43:39.055Z"
   },
   {
    "duration": 0,
    "start_time": "2023-06-06T08:43:39.056Z"
   },
   {
    "duration": 0,
    "start_time": "2023-06-06T08:43:39.059Z"
   },
   {
    "duration": 0,
    "start_time": "2023-06-06T08:43:39.060Z"
   },
   {
    "duration": 0,
    "start_time": "2023-06-06T08:43:39.062Z"
   },
   {
    "duration": 0,
    "start_time": "2023-06-06T08:43:39.063Z"
   },
   {
    "duration": 0,
    "start_time": "2023-06-06T08:43:39.064Z"
   },
   {
    "duration": 0,
    "start_time": "2023-06-06T08:43:39.066Z"
   },
   {
    "duration": 0,
    "start_time": "2023-06-06T08:43:39.068Z"
   },
   {
    "duration": 0,
    "start_time": "2023-06-06T08:43:39.125Z"
   },
   {
    "duration": 0,
    "start_time": "2023-06-06T08:43:39.127Z"
   },
   {
    "duration": 0,
    "start_time": "2023-06-06T08:43:39.128Z"
   },
   {
    "duration": 0,
    "start_time": "2023-06-06T08:43:39.130Z"
   },
   {
    "duration": 0,
    "start_time": "2023-06-06T08:43:39.131Z"
   },
   {
    "duration": 0,
    "start_time": "2023-06-06T08:43:39.133Z"
   },
   {
    "duration": 0,
    "start_time": "2023-06-06T08:43:39.135Z"
   },
   {
    "duration": 0,
    "start_time": "2023-06-06T08:43:39.136Z"
   },
   {
    "duration": 0,
    "start_time": "2023-06-06T08:43:39.138Z"
   },
   {
    "duration": 0,
    "start_time": "2023-06-06T08:43:39.139Z"
   },
   {
    "duration": 0,
    "start_time": "2023-06-06T08:43:39.140Z"
   },
   {
    "duration": 0,
    "start_time": "2023-06-06T08:43:39.142Z"
   },
   {
    "duration": 0,
    "start_time": "2023-06-06T08:43:39.144Z"
   },
   {
    "duration": 0,
    "start_time": "2023-06-06T08:43:39.145Z"
   },
   {
    "duration": 0,
    "start_time": "2023-06-06T08:43:39.146Z"
   },
   {
    "duration": 0,
    "start_time": "2023-06-06T08:43:39.148Z"
   },
   {
    "duration": 3621,
    "start_time": "2023-06-06T08:44:25.162Z"
   },
   {
    "duration": 27,
    "start_time": "2023-06-06T08:44:28.785Z"
   },
   {
    "duration": 36,
    "start_time": "2023-06-06T08:44:28.813Z"
   },
   {
    "duration": 43,
    "start_time": "2023-06-06T08:44:28.851Z"
   },
   {
    "duration": 37,
    "start_time": "2023-06-06T08:44:28.897Z"
   },
   {
    "duration": 23,
    "start_time": "2023-06-06T08:44:28.936Z"
   },
   {
    "duration": 32,
    "start_time": "2023-06-06T08:44:28.961Z"
   },
   {
    "duration": 7,
    "start_time": "2023-06-06T08:44:28.995Z"
   },
   {
    "duration": 9,
    "start_time": "2023-06-06T08:44:29.003Z"
   },
   {
    "duration": 158,
    "start_time": "2023-06-06T08:44:29.014Z"
   },
   {
    "duration": 153,
    "start_time": "2023-06-06T08:44:29.173Z"
   },
   {
    "duration": 336,
    "start_time": "2023-06-06T08:44:29.329Z"
   },
   {
    "duration": 151,
    "start_time": "2023-06-06T08:44:29.667Z"
   },
   {
    "duration": 137,
    "start_time": "2023-06-06T08:44:29.825Z"
   },
   {
    "duration": 166,
    "start_time": "2023-06-06T08:44:29.963Z"
   },
   {
    "duration": 3,
    "start_time": "2023-06-06T08:44:30.131Z"
   },
   {
    "duration": 46,
    "start_time": "2023-06-06T08:44:30.135Z"
   },
   {
    "duration": 54,
    "start_time": "2023-06-06T08:44:30.182Z"
   },
   {
    "duration": 44,
    "start_time": "2023-06-06T08:44:30.238Z"
   },
   {
    "duration": 45,
    "start_time": "2023-06-06T08:44:30.283Z"
   },
   {
    "duration": 436,
    "start_time": "2023-06-06T08:44:30.330Z"
   },
   {
    "duration": 0,
    "start_time": "2023-06-06T08:44:30.768Z"
   },
   {
    "duration": 0,
    "start_time": "2023-06-06T08:44:30.770Z"
   },
   {
    "duration": 0,
    "start_time": "2023-06-06T08:44:30.771Z"
   },
   {
    "duration": 0,
    "start_time": "2023-06-06T08:44:30.772Z"
   },
   {
    "duration": 0,
    "start_time": "2023-06-06T08:44:30.774Z"
   },
   {
    "duration": 0,
    "start_time": "2023-06-06T08:44:30.776Z"
   },
   {
    "duration": 0,
    "start_time": "2023-06-06T08:44:30.777Z"
   },
   {
    "duration": 0,
    "start_time": "2023-06-06T08:44:30.779Z"
   },
   {
    "duration": 0,
    "start_time": "2023-06-06T08:44:30.780Z"
   },
   {
    "duration": 0,
    "start_time": "2023-06-06T08:44:30.782Z"
   },
   {
    "duration": 0,
    "start_time": "2023-06-06T08:44:30.783Z"
   },
   {
    "duration": 0,
    "start_time": "2023-06-06T08:44:30.784Z"
   },
   {
    "duration": 0,
    "start_time": "2023-06-06T08:44:30.785Z"
   },
   {
    "duration": 0,
    "start_time": "2023-06-06T08:44:30.787Z"
   },
   {
    "duration": 0,
    "start_time": "2023-06-06T08:44:30.788Z"
   },
   {
    "duration": 0,
    "start_time": "2023-06-06T08:44:30.789Z"
   },
   {
    "duration": 0,
    "start_time": "2023-06-06T08:44:30.790Z"
   },
   {
    "duration": 0,
    "start_time": "2023-06-06T08:44:30.824Z"
   },
   {
    "duration": 0,
    "start_time": "2023-06-06T08:44:30.826Z"
   },
   {
    "duration": 0,
    "start_time": "2023-06-06T08:44:30.828Z"
   },
   {
    "duration": 0,
    "start_time": "2023-06-06T08:44:30.830Z"
   },
   {
    "duration": 0,
    "start_time": "2023-06-06T08:44:30.831Z"
   },
   {
    "duration": 0,
    "start_time": "2023-06-06T08:44:30.832Z"
   },
   {
    "duration": 0,
    "start_time": "2023-06-06T08:44:30.834Z"
   },
   {
    "duration": 0,
    "start_time": "2023-06-06T08:44:30.835Z"
   },
   {
    "duration": 0,
    "start_time": "2023-06-06T08:44:30.837Z"
   },
   {
    "duration": 0,
    "start_time": "2023-06-06T08:44:30.838Z"
   },
   {
    "duration": 0,
    "start_time": "2023-06-06T08:44:30.840Z"
   },
   {
    "duration": 0,
    "start_time": "2023-06-06T08:44:30.841Z"
   },
   {
    "duration": 0,
    "start_time": "2023-06-06T08:44:30.843Z"
   },
   {
    "duration": 0,
    "start_time": "2023-06-06T08:44:30.844Z"
   },
   {
    "duration": 0,
    "start_time": "2023-06-06T08:44:30.845Z"
   },
   {
    "duration": 0,
    "start_time": "2023-06-06T08:44:30.847Z"
   },
   {
    "duration": 0,
    "start_time": "2023-06-06T08:44:30.848Z"
   },
   {
    "duration": 0,
    "start_time": "2023-06-06T08:44:30.849Z"
   },
   {
    "duration": 0,
    "start_time": "2023-06-06T08:44:30.850Z"
   },
   {
    "duration": 0,
    "start_time": "2023-06-06T08:44:30.852Z"
   },
   {
    "duration": 0,
    "start_time": "2023-06-06T08:44:30.853Z"
   },
   {
    "duration": 0,
    "start_time": "2023-06-06T08:44:30.854Z"
   },
   {
    "duration": 0,
    "start_time": "2023-06-06T08:44:30.855Z"
   },
   {
    "duration": 0,
    "start_time": "2023-06-06T08:44:30.856Z"
   },
   {
    "duration": 0,
    "start_time": "2023-06-06T08:44:30.857Z"
   },
   {
    "duration": 0,
    "start_time": "2023-06-06T08:44:30.858Z"
   },
   {
    "duration": 0,
    "start_time": "2023-06-06T08:44:30.859Z"
   },
   {
    "duration": 0,
    "start_time": "2023-06-06T08:44:30.860Z"
   },
   {
    "duration": 0,
    "start_time": "2023-06-06T08:44:30.861Z"
   },
   {
    "duration": 0,
    "start_time": "2023-06-06T08:44:30.862Z"
   },
   {
    "duration": 18,
    "start_time": "2023-06-06T08:44:44.756Z"
   },
   {
    "duration": 11,
    "start_time": "2023-06-06T08:44:45.589Z"
   },
   {
    "duration": 5,
    "start_time": "2023-06-06T08:44:46.112Z"
   },
   {
    "duration": 3,
    "start_time": "2023-06-06T08:44:46.602Z"
   },
   {
    "duration": 4,
    "start_time": "2023-06-06T08:44:47.052Z"
   },
   {
    "duration": 5,
    "start_time": "2023-06-06T08:44:47.634Z"
   },
   {
    "duration": 14,
    "start_time": "2023-06-06T08:44:48.503Z"
   },
   {
    "duration": 44,
    "start_time": "2023-06-06T08:44:49.347Z"
   },
   {
    "duration": 3,
    "start_time": "2023-06-06T08:45:10.268Z"
   },
   {
    "duration": 4,
    "start_time": "2023-06-06T08:45:10.605Z"
   },
   {
    "duration": 4,
    "start_time": "2023-06-06T08:45:10.910Z"
   },
   {
    "duration": 9,
    "start_time": "2023-06-06T08:45:11.234Z"
   },
   {
    "duration": 93052,
    "start_time": "2023-06-06T08:45:11.684Z"
   },
   {
    "duration": 4,
    "start_time": "2023-06-06T08:46:59.835Z"
   },
   {
    "duration": 7067,
    "start_time": "2023-06-06T08:47:00.671Z"
   },
   {
    "duration": 4,
    "start_time": "2023-06-06T08:47:07.740Z"
   },
   {
    "duration": 5,
    "start_time": "2023-06-06T08:47:16.020Z"
   },
   {
    "duration": 599,
    "start_time": "2023-06-06T08:47:17.306Z"
   },
   {
    "duration": 5,
    "start_time": "2023-06-06T08:47:19.490Z"
   },
   {
    "duration": 7,
    "start_time": "2023-06-06T08:47:27.427Z"
   },
   {
    "duration": 540956,
    "start_time": "2023-06-06T08:47:28.191Z"
   },
   {
    "duration": 42695,
    "start_time": "2023-06-06T08:56:29.149Z"
   },
   {
    "duration": 80,
    "start_time": "2023-06-06T08:57:11.846Z"
   },
   {
    "duration": 645,
    "start_time": "2023-06-06T08:57:11.929Z"
   },
   {
    "duration": 4081,
    "start_time": "2023-06-06T09:06:36.342Z"
   },
   {
    "duration": 27,
    "start_time": "2023-06-06T09:06:40.425Z"
   },
   {
    "duration": 17,
    "start_time": "2023-06-06T09:06:40.453Z"
   },
   {
    "duration": 15,
    "start_time": "2023-06-06T09:06:40.472Z"
   },
   {
    "duration": 11,
    "start_time": "2023-06-06T09:06:40.488Z"
   },
   {
    "duration": 18,
    "start_time": "2023-06-06T09:06:40.500Z"
   },
   {
    "duration": 20,
    "start_time": "2023-06-06T09:06:40.519Z"
   },
   {
    "duration": 18,
    "start_time": "2023-06-06T09:06:40.541Z"
   },
   {
    "duration": 15,
    "start_time": "2023-06-06T09:06:40.560Z"
   },
   {
    "duration": 163,
    "start_time": "2023-06-06T09:06:40.578Z"
   },
   {
    "duration": 183,
    "start_time": "2023-06-06T09:06:40.743Z"
   },
   {
    "duration": 394,
    "start_time": "2023-06-06T09:06:40.928Z"
   },
   {
    "duration": 183,
    "start_time": "2023-06-06T09:06:41.324Z"
   },
   {
    "duration": 154,
    "start_time": "2023-06-06T09:06:41.508Z"
   },
   {
    "duration": 174,
    "start_time": "2023-06-06T09:06:41.664Z"
   },
   {
    "duration": 3,
    "start_time": "2023-06-06T09:06:41.840Z"
   },
   {
    "duration": 244,
    "start_time": "2023-06-06T09:06:41.844Z"
   },
   {
    "duration": 286,
    "start_time": "2023-06-06T09:06:42.090Z"
   },
   {
    "duration": 0,
    "start_time": "2023-06-06T09:06:42.531Z"
   },
   {
    "duration": 0,
    "start_time": "2023-06-06T09:06:42.533Z"
   },
   {
    "duration": 0,
    "start_time": "2023-06-06T09:06:42.534Z"
   },
   {
    "duration": 0,
    "start_time": "2023-06-06T09:06:42.535Z"
   },
   {
    "duration": 0,
    "start_time": "2023-06-06T09:06:42.536Z"
   },
   {
    "duration": 0,
    "start_time": "2023-06-06T09:06:42.538Z"
   },
   {
    "duration": 0,
    "start_time": "2023-06-06T09:06:42.539Z"
   },
   {
    "duration": 0,
    "start_time": "2023-06-06T09:06:42.540Z"
   },
   {
    "duration": 0,
    "start_time": "2023-06-06T09:06:42.541Z"
   },
   {
    "duration": 0,
    "start_time": "2023-06-06T09:06:42.542Z"
   },
   {
    "duration": 0,
    "start_time": "2023-06-06T09:06:42.543Z"
   },
   {
    "duration": 0,
    "start_time": "2023-06-06T09:06:42.544Z"
   },
   {
    "duration": 0,
    "start_time": "2023-06-06T09:06:42.545Z"
   },
   {
    "duration": 0,
    "start_time": "2023-06-06T09:06:42.546Z"
   },
   {
    "duration": 0,
    "start_time": "2023-06-06T09:06:42.548Z"
   },
   {
    "duration": 0,
    "start_time": "2023-06-06T09:06:42.548Z"
   },
   {
    "duration": 0,
    "start_time": "2023-06-06T09:06:42.550Z"
   },
   {
    "duration": 0,
    "start_time": "2023-06-06T09:06:42.551Z"
   },
   {
    "duration": 0,
    "start_time": "2023-06-06T09:06:42.552Z"
   },
   {
    "duration": 0,
    "start_time": "2023-06-06T09:06:42.553Z"
   },
   {
    "duration": 0,
    "start_time": "2023-06-06T09:06:42.554Z"
   },
   {
    "duration": 0,
    "start_time": "2023-06-06T09:06:42.555Z"
   },
   {
    "duration": 0,
    "start_time": "2023-06-06T09:06:42.556Z"
   },
   {
    "duration": 0,
    "start_time": "2023-06-06T09:06:42.557Z"
   },
   {
    "duration": 0,
    "start_time": "2023-06-06T09:06:42.558Z"
   },
   {
    "duration": 0,
    "start_time": "2023-06-06T09:06:42.559Z"
   },
   {
    "duration": 0,
    "start_time": "2023-06-06T09:06:42.560Z"
   },
   {
    "duration": 0,
    "start_time": "2023-06-06T09:06:42.561Z"
   },
   {
    "duration": 0,
    "start_time": "2023-06-06T09:06:42.562Z"
   },
   {
    "duration": 0,
    "start_time": "2023-06-06T09:06:42.563Z"
   },
   {
    "duration": 0,
    "start_time": "2023-06-06T09:06:42.565Z"
   },
   {
    "duration": 0,
    "start_time": "2023-06-06T09:06:42.566Z"
   },
   {
    "duration": 0,
    "start_time": "2023-06-06T09:06:42.567Z"
   },
   {
    "duration": 0,
    "start_time": "2023-06-06T09:06:42.625Z"
   },
   {
    "duration": 0,
    "start_time": "2023-06-06T09:06:42.627Z"
   },
   {
    "duration": 0,
    "start_time": "2023-06-06T09:06:42.628Z"
   },
   {
    "duration": 0,
    "start_time": "2023-06-06T09:06:42.630Z"
   },
   {
    "duration": 0,
    "start_time": "2023-06-06T09:06:42.631Z"
   },
   {
    "duration": 0,
    "start_time": "2023-06-06T09:06:42.632Z"
   },
   {
    "duration": 0,
    "start_time": "2023-06-06T09:06:42.633Z"
   },
   {
    "duration": 0,
    "start_time": "2023-06-06T09:06:42.634Z"
   },
   {
    "duration": 0,
    "start_time": "2023-06-06T09:06:42.636Z"
   },
   {
    "duration": 0,
    "start_time": "2023-06-06T09:06:42.637Z"
   },
   {
    "duration": 0,
    "start_time": "2023-06-06T09:06:42.639Z"
   },
   {
    "duration": 0,
    "start_time": "2023-06-06T09:06:42.640Z"
   },
   {
    "duration": 0,
    "start_time": "2023-06-06T09:06:42.641Z"
   },
   {
    "duration": 0,
    "start_time": "2023-06-06T09:06:42.642Z"
   },
   {
    "duration": 0,
    "start_time": "2023-06-06T09:06:42.644Z"
   },
   {
    "duration": 0,
    "start_time": "2023-06-06T09:06:42.645Z"
   },
   {
    "duration": 5,
    "start_time": "2023-06-06T09:07:02.181Z"
   },
   {
    "duration": 3,
    "start_time": "2023-06-06T09:07:03.089Z"
   },
   {
    "duration": 5,
    "start_time": "2023-06-06T09:07:03.720Z"
   },
   {
    "duration": 160,
    "start_time": "2023-06-06T09:07:15.471Z"
   },
   {
    "duration": 24,
    "start_time": "2023-06-06T09:08:01.149Z"
   },
   {
    "duration": 23,
    "start_time": "2023-06-06T09:08:09.383Z"
   },
   {
    "duration": 3428,
    "start_time": "2023-06-06T09:08:36.764Z"
   },
   {
    "duration": 27,
    "start_time": "2023-06-06T09:08:40.194Z"
   },
   {
    "duration": 16,
    "start_time": "2023-06-06T09:08:40.223Z"
   },
   {
    "duration": 10,
    "start_time": "2023-06-06T09:08:40.241Z"
   },
   {
    "duration": 7,
    "start_time": "2023-06-06T09:08:40.253Z"
   },
   {
    "duration": 11,
    "start_time": "2023-06-06T09:08:40.261Z"
   },
   {
    "duration": 7,
    "start_time": "2023-06-06T09:08:40.273Z"
   },
   {
    "duration": 7,
    "start_time": "2023-06-06T09:08:40.282Z"
   },
   {
    "duration": 8,
    "start_time": "2023-06-06T09:08:40.291Z"
   },
   {
    "duration": 168,
    "start_time": "2023-06-06T09:08:40.324Z"
   },
   {
    "duration": 175,
    "start_time": "2023-06-06T09:08:40.493Z"
   },
   {
    "duration": 445,
    "start_time": "2023-06-06T09:08:40.670Z"
   },
   {
    "duration": 181,
    "start_time": "2023-06-06T09:08:41.124Z"
   },
   {
    "duration": 159,
    "start_time": "2023-06-06T09:08:41.309Z"
   },
   {
    "duration": 173,
    "start_time": "2023-06-06T09:08:41.470Z"
   },
   {
    "duration": 3,
    "start_time": "2023-06-06T09:08:41.644Z"
   },
   {
    "duration": 7,
    "start_time": "2023-06-06T09:08:41.648Z"
   },
   {
    "duration": 13,
    "start_time": "2023-06-06T09:08:41.657Z"
   },
   {
    "duration": 194,
    "start_time": "2023-06-06T09:08:41.672Z"
   },
   {
    "duration": 197,
    "start_time": "2023-06-06T09:08:41.867Z"
   },
   {
    "duration": 54,
    "start_time": "2023-06-06T09:08:42.065Z"
   },
   {
    "duration": 84,
    "start_time": "2023-06-06T09:08:42.120Z"
   },
   {
    "duration": 32,
    "start_time": "2023-06-06T09:08:42.205Z"
   },
   {
    "duration": 37,
    "start_time": "2023-06-06T09:08:42.240Z"
   },
   {
    "duration": 27,
    "start_time": "2023-06-06T09:08:42.279Z"
   },
   {
    "duration": 40,
    "start_time": "2023-06-06T09:08:42.308Z"
   },
   {
    "duration": 89849,
    "start_time": "2023-06-06T09:08:42.350Z"
   },
   {
    "duration": 4,
    "start_time": "2023-06-06T09:10:12.201Z"
   },
   {
    "duration": 6549,
    "start_time": "2023-06-06T09:10:12.206Z"
   },
   {
    "duration": 3,
    "start_time": "2023-06-06T09:10:18.757Z"
   },
   {
    "duration": 18,
    "start_time": "2023-06-06T09:10:18.762Z"
   },
   {
    "duration": 581,
    "start_time": "2023-06-06T09:10:18.781Z"
   },
   {
    "duration": 5,
    "start_time": "2023-06-06T09:10:19.363Z"
   },
   {
    "duration": 9,
    "start_time": "2023-06-06T09:10:19.369Z"
   },
   {
    "duration": 597163,
    "start_time": "2023-06-06T09:10:19.379Z"
   },
   {
    "duration": 64203,
    "start_time": "2023-06-06T09:20:16.544Z"
   },
   {
    "duration": 5,
    "start_time": "2023-06-06T09:21:20.748Z"
   },
   {
    "duration": 755,
    "start_time": "2023-06-06T09:21:20.755Z"
   },
   {
    "duration": 2,
    "start_time": "2023-06-06T09:21:21.512Z"
   },
   {
    "duration": 200,
    "start_time": "2023-06-06T09:21:21.516Z"
   },
   {
    "duration": 151,
    "start_time": "2023-06-06T09:21:21.720Z"
   },
   {
    "duration": 35,
    "start_time": "2023-06-06T09:21:21.873Z"
   },
   {
    "duration": 39,
    "start_time": "2023-06-06T09:21:21.909Z"
   },
   {
    "duration": 23,
    "start_time": "2023-06-06T09:21:21.950Z"
   },
   {
    "duration": 22,
    "start_time": "2023-06-06T09:21:21.975Z"
   },
   {
    "duration": 24,
    "start_time": "2023-06-06T09:21:21.999Z"
   },
   {
    "duration": 54,
    "start_time": "2023-06-06T09:21:22.029Z"
   },
   {
    "duration": 52,
    "start_time": "2023-06-06T09:21:22.085Z"
   },
   {
    "duration": 61,
    "start_time": "2023-06-06T09:21:22.139Z"
   },
   {
    "duration": 44,
    "start_time": "2023-06-06T09:21:22.202Z"
   },
   {
    "duration": 38,
    "start_time": "2023-06-06T09:21:22.248Z"
   },
   {
    "duration": 13,
    "start_time": "2023-06-06T09:21:22.288Z"
   },
   {
    "duration": 16,
    "start_time": "2023-06-06T09:21:22.302Z"
   },
   {
    "duration": 35,
    "start_time": "2023-06-06T09:21:22.320Z"
   },
   {
    "duration": 17,
    "start_time": "2023-06-06T09:21:22.357Z"
   },
   {
    "duration": 30,
    "start_time": "2023-06-06T09:21:22.375Z"
   },
   {
    "duration": 39,
    "start_time": "2023-06-06T09:21:22.407Z"
   },
   {
    "duration": 34,
    "start_time": "2023-06-06T09:21:22.448Z"
   },
   {
    "duration": 80,
    "start_time": "2023-06-06T09:21:22.483Z"
   },
   {
    "duration": 24,
    "start_time": "2023-06-06T09:21:22.564Z"
   },
   {
    "duration": 74,
    "start_time": "2023-06-06T09:21:22.590Z"
   },
   {
    "duration": 46,
    "start_time": "2023-06-06T09:21:22.665Z"
   },
   {
    "duration": 24,
    "start_time": "2023-06-06T09:21:22.713Z"
   },
   {
    "duration": 27,
    "start_time": "2023-06-06T09:21:22.739Z"
   },
   {
    "duration": 26,
    "start_time": "2023-06-06T09:21:22.767Z"
   },
   {
    "duration": 17,
    "start_time": "2023-06-06T09:21:22.794Z"
   },
   {
    "duration": 28,
    "start_time": "2023-06-06T09:21:22.812Z"
   },
   {
    "duration": 39,
    "start_time": "2023-06-06T09:21:22.842Z"
   },
   {
    "duration": 3579,
    "start_time": "2023-06-06T10:23:49.014Z"
   },
   {
    "duration": 76,
    "start_time": "2023-06-06T10:23:52.595Z"
   },
   {
    "duration": 20,
    "start_time": "2023-06-06T10:23:52.673Z"
   },
   {
    "duration": 11,
    "start_time": "2023-06-06T10:23:52.695Z"
   },
   {
    "duration": 8,
    "start_time": "2023-06-06T10:23:52.708Z"
   },
   {
    "duration": 9,
    "start_time": "2023-06-06T10:23:52.717Z"
   },
   {
    "duration": 8,
    "start_time": "2023-06-06T10:23:52.727Z"
   },
   {
    "duration": 13,
    "start_time": "2023-06-06T10:23:52.737Z"
   },
   {
    "duration": 26,
    "start_time": "2023-06-06T10:23:52.752Z"
   },
   {
    "duration": 183,
    "start_time": "2023-06-06T10:23:52.781Z"
   },
   {
    "duration": 168,
    "start_time": "2023-06-06T10:23:52.966Z"
   },
   {
    "duration": 450,
    "start_time": "2023-06-06T10:23:53.135Z"
   },
   {
    "duration": 164,
    "start_time": "2023-06-06T10:23:53.587Z"
   },
   {
    "duration": 183,
    "start_time": "2023-06-06T10:23:53.753Z"
   },
   {
    "duration": 180,
    "start_time": "2023-06-06T10:23:53.937Z"
   },
   {
    "duration": 3,
    "start_time": "2023-06-06T10:23:54.119Z"
   },
   {
    "duration": 15,
    "start_time": "2023-06-06T10:23:54.123Z"
   },
   {
    "duration": 12,
    "start_time": "2023-06-06T10:23:54.139Z"
   },
   {
    "duration": 12,
    "start_time": "2023-06-06T10:23:54.152Z"
   },
   {
    "duration": 452,
    "start_time": "2023-06-06T10:23:54.166Z"
   },
   {
    "duration": 0,
    "start_time": "2023-06-06T10:23:54.621Z"
   },
   {
    "duration": 0,
    "start_time": "2023-06-06T10:23:54.623Z"
   },
   {
    "duration": 0,
    "start_time": "2023-06-06T10:23:54.624Z"
   },
   {
    "duration": 0,
    "start_time": "2023-06-06T10:23:54.625Z"
   },
   {
    "duration": 0,
    "start_time": "2023-06-06T10:23:54.626Z"
   },
   {
    "duration": 0,
    "start_time": "2023-06-06T10:23:54.626Z"
   },
   {
    "duration": 1,
    "start_time": "2023-06-06T10:23:54.627Z"
   },
   {
    "duration": 0,
    "start_time": "2023-06-06T10:23:54.628Z"
   },
   {
    "duration": 0,
    "start_time": "2023-06-06T10:23:54.629Z"
   },
   {
    "duration": 0,
    "start_time": "2023-06-06T10:23:54.630Z"
   },
   {
    "duration": 0,
    "start_time": "2023-06-06T10:23:54.631Z"
   },
   {
    "duration": 0,
    "start_time": "2023-06-06T10:23:54.632Z"
   },
   {
    "duration": 0,
    "start_time": "2023-06-06T10:23:54.633Z"
   },
   {
    "duration": 0,
    "start_time": "2023-06-06T10:23:54.634Z"
   },
   {
    "duration": 0,
    "start_time": "2023-06-06T10:23:54.635Z"
   },
   {
    "duration": 0,
    "start_time": "2023-06-06T10:23:54.636Z"
   },
   {
    "duration": 0,
    "start_time": "2023-06-06T10:23:54.637Z"
   },
   {
    "duration": 0,
    "start_time": "2023-06-06T10:23:54.638Z"
   },
   {
    "duration": 0,
    "start_time": "2023-06-06T10:23:54.639Z"
   },
   {
    "duration": 0,
    "start_time": "2023-06-06T10:23:54.640Z"
   },
   {
    "duration": 0,
    "start_time": "2023-06-06T10:23:54.641Z"
   },
   {
    "duration": 0,
    "start_time": "2023-06-06T10:23:54.677Z"
   },
   {
    "duration": 0,
    "start_time": "2023-06-06T10:23:54.678Z"
   },
   {
    "duration": 0,
    "start_time": "2023-06-06T10:23:54.680Z"
   },
   {
    "duration": 0,
    "start_time": "2023-06-06T10:23:54.681Z"
   },
   {
    "duration": 0,
    "start_time": "2023-06-06T10:23:54.682Z"
   },
   {
    "duration": 0,
    "start_time": "2023-06-06T10:23:54.683Z"
   },
   {
    "duration": 0,
    "start_time": "2023-06-06T10:23:54.685Z"
   },
   {
    "duration": 0,
    "start_time": "2023-06-06T10:23:54.686Z"
   },
   {
    "duration": 0,
    "start_time": "2023-06-06T10:23:54.687Z"
   },
   {
    "duration": 0,
    "start_time": "2023-06-06T10:23:54.688Z"
   },
   {
    "duration": 0,
    "start_time": "2023-06-06T10:23:54.689Z"
   },
   {
    "duration": 0,
    "start_time": "2023-06-06T10:23:54.690Z"
   },
   {
    "duration": 0,
    "start_time": "2023-06-06T10:23:54.692Z"
   },
   {
    "duration": 0,
    "start_time": "2023-06-06T10:23:54.693Z"
   },
   {
    "duration": 0,
    "start_time": "2023-06-06T10:23:54.694Z"
   },
   {
    "duration": 0,
    "start_time": "2023-06-06T10:23:54.695Z"
   },
   {
    "duration": 0,
    "start_time": "2023-06-06T10:23:54.696Z"
   },
   {
    "duration": 0,
    "start_time": "2023-06-06T10:23:54.697Z"
   },
   {
    "duration": 0,
    "start_time": "2023-06-06T10:23:54.698Z"
   },
   {
    "duration": 0,
    "start_time": "2023-06-06T10:23:54.700Z"
   },
   {
    "duration": 0,
    "start_time": "2023-06-06T10:23:54.701Z"
   },
   {
    "duration": 0,
    "start_time": "2023-06-06T10:23:54.702Z"
   },
   {
    "duration": 0,
    "start_time": "2023-06-06T10:23:54.703Z"
   },
   {
    "duration": 0,
    "start_time": "2023-06-06T10:23:54.704Z"
   },
   {
    "duration": 0,
    "start_time": "2023-06-06T10:23:54.705Z"
   },
   {
    "duration": 0,
    "start_time": "2023-06-06T10:23:54.706Z"
   },
   {
    "duration": 3485,
    "start_time": "2023-06-06T10:24:26.206Z"
   },
   {
    "duration": 30,
    "start_time": "2023-06-06T10:24:29.693Z"
   },
   {
    "duration": 17,
    "start_time": "2023-06-06T10:24:29.725Z"
   },
   {
    "duration": 13,
    "start_time": "2023-06-06T10:24:29.744Z"
   },
   {
    "duration": 29,
    "start_time": "2023-06-06T10:24:29.759Z"
   },
   {
    "duration": 16,
    "start_time": "2023-06-06T10:24:29.790Z"
   },
   {
    "duration": 29,
    "start_time": "2023-06-06T10:24:29.807Z"
   },
   {
    "duration": 30,
    "start_time": "2023-06-06T10:24:29.837Z"
   },
   {
    "duration": 23,
    "start_time": "2023-06-06T10:24:29.869Z"
   },
   {
    "duration": 177,
    "start_time": "2023-06-06T10:24:29.893Z"
   },
   {
    "duration": 160,
    "start_time": "2023-06-06T10:24:30.071Z"
   },
   {
    "duration": 384,
    "start_time": "2023-06-06T10:24:30.233Z"
   },
   {
    "duration": 164,
    "start_time": "2023-06-06T10:24:30.619Z"
   },
   {
    "duration": 160,
    "start_time": "2023-06-06T10:24:30.786Z"
   },
   {
    "duration": 189,
    "start_time": "2023-06-06T10:24:30.948Z"
   },
   {
    "duration": 2,
    "start_time": "2023-06-06T10:24:31.139Z"
   },
   {
    "duration": 34,
    "start_time": "2023-06-06T10:24:31.143Z"
   },
   {
    "duration": 39,
    "start_time": "2023-06-06T10:24:31.179Z"
   },
   {
    "duration": 49,
    "start_time": "2023-06-06T10:24:31.220Z"
   },
   {
    "duration": 483,
    "start_time": "2023-06-06T10:24:31.271Z"
   },
   {
    "duration": 0,
    "start_time": "2023-06-06T10:24:31.757Z"
   },
   {
    "duration": 0,
    "start_time": "2023-06-06T10:24:31.758Z"
   },
   {
    "duration": 0,
    "start_time": "2023-06-06T10:24:31.760Z"
   },
   {
    "duration": 0,
    "start_time": "2023-06-06T10:24:31.761Z"
   },
   {
    "duration": 0,
    "start_time": "2023-06-06T10:24:31.762Z"
   },
   {
    "duration": 0,
    "start_time": "2023-06-06T10:24:31.777Z"
   },
   {
    "duration": 0,
    "start_time": "2023-06-06T10:24:31.778Z"
   },
   {
    "duration": 0,
    "start_time": "2023-06-06T10:24:31.779Z"
   },
   {
    "duration": 0,
    "start_time": "2023-06-06T10:24:31.780Z"
   },
   {
    "duration": 0,
    "start_time": "2023-06-06T10:24:31.781Z"
   },
   {
    "duration": 0,
    "start_time": "2023-06-06T10:24:31.782Z"
   },
   {
    "duration": 0,
    "start_time": "2023-06-06T10:24:31.782Z"
   },
   {
    "duration": 0,
    "start_time": "2023-06-06T10:24:31.783Z"
   },
   {
    "duration": 0,
    "start_time": "2023-06-06T10:24:31.784Z"
   },
   {
    "duration": 0,
    "start_time": "2023-06-06T10:24:31.785Z"
   },
   {
    "duration": 0,
    "start_time": "2023-06-06T10:24:31.786Z"
   },
   {
    "duration": 0,
    "start_time": "2023-06-06T10:24:31.787Z"
   },
   {
    "duration": 0,
    "start_time": "2023-06-06T10:24:31.788Z"
   },
   {
    "duration": 0,
    "start_time": "2023-06-06T10:24:31.788Z"
   },
   {
    "duration": 0,
    "start_time": "2023-06-06T10:24:31.789Z"
   },
   {
    "duration": 0,
    "start_time": "2023-06-06T10:24:31.790Z"
   },
   {
    "duration": 0,
    "start_time": "2023-06-06T10:24:31.791Z"
   },
   {
    "duration": 0,
    "start_time": "2023-06-06T10:24:31.793Z"
   },
   {
    "duration": 0,
    "start_time": "2023-06-06T10:24:31.794Z"
   },
   {
    "duration": 0,
    "start_time": "2023-06-06T10:24:31.795Z"
   },
   {
    "duration": 0,
    "start_time": "2023-06-06T10:24:31.796Z"
   },
   {
    "duration": 0,
    "start_time": "2023-06-06T10:24:31.797Z"
   },
   {
    "duration": 0,
    "start_time": "2023-06-06T10:24:31.798Z"
   },
   {
    "duration": 0,
    "start_time": "2023-06-06T10:24:31.799Z"
   },
   {
    "duration": 0,
    "start_time": "2023-06-06T10:24:31.800Z"
   },
   {
    "duration": 0,
    "start_time": "2023-06-06T10:24:31.801Z"
   },
   {
    "duration": 0,
    "start_time": "2023-06-06T10:24:31.801Z"
   },
   {
    "duration": 0,
    "start_time": "2023-06-06T10:24:31.802Z"
   },
   {
    "duration": 0,
    "start_time": "2023-06-06T10:24:31.803Z"
   },
   {
    "duration": 0,
    "start_time": "2023-06-06T10:24:31.804Z"
   },
   {
    "duration": 0,
    "start_time": "2023-06-06T10:24:31.805Z"
   },
   {
    "duration": 0,
    "start_time": "2023-06-06T10:24:31.806Z"
   },
   {
    "duration": 0,
    "start_time": "2023-06-06T10:24:31.807Z"
   },
   {
    "duration": 0,
    "start_time": "2023-06-06T10:24:31.808Z"
   },
   {
    "duration": 0,
    "start_time": "2023-06-06T10:24:31.809Z"
   },
   {
    "duration": 0,
    "start_time": "2023-06-06T10:24:31.810Z"
   },
   {
    "duration": 0,
    "start_time": "2023-06-06T10:24:31.811Z"
   },
   {
    "duration": 0,
    "start_time": "2023-06-06T10:24:31.812Z"
   },
   {
    "duration": 0,
    "start_time": "2023-06-06T10:24:31.812Z"
   },
   {
    "duration": 0,
    "start_time": "2023-06-06T10:24:31.813Z"
   },
   {
    "duration": 0,
    "start_time": "2023-06-06T10:24:31.814Z"
   },
   {
    "duration": 0,
    "start_time": "2023-06-06T10:24:31.877Z"
   },
   {
    "duration": 23,
    "start_time": "2023-06-06T10:25:52.449Z"
   },
   {
    "duration": 24,
    "start_time": "2023-06-06T10:26:00.184Z"
   },
   {
    "duration": 25,
    "start_time": "2023-06-06T10:26:32.914Z"
   },
   {
    "duration": 3605,
    "start_time": "2023-06-06T10:26:47.804Z"
   },
   {
    "duration": 28,
    "start_time": "2023-06-06T10:26:51.412Z"
   },
   {
    "duration": 18,
    "start_time": "2023-06-06T10:26:51.442Z"
   },
   {
    "duration": 11,
    "start_time": "2023-06-06T10:26:51.462Z"
   },
   {
    "duration": 18,
    "start_time": "2023-06-06T10:26:51.474Z"
   },
   {
    "duration": 9,
    "start_time": "2023-06-06T10:26:51.494Z"
   },
   {
    "duration": 12,
    "start_time": "2023-06-06T10:26:51.504Z"
   },
   {
    "duration": 8,
    "start_time": "2023-06-06T10:26:51.517Z"
   },
   {
    "duration": 15,
    "start_time": "2023-06-06T10:26:51.526Z"
   },
   {
    "duration": 169,
    "start_time": "2023-06-06T10:26:51.545Z"
   },
   {
    "duration": 175,
    "start_time": "2023-06-06T10:26:51.716Z"
   },
   {
    "duration": 353,
    "start_time": "2023-06-06T10:26:51.892Z"
   },
   {
    "duration": 166,
    "start_time": "2023-06-06T10:26:52.247Z"
   },
   {
    "duration": 151,
    "start_time": "2023-06-06T10:26:52.416Z"
   },
   {
    "duration": 169,
    "start_time": "2023-06-06T10:26:52.569Z"
   },
   {
    "duration": 3,
    "start_time": "2023-06-06T10:26:52.739Z"
   },
   {
    "duration": 25,
    "start_time": "2023-06-06T10:26:52.743Z"
   },
   {
    "duration": 21,
    "start_time": "2023-06-06T10:26:52.769Z"
   },
   {
    "duration": 23,
    "start_time": "2023-06-06T10:26:52.792Z"
   },
   {
    "duration": 461,
    "start_time": "2023-06-06T10:26:52.816Z"
   },
   {
    "duration": 0,
    "start_time": "2023-06-06T10:26:53.280Z"
   },
   {
    "duration": 0,
    "start_time": "2023-06-06T10:26:53.281Z"
   },
   {
    "duration": 0,
    "start_time": "2023-06-06T10:26:53.282Z"
   },
   {
    "duration": 0,
    "start_time": "2023-06-06T10:26:53.283Z"
   },
   {
    "duration": 0,
    "start_time": "2023-06-06T10:26:53.285Z"
   },
   {
    "duration": 0,
    "start_time": "2023-06-06T10:26:53.286Z"
   },
   {
    "duration": 0,
    "start_time": "2023-06-06T10:26:53.287Z"
   },
   {
    "duration": 0,
    "start_time": "2023-06-06T10:26:53.288Z"
   },
   {
    "duration": 0,
    "start_time": "2023-06-06T10:26:53.289Z"
   },
   {
    "duration": 0,
    "start_time": "2023-06-06T10:26:53.290Z"
   },
   {
    "duration": 0,
    "start_time": "2023-06-06T10:26:53.290Z"
   },
   {
    "duration": 0,
    "start_time": "2023-06-06T10:26:53.292Z"
   },
   {
    "duration": 0,
    "start_time": "2023-06-06T10:26:53.293Z"
   },
   {
    "duration": 0,
    "start_time": "2023-06-06T10:26:53.294Z"
   },
   {
    "duration": 0,
    "start_time": "2023-06-06T10:26:53.295Z"
   },
   {
    "duration": 0,
    "start_time": "2023-06-06T10:26:53.296Z"
   },
   {
    "duration": 0,
    "start_time": "2023-06-06T10:26:53.298Z"
   },
   {
    "duration": 0,
    "start_time": "2023-06-06T10:26:53.299Z"
   },
   {
    "duration": 1,
    "start_time": "2023-06-06T10:26:53.300Z"
   },
   {
    "duration": 0,
    "start_time": "2023-06-06T10:26:53.302Z"
   },
   {
    "duration": 0,
    "start_time": "2023-06-06T10:26:53.303Z"
   },
   {
    "duration": 0,
    "start_time": "2023-06-06T10:26:53.305Z"
   },
   {
    "duration": 0,
    "start_time": "2023-06-06T10:26:53.307Z"
   },
   {
    "duration": 0,
    "start_time": "2023-06-06T10:26:53.308Z"
   },
   {
    "duration": 0,
    "start_time": "2023-06-06T10:26:53.309Z"
   },
   {
    "duration": 0,
    "start_time": "2023-06-06T10:26:53.310Z"
   },
   {
    "duration": 0,
    "start_time": "2023-06-06T10:26:53.311Z"
   },
   {
    "duration": 0,
    "start_time": "2023-06-06T10:26:53.312Z"
   },
   {
    "duration": 0,
    "start_time": "2023-06-06T10:26:53.313Z"
   },
   {
    "duration": 0,
    "start_time": "2023-06-06T10:26:53.314Z"
   },
   {
    "duration": 0,
    "start_time": "2023-06-06T10:26:53.314Z"
   },
   {
    "duration": 0,
    "start_time": "2023-06-06T10:26:53.316Z"
   },
   {
    "duration": 0,
    "start_time": "2023-06-06T10:26:53.316Z"
   },
   {
    "duration": 0,
    "start_time": "2023-06-06T10:26:53.317Z"
   },
   {
    "duration": 0,
    "start_time": "2023-06-06T10:26:53.318Z"
   },
   {
    "duration": 0,
    "start_time": "2023-06-06T10:26:53.377Z"
   },
   {
    "duration": 0,
    "start_time": "2023-06-06T10:26:53.378Z"
   },
   {
    "duration": 0,
    "start_time": "2023-06-06T10:26:53.379Z"
   },
   {
    "duration": 0,
    "start_time": "2023-06-06T10:26:53.380Z"
   },
   {
    "duration": 0,
    "start_time": "2023-06-06T10:26:53.381Z"
   },
   {
    "duration": 0,
    "start_time": "2023-06-06T10:26:53.382Z"
   },
   {
    "duration": 0,
    "start_time": "2023-06-06T10:26:53.383Z"
   },
   {
    "duration": 0,
    "start_time": "2023-06-06T10:26:53.384Z"
   },
   {
    "duration": 0,
    "start_time": "2023-06-06T10:26:53.385Z"
   },
   {
    "duration": 0,
    "start_time": "2023-06-06T10:26:53.386Z"
   },
   {
    "duration": 0,
    "start_time": "2023-06-06T10:26:53.387Z"
   },
   {
    "duration": 0,
    "start_time": "2023-06-06T10:26:53.388Z"
   },
   {
    "duration": 3445,
    "start_time": "2023-06-06T10:29:47.178Z"
   },
   {
    "duration": 29,
    "start_time": "2023-06-06T10:29:50.625Z"
   },
   {
    "duration": 20,
    "start_time": "2023-06-06T10:29:50.656Z"
   },
   {
    "duration": 19,
    "start_time": "2023-06-06T10:29:50.678Z"
   },
   {
    "duration": 18,
    "start_time": "2023-06-06T10:29:50.699Z"
   },
   {
    "duration": 20,
    "start_time": "2023-06-06T10:29:50.719Z"
   },
   {
    "duration": 11,
    "start_time": "2023-06-06T10:29:50.741Z"
   },
   {
    "duration": 7,
    "start_time": "2023-06-06T10:29:50.753Z"
   },
   {
    "duration": 21,
    "start_time": "2023-06-06T10:29:50.761Z"
   },
   {
    "duration": 180,
    "start_time": "2023-06-06T10:29:50.784Z"
   },
   {
    "duration": 172,
    "start_time": "2023-06-06T10:29:50.966Z"
   },
   {
    "duration": 406,
    "start_time": "2023-06-06T10:29:51.140Z"
   },
   {
    "duration": 177,
    "start_time": "2023-06-06T10:29:51.548Z"
   },
   {
    "duration": 156,
    "start_time": "2023-06-06T10:29:51.727Z"
   },
   {
    "duration": 183,
    "start_time": "2023-06-06T10:29:51.884Z"
   },
   {
    "duration": 4,
    "start_time": "2023-06-06T10:29:52.068Z"
   },
   {
    "duration": 8,
    "start_time": "2023-06-06T10:29:52.076Z"
   },
   {
    "duration": 14,
    "start_time": "2023-06-06T10:29:52.086Z"
   },
   {
    "duration": 16,
    "start_time": "2023-06-06T10:29:52.101Z"
   },
   {
    "duration": 444,
    "start_time": "2023-06-06T10:29:52.118Z"
   },
   {
    "duration": 0,
    "start_time": "2023-06-06T10:29:52.566Z"
   },
   {
    "duration": 0,
    "start_time": "2023-06-06T10:29:52.568Z"
   },
   {
    "duration": 0,
    "start_time": "2023-06-06T10:29:52.576Z"
   },
   {
    "duration": 0,
    "start_time": "2023-06-06T10:29:52.577Z"
   },
   {
    "duration": 0,
    "start_time": "2023-06-06T10:29:52.578Z"
   },
   {
    "duration": 0,
    "start_time": "2023-06-06T10:29:52.579Z"
   },
   {
    "duration": 0,
    "start_time": "2023-06-06T10:29:52.580Z"
   },
   {
    "duration": 0,
    "start_time": "2023-06-06T10:29:52.581Z"
   },
   {
    "duration": 0,
    "start_time": "2023-06-06T10:29:52.582Z"
   },
   {
    "duration": 0,
    "start_time": "2023-06-06T10:29:52.583Z"
   },
   {
    "duration": 0,
    "start_time": "2023-06-06T10:29:52.584Z"
   },
   {
    "duration": 0,
    "start_time": "2023-06-06T10:29:52.585Z"
   },
   {
    "duration": 0,
    "start_time": "2023-06-06T10:29:52.586Z"
   },
   {
    "duration": 0,
    "start_time": "2023-06-06T10:29:52.587Z"
   },
   {
    "duration": 0,
    "start_time": "2023-06-06T10:29:52.588Z"
   },
   {
    "duration": 0,
    "start_time": "2023-06-06T10:29:52.589Z"
   },
   {
    "duration": 0,
    "start_time": "2023-06-06T10:29:52.590Z"
   },
   {
    "duration": 0,
    "start_time": "2023-06-06T10:29:52.591Z"
   },
   {
    "duration": 0,
    "start_time": "2023-06-06T10:29:52.592Z"
   },
   {
    "duration": 0,
    "start_time": "2023-06-06T10:29:52.593Z"
   },
   {
    "duration": 0,
    "start_time": "2023-06-06T10:29:52.593Z"
   },
   {
    "duration": 0,
    "start_time": "2023-06-06T10:29:52.594Z"
   },
   {
    "duration": 0,
    "start_time": "2023-06-06T10:29:52.595Z"
   },
   {
    "duration": 0,
    "start_time": "2023-06-06T10:29:52.596Z"
   },
   {
    "duration": 0,
    "start_time": "2023-06-06T10:29:52.597Z"
   },
   {
    "duration": 0,
    "start_time": "2023-06-06T10:29:52.598Z"
   },
   {
    "duration": 0,
    "start_time": "2023-06-06T10:29:52.599Z"
   },
   {
    "duration": 0,
    "start_time": "2023-06-06T10:29:52.600Z"
   },
   {
    "duration": 0,
    "start_time": "2023-06-06T10:29:52.601Z"
   },
   {
    "duration": 0,
    "start_time": "2023-06-06T10:29:52.602Z"
   },
   {
    "duration": 0,
    "start_time": "2023-06-06T10:29:52.603Z"
   },
   {
    "duration": 0,
    "start_time": "2023-06-06T10:29:52.604Z"
   },
   {
    "duration": 0,
    "start_time": "2023-06-06T10:29:52.605Z"
   },
   {
    "duration": 0,
    "start_time": "2023-06-06T10:29:52.606Z"
   },
   {
    "duration": 0,
    "start_time": "2023-06-06T10:29:52.607Z"
   },
   {
    "duration": 0,
    "start_time": "2023-06-06T10:29:52.608Z"
   },
   {
    "duration": 0,
    "start_time": "2023-06-06T10:29:52.609Z"
   },
   {
    "duration": 0,
    "start_time": "2023-06-06T10:29:52.610Z"
   },
   {
    "duration": 0,
    "start_time": "2023-06-06T10:29:52.611Z"
   },
   {
    "duration": 0,
    "start_time": "2023-06-06T10:29:52.612Z"
   },
   {
    "duration": 0,
    "start_time": "2023-06-06T10:29:52.613Z"
   },
   {
    "duration": 0,
    "start_time": "2023-06-06T10:29:52.614Z"
   },
   {
    "duration": 0,
    "start_time": "2023-06-06T10:29:52.615Z"
   },
   {
    "duration": 0,
    "start_time": "2023-06-06T10:29:52.616Z"
   },
   {
    "duration": 0,
    "start_time": "2023-06-06T10:29:52.617Z"
   },
   {
    "duration": 0,
    "start_time": "2023-06-06T10:29:52.677Z"
   },
   {
    "duration": 0,
    "start_time": "2023-06-06T10:29:52.678Z"
   },
   {
    "duration": 3341,
    "start_time": "2023-06-06T10:30:33.168Z"
   },
   {
    "duration": 30,
    "start_time": "2023-06-06T10:30:36.511Z"
   },
   {
    "duration": 18,
    "start_time": "2023-06-06T10:30:36.542Z"
   },
   {
    "duration": 11,
    "start_time": "2023-06-06T10:30:36.561Z"
   },
   {
    "duration": 7,
    "start_time": "2023-06-06T10:30:36.573Z"
   },
   {
    "duration": 8,
    "start_time": "2023-06-06T10:30:36.581Z"
   },
   {
    "duration": 7,
    "start_time": "2023-06-06T10:30:36.590Z"
   },
   {
    "duration": 7,
    "start_time": "2023-06-06T10:30:36.598Z"
   },
   {
    "duration": 23,
    "start_time": "2023-06-06T10:30:36.607Z"
   },
   {
    "duration": 183,
    "start_time": "2023-06-06T10:30:36.634Z"
   },
   {
    "duration": 160,
    "start_time": "2023-06-06T10:30:36.818Z"
   },
   {
    "duration": 364,
    "start_time": "2023-06-06T10:30:36.980Z"
   },
   {
    "duration": 159,
    "start_time": "2023-06-06T10:30:37.346Z"
   },
   {
    "duration": 153,
    "start_time": "2023-06-06T10:30:37.507Z"
   },
   {
    "duration": 193,
    "start_time": "2023-06-06T10:30:37.662Z"
   },
   {
    "duration": 3,
    "start_time": "2023-06-06T10:30:37.857Z"
   },
   {
    "duration": 18,
    "start_time": "2023-06-06T10:30:37.861Z"
   },
   {
    "duration": 9,
    "start_time": "2023-06-06T10:30:37.880Z"
   },
   {
    "duration": 13,
    "start_time": "2023-06-06T10:30:37.890Z"
   },
   {
    "duration": 194,
    "start_time": "2023-06-06T10:30:37.905Z"
   },
   {
    "duration": 11,
    "start_time": "2023-06-06T10:30:38.101Z"
   },
   {
    "duration": 16,
    "start_time": "2023-06-06T10:30:38.114Z"
   },
   {
    "duration": 11,
    "start_time": "2023-06-06T10:30:38.132Z"
   },
   {
    "duration": 12,
    "start_time": "2023-06-06T10:30:38.145Z"
   },
   {
    "duration": 7,
    "start_time": "2023-06-06T10:30:38.159Z"
   },
   {
    "duration": 11,
    "start_time": "2023-06-06T10:30:38.168Z"
   },
   {
    "duration": 93659,
    "start_time": "2023-06-06T10:30:38.180Z"
   },
   {
    "duration": 6,
    "start_time": "2023-06-06T10:32:11.845Z"
   },
   {
    "duration": 13972,
    "start_time": "2023-06-06T10:32:11.853Z"
   },
   {
    "duration": 4,
    "start_time": "2023-06-06T10:32:25.827Z"
   },
   {
    "duration": 21,
    "start_time": "2023-06-06T10:32:25.832Z"
   },
   {
    "duration": 664,
    "start_time": "2023-06-06T10:32:25.855Z"
   },
   {
    "duration": 5,
    "start_time": "2023-06-06T10:32:26.521Z"
   },
   {
    "duration": 28,
    "start_time": "2023-06-06T10:32:26.527Z"
   },
   {
    "duration": 558738,
    "start_time": "2023-06-06T10:32:26.557Z"
   },
   {
    "duration": 89796,
    "start_time": "2023-06-06T10:41:45.297Z"
   },
   {
    "duration": 82,
    "start_time": "2023-06-06T10:43:15.095Z"
   },
   {
    "duration": 652,
    "start_time": "2023-06-06T10:43:15.179Z"
   },
   {
    "duration": 2,
    "start_time": "2023-06-06T10:43:15.833Z"
   },
   {
    "duration": 25,
    "start_time": "2023-06-06T10:43:15.837Z"
   },
   {
    "duration": 19,
    "start_time": "2023-06-06T10:43:15.864Z"
   },
   {
    "duration": 19,
    "start_time": "2023-06-06T10:43:15.885Z"
   },
   {
    "duration": 12,
    "start_time": "2023-06-06T10:43:15.906Z"
   },
   {
    "duration": 6,
    "start_time": "2023-06-06T10:43:15.920Z"
   },
   {
    "duration": 12,
    "start_time": "2023-06-06T10:43:15.927Z"
   },
   {
    "duration": 8,
    "start_time": "2023-06-06T10:43:15.941Z"
   },
   {
    "duration": 19,
    "start_time": "2023-06-06T10:43:15.950Z"
   },
   {
    "duration": 21,
    "start_time": "2023-06-06T10:43:15.970Z"
   },
   {
    "duration": 19,
    "start_time": "2023-06-06T10:43:15.992Z"
   },
   {
    "duration": 14,
    "start_time": "2023-06-06T10:43:16.012Z"
   },
   {
    "duration": 15,
    "start_time": "2023-06-06T10:43:16.028Z"
   },
   {
    "duration": 13,
    "start_time": "2023-06-06T10:43:16.045Z"
   },
   {
    "duration": 10,
    "start_time": "2023-06-06T10:43:16.060Z"
   },
   {
    "duration": 15,
    "start_time": "2023-06-06T10:43:16.072Z"
   },
   {
    "duration": 20,
    "start_time": "2023-06-06T10:43:16.089Z"
   },
   {
    "duration": 17,
    "start_time": "2023-06-06T10:43:16.111Z"
   },
   {
    "duration": 18,
    "start_time": "2023-06-06T10:43:16.130Z"
   },
   {
    "duration": 10,
    "start_time": "2023-06-06T10:43:16.150Z"
   },
   {
    "duration": 9,
    "start_time": "2023-06-06T10:43:16.161Z"
   },
   {
    "duration": 12,
    "start_time": "2023-06-06T10:43:16.172Z"
   },
   {
    "duration": 5,
    "start_time": "2023-06-06T10:43:16.185Z"
   },
   {
    "duration": 23,
    "start_time": "2023-06-06T10:43:16.192Z"
   },
   {
    "duration": 7,
    "start_time": "2023-06-06T10:43:16.217Z"
   },
   {
    "duration": 11,
    "start_time": "2023-06-06T10:43:16.226Z"
   },
   {
    "duration": 10,
    "start_time": "2023-06-06T10:43:16.239Z"
   },
   {
    "duration": 27,
    "start_time": "2023-06-06T10:43:16.251Z"
   },
   {
    "duration": 12,
    "start_time": "2023-06-06T10:43:16.279Z"
   },
   {
    "duration": 319,
    "start_time": "2023-06-06T11:10:05.615Z"
   },
   {
    "duration": 2,
    "start_time": "2023-06-06T11:10:38.050Z"
   },
   {
    "duration": 7,
    "start_time": "2023-06-06T11:10:39.066Z"
   },
   {
    "duration": 5,
    "start_time": "2023-06-06T11:10:43.753Z"
   },
   {
    "duration": 9,
    "start_time": "2023-06-06T11:10:54.951Z"
   },
   {
    "duration": 3,
    "start_time": "2023-06-06T11:11:01.517Z"
   },
   {
    "duration": 46,
    "start_time": "2023-06-06T11:11:06.976Z"
   },
   {
    "duration": 5,
    "start_time": "2023-06-06T11:11:25.881Z"
   },
   {
    "duration": 34,
    "start_time": "2023-06-06T11:11:29.841Z"
   },
   {
    "duration": 5,
    "start_time": "2023-06-06T11:11:38.962Z"
   },
   {
    "duration": 5,
    "start_time": "2023-06-06T11:11:41.058Z"
   },
   {
    "duration": 9,
    "start_time": "2023-06-06T11:11:43.508Z"
   },
   {
    "duration": 387801,
    "start_time": "2023-06-06T11:11:45.416Z"
   },
   {
    "duration": 9,
    "start_time": "2023-06-06T11:21:42.338Z"
   },
   {
    "duration": 169785,
    "start_time": "2023-06-06T11:21:57.643Z"
   },
   {
    "duration": 5,
    "start_time": "2023-06-06T11:25:02.227Z"
   },
   {
    "duration": 6998,
    "start_time": "2023-06-06T11:25:03.413Z"
   },
   {
    "duration": 5,
    "start_time": "2023-06-06T11:25:10.413Z"
   },
   {
    "duration": 4,
    "start_time": "2023-06-06T11:25:39.860Z"
   },
   {
    "duration": 19032,
    "start_time": "2023-06-06T11:25:40.822Z"
   },
   {
    "duration": 5,
    "start_time": "2023-06-06T11:26:01.303Z"
   },
   {
    "duration": 5,
    "start_time": "2023-06-06T11:26:50.710Z"
   },
   {
    "duration": 3,
    "start_time": "2023-06-06T11:29:38.287Z"
   },
   {
    "duration": 3,
    "start_time": "2023-06-06T11:30:03.156Z"
   },
   {
    "duration": 3,
    "start_time": "2023-06-06T11:30:06.081Z"
   },
   {
    "duration": 3,
    "start_time": "2023-06-06T11:30:09.721Z"
   },
   {
    "duration": 3,
    "start_time": "2023-06-06T11:30:22.731Z"
   },
   {
    "duration": 2,
    "start_time": "2023-06-06T11:30:26.512Z"
   },
   {
    "duration": 3,
    "start_time": "2023-06-06T11:30:30.945Z"
   },
   {
    "duration": 3,
    "start_time": "2023-06-06T11:30:34.194Z"
   },
   {
    "duration": 2,
    "start_time": "2023-06-06T11:30:39.095Z"
   },
   {
    "duration": 5,
    "start_time": "2023-06-06T11:35:14.449Z"
   },
   {
    "duration": 5,
    "start_time": "2023-06-06T11:35:18.405Z"
   },
   {
    "duration": 5,
    "start_time": "2023-06-06T11:35:31.081Z"
   },
   {
    "duration": 13545,
    "start_time": "2023-06-06T11:35:33.342Z"
   },
   {
    "duration": 6,
    "start_time": "2023-06-06T11:35:48.316Z"
   },
   {
    "duration": 5,
    "start_time": "2023-06-06T11:35:50.973Z"
   },
   {
    "duration": 3441,
    "start_time": "2023-06-06T11:38:22.632Z"
   },
   {
    "duration": 29,
    "start_time": "2023-06-06T11:38:26.075Z"
   },
   {
    "duration": 19,
    "start_time": "2023-06-06T11:38:26.106Z"
   },
   {
    "duration": 12,
    "start_time": "2023-06-06T11:38:26.126Z"
   },
   {
    "duration": 12,
    "start_time": "2023-06-06T11:38:26.140Z"
   },
   {
    "duration": 8,
    "start_time": "2023-06-06T11:38:26.154Z"
   },
   {
    "duration": 7,
    "start_time": "2023-06-06T11:38:26.164Z"
   },
   {
    "duration": 8,
    "start_time": "2023-06-06T11:38:26.173Z"
   },
   {
    "duration": 12,
    "start_time": "2023-06-06T11:38:26.183Z"
   },
   {
    "duration": 179,
    "start_time": "2023-06-06T11:38:26.197Z"
   },
   {
    "duration": 179,
    "start_time": "2023-06-06T11:38:26.378Z"
   },
   {
    "duration": 404,
    "start_time": "2023-06-06T11:38:26.560Z"
   },
   {
    "duration": 157,
    "start_time": "2023-06-06T11:38:26.966Z"
   },
   {
    "duration": 150,
    "start_time": "2023-06-06T11:38:27.126Z"
   },
   {
    "duration": 177,
    "start_time": "2023-06-06T11:38:27.279Z"
   },
   {
    "duration": 4,
    "start_time": "2023-06-06T11:38:27.458Z"
   },
   {
    "duration": 16,
    "start_time": "2023-06-06T11:38:27.464Z"
   },
   {
    "duration": 12,
    "start_time": "2023-06-06T11:38:27.481Z"
   },
   {
    "duration": 10,
    "start_time": "2023-06-06T11:38:27.495Z"
   },
   {
    "duration": 172,
    "start_time": "2023-06-06T11:38:27.507Z"
   },
   {
    "duration": 13,
    "start_time": "2023-06-06T11:38:27.681Z"
   },
   {
    "duration": 13,
    "start_time": "2023-06-06T11:38:27.696Z"
   },
   {
    "duration": 5,
    "start_time": "2023-06-06T11:38:27.711Z"
   },
   {
    "duration": 18,
    "start_time": "2023-06-06T11:38:27.717Z"
   },
   {
    "duration": 22,
    "start_time": "2023-06-06T11:38:27.737Z"
   },
   {
    "duration": 13,
    "start_time": "2023-06-06T11:38:27.764Z"
   },
   {
    "duration": 102242,
    "start_time": "2023-06-06T11:38:27.778Z"
   },
   {
    "duration": 5,
    "start_time": "2023-06-06T11:40:10.021Z"
   },
   {
    "duration": 14307,
    "start_time": "2023-06-06T11:40:10.028Z"
   },
   {
    "duration": 5,
    "start_time": "2023-06-06T11:40:24.336Z"
   },
   {
    "duration": 8,
    "start_time": "2023-06-06T11:40:24.343Z"
   },
   {
    "duration": 628,
    "start_time": "2023-06-06T11:40:24.352Z"
   },
   {
    "duration": 5,
    "start_time": "2023-06-06T11:40:24.982Z"
   },
   {
    "duration": 11,
    "start_time": "2023-06-06T11:40:24.989Z"
   },
   {
    "duration": 594287,
    "start_time": "2023-06-06T11:40:25.001Z"
   },
   {
    "duration": 98897,
    "start_time": "2023-06-06T11:50:19.290Z"
   },
   {
    "duration": 4,
    "start_time": "2023-06-06T11:51:58.189Z"
   },
   {
    "duration": 663,
    "start_time": "2023-06-06T11:51:58.195Z"
   },
   {
    "duration": 2,
    "start_time": "2023-06-06T11:51:58.860Z"
   },
   {
    "duration": 9,
    "start_time": "2023-06-06T11:51:58.863Z"
   },
   {
    "duration": 4,
    "start_time": "2023-06-06T11:51:58.877Z"
   },
   {
    "duration": 7,
    "start_time": "2023-06-06T11:51:58.883Z"
   },
   {
    "duration": 5,
    "start_time": "2023-06-06T11:51:58.891Z"
   },
   {
    "duration": 6,
    "start_time": "2023-06-06T11:51:58.898Z"
   },
   {
    "duration": 6,
    "start_time": "2023-06-06T11:51:58.906Z"
   },
   {
    "duration": 7,
    "start_time": "2023-06-06T11:51:58.913Z"
   },
   {
    "duration": 7,
    "start_time": "2023-06-06T11:51:58.922Z"
   },
   {
    "duration": 5,
    "start_time": "2023-06-06T11:51:58.931Z"
   },
   {
    "duration": 8,
    "start_time": "2023-06-06T11:51:58.938Z"
   },
   {
    "duration": 6,
    "start_time": "2023-06-06T11:51:58.947Z"
   },
   {
    "duration": 8,
    "start_time": "2023-06-06T11:51:58.954Z"
   },
   {
    "duration": 5,
    "start_time": "2023-06-06T11:51:58.964Z"
   },
   {
    "duration": 8,
    "start_time": "2023-06-06T11:51:58.970Z"
   },
   {
    "duration": 6,
    "start_time": "2023-06-06T11:51:58.980Z"
   },
   {
    "duration": 22,
    "start_time": "2023-06-06T11:51:58.987Z"
   },
   {
    "duration": 14,
    "start_time": "2023-06-06T11:51:59.011Z"
   },
   {
    "duration": 9,
    "start_time": "2023-06-06T11:51:59.026Z"
   },
   {
    "duration": 8,
    "start_time": "2023-06-06T11:51:59.036Z"
   },
   {
    "duration": 5,
    "start_time": "2023-06-06T11:51:59.045Z"
   },
   {
    "duration": 5,
    "start_time": "2023-06-06T11:51:59.051Z"
   },
   {
    "duration": 5,
    "start_time": "2023-06-06T11:51:59.058Z"
   },
   {
    "duration": 9,
    "start_time": "2023-06-06T11:51:59.065Z"
   },
   {
    "duration": 7,
    "start_time": "2023-06-06T11:51:59.076Z"
   },
   {
    "duration": 10,
    "start_time": "2023-06-06T11:51:59.084Z"
   },
   {
    "duration": 6,
    "start_time": "2023-06-06T11:51:59.095Z"
   },
   {
    "duration": 6,
    "start_time": "2023-06-06T11:51:59.102Z"
   },
   {
    "duration": 6,
    "start_time": "2023-06-06T11:51:59.109Z"
   },
   {
    "duration": 96089,
    "start_time": "2023-06-06T11:53:19.301Z"
   },
   {
    "duration": 7,
    "start_time": "2023-06-06T11:54:55.393Z"
   },
   {
    "duration": 664,
    "start_time": "2023-06-06T11:54:55.402Z"
   },
   {
    "duration": 5,
    "start_time": "2023-06-06T11:56:04.589Z"
   },
   {
    "duration": 5,
    "start_time": "2023-06-06T11:56:08.461Z"
   },
   {
    "duration": 5,
    "start_time": "2023-06-06T11:56:15.631Z"
   },
   {
    "duration": 639,
    "start_time": "2023-06-06T11:56:21.368Z"
   },
   {
    "duration": 6,
    "start_time": "2023-06-06T11:56:46.607Z"
   },
   {
    "duration": 101268,
    "start_time": "2023-06-06T11:56:53.328Z"
   },
   {
    "duration": 82,
    "start_time": "2023-06-06T11:58:34.598Z"
   },
   {
    "duration": 634,
    "start_time": "2023-06-06T11:58:34.682Z"
   },
   {
    "duration": 5,
    "start_time": "2023-06-06T12:00:25.818Z"
   },
   {
    "duration": 10,
    "start_time": "2023-06-06T12:00:37.098Z"
   },
   {
    "duration": 7,
    "start_time": "2023-06-06T12:00:39.346Z"
   },
   {
    "duration": 16193,
    "start_time": "2023-06-06T12:00:45.282Z"
   },
   {
    "duration": 4,
    "start_time": "2023-06-06T12:01:01.478Z"
   },
   {
    "duration": 922,
    "start_time": "2023-06-06T12:01:01.484Z"
   },
   {
    "duration": 10,
    "start_time": "2023-06-06T12:20:27.084Z"
   },
   {
    "duration": 6,
    "start_time": "2023-06-06T12:20:29.276Z"
   },
   {
    "duration": 4533,
    "start_time": "2023-06-06T12:20:29.678Z"
   },
   {
    "duration": 119310,
    "start_time": "2023-06-06T12:20:36.772Z"
   },
   {
    "duration": 6,
    "start_time": "2023-06-06T12:22:36.085Z"
   },
   {
    "duration": 805,
    "start_time": "2023-06-06T12:22:36.093Z"
   },
   {
    "duration": 5,
    "start_time": "2023-06-06T12:22:48.941Z"
   },
   {
    "duration": 5,
    "start_time": "2023-06-06T12:22:51.366Z"
   },
   {
    "duration": 5960,
    "start_time": "2023-06-06T12:22:53.041Z"
   },
   {
    "duration": 6,
    "start_time": "2023-06-06T12:23:01.723Z"
   },
   {
    "duration": 6,
    "start_time": "2023-06-06T12:23:03.685Z"
   },
   {
    "duration": 113620,
    "start_time": "2023-06-06T12:23:06.569Z"
   },
   {
    "duration": 6,
    "start_time": "2023-06-06T12:25:00.191Z"
   },
   {
    "duration": 649,
    "start_time": "2023-06-06T12:25:00.199Z"
   },
   {
    "duration": 6,
    "start_time": "2023-06-06T12:25:17.006Z"
   },
   {
    "duration": 5,
    "start_time": "2023-06-06T12:25:19.119Z"
   },
   {
    "duration": 30,
    "start_time": "2023-06-06T12:25:22.439Z"
   },
   {
    "duration": 5,
    "start_time": "2023-06-06T12:26:24.277Z"
   },
   {
    "duration": 33,
    "start_time": "2023-06-06T12:26:30.977Z"
   },
   {
    "duration": 5,
    "start_time": "2023-06-06T12:26:49.775Z"
   },
   {
    "duration": 5,
    "start_time": "2023-06-06T12:26:56.112Z"
   },
   {
    "duration": 6,
    "start_time": "2023-06-06T12:27:12.238Z"
   },
   {
    "duration": 6,
    "start_time": "2023-06-06T12:27:14.360Z"
   },
   {
    "duration": 112503,
    "start_time": "2023-06-06T12:27:17.577Z"
   },
   {
    "duration": 5,
    "start_time": "2023-06-06T12:29:10.081Z"
   },
   {
    "duration": 634,
    "start_time": "2023-06-06T12:29:10.088Z"
   },
   {
    "duration": 3712,
    "start_time": "2023-06-06T12:49:48.913Z"
   },
   {
    "duration": 30,
    "start_time": "2023-06-06T12:49:52.627Z"
   },
   {
    "duration": 21,
    "start_time": "2023-06-06T12:49:52.659Z"
   },
   {
    "duration": 30,
    "start_time": "2023-06-06T12:49:52.682Z"
   },
   {
    "duration": 29,
    "start_time": "2023-06-06T12:49:52.715Z"
   },
   {
    "duration": 26,
    "start_time": "2023-06-06T12:49:52.746Z"
   },
   {
    "duration": 30,
    "start_time": "2023-06-06T12:49:52.774Z"
   },
   {
    "duration": 36,
    "start_time": "2023-06-06T12:49:52.806Z"
   },
   {
    "duration": 74,
    "start_time": "2023-06-06T12:49:52.844Z"
   },
   {
    "duration": 274,
    "start_time": "2023-06-06T12:49:52.921Z"
   },
   {
    "duration": 180,
    "start_time": "2023-06-06T12:49:53.197Z"
   },
   {
    "duration": 386,
    "start_time": "2023-06-06T12:49:53.378Z"
   },
   {
    "duration": 185,
    "start_time": "2023-06-06T12:49:53.766Z"
   },
   {
    "duration": 156,
    "start_time": "2023-06-06T12:49:53.954Z"
   },
   {
    "duration": 188,
    "start_time": "2023-06-06T12:49:54.112Z"
   },
   {
    "duration": 3,
    "start_time": "2023-06-06T12:49:54.302Z"
   },
   {
    "duration": 34,
    "start_time": "2023-06-06T12:49:54.306Z"
   },
   {
    "duration": 44,
    "start_time": "2023-06-06T12:49:54.342Z"
   },
   {
    "duration": 40,
    "start_time": "2023-06-06T12:49:54.387Z"
   },
   {
    "duration": 205,
    "start_time": "2023-06-06T12:49:54.428Z"
   },
   {
    "duration": 45,
    "start_time": "2023-06-06T12:49:54.636Z"
   },
   {
    "duration": 19,
    "start_time": "2023-06-06T12:49:54.683Z"
   },
   {
    "duration": 27,
    "start_time": "2023-06-06T12:49:54.704Z"
   },
   {
    "duration": 32,
    "start_time": "2023-06-06T12:49:54.734Z"
   },
   {
    "duration": 64,
    "start_time": "2023-06-06T12:49:54.769Z"
   },
   {
    "duration": 86,
    "start_time": "2023-06-06T12:49:54.835Z"
   },
   {
    "duration": 99743,
    "start_time": "2023-06-06T12:49:54.923Z"
   },
   {
    "duration": 6,
    "start_time": "2023-06-06T12:51:34.667Z"
   },
   {
    "duration": 14486,
    "start_time": "2023-06-06T12:51:34.677Z"
   },
   {
    "duration": 5,
    "start_time": "2023-06-06T12:51:49.165Z"
   },
   {
    "duration": 21,
    "start_time": "2023-06-06T12:51:49.176Z"
   },
   {
    "duration": 648,
    "start_time": "2023-06-06T12:51:49.199Z"
   },
   {
    "duration": 6,
    "start_time": "2023-06-06T12:51:49.849Z"
   },
   {
    "duration": 36,
    "start_time": "2023-06-06T12:51:49.857Z"
   },
   {
    "duration": 644109,
    "start_time": "2023-06-06T12:51:49.895Z"
   },
   {
    "duration": 103992,
    "start_time": "2023-06-06T13:02:34.006Z"
   },
   {
    "duration": 83,
    "start_time": "2023-06-06T13:04:18.000Z"
   },
   {
    "duration": 668,
    "start_time": "2023-06-06T13:04:18.085Z"
   },
   {
    "duration": 3,
    "start_time": "2023-06-06T13:04:18.755Z"
   },
   {
    "duration": 15,
    "start_time": "2023-06-06T13:04:18.760Z"
   },
   {
    "duration": 14,
    "start_time": "2023-06-06T13:04:18.779Z"
   },
   {
    "duration": 11,
    "start_time": "2023-06-06T13:04:18.795Z"
   },
   {
    "duration": 8,
    "start_time": "2023-06-06T13:04:18.808Z"
   },
   {
    "duration": 7,
    "start_time": "2023-06-06T13:04:18.818Z"
   },
   {
    "duration": 13,
    "start_time": "2023-06-06T13:04:18.827Z"
   },
   {
    "duration": 10,
    "start_time": "2023-06-06T13:04:18.841Z"
   },
   {
    "duration": 10,
    "start_time": "2023-06-06T13:04:18.853Z"
   },
   {
    "duration": 7,
    "start_time": "2023-06-06T13:04:18.865Z"
   },
   {
    "duration": 12,
    "start_time": "2023-06-06T13:04:18.874Z"
   },
   {
    "duration": 6,
    "start_time": "2023-06-06T13:04:18.888Z"
   },
   {
    "duration": 13,
    "start_time": "2023-06-06T13:04:18.896Z"
   },
   {
    "duration": 6,
    "start_time": "2023-06-06T13:04:18.912Z"
   },
   {
    "duration": 6,
    "start_time": "2023-06-06T13:04:18.920Z"
   },
   {
    "duration": 7,
    "start_time": "2023-06-06T13:04:18.928Z"
   },
   {
    "duration": 8,
    "start_time": "2023-06-06T13:04:18.937Z"
   },
   {
    "duration": 8,
    "start_time": "2023-06-06T13:04:18.947Z"
   },
   {
    "duration": 10,
    "start_time": "2023-06-06T13:04:18.957Z"
   },
   {
    "duration": 8,
    "start_time": "2023-06-06T13:04:18.969Z"
   },
   {
    "duration": 7,
    "start_time": "2023-06-06T13:04:18.979Z"
   },
   {
    "duration": 13,
    "start_time": "2023-06-06T13:04:18.988Z"
   },
   {
    "duration": 17,
    "start_time": "2023-06-06T13:04:19.003Z"
   },
   {
    "duration": 8,
    "start_time": "2023-06-06T13:04:19.022Z"
   },
   {
    "duration": 6,
    "start_time": "2023-06-06T13:04:19.032Z"
   },
   {
    "duration": 12,
    "start_time": "2023-06-06T13:04:19.040Z"
   },
   {
    "duration": 12,
    "start_time": "2023-06-06T13:04:19.055Z"
   },
   {
    "duration": 7,
    "start_time": "2023-06-06T13:04:19.069Z"
   },
   {
    "duration": 5,
    "start_time": "2023-06-06T13:04:19.078Z"
   }
  ],
  "kernelspec": {
   "display_name": "Python 3 (ipykernel)",
   "language": "python",
   "name": "python3"
  },
  "language_info": {
   "codemirror_mode": {
    "name": "ipython",
    "version": 3
   },
   "file_extension": ".py",
   "mimetype": "text/x-python",
   "name": "python",
   "nbconvert_exporter": "python",
   "pygments_lexer": "ipython3",
   "version": "3.11.4"
  },
  "toc": {
   "base_numbering": 1,
   "nav_menu": {},
   "number_sections": false,
   "sideBar": true,
   "skip_h1_title": false,
   "title_cell": "Table of Contents",
   "title_sidebar": "Contents",
   "toc_cell": false,
   "toc_position": {},
   "toc_section_display": true,
   "toc_window_display": false
  },
  "varInspector": {
   "cols": {
    "lenName": 16,
    "lenType": 16,
    "lenVar": 40
   },
   "kernels_config": {
    "python": {
     "delete_cmd_postfix": "",
     "delete_cmd_prefix": "del ",
     "library": "var_list.py",
     "varRefreshCmd": "print(var_dic_list())"
    },
    "r": {
     "delete_cmd_postfix": ") ",
     "delete_cmd_prefix": "rm(",
     "library": "var_list.r",
     "varRefreshCmd": "cat(var_dic_list()) "
    }
   },
   "types_to_exclude": [
    "module",
    "function",
    "builtin_function_or_method",
    "instance",
    "_Feature"
   ],
   "window_display": false
  }
 },
 "nbformat": 4,
 "nbformat_minor": 5
}
